{
 "cells": [
  {
   "cell_type": "markdown",
   "source": [
    "## Product Selection"
   ],
   "metadata": {
    "collapsed": false,
    "pycharm": {
     "name": "#%% md\n"
    }
   }
  },
  {
   "cell_type": "code",
   "execution_count": 1,
   "outputs": [],
   "source": [
    "# sheet='C1'\n",
    "# sheet='C2'\n",
    "# sheet='BYX'\n",
    "# sheet='BZX'\n",
    "# sheet='EDGA'\n",
    "# sheet='EDGX_Equities'\n",
    "sheet='EXO_EDGX_Options'\n",
    "# sheet='OPT_BZX_BATS'\n",
    "# sheet='CFE'"
   ],
   "metadata": {
    "collapsed": false,
    "pycharm": {
     "name": "#%%\n"
    }
   }
  },
  {
   "cell_type": "markdown",
   "source": [
    "## 1m"
   ],
   "metadata": {
    "collapsed": false,
    "pycharm": {
     "name": "#%% md\n"
    }
   }
  },
  {
   "cell_type": "code",
   "execution_count": 2,
   "outputs": [
    {
     "name": "stdout",
     "output_type": "stream",
     "text": [
      "18\n",
      "(37, 108)\n",
      "(1, 108)\n",
      "(36, 6, 18) (36, 1) (1, 6, 18) (1, 1)\n",
      "Metal device set to: Apple M1\n"
     ]
    },
    {
     "name": "stderr",
     "output_type": "stream",
     "text": [
      "2022-09-07 00:00:51.628145: I tensorflow/core/common_runtime/pluggable_device/pluggable_device_factory.cc:305] Could not identify NUMA node of platform GPU ID 0, defaulting to 0. Your kernel may not have been built with NUMA support.\n",
      "2022-09-07 00:00:51.628295: I tensorflow/core/common_runtime/pluggable_device/pluggable_device_factory.cc:271] Created TensorFlow device (/job:localhost/replica:0/task:0/device:GPU:0 with 0 MB memory) -> physical PluggableDevice (device: 0, name: METAL, pci bus id: <undefined>)\n",
      "2022-09-07 00:00:52.073044: W tensorflow/core/platform/profile_utils/cpu_utils.cc:128] Failed to get CPU frequency: 0 Hz\n",
      "2022-09-07 00:00:53.183065: I tensorflow/core/grappler/optimizers/custom_graph_optimizer_registry.cc:113] Plugin optimizer for device_type GPU is enabled.\n",
      "2022-09-07 00:00:53.458185: I tensorflow/core/grappler/optimizers/custom_graph_optimizer_registry.cc:113] Plugin optimizer for device_type GPU is enabled.\n",
      "2022-09-07 00:00:55.592695: I tensorflow/core/grappler/optimizers/custom_graph_optimizer_registry.cc:113] Plugin optimizer for device_type GPU is enabled.\n",
      "2022-09-07 00:00:58.838916: I tensorflow/core/grappler/optimizers/custom_graph_optimizer_registry.cc:113] Plugin optimizer for device_type GPU is enabled.\n",
      "2022-09-07 00:00:58.931869: I tensorflow/core/grappler/optimizers/custom_graph_optimizer_registry.cc:113] Plugin optimizer for device_type GPU is enabled.\n"
     ]
    },
    {
     "name": "stdout",
     "output_type": "stream",
     "text": [
      "[[0.775463]] (1, 1)\n",
      ">1, MAE: 0.079\n"
     ]
    },
    {
     "name": "stderr",
     "output_type": "stream",
     "text": [
      "2022-09-07 00:01:00.425569: I tensorflow/core/grappler/optimizers/custom_graph_optimizer_registry.cc:113] Plugin optimizer for device_type GPU is enabled.\n",
      "2022-09-07 00:01:00.692575: I tensorflow/core/grappler/optimizers/custom_graph_optimizer_registry.cc:113] Plugin optimizer for device_type GPU is enabled.\n",
      "2022-09-07 00:01:00.797763: I tensorflow/core/grappler/optimizers/custom_graph_optimizer_registry.cc:113] Plugin optimizer for device_type GPU is enabled.\n",
      "2022-09-07 00:01:02.693918: I tensorflow/core/grappler/optimizers/custom_graph_optimizer_registry.cc:113] Plugin optimizer for device_type GPU is enabled.\n",
      "2022-09-07 00:01:02.780923: I tensorflow/core/grappler/optimizers/custom_graph_optimizer_registry.cc:113] Plugin optimizer for device_type GPU is enabled.\n"
     ]
    },
    {
     "name": "stdout",
     "output_type": "stream",
     "text": [
      "[[0.775463]] (1, 1)\n",
      ">2, MAE: 0.056\n"
     ]
    },
    {
     "name": "stderr",
     "output_type": "stream",
     "text": [
      "2022-09-07 00:01:04.032562: I tensorflow/core/grappler/optimizers/custom_graph_optimizer_registry.cc:113] Plugin optimizer for device_type GPU is enabled.\n",
      "2022-09-07 00:01:04.299088: I tensorflow/core/grappler/optimizers/custom_graph_optimizer_registry.cc:113] Plugin optimizer for device_type GPU is enabled.\n",
      "2022-09-07 00:01:04.391925: I tensorflow/core/grappler/optimizers/custom_graph_optimizer_registry.cc:113] Plugin optimizer for device_type GPU is enabled.\n",
      "2022-09-07 00:01:07.951920: I tensorflow/core/grappler/optimizers/custom_graph_optimizer_registry.cc:113] Plugin optimizer for device_type GPU is enabled.\n",
      "2022-09-07 00:01:08.215586: I tensorflow/core/grappler/optimizers/custom_graph_optimizer_registry.cc:113] Plugin optimizer for device_type GPU is enabled.\n"
     ]
    },
    {
     "name": "stdout",
     "output_type": "stream",
     "text": [
      "[[0.775463]] (1, 1)\n",
      ">3, MAE: 0.011\n"
     ]
    },
    {
     "name": "stderr",
     "output_type": "stream",
     "text": [
      "2022-09-07 00:01:10.513361: I tensorflow/core/grappler/optimizers/custom_graph_optimizer_registry.cc:113] Plugin optimizer for device_type GPU is enabled.\n",
      "2022-09-07 00:01:10.775480: I tensorflow/core/grappler/optimizers/custom_graph_optimizer_registry.cc:113] Plugin optimizer for device_type GPU is enabled.\n",
      "2022-09-07 00:01:10.871853: I tensorflow/core/grappler/optimizers/custom_graph_optimizer_registry.cc:113] Plugin optimizer for device_type GPU is enabled.\n",
      "2022-09-07 00:01:12.856805: I tensorflow/core/grappler/optimizers/custom_graph_optimizer_registry.cc:113] Plugin optimizer for device_type GPU is enabled.\n",
      "2022-09-07 00:01:12.944158: I tensorflow/core/grappler/optimizers/custom_graph_optimizer_registry.cc:113] Plugin optimizer for device_type GPU is enabled.\n"
     ]
    },
    {
     "name": "stdout",
     "output_type": "stream",
     "text": [
      "[[0.775463]] (1, 1)\n",
      ">4, MAE: 0.060\n"
     ]
    },
    {
     "name": "stderr",
     "output_type": "stream",
     "text": [
      "2022-09-07 00:01:14.273200: I tensorflow/core/grappler/optimizers/custom_graph_optimizer_registry.cc:113] Plugin optimizer for device_type GPU is enabled.\n",
      "2022-09-07 00:01:14.537723: I tensorflow/core/grappler/optimizers/custom_graph_optimizer_registry.cc:113] Plugin optimizer for device_type GPU is enabled.\n",
      "2022-09-07 00:01:14.634892: I tensorflow/core/grappler/optimizers/custom_graph_optimizer_registry.cc:113] Plugin optimizer for device_type GPU is enabled.\n"
     ]
    },
    {
     "name": "stdout",
     "output_type": "stream",
     "text": [
      "WARNING:tensorflow:5 out of the last 5 calls to <function Model.make_predict_function.<locals>.predict_function at 0x1638fd160> triggered tf.function retracing. Tracing is expensive and the excessive number of tracings could be due to (1) creating @tf.function repeatedly in a loop, (2) passing tensors with different shapes, (3) passing Python objects instead of tensors. For (1), please define your @tf.function outside of the loop. For (2), @tf.function has reduce_retracing=True option that can avoid unnecessary retracing. For (3), please refer to https://www.tensorflow.org/guide/function#controlling_retracing and https://www.tensorflow.org/api_docs/python/tf/function for  more details.\n"
     ]
    },
    {
     "name": "stderr",
     "output_type": "stream",
     "text": [
      "2022-09-07 00:01:16.634930: I tensorflow/core/grappler/optimizers/custom_graph_optimizer_registry.cc:113] Plugin optimizer for device_type GPU is enabled.\n",
      "2022-09-07 00:01:16.723764: I tensorflow/core/grappler/optimizers/custom_graph_optimizer_registry.cc:113] Plugin optimizer for device_type GPU is enabled.\n"
     ]
    },
    {
     "name": "stdout",
     "output_type": "stream",
     "text": [
      "[[0.775463]] (1, 1)\n",
      ">5, MAE: 0.054\n"
     ]
    },
    {
     "name": "stderr",
     "output_type": "stream",
     "text": [
      "2022-09-07 00:01:18.201052: I tensorflow/core/grappler/optimizers/custom_graph_optimizer_registry.cc:113] Plugin optimizer for device_type GPU is enabled.\n",
      "2022-09-07 00:01:18.464489: I tensorflow/core/grappler/optimizers/custom_graph_optimizer_registry.cc:113] Plugin optimizer for device_type GPU is enabled.\n",
      "2022-09-07 00:01:18.564322: I tensorflow/core/grappler/optimizers/custom_graph_optimizer_registry.cc:113] Plugin optimizer for device_type GPU is enabled.\n"
     ]
    },
    {
     "name": "stdout",
     "output_type": "stream",
     "text": [
      "WARNING:tensorflow:6 out of the last 6 calls to <function Model.make_predict_function.<locals>.predict_function at 0x16acc9430> triggered tf.function retracing. Tracing is expensive and the excessive number of tracings could be due to (1) creating @tf.function repeatedly in a loop, (2) passing tensors with different shapes, (3) passing Python objects instead of tensors. For (1), please define your @tf.function outside of the loop. For (2), @tf.function has reduce_retracing=True option that can avoid unnecessary retracing. For (3), please refer to https://www.tensorflow.org/guide/function#controlling_retracing and https://www.tensorflow.org/api_docs/python/tf/function for  more details.\n"
     ]
    },
    {
     "name": "stderr",
     "output_type": "stream",
     "text": [
      "2022-09-07 00:01:20.701339: I tensorflow/core/grappler/optimizers/custom_graph_optimizer_registry.cc:113] Plugin optimizer for device_type GPU is enabled.\n",
      "2022-09-07 00:01:20.788091: I tensorflow/core/grappler/optimizers/custom_graph_optimizer_registry.cc:113] Plugin optimizer for device_type GPU is enabled.\n"
     ]
    },
    {
     "name": "stdout",
     "output_type": "stream",
     "text": [
      "[[0.775463]] (1, 1)\n",
      ">6, MAE: 0.059\n"
     ]
    },
    {
     "name": "stderr",
     "output_type": "stream",
     "text": [
      "2022-09-07 00:01:22.132117: I tensorflow/core/grappler/optimizers/custom_graph_optimizer_registry.cc:113] Plugin optimizer for device_type GPU is enabled.\n",
      "2022-09-07 00:01:22.402276: I tensorflow/core/grappler/optimizers/custom_graph_optimizer_registry.cc:113] Plugin optimizer for device_type GPU is enabled.\n",
      "2022-09-07 00:01:22.503741: I tensorflow/core/grappler/optimizers/custom_graph_optimizer_registry.cc:113] Plugin optimizer for device_type GPU is enabled.\n",
      "2022-09-07 00:01:24.510000: I tensorflow/core/grappler/optimizers/custom_graph_optimizer_registry.cc:113] Plugin optimizer for device_type GPU is enabled.\n",
      "2022-09-07 00:01:24.600467: I tensorflow/core/grappler/optimizers/custom_graph_optimizer_registry.cc:113] Plugin optimizer for device_type GPU is enabled.\n"
     ]
    },
    {
     "name": "stdout",
     "output_type": "stream",
     "text": [
      "[[0.775463]] (1, 1)\n",
      ">7, MAE: 0.071\n"
     ]
    },
    {
     "name": "stderr",
     "output_type": "stream",
     "text": [
      "2022-09-07 00:01:26.111842: I tensorflow/core/grappler/optimizers/custom_graph_optimizer_registry.cc:113] Plugin optimizer for device_type GPU is enabled.\n",
      "2022-09-07 00:01:26.377735: I tensorflow/core/grappler/optimizers/custom_graph_optimizer_registry.cc:113] Plugin optimizer for device_type GPU is enabled.\n",
      "2022-09-07 00:01:26.474885: I tensorflow/core/grappler/optimizers/custom_graph_optimizer_registry.cc:113] Plugin optimizer for device_type GPU is enabled.\n",
      "2022-09-07 00:01:28.540027: I tensorflow/core/grappler/optimizers/custom_graph_optimizer_registry.cc:113] Plugin optimizer for device_type GPU is enabled.\n",
      "2022-09-07 00:01:28.628490: I tensorflow/core/grappler/optimizers/custom_graph_optimizer_registry.cc:113] Plugin optimizer for device_type GPU is enabled.\n"
     ]
    },
    {
     "name": "stdout",
     "output_type": "stream",
     "text": [
      "[[0.775463]] (1, 1)\n",
      ">8, MAE: 0.066\n"
     ]
    },
    {
     "name": "stderr",
     "output_type": "stream",
     "text": [
      "2022-09-07 00:01:30.143456: I tensorflow/core/grappler/optimizers/custom_graph_optimizer_registry.cc:113] Plugin optimizer for device_type GPU is enabled.\n",
      "2022-09-07 00:01:30.413782: I tensorflow/core/grappler/optimizers/custom_graph_optimizer_registry.cc:113] Plugin optimizer for device_type GPU is enabled.\n",
      "2022-09-07 00:01:30.516915: I tensorflow/core/grappler/optimizers/custom_graph_optimizer_registry.cc:113] Plugin optimizer for device_type GPU is enabled.\n",
      "2022-09-07 00:01:32.671937: I tensorflow/core/grappler/optimizers/custom_graph_optimizer_registry.cc:113] Plugin optimizer for device_type GPU is enabled.\n",
      "2022-09-07 00:01:32.761953: I tensorflow/core/grappler/optimizers/custom_graph_optimizer_registry.cc:113] Plugin optimizer for device_type GPU is enabled.\n"
     ]
    },
    {
     "name": "stdout",
     "output_type": "stream",
     "text": [
      "[[0.775463]] (1, 1)\n",
      ">9, MAE: 0.056\n"
     ]
    },
    {
     "name": "stderr",
     "output_type": "stream",
     "text": [
      "2022-09-07 00:01:34.051111: I tensorflow/core/grappler/optimizers/custom_graph_optimizer_registry.cc:113] Plugin optimizer for device_type GPU is enabled.\n",
      "2022-09-07 00:01:34.324953: I tensorflow/core/grappler/optimizers/custom_graph_optimizer_registry.cc:113] Plugin optimizer for device_type GPU is enabled.\n",
      "2022-09-07 00:01:34.439543: I tensorflow/core/grappler/optimizers/custom_graph_optimizer_registry.cc:113] Plugin optimizer for device_type GPU is enabled.\n",
      "2022-09-07 00:01:36.478993: I tensorflow/core/grappler/optimizers/custom_graph_optimizer_registry.cc:113] Plugin optimizer for device_type GPU is enabled.\n",
      "2022-09-07 00:01:36.566441: I tensorflow/core/grappler/optimizers/custom_graph_optimizer_registry.cc:113] Plugin optimizer for device_type GPU is enabled.\n"
     ]
    },
    {
     "name": "stdout",
     "output_type": "stream",
     "text": [
      "[[0.775463]] (1, 1)\n",
      ">10, MAE: 0.059\n"
     ]
    },
    {
     "name": "stderr",
     "output_type": "stream",
     "text": [
      "2022-09-07 00:01:38.070052: I tensorflow/core/grappler/optimizers/custom_graph_optimizer_registry.cc:113] Plugin optimizer for device_type GPU is enabled.\n",
      "2022-09-07 00:01:38.334746: I tensorflow/core/grappler/optimizers/custom_graph_optimizer_registry.cc:113] Plugin optimizer for device_type GPU is enabled.\n",
      "2022-09-07 00:01:38.441277: I tensorflow/core/grappler/optimizers/custom_graph_optimizer_registry.cc:113] Plugin optimizer for device_type GPU is enabled.\n",
      "2022-09-07 00:01:40.420118: I tensorflow/core/grappler/optimizers/custom_graph_optimizer_registry.cc:113] Plugin optimizer for device_type GPU is enabled.\n",
      "2022-09-07 00:01:40.509012: I tensorflow/core/grappler/optimizers/custom_graph_optimizer_registry.cc:113] Plugin optimizer for device_type GPU is enabled.\n"
     ]
    },
    {
     "name": "stdout",
     "output_type": "stream",
     "text": [
      "[[0.775463]] (1, 1)\n",
      ">11, MAE: 0.034\n"
     ]
    },
    {
     "name": "stderr",
     "output_type": "stream",
     "text": [
      "2022-09-07 00:01:41.777510: I tensorflow/core/grappler/optimizers/custom_graph_optimizer_registry.cc:113] Plugin optimizer for device_type GPU is enabled.\n",
      "2022-09-07 00:01:42.041889: I tensorflow/core/grappler/optimizers/custom_graph_optimizer_registry.cc:113] Plugin optimizer for device_type GPU is enabled.\n",
      "2022-09-07 00:01:42.151703: I tensorflow/core/grappler/optimizers/custom_graph_optimizer_registry.cc:113] Plugin optimizer for device_type GPU is enabled.\n",
      "2022-09-07 00:01:44.113183: I tensorflow/core/grappler/optimizers/custom_graph_optimizer_registry.cc:113] Plugin optimizer for device_type GPU is enabled.\n",
      "2022-09-07 00:01:44.201060: I tensorflow/core/grappler/optimizers/custom_graph_optimizer_registry.cc:113] Plugin optimizer for device_type GPU is enabled.\n"
     ]
    },
    {
     "name": "stdout",
     "output_type": "stream",
     "text": [
      "[[0.775463]] (1, 1)\n",
      ">12, MAE: 0.054\n"
     ]
    },
    {
     "name": "stderr",
     "output_type": "stream",
     "text": [
      "2022-09-07 00:01:45.471410: I tensorflow/core/grappler/optimizers/custom_graph_optimizer_registry.cc:113] Plugin optimizer for device_type GPU is enabled.\n",
      "2022-09-07 00:01:45.734606: I tensorflow/core/grappler/optimizers/custom_graph_optimizer_registry.cc:113] Plugin optimizer for device_type GPU is enabled.\n",
      "2022-09-07 00:01:45.842090: I tensorflow/core/grappler/optimizers/custom_graph_optimizer_registry.cc:113] Plugin optimizer for device_type GPU is enabled.\n",
      "2022-09-07 00:01:47.815762: I tensorflow/core/grappler/optimizers/custom_graph_optimizer_registry.cc:113] Plugin optimizer for device_type GPU is enabled.\n",
      "2022-09-07 00:01:47.903907: I tensorflow/core/grappler/optimizers/custom_graph_optimizer_registry.cc:113] Plugin optimizer for device_type GPU is enabled.\n"
     ]
    },
    {
     "name": "stdout",
     "output_type": "stream",
     "text": [
      "[[0.775463]] (1, 1)\n",
      ">13, MAE: 0.093\n"
     ]
    },
    {
     "name": "stderr",
     "output_type": "stream",
     "text": [
      "2022-09-07 00:01:49.418088: I tensorflow/core/grappler/optimizers/custom_graph_optimizer_registry.cc:113] Plugin optimizer for device_type GPU is enabled.\n",
      "2022-09-07 00:01:49.682920: I tensorflow/core/grappler/optimizers/custom_graph_optimizer_registry.cc:113] Plugin optimizer for device_type GPU is enabled.\n",
      "2022-09-07 00:01:49.791745: I tensorflow/core/grappler/optimizers/custom_graph_optimizer_registry.cc:113] Plugin optimizer for device_type GPU is enabled.\n",
      "2022-09-07 00:01:51.771516: I tensorflow/core/grappler/optimizers/custom_graph_optimizer_registry.cc:113] Plugin optimizer for device_type GPU is enabled.\n",
      "2022-09-07 00:01:51.868380: I tensorflow/core/grappler/optimizers/custom_graph_optimizer_registry.cc:113] Plugin optimizer for device_type GPU is enabled.\n"
     ]
    },
    {
     "name": "stdout",
     "output_type": "stream",
     "text": [
      "[[0.775463]] (1, 1)\n",
      ">14, MAE: 0.066\n"
     ]
    },
    {
     "name": "stderr",
     "output_type": "stream",
     "text": [
      "2022-09-07 00:01:53.161174: I tensorflow/core/grappler/optimizers/custom_graph_optimizer_registry.cc:113] Plugin optimizer for device_type GPU is enabled.\n",
      "2022-09-07 00:01:53.430605: I tensorflow/core/grappler/optimizers/custom_graph_optimizer_registry.cc:113] Plugin optimizer for device_type GPU is enabled.\n",
      "2022-09-07 00:01:53.536261: I tensorflow/core/grappler/optimizers/custom_graph_optimizer_registry.cc:113] Plugin optimizer for device_type GPU is enabled.\n",
      "2022-09-07 00:01:55.527420: I tensorflow/core/grappler/optimizers/custom_graph_optimizer_registry.cc:113] Plugin optimizer for device_type GPU is enabled.\n",
      "2022-09-07 00:01:55.615469: I tensorflow/core/grappler/optimizers/custom_graph_optimizer_registry.cc:113] Plugin optimizer for device_type GPU is enabled.\n"
     ]
    },
    {
     "name": "stdout",
     "output_type": "stream",
     "text": [
      "[[0.775463]] (1, 1)\n",
      ">15, MAE: 0.069\n"
     ]
    },
    {
     "name": "stderr",
     "output_type": "stream",
     "text": [
      "2022-09-07 00:01:56.899381: I tensorflow/core/grappler/optimizers/custom_graph_optimizer_registry.cc:113] Plugin optimizer for device_type GPU is enabled.\n",
      "2022-09-07 00:01:57.162240: I tensorflow/core/grappler/optimizers/custom_graph_optimizer_registry.cc:113] Plugin optimizer for device_type GPU is enabled.\n",
      "2022-09-07 00:01:57.298185: I tensorflow/core/grappler/optimizers/custom_graph_optimizer_registry.cc:113] Plugin optimizer for device_type GPU is enabled.\n",
      "2022-09-07 00:01:59.327049: I tensorflow/core/grappler/optimizers/custom_graph_optimizer_registry.cc:113] Plugin optimizer for device_type GPU is enabled.\n",
      "2022-09-07 00:01:59.414700: I tensorflow/core/grappler/optimizers/custom_graph_optimizer_registry.cc:113] Plugin optimizer for device_type GPU is enabled.\n"
     ]
    },
    {
     "name": "stdout",
     "output_type": "stream",
     "text": [
      "[[0.775463]] (1, 1)\n",
      ">16, MAE: 0.064\n"
     ]
    },
    {
     "name": "stderr",
     "output_type": "stream",
     "text": [
      "2022-09-07 00:02:00.705844: I tensorflow/core/grappler/optimizers/custom_graph_optimizer_registry.cc:113] Plugin optimizer for device_type GPU is enabled.\n",
      "2022-09-07 00:02:00.968872: I tensorflow/core/grappler/optimizers/custom_graph_optimizer_registry.cc:113] Plugin optimizer for device_type GPU is enabled.\n",
      "2022-09-07 00:02:01.107195: I tensorflow/core/grappler/optimizers/custom_graph_optimizer_registry.cc:113] Plugin optimizer for device_type GPU is enabled.\n",
      "2022-09-07 00:02:03.164641: I tensorflow/core/grappler/optimizers/custom_graph_optimizer_registry.cc:113] Plugin optimizer for device_type GPU is enabled.\n",
      "2022-09-07 00:02:03.252561: I tensorflow/core/grappler/optimizers/custom_graph_optimizer_registry.cc:113] Plugin optimizer for device_type GPU is enabled.\n"
     ]
    },
    {
     "name": "stdout",
     "output_type": "stream",
     "text": [
      "[[0.775463]] (1, 1)\n",
      ">17, MAE: 0.044\n"
     ]
    },
    {
     "name": "stderr",
     "output_type": "stream",
     "text": [
      "2022-09-07 00:02:04.836422: I tensorflow/core/grappler/optimizers/custom_graph_optimizer_registry.cc:113] Plugin optimizer for device_type GPU is enabled.\n",
      "2022-09-07 00:02:05.101882: I tensorflow/core/grappler/optimizers/custom_graph_optimizer_registry.cc:113] Plugin optimizer for device_type GPU is enabled.\n",
      "2022-09-07 00:02:05.220881: I tensorflow/core/grappler/optimizers/custom_graph_optimizer_registry.cc:113] Plugin optimizer for device_type GPU is enabled.\n",
      "2022-09-07 00:02:07.287070: I tensorflow/core/grappler/optimizers/custom_graph_optimizer_registry.cc:113] Plugin optimizer for device_type GPU is enabled.\n",
      "2022-09-07 00:02:07.374314: I tensorflow/core/grappler/optimizers/custom_graph_optimizer_registry.cc:113] Plugin optimizer for device_type GPU is enabled.\n"
     ]
    },
    {
     "name": "stdout",
     "output_type": "stream",
     "text": [
      "[[0.775463]] (1, 1)\n",
      ">18, MAE: 0.061\n"
     ]
    },
    {
     "name": "stderr",
     "output_type": "stream",
     "text": [
      "2022-09-07 00:02:08.660808: I tensorflow/core/grappler/optimizers/custom_graph_optimizer_registry.cc:113] Plugin optimizer for device_type GPU is enabled.\n",
      "2022-09-07 00:02:08.934584: I tensorflow/core/grappler/optimizers/custom_graph_optimizer_registry.cc:113] Plugin optimizer for device_type GPU is enabled.\n",
      "2022-09-07 00:02:09.073547: I tensorflow/core/grappler/optimizers/custom_graph_optimizer_registry.cc:113] Plugin optimizer for device_type GPU is enabled.\n",
      "2022-09-07 00:02:11.150355: I tensorflow/core/grappler/optimizers/custom_graph_optimizer_registry.cc:113] Plugin optimizer for device_type GPU is enabled.\n",
      "2022-09-07 00:02:11.238215: I tensorflow/core/grappler/optimizers/custom_graph_optimizer_registry.cc:113] Plugin optimizer for device_type GPU is enabled.\n"
     ]
    },
    {
     "name": "stdout",
     "output_type": "stream",
     "text": [
      "[[0.775463]] (1, 1)\n",
      ">19, MAE: 0.064\n"
     ]
    },
    {
     "name": "stderr",
     "output_type": "stream",
     "text": [
      "2022-09-07 00:02:12.515738: I tensorflow/core/grappler/optimizers/custom_graph_optimizer_registry.cc:113] Plugin optimizer for device_type GPU is enabled.\n",
      "2022-09-07 00:02:12.781256: I tensorflow/core/grappler/optimizers/custom_graph_optimizer_registry.cc:113] Plugin optimizer for device_type GPU is enabled.\n",
      "2022-09-07 00:02:12.915564: I tensorflow/core/grappler/optimizers/custom_graph_optimizer_registry.cc:113] Plugin optimizer for device_type GPU is enabled.\n",
      "2022-09-07 00:02:15.011064: I tensorflow/core/grappler/optimizers/custom_graph_optimizer_registry.cc:113] Plugin optimizer for device_type GPU is enabled.\n",
      "2022-09-07 00:02:15.098445: I tensorflow/core/grappler/optimizers/custom_graph_optimizer_registry.cc:113] Plugin optimizer for device_type GPU is enabled.\n"
     ]
    },
    {
     "name": "stdout",
     "output_type": "stream",
     "text": [
      "[[0.775463]] (1, 1)\n",
      ">20, MAE: 0.026\n",
      "(20, 1)\n",
      "95% prediction interval: [653.5, 660.1]\n",
      "True value: 0.8\n"
     ]
    },
    {
     "data": {
      "text/plain": "   Prediction   95%CI.Min   95%CI.Max\n0  656.793579  653.470549  660.116609",
      "text/html": "<div>\n<style scoped>\n    .dataframe tbody tr th:only-of-type {\n        vertical-align: middle;\n    }\n\n    .dataframe tbody tr th {\n        vertical-align: top;\n    }\n\n    .dataframe thead th {\n        text-align: right;\n    }\n</style>\n<table border=\"1\" class=\"dataframe\">\n  <thead>\n    <tr style=\"text-align: right;\">\n      <th></th>\n      <th>Prediction</th>\n      <th>95%CI.Min</th>\n      <th>95%CI.Max</th>\n    </tr>\n  </thead>\n  <tbody>\n    <tr>\n      <th>0</th>\n      <td>656.793579</td>\n      <td>653.470549</td>\n      <td>660.116609</td>\n    </tr>\n  </tbody>\n</table>\n</div>"
     },
     "execution_count": 2,
     "metadata": {},
     "output_type": "execute_result"
    }
   ],
   "source": [
    "from math import sqrt\n",
    "from numpy import concatenate\n",
    "from matplotlib import pyplot\n",
    "import pandas as pd\n",
    "from pandas import read_csv\n",
    "from pandas import DataFrame\n",
    "from pandas import concat\n",
    "from sklearn.preprocessing import MinMaxScaler\n",
    "from sklearn.preprocessing import LabelEncoder\n",
    "from sklearn.metrics import mean_squared_error\n",
    "from keras.models import Sequential\n",
    "from keras.layers import Dense\n",
    "from keras.layers import LSTM\n",
    "\n",
    "\n",
    "import io\n",
    "import datetime\n",
    "\n",
    "# sheet='C1'\n",
    "# sheet='C2'\n",
    "# sheet='BYX'\n",
    "# sheet='BZX'\n",
    "# sheet='EDGA'\n",
    "# sheet='EDGX_Equities'\n",
    "# sheet='EXO_EDGX Options'\n",
    "# sheet='OPT_BZX BATS'\n",
    "# sheet='CFE'\n",
    "\n",
    "#load ensemble\n",
    "import os\n",
    "from keras.models import load_model\n",
    "\n",
    "df= pd.read_excel(r'../Logical Ports Prediction.xlsx',sheet_name=sheet,header=0)\n",
    "# df= pd.read_excel(r'Logical Ports Prediction.xlsx',sheet_name='C2',header=0)\n",
    "df.dropna(subset=['Date'],inplace=True)\n",
    "\n",
    "from datetime import datetime as dt\n",
    "last_date=df.loc[:,'Date']\n",
    "last_date=last_date.iat[-1]\n",
    "last_date=last_date.strftime('%Y-%m-%d')\n",
    "last_date\n",
    "\n",
    "df=df[df['Date']<=last_date].reset_index(drop=True)\n",
    "df.tail()\n",
    "df['Year'] = pd.to_datetime(df['Date']).dt.strftime('%Y')\n",
    "df['Month'] = pd.to_datetime(df['Date']).dt.strftime('%m')\n",
    "\n",
    "df.drop(['Date','Logical Ports','Asset'],axis=1,inplace=True)\n",
    "first_column = df.pop('Year')\n",
    "df.insert(0, 'Year', first_column)\n",
    "second_column = df.pop('Month')\n",
    "df.insert(1, 'Month', second_column)\n",
    "first_column = df.pop('PortQyt')\n",
    "df.insert(0, 'PortQyt', first_column)\n",
    "\n",
    "df.shape\n",
    "print(len(list(df)[:]))\n",
    "# # df=df.drop(['D&J_Close30d_Avg.','D&J_Close30d_Min','Monthly Real GDP Index','TCV','FEDFUNDS','Unemployement Rate','SPX_Price30d_Std.','D&J_Close30d_Std.','VIX_Close30d_Max.','VIX_Close30d_Avg.','VIX_Close30d_Std.','VIX_Close30d_Min.'],axis=1)\n",
    "\n",
    "values=df.values\n",
    "#\n",
    "# import matplotlib.pyplot as pp\n",
    "# pp.plot(values[:,0])\n",
    "# pp.show()\n",
    "\n",
    "# # encoder = LabelEncoder()\n",
    "# # # # print(values[:,0]) #PortQyt Value\n",
    "# # values[:,0]=encoder.fit_transform(values[:,0])\n",
    "# # print(values[:,0])\n",
    "\n",
    "# import matplotlib.pyplot as pp\n",
    "# pp.plot(values[:,0])\n",
    "# pp.show()\n",
    "\n",
    "# # print(values[:,4].shape)\n",
    "# # print(values[:,4])\n",
    "values = values.astype('float32')\n",
    "\n",
    "# specify the number of lag hours\n",
    "n_months = 5\n",
    "n_features = len(list(df)[:])\n",
    "\n",
    "#Normalize the first feature\n",
    "from sklearn.preprocessing import StandardScaler\n",
    "scaler2 = MinMaxScaler(feature_range=(0, 1)).fit(values[:,0:1])\n",
    "# train_y = scaler2.transform(values[:,-n_features])\n",
    "# scaled2 = scaler2.fit_transform(values) #try\n",
    "\n",
    "\n",
    "# # normalize features\n",
    "scaler = MinMaxScaler(feature_range=(0, 1))\n",
    "scaled = scaler.fit_transform(values)\n",
    "\n",
    "\n",
    "# len(list(dataset.columns))-3\n",
    "\n",
    "# convert series to supervised learning\n",
    "def series_to_supervised(data, n_in=1, n_out=1, dropnan=True):\n",
    "\tn_vars = 1 if type(data) is list else data.shape[1]\n",
    "\tdf = DataFrame(data)\n",
    "\tcols, names = list(), list()\n",
    "\t# input sequence (t-n, ... t-1)\n",
    "\tfor i in range(n_in, 0, -1):\n",
    "\t\tcols.append(df.shift(i))\n",
    "\t\tnames += [('var%d(t-%d)' % (j+1, i)) for j in range(n_vars)]\n",
    "\t# forecast sequence (t, t+1, ... t+n)\n",
    "\tfor i in range(0, n_out):\n",
    "\t\tcols.append(df.shift(-i))\n",
    "\t\tif i == 0:\n",
    "\t\t\tnames += [('var%d(t)' % (j+1)) for j in range(n_vars)]\n",
    "\t\telse:\n",
    "\t\t\tnames += [('var%d(t+%d)' % (j+1, i)) for j in range(n_vars)]\n",
    "\t# put it all together\n",
    "\tagg = concat(cols, axis=1)\n",
    "\tagg.columns = names\n",
    "\t# drop rows with NaN values\n",
    "\tif dropnan:\n",
    "\t\tagg.dropna(inplace=True)\n",
    "\treturn agg\n",
    "\n",
    "# frame as supervised learning\n",
    "reframed = series_to_supervised(scaled, n_months, 1)\n",
    "# print(reframed.shape)\n",
    "\n",
    "\n",
    "# print(reframed.tail())\n",
    "\n",
    "# split into train and test sets\n",
    "values = reframed.values\n",
    "n_train_months = 36\n",
    "train = values[:n_train_months, :]\n",
    "test = values[n_train_months:, :]\n",
    "print(values.shape)\n",
    "# split into input and outputs\n",
    "n_obs = ((n_months+1))* n_features #the following fourth month\n",
    "train.shape\n",
    "train_X, train_y = train[:, :n_obs], train[:, -n_features*(1+5):-n_features*(1+5)+1]\n",
    "test_X, test_y = test[:, :n_obs], test[:, -n_features*(1+5):-n_features*(1+5)+1]\n",
    "print(test.shape)\n",
    "\n",
    "\n",
    "# import matplotlib.pyplot as pp\n",
    "# pp.plot(train_y)\n",
    "# pp.show()\n",
    "\n",
    "train_X = train_X.reshape((train_X.shape[0], (n_months+1) , n_features))\n",
    "test_X = test_X.reshape((test_X.shape[0], (n_months+1), n_features))\n",
    "print(train_X.shape, train_y.shape, test_X.shape, test_y.shape)\n",
    "\n",
    "# prediction interval for mlps on the housing regression dataset\n",
    "from numpy import asarray\n",
    "from pandas import read_csv\n",
    "from sklearn.model_selection import train_test_split\n",
    "from sklearn.metrics import mean_absolute_error\n",
    "from sklearn.preprocessing import MinMaxScaler\n",
    "from tensorflow.keras.models import Sequential\n",
    "from tensorflow.keras.layers import Dense\n",
    "from tensorflow.keras.optimizers import Adam\n",
    "import tensorflow as tf\n",
    "import math\n",
    "import numpy as np\n",
    "\n",
    "\n",
    "# define and fit the model\n",
    "def fit_model(X_train, y_train):\n",
    "    features = X_train.shape[1]\n",
    "    model = Sequential()\n",
    "    model.add(LSTM(50, input_shape=(train_X.shape[1], train_X.shape[2])))\n",
    "    model.add(Dense(1))\n",
    "    model.compile(loss='mse', optimizer='adam')\n",
    "    model.fit(X_train, y_train, verbose=0, epochs=50, batch_size=16)\n",
    "    return model\n",
    "\n",
    "\n",
    "\n",
    "# fit an ensemble of models\n",
    "def fit_ensemble(n_members, X_train, X_test, y_train, y_test):\n",
    "    ensemble = list()\n",
    "    for i in range(n_members):\n",
    "        model = fit_model(X_train, y_train) # define and fit the model on the training set\n",
    "        yhat = model.predict(X_test, verbose=0) # evaluate model on the test set\n",
    "        print(y_test.shape,yhat.shape)\n",
    "        mae = mean_absolute_error(y_test, yhat)\n",
    "        print('>%d, MAE: %.3f' % (i+1, mae))\n",
    "        ensemble.append(model) # store the model\n",
    "    return ensemble, model\n",
    "\n",
    "n_members = 20\n",
    "ensemble = list()\n",
    "for i in range(n_members):\n",
    "  model = fit_model(train_X, train_y) # define and fit the model on the training set\n",
    "  yhat = model.predict(test_X, verbose=0) # evaluate model on the test set\n",
    "  print(test_y,yhat.shape)\n",
    "  mae = mean_absolute_error(test_y, yhat)\n",
    "  print('>%d, MAE: %.3f' % (i+1, mae))\n",
    "  ensemble.append(model) # store the model\n",
    "\n",
    "# make predictions with the ensemble and calculate a prediction interval\n",
    "def predict_with_pi(ensemble, X,n_members):\n",
    "    yhat = [model.predict(X, verbose=0) for model in ensemble]\n",
    "    yhat = asarray(yhat)\n",
    "    yhat = np.reshape(yhat,[n_members,1])\n",
    "    print(yhat.shape)\n",
    "    # yhat = scaled2.inverse_transform(yhat)\n",
    "    yhat = scaler2.inverse_transform(yhat) # invert scaling for actual\n",
    "    yhat = yhat[:,0]\n",
    "    interval = 1.96 * yhat.std()/math.sqrt(len(yhat))\n",
    "    lower, upper = yhat.mean() - interval, yhat.mean() + interval\n",
    "    return lower, yhat.mean(), upper\n",
    "\n",
    "n_members=len(ensemble)\n",
    "# make predictions with prediction interval\n",
    "newX = asarray([test_X[0, :]])\n",
    "lower, mean, upper = predict_with_pi(ensemble, newX,n_members)\n",
    "# print(test_y)\n",
    "# print('Point prediction: %.1f' % mean)\n",
    "print('95%% prediction interval: [%.1f, %.1f]' % (lower, upper))\n",
    "print('True value: %.1f' % test_y[0])\n",
    "outcome = {'Prediction': [mean],\n",
    "           '95%CI.Min': [lower],\n",
    "           '95%CI.Max': [upper]\n",
    "           }\n",
    "\n",
    "\n",
    "outcome1= pd.DataFrame(outcome)\n",
    "outcome1\n",
    "\n"
   ],
   "metadata": {
    "collapsed": false,
    "pycharm": {
     "name": "#%%\n"
    }
   }
  },
  {
   "cell_type": "code",
   "execution_count": 3,
   "metadata": {
    "pycharm": {
     "name": "#%%\n"
    }
   },
   "outputs": [],
   "source": [
    "from os import path\n",
    "#save ensemble\n",
    "for i,i_model in enumerate(ensemble):\n",
    "    i_model.save(path.join(sheet, '1',f'ensemble_corr_{i}.h5'))\n",
    "#   i_model.save(f'BYX/1/ensemble_corr_{i}.h5')\n",
    "\n",
    "\n",
    "\n",
    "#save model\n",
    "# model.save(f'/1/model_corr.h5')\n",
    "model.save(path.join(sheet, '1','model_corr.h5'))"
   ]
  },
  {
   "cell_type": "markdown",
   "metadata": {
    "pycharm": {
     "name": "#%% md\n"
    }
   },
   "source": [
    "## 2m"
   ]
  },
  {
   "cell_type": "code",
   "execution_count": 4,
   "metadata": {
    "pycharm": {
     "name": "#%%\n"
    }
   },
   "outputs": [
    {
     "name": "stdout",
     "output_type": "stream",
     "text": [
      "18\n",
      "(37, 108)\n",
      "(1, 108)\n",
      "(36, 6, 18) (36, 1) (1, 6, 18) (1, 1)\n"
     ]
    },
    {
     "name": "stderr",
     "output_type": "stream",
     "text": [
      "2022-09-07 00:02:17.692098: I tensorflow/core/grappler/optimizers/custom_graph_optimizer_registry.cc:113] Plugin optimizer for device_type GPU is enabled.\n",
      "2022-09-07 00:02:17.957146: I tensorflow/core/grappler/optimizers/custom_graph_optimizer_registry.cc:113] Plugin optimizer for device_type GPU is enabled.\n",
      "2022-09-07 00:02:18.091292: I tensorflow/core/grappler/optimizers/custom_graph_optimizer_registry.cc:113] Plugin optimizer for device_type GPU is enabled.\n",
      "2022-09-07 00:02:21.814967: I tensorflow/core/grappler/optimizers/custom_graph_optimizer_registry.cc:113] Plugin optimizer for device_type GPU is enabled.\n",
      "2022-09-07 00:02:21.911445: I tensorflow/core/grappler/optimizers/custom_graph_optimizer_registry.cc:113] Plugin optimizer for device_type GPU is enabled.\n"
     ]
    },
    {
     "name": "stdout",
     "output_type": "stream",
     "text": [
      "[[0.8796296]] (1, 1)\n",
      ">1, MAE: 0.061\n"
     ]
    },
    {
     "name": "stderr",
     "output_type": "stream",
     "text": [
      "2022-09-07 00:02:23.172055: I tensorflow/core/grappler/optimizers/custom_graph_optimizer_registry.cc:113] Plugin optimizer for device_type GPU is enabled.\n",
      "2022-09-07 00:02:23.433594: I tensorflow/core/grappler/optimizers/custom_graph_optimizer_registry.cc:113] Plugin optimizer for device_type GPU is enabled.\n",
      "2022-09-07 00:02:23.569315: I tensorflow/core/grappler/optimizers/custom_graph_optimizer_registry.cc:113] Plugin optimizer for device_type GPU is enabled.\n",
      "2022-09-07 00:02:25.690345: I tensorflow/core/grappler/optimizers/custom_graph_optimizer_registry.cc:113] Plugin optimizer for device_type GPU is enabled.\n",
      "2022-09-07 00:02:25.778473: I tensorflow/core/grappler/optimizers/custom_graph_optimizer_registry.cc:113] Plugin optimizer for device_type GPU is enabled.\n"
     ]
    },
    {
     "name": "stdout",
     "output_type": "stream",
     "text": [
      "[[0.8796296]] (1, 1)\n",
      ">2, MAE: 0.076\n"
     ]
    },
    {
     "name": "stderr",
     "output_type": "stream",
     "text": [
      "2022-09-07 00:02:27.054417: I tensorflow/core/grappler/optimizers/custom_graph_optimizer_registry.cc:113] Plugin optimizer for device_type GPU is enabled.\n",
      "2022-09-07 00:02:27.317888: I tensorflow/core/grappler/optimizers/custom_graph_optimizer_registry.cc:113] Plugin optimizer for device_type GPU is enabled.\n",
      "2022-09-07 00:02:27.453981: I tensorflow/core/grappler/optimizers/custom_graph_optimizer_registry.cc:113] Plugin optimizer for device_type GPU is enabled.\n",
      "2022-09-07 00:02:29.679857: I tensorflow/core/grappler/optimizers/custom_graph_optimizer_registry.cc:113] Plugin optimizer for device_type GPU is enabled.\n",
      "2022-09-07 00:02:29.766653: I tensorflow/core/grappler/optimizers/custom_graph_optimizer_registry.cc:113] Plugin optimizer for device_type GPU is enabled.\n"
     ]
    },
    {
     "name": "stdout",
     "output_type": "stream",
     "text": [
      "[[0.8796296]] (1, 1)\n",
      ">3, MAE: 0.057\n"
     ]
    },
    {
     "name": "stderr",
     "output_type": "stream",
     "text": [
      "2022-09-07 00:02:31.039167: I tensorflow/core/grappler/optimizers/custom_graph_optimizer_registry.cc:113] Plugin optimizer for device_type GPU is enabled.\n",
      "2022-09-07 00:02:31.301285: I tensorflow/core/grappler/optimizers/custom_graph_optimizer_registry.cc:113] Plugin optimizer for device_type GPU is enabled.\n",
      "2022-09-07 00:02:31.441809: I tensorflow/core/grappler/optimizers/custom_graph_optimizer_registry.cc:113] Plugin optimizer for device_type GPU is enabled.\n",
      "2022-09-07 00:02:33.517032: I tensorflow/core/grappler/optimizers/custom_graph_optimizer_registry.cc:113] Plugin optimizer for device_type GPU is enabled.\n",
      "2022-09-07 00:02:33.604735: I tensorflow/core/grappler/optimizers/custom_graph_optimizer_registry.cc:113] Plugin optimizer for device_type GPU is enabled.\n"
     ]
    },
    {
     "name": "stdout",
     "output_type": "stream",
     "text": [
      "[[0.8796296]] (1, 1)\n",
      ">4, MAE: 0.055\n"
     ]
    },
    {
     "name": "stderr",
     "output_type": "stream",
     "text": [
      "2022-09-07 00:02:34.901210: I tensorflow/core/grappler/optimizers/custom_graph_optimizer_registry.cc:113] Plugin optimizer for device_type GPU is enabled.\n",
      "2022-09-07 00:02:35.167102: I tensorflow/core/grappler/optimizers/custom_graph_optimizer_registry.cc:113] Plugin optimizer for device_type GPU is enabled.\n",
      "2022-09-07 00:02:35.304513: I tensorflow/core/grappler/optimizers/custom_graph_optimizer_registry.cc:113] Plugin optimizer for device_type GPU is enabled.\n",
      "2022-09-07 00:02:37.404488: I tensorflow/core/grappler/optimizers/custom_graph_optimizer_registry.cc:113] Plugin optimizer for device_type GPU is enabled.\n",
      "2022-09-07 00:02:37.493356: I tensorflow/core/grappler/optimizers/custom_graph_optimizer_registry.cc:113] Plugin optimizer for device_type GPU is enabled.\n"
     ]
    },
    {
     "name": "stdout",
     "output_type": "stream",
     "text": [
      "[[0.8796296]] (1, 1)\n",
      ">5, MAE: 0.061\n"
     ]
    },
    {
     "name": "stderr",
     "output_type": "stream",
     "text": [
      "2022-09-07 00:02:38.941242: I tensorflow/core/grappler/optimizers/custom_graph_optimizer_registry.cc:113] Plugin optimizer for device_type GPU is enabled.\n",
      "2022-09-07 00:02:39.204621: I tensorflow/core/grappler/optimizers/custom_graph_optimizer_registry.cc:113] Plugin optimizer for device_type GPU is enabled.\n",
      "2022-09-07 00:02:39.339219: I tensorflow/core/grappler/optimizers/custom_graph_optimizer_registry.cc:113] Plugin optimizer for device_type GPU is enabled.\n",
      "2022-09-07 00:02:41.438663: I tensorflow/core/grappler/optimizers/custom_graph_optimizer_registry.cc:113] Plugin optimizer for device_type GPU is enabled.\n",
      "2022-09-07 00:02:41.527482: I tensorflow/core/grappler/optimizers/custom_graph_optimizer_registry.cc:113] Plugin optimizer for device_type GPU is enabled.\n"
     ]
    },
    {
     "name": "stdout",
     "output_type": "stream",
     "text": [
      "[[0.8796296]] (1, 1)\n",
      ">6, MAE: 0.109\n"
     ]
    },
    {
     "name": "stderr",
     "output_type": "stream",
     "text": [
      "2022-09-07 00:02:42.801790: I tensorflow/core/grappler/optimizers/custom_graph_optimizer_registry.cc:113] Plugin optimizer for device_type GPU is enabled.\n",
      "2022-09-07 00:02:43.067379: I tensorflow/core/grappler/optimizers/custom_graph_optimizer_registry.cc:113] Plugin optimizer for device_type GPU is enabled.\n",
      "2022-09-07 00:02:43.204463: I tensorflow/core/grappler/optimizers/custom_graph_optimizer_registry.cc:113] Plugin optimizer for device_type GPU is enabled.\n",
      "2022-09-07 00:02:45.290002: I tensorflow/core/grappler/optimizers/custom_graph_optimizer_registry.cc:113] Plugin optimizer for device_type GPU is enabled.\n",
      "2022-09-07 00:02:45.380191: I tensorflow/core/grappler/optimizers/custom_graph_optimizer_registry.cc:113] Plugin optimizer for device_type GPU is enabled.\n"
     ]
    },
    {
     "name": "stdout",
     "output_type": "stream",
     "text": [
      "[[0.8796296]] (1, 1)\n",
      ">7, MAE: 0.063\n"
     ]
    },
    {
     "name": "stderr",
     "output_type": "stream",
     "text": [
      "2022-09-07 00:02:46.651816: I tensorflow/core/grappler/optimizers/custom_graph_optimizer_registry.cc:113] Plugin optimizer for device_type GPU is enabled.\n",
      "2022-09-07 00:02:46.920328: I tensorflow/core/grappler/optimizers/custom_graph_optimizer_registry.cc:113] Plugin optimizer for device_type GPU is enabled.\n",
      "2022-09-07 00:02:47.054873: I tensorflow/core/grappler/optimizers/custom_graph_optimizer_registry.cc:113] Plugin optimizer for device_type GPU is enabled.\n",
      "2022-09-07 00:02:49.329116: I tensorflow/core/grappler/optimizers/custom_graph_optimizer_registry.cc:113] Plugin optimizer for device_type GPU is enabled.\n",
      "2022-09-07 00:02:49.418217: I tensorflow/core/grappler/optimizers/custom_graph_optimizer_registry.cc:113] Plugin optimizer for device_type GPU is enabled.\n"
     ]
    },
    {
     "name": "stdout",
     "output_type": "stream",
     "text": [
      "[[0.8796296]] (1, 1)\n",
      ">8, MAE: 0.028\n"
     ]
    },
    {
     "name": "stderr",
     "output_type": "stream",
     "text": [
      "2022-09-07 00:02:50.709481: I tensorflow/core/grappler/optimizers/custom_graph_optimizer_registry.cc:113] Plugin optimizer for device_type GPU is enabled.\n",
      "2022-09-07 00:02:50.970001: I tensorflow/core/grappler/optimizers/custom_graph_optimizer_registry.cc:113] Plugin optimizer for device_type GPU is enabled.\n",
      "2022-09-07 00:02:51.107391: I tensorflow/core/grappler/optimizers/custom_graph_optimizer_registry.cc:113] Plugin optimizer for device_type GPU is enabled.\n",
      "2022-09-07 00:02:53.221071: I tensorflow/core/grappler/optimizers/custom_graph_optimizer_registry.cc:113] Plugin optimizer for device_type GPU is enabled.\n",
      "2022-09-07 00:02:53.309891: I tensorflow/core/grappler/optimizers/custom_graph_optimizer_registry.cc:113] Plugin optimizer for device_type GPU is enabled.\n"
     ]
    },
    {
     "name": "stdout",
     "output_type": "stream",
     "text": [
      "[[0.8796296]] (1, 1)\n",
      ">9, MAE: 0.040\n"
     ]
    },
    {
     "name": "stderr",
     "output_type": "stream",
     "text": [
      "2022-09-07 00:02:54.596927: I tensorflow/core/grappler/optimizers/custom_graph_optimizer_registry.cc:113] Plugin optimizer for device_type GPU is enabled.\n",
      "2022-09-07 00:02:54.862615: I tensorflow/core/grappler/optimizers/custom_graph_optimizer_registry.cc:113] Plugin optimizer for device_type GPU is enabled.\n",
      "2022-09-07 00:02:54.997088: I tensorflow/core/grappler/optimizers/custom_graph_optimizer_registry.cc:113] Plugin optimizer for device_type GPU is enabled.\n",
      "2022-09-07 00:02:57.073607: I tensorflow/core/grappler/optimizers/custom_graph_optimizer_registry.cc:113] Plugin optimizer for device_type GPU is enabled.\n",
      "2022-09-07 00:02:57.162495: I tensorflow/core/grappler/optimizers/custom_graph_optimizer_registry.cc:113] Plugin optimizer for device_type GPU is enabled.\n"
     ]
    },
    {
     "name": "stdout",
     "output_type": "stream",
     "text": [
      "[[0.8796296]] (1, 1)\n",
      ">10, MAE: 0.054\n"
     ]
    },
    {
     "name": "stderr",
     "output_type": "stream",
     "text": [
      "2022-09-07 00:02:58.669593: I tensorflow/core/grappler/optimizers/custom_graph_optimizer_registry.cc:113] Plugin optimizer for device_type GPU is enabled.\n",
      "2022-09-07 00:02:58.934791: I tensorflow/core/grappler/optimizers/custom_graph_optimizer_registry.cc:113] Plugin optimizer for device_type GPU is enabled.\n",
      "2022-09-07 00:02:59.070752: I tensorflow/core/grappler/optimizers/custom_graph_optimizer_registry.cc:113] Plugin optimizer for device_type GPU is enabled.\n",
      "2022-09-07 00:03:01.258791: I tensorflow/core/grappler/optimizers/custom_graph_optimizer_registry.cc:113] Plugin optimizer for device_type GPU is enabled.\n",
      "2022-09-07 00:03:01.345785: I tensorflow/core/grappler/optimizers/custom_graph_optimizer_registry.cc:113] Plugin optimizer for device_type GPU is enabled.\n"
     ]
    },
    {
     "name": "stdout",
     "output_type": "stream",
     "text": [
      "[[0.8796296]] (1, 1)\n",
      ">11, MAE: 0.066\n"
     ]
    },
    {
     "name": "stderr",
     "output_type": "stream",
     "text": [
      "2022-09-07 00:03:02.615190: I tensorflow/core/grappler/optimizers/custom_graph_optimizer_registry.cc:113] Plugin optimizer for device_type GPU is enabled.\n",
      "2022-09-07 00:03:02.884101: I tensorflow/core/grappler/optimizers/custom_graph_optimizer_registry.cc:113] Plugin optimizer for device_type GPU is enabled.\n",
      "2022-09-07 00:03:03.013008: I tensorflow/core/grappler/optimizers/custom_graph_optimizer_registry.cc:113] Plugin optimizer for device_type GPU is enabled.\n",
      "2022-09-07 00:03:05.140205: I tensorflow/core/grappler/optimizers/custom_graph_optimizer_registry.cc:113] Plugin optimizer for device_type GPU is enabled.\n",
      "2022-09-07 00:03:05.227587: I tensorflow/core/grappler/optimizers/custom_graph_optimizer_registry.cc:113] Plugin optimizer for device_type GPU is enabled.\n"
     ]
    },
    {
     "name": "stdout",
     "output_type": "stream",
     "text": [
      "[[0.8796296]] (1, 1)\n",
      ">12, MAE: 0.071\n"
     ]
    },
    {
     "name": "stderr",
     "output_type": "stream",
     "text": [
      "2022-09-07 00:03:06.558959: I tensorflow/core/grappler/optimizers/custom_graph_optimizer_registry.cc:113] Plugin optimizer for device_type GPU is enabled.\n",
      "2022-09-07 00:03:06.825809: I tensorflow/core/grappler/optimizers/custom_graph_optimizer_registry.cc:113] Plugin optimizer for device_type GPU is enabled.\n",
      "2022-09-07 00:03:06.960664: I tensorflow/core/grappler/optimizers/custom_graph_optimizer_registry.cc:113] Plugin optimizer for device_type GPU is enabled.\n",
      "2022-09-07 00:03:09.250166: I tensorflow/core/grappler/optimizers/custom_graph_optimizer_registry.cc:113] Plugin optimizer for device_type GPU is enabled.\n",
      "2022-09-07 00:03:09.340237: I tensorflow/core/grappler/optimizers/custom_graph_optimizer_registry.cc:113] Plugin optimizer for device_type GPU is enabled.\n"
     ]
    },
    {
     "name": "stdout",
     "output_type": "stream",
     "text": [
      "[[0.8796296]] (1, 1)\n",
      ">13, MAE: 0.069\n"
     ]
    },
    {
     "name": "stderr",
     "output_type": "stream",
     "text": [
      "2022-09-07 00:03:10.674217: I tensorflow/core/grappler/optimizers/custom_graph_optimizer_registry.cc:113] Plugin optimizer for device_type GPU is enabled.\n",
      "2022-09-07 00:03:10.948647: I tensorflow/core/grappler/optimizers/custom_graph_optimizer_registry.cc:113] Plugin optimizer for device_type GPU is enabled.\n",
      "2022-09-07 00:03:11.138442: I tensorflow/core/grappler/optimizers/custom_graph_optimizer_registry.cc:113] Plugin optimizer for device_type GPU is enabled.\n",
      "2022-09-07 00:03:16.768407: I tensorflow/core/grappler/optimizers/custom_graph_optimizer_registry.cc:113] Plugin optimizer for device_type GPU is enabled.\n",
      "2022-09-07 00:03:16.978004: I tensorflow/core/grappler/optimizers/custom_graph_optimizer_registry.cc:113] Plugin optimizer for device_type GPU is enabled.\n"
     ]
    },
    {
     "name": "stdout",
     "output_type": "stream",
     "text": [
      "[[0.8796296]] (1, 1)\n",
      ">14, MAE: 0.044\n"
     ]
    },
    {
     "name": "stderr",
     "output_type": "stream",
     "text": [
      "2022-09-07 00:03:19.485086: I tensorflow/core/grappler/optimizers/custom_graph_optimizer_registry.cc:113] Plugin optimizer for device_type GPU is enabled.\n",
      "2022-09-07 00:03:19.746369: I tensorflow/core/grappler/optimizers/custom_graph_optimizer_registry.cc:113] Plugin optimizer for device_type GPU is enabled.\n",
      "2022-09-07 00:03:19.875476: I tensorflow/core/grappler/optimizers/custom_graph_optimizer_registry.cc:113] Plugin optimizer for device_type GPU is enabled.\n",
      "2022-09-07 00:03:22.084654: I tensorflow/core/grappler/optimizers/custom_graph_optimizer_registry.cc:113] Plugin optimizer for device_type GPU is enabled.\n",
      "2022-09-07 00:03:22.171464: I tensorflow/core/grappler/optimizers/custom_graph_optimizer_registry.cc:113] Plugin optimizer for device_type GPU is enabled.\n"
     ]
    },
    {
     "name": "stdout",
     "output_type": "stream",
     "text": [
      "[[0.8796296]] (1, 1)\n",
      ">15, MAE: 0.030\n"
     ]
    },
    {
     "name": "stderr",
     "output_type": "stream",
     "text": [
      "2022-09-07 00:03:23.455044: I tensorflow/core/grappler/optimizers/custom_graph_optimizer_registry.cc:113] Plugin optimizer for device_type GPU is enabled.\n",
      "2022-09-07 00:03:23.719273: I tensorflow/core/grappler/optimizers/custom_graph_optimizer_registry.cc:113] Plugin optimizer for device_type GPU is enabled.\n",
      "2022-09-07 00:03:23.905669: I tensorflow/core/grappler/optimizers/custom_graph_optimizer_registry.cc:113] Plugin optimizer for device_type GPU is enabled.\n",
      "2022-09-07 00:03:26.096972: I tensorflow/core/grappler/optimizers/custom_graph_optimizer_registry.cc:113] Plugin optimizer for device_type GPU is enabled.\n",
      "2022-09-07 00:03:26.185539: I tensorflow/core/grappler/optimizers/custom_graph_optimizer_registry.cc:113] Plugin optimizer for device_type GPU is enabled.\n"
     ]
    },
    {
     "name": "stdout",
     "output_type": "stream",
     "text": [
      "[[0.8796296]] (1, 1)\n",
      ">16, MAE: 0.029\n"
     ]
    },
    {
     "name": "stderr",
     "output_type": "stream",
     "text": [
      "2022-09-07 00:03:27.506921: I tensorflow/core/grappler/optimizers/custom_graph_optimizer_registry.cc:113] Plugin optimizer for device_type GPU is enabled.\n",
      "2022-09-07 00:03:27.789964: I tensorflow/core/grappler/optimizers/custom_graph_optimizer_registry.cc:113] Plugin optimizer for device_type GPU is enabled.\n",
      "2022-09-07 00:03:28.097345: I tensorflow/core/grappler/optimizers/custom_graph_optimizer_registry.cc:113] Plugin optimizer for device_type GPU is enabled.\n",
      "2022-09-07 00:03:30.396400: I tensorflow/core/grappler/optimizers/custom_graph_optimizer_registry.cc:113] Plugin optimizer for device_type GPU is enabled.\n",
      "2022-09-07 00:03:30.484766: I tensorflow/core/grappler/optimizers/custom_graph_optimizer_registry.cc:113] Plugin optimizer for device_type GPU is enabled.\n"
     ]
    },
    {
     "name": "stdout",
     "output_type": "stream",
     "text": [
      "[[0.8796296]] (1, 1)\n",
      ">17, MAE: 0.059\n"
     ]
    },
    {
     "name": "stderr",
     "output_type": "stream",
     "text": [
      "2022-09-07 00:03:31.804595: I tensorflow/core/grappler/optimizers/custom_graph_optimizer_registry.cc:113] Plugin optimizer for device_type GPU is enabled.\n",
      "2022-09-07 00:03:32.068573: I tensorflow/core/grappler/optimizers/custom_graph_optimizer_registry.cc:113] Plugin optimizer for device_type GPU is enabled.\n",
      "2022-09-07 00:03:32.252817: I tensorflow/core/grappler/optimizers/custom_graph_optimizer_registry.cc:113] Plugin optimizer for device_type GPU is enabled.\n",
      "2022-09-07 00:03:34.508767: I tensorflow/core/grappler/optimizers/custom_graph_optimizer_registry.cc:113] Plugin optimizer for device_type GPU is enabled.\n",
      "2022-09-07 00:03:34.597581: I tensorflow/core/grappler/optimizers/custom_graph_optimizer_registry.cc:113] Plugin optimizer for device_type GPU is enabled.\n"
     ]
    },
    {
     "name": "stdout",
     "output_type": "stream",
     "text": [
      "[[0.8796296]] (1, 1)\n",
      ">18, MAE: 0.070\n"
     ]
    },
    {
     "name": "stderr",
     "output_type": "stream",
     "text": [
      "2022-09-07 00:03:36.238809: I tensorflow/core/grappler/optimizers/custom_graph_optimizer_registry.cc:113] Plugin optimizer for device_type GPU is enabled.\n",
      "2022-09-07 00:03:36.503402: I tensorflow/core/grappler/optimizers/custom_graph_optimizer_registry.cc:113] Plugin optimizer for device_type GPU is enabled.\n",
      "2022-09-07 00:03:36.688114: I tensorflow/core/grappler/optimizers/custom_graph_optimizer_registry.cc:113] Plugin optimizer for device_type GPU is enabled.\n",
      "2022-09-07 00:03:38.938292: I tensorflow/core/grappler/optimizers/custom_graph_optimizer_registry.cc:113] Plugin optimizer for device_type GPU is enabled.\n",
      "2022-09-07 00:03:39.032342: I tensorflow/core/grappler/optimizers/custom_graph_optimizer_registry.cc:113] Plugin optimizer for device_type GPU is enabled.\n"
     ]
    },
    {
     "name": "stdout",
     "output_type": "stream",
     "text": [
      "[[0.8796296]] (1, 1)\n",
      ">19, MAE: 0.080\n"
     ]
    },
    {
     "name": "stderr",
     "output_type": "stream",
     "text": [
      "2022-09-07 00:03:40.389086: I tensorflow/core/grappler/optimizers/custom_graph_optimizer_registry.cc:113] Plugin optimizer for device_type GPU is enabled.\n",
      "2022-09-07 00:03:40.660944: I tensorflow/core/grappler/optimizers/custom_graph_optimizer_registry.cc:113] Plugin optimizer for device_type GPU is enabled.\n",
      "2022-09-07 00:03:40.851964: I tensorflow/core/grappler/optimizers/custom_graph_optimizer_registry.cc:113] Plugin optimizer for device_type GPU is enabled.\n",
      "2022-09-07 00:03:43.186306: I tensorflow/core/grappler/optimizers/custom_graph_optimizer_registry.cc:113] Plugin optimizer for device_type GPU is enabled.\n",
      "2022-09-07 00:03:43.275400: I tensorflow/core/grappler/optimizers/custom_graph_optimizer_registry.cc:113] Plugin optimizer for device_type GPU is enabled.\n"
     ]
    },
    {
     "name": "stdout",
     "output_type": "stream",
     "text": [
      "[[0.8796296]] (1, 1)\n",
      ">20, MAE: 0.038\n",
      "(20, 1)\n",
      "95% prediction interval: [648.3, 655.6]\n",
      "True value: 0.9\n"
     ]
    }
   ],
   "source": [
    "from math import sqrt\n",
    "import numpy as np\n",
    "from numpy import concatenate\n",
    "from matplotlib import pyplot\n",
    "import pandas as pd\n",
    "from pandas import read_csv\n",
    "from pandas import DataFrame\n",
    "from pandas import concat\n",
    "from sklearn.preprocessing import MinMaxScaler\n",
    "from sklearn.preprocessing import LabelEncoder\n",
    "from sklearn.metrics import mean_squared_error\n",
    "from keras.models import Sequential\n",
    "from keras.layers import Dense\n",
    "from keras.layers import LSTM\n",
    "\n",
    "import io\n",
    "import datetime\n",
    "\n",
    "# sheet='BYX'\n",
    "df= pd.read_excel(r'../Logical Ports Prediction.xlsx',sheet_name=sheet,header=0)\n",
    "# df= pd.read_excel(r'Logical Ports Prediction.xlsx',sheet_name='C2',header=0)\n",
    "df.dropna(subset=['Date'],inplace=True)\n",
    "\n",
    "from datetime import datetime as dt\n",
    "last_date=df.loc[:,'Date']\n",
    "last_date=last_date.iat[-1]\n",
    "last_date=last_date.strftime('%Y-%m-%d')\n",
    "last_date\n",
    "\n",
    "df=df[df['Date']<=last_date].reset_index(drop=True)\n",
    "df.tail()\n",
    "df['Year'] = pd.to_datetime(df['Date']).dt.strftime('%Y')\n",
    "df['Month'] = pd.to_datetime(df['Date']).dt.strftime('%m')\n",
    "\n",
    "df.drop(['Date','Logical Ports','Asset'],axis=1,inplace=True)\n",
    "first_column = df.pop('Year')\n",
    "df.insert(0, 'Year', first_column)\n",
    "second_column = df.pop('Month')\n",
    "df.insert(1, 'Month', second_column)\n",
    "first_column = df.pop('PortQyt')\n",
    "df.insert(0, 'PortQyt', first_column)\n",
    "\n",
    "df.shape\n",
    "print(len(list(df)[:]))\n",
    "# # df=df.drop(['D&J_Close30d_Avg.','D&J_Close30d_Min','Monthly Real GDP Index','TCV','FEDFUNDS','Unemployement Rate','SPX_Price30d_Std.','D&J_Close30d_Std.','VIX_Close30d_Max.','VIX_Close30d_Avg.','VIX_Close30d_Std.','VIX_Close30d_Min.'],axis=1)\n",
    "\n",
    "\n",
    "values=df.values\n",
    "#\n",
    "# import matplotlib.pyplot as pp\n",
    "# pp.plot(values[:,0])\n",
    "# pp.show()\n",
    "\n",
    "# encoder = LabelEncoder()\n",
    "# # # print(values[:,0]) #PortQyt Value\n",
    "# values[:,0]=encoder.fit_transform(values[:,0])\n",
    "# print(values[:,0])\n",
    "\n",
    "# import matplotlib.pyplot as pp\n",
    "# pp.plot(values[:,0])\n",
    "# pp.show()\n",
    "\n",
    "# # print(values[:,4].shape)\n",
    "# # print(values[:,4])\n",
    "values = values.astype('float32')\n",
    "\n",
    "# specify the number of lag hours\n",
    "n_months = 5\n",
    "n_features = len(list(df)[:])\n",
    "\n",
    "#Normalize the first feature\n",
    "from sklearn.preprocessing import StandardScaler\n",
    "scaler2 = MinMaxScaler(feature_range=(0, 1)).fit(values[:,0:1])\n",
    "# train_y = scaler2.transform(values[:,-n_features])\n",
    "# scaled2 = scaler2.fit_transform(values) #try\n",
    "\n",
    "\n",
    "# # normalize features\n",
    "scaler = MinMaxScaler(feature_range=(0, 1))\n",
    "scaled = scaler.fit_transform(values)\n",
    "\n",
    "\n",
    "# len(list(dataset.columns))-3\n",
    "\n",
    "# convert series to supervised learning\n",
    "def series_to_supervised(data, n_in=1, n_out=1, dropnan=True):\n",
    "\tn_vars = 1 if type(data) is list else data.shape[1]\n",
    "\tdf = DataFrame(data)\n",
    "\tcols, names = list(), list()\n",
    "\t# input sequence (t-n, ... t-1)\n",
    "\tfor i in range(n_in, 0, -1):\n",
    "\t\tcols.append(df.shift(i))\n",
    "\t\tnames += [('var%d(t-%d)' % (j+1, i)) for j in range(n_vars)]\n",
    "\t# forecast sequence (t, t+1, ... t+n)\n",
    "\tfor i in range(0, n_out):\n",
    "\t\tcols.append(df.shift(-i))\n",
    "\t\tif i == 0:\n",
    "\t\t\tnames += [('var%d(t)' % (j+1)) for j in range(n_vars)]\n",
    "\t\telse:\n",
    "\t\t\tnames += [('var%d(t+%d)' % (j+1, i)) for j in range(n_vars)]\n",
    "\t# put it all together\n",
    "\tagg = concat(cols, axis=1)\n",
    "\tagg.columns = names\n",
    "\t# drop rows with NaN values\n",
    "\tif dropnan:\n",
    "\t\tagg.dropna(inplace=True)\n",
    "\treturn agg\n",
    "\n",
    "# frame as supervised learning\n",
    "reframed = series_to_supervised(scaled, n_months, 1)\n",
    "# print(reframed.shape)\n",
    "\n",
    "\n",
    "# print(reframed.tail())\n",
    "\n",
    "\n",
    "# split into train and test sets\n",
    "values = reframed.values\n",
    "n_train_months = 36\n",
    "train = values[:n_train_months, :]\n",
    "test = values[n_train_months:, :]\n",
    "print(values.shape)\n",
    "# split into input and outputs\n",
    "n_obs = ((n_months+1))* n_features #the following fourth month\n",
    "train.shape\n",
    "train_X, train_y = train[:, :n_obs], train[:, -n_features*(1+4):-n_features*(1+4)+1] \n",
    "test_X, test_y = test[:, :n_obs], test[:, -n_features*(1+4):-n_features*(1+4)+1]\n",
    "print(test.shape)\n",
    "\n",
    "\n",
    "# import matplotlib.pyplot as pp\n",
    "# pp.plot(train_y)\n",
    "# pp.show()\n",
    "\n",
    "train_X = train_X.reshape((train_X.shape[0], (n_months+1) , n_features))\n",
    "test_X = test_X.reshape((test_X.shape[0], (n_months+1), n_features))\n",
    "print(train_X.shape, train_y.shape, test_X.shape, test_y.shape)\n",
    "\n",
    "\n",
    "# prediction interval for mlps on the housing regression dataset\n",
    "from numpy import asarray\n",
    "from pandas import read_csv\n",
    "from sklearn.model_selection import train_test_split\n",
    "from sklearn.metrics import mean_absolute_error\n",
    "from sklearn.preprocessing import MinMaxScaler\n",
    "from tensorflow.keras.models import Sequential\n",
    "from tensorflow.keras.layers import Dense\n",
    "from tensorflow.keras.optimizers import Adam\n",
    "import tensorflow as tf\n",
    "import math\n",
    "import numpy as np\n",
    "\n",
    " \n",
    "# define and fit the model\n",
    "def fit_model(X_train, y_train):\n",
    "    features = X_train.shape[1]\n",
    "    model = Sequential()\n",
    "    model.add(LSTM(50, input_shape=(train_X.shape[1], train_X.shape[2])))\n",
    "    model.add(Dense(1))\n",
    "    model.compile(loss='mse', optimizer='adam')\n",
    "    model.fit(X_train, y_train, verbose=0, epochs=50, batch_size=16)\n",
    "    return model\n",
    "\n",
    "\t\n",
    " \n",
    "# fit an ensemble of models\n",
    "def fit_ensemble(n_members, X_train, X_test, y_train, y_test):\n",
    "    ensemble = list()\n",
    "    for i in range(n_members):\n",
    "        model = fit_model(X_train, y_train) # define and fit the model on the training set\n",
    "        yhat = model.predict(X_test, verbose=0) # evaluate model on the test set\n",
    "        print(y_test.shape,yhat.shape)\n",
    "        mae = mean_absolute_error(y_test, yhat)\n",
    "        print('>%d, MAE: %.3f' % (i+1, mae))\n",
    "        ensemble.append(model) # store the model\n",
    "    return ensemble\n",
    "\n",
    "n_members = 20\n",
    "ensemble = list()\n",
    "for i in range(n_members):\n",
    "  model = fit_model(train_X, train_y) # define and fit the model on the training set\n",
    "  yhat = model.predict(test_X, verbose=0) # evaluate model on the test set\n",
    "  print(test_y,yhat.shape)\n",
    "  mae = mean_absolute_error(test_y, yhat)\n",
    "  print('>%d, MAE: %.3f' % (i+1, mae))\n",
    "  ensemble.append(model) # store the model\n",
    "    \n",
    "# make predictions with the ensemble and calculate a prediction interval\n",
    "def predict_with_pi(ensemble, X,n_members):\n",
    "    yhat = [model.predict(X, verbose=0) for model in ensemble]\n",
    "    yhat = asarray(yhat)\n",
    "    yhat = np.reshape(yhat,[n_members,1])\n",
    "    print(yhat.shape)\n",
    "    # yhat = scaled2.inverse_transform(yhat)\n",
    "    yhat = scaler2.inverse_transform(yhat) # invert scaling for actual\n",
    "    yhat = yhat[:,0] \n",
    "    interval = 1.96 * yhat.std()/math.sqrt(len(yhat))\n",
    "    lower, upper = yhat.mean() - interval, yhat.mean() + interval\n",
    "    return lower, yhat.mean(), upper\n",
    "\n",
    "n_members=len(ensemble)\n",
    "# make predictions with prediction interval\n",
    "newX = asarray([test_X[0, :]])\n",
    "lower, mean, upper = predict_with_pi(ensemble, newX,n_members)\n",
    "# print(test_y)\n",
    "# print('Point prediction: %.1f' % mean)\n",
    "print('95%% prediction interval: [%.1f, %.1f]' % (lower, upper))\n",
    "print('True value: %.1f' % test_y[0])\n",
    "outcome = {'Prediction': [mean],\n",
    "           '95%CI.Min': [lower],\n",
    "           '95%CI.Max': [upper]\n",
    "           }\n",
    "\n",
    "\n",
    "outcome2= pd.DataFrame(outcome)\n",
    "outcome2\n",
    "\n",
    "from os import path\n",
    "#save ensemble\n",
    "for i,i_model in enumerate(ensemble):\n",
    "    i_model.save(path.join(sheet, '2',f'ensemble_corr_{i}.h5'))\n",
    "#   i_model.save(f'BYX/1/ensemble_corr_{i}.h5')\n",
    "\n",
    "\n",
    "\n",
    "#save model\n",
    "# model.save(f'/1/model_corr.h5')\n",
    "model.save(path.join(sheet, '2','model_corr.h5'))\n"
   ]
  },
  {
   "cell_type": "markdown",
   "metadata": {
    "pycharm": {
     "name": "#%% md\n"
    }
   },
   "source": [
    "## 3m"
   ]
  },
  {
   "cell_type": "code",
   "execution_count": 5,
   "metadata": {
    "pycharm": {
     "name": "#%%\n"
    }
   },
   "outputs": [
    {
     "name": "stdout",
     "output_type": "stream",
     "text": [
      "18\n",
      "(37, 108)\n",
      "(1, 108)\n",
      "(36, 6, 18) (36, 1) (1, 6, 18) (1, 1)\n"
     ]
    },
    {
     "name": "stderr",
     "output_type": "stream",
     "text": [
      "2022-09-07 00:03:45.973514: I tensorflow/core/grappler/optimizers/custom_graph_optimizer_registry.cc:113] Plugin optimizer for device_type GPU is enabled.\n",
      "2022-09-07 00:03:46.247409: I tensorflow/core/grappler/optimizers/custom_graph_optimizer_registry.cc:113] Plugin optimizer for device_type GPU is enabled.\n",
      "2022-09-07 00:03:46.462662: I tensorflow/core/grappler/optimizers/custom_graph_optimizer_registry.cc:113] Plugin optimizer for device_type GPU is enabled.\n",
      "2022-09-07 00:03:48.876532: I tensorflow/core/grappler/optimizers/custom_graph_optimizer_registry.cc:113] Plugin optimizer for device_type GPU is enabled.\n",
      "2022-09-07 00:03:48.967410: I tensorflow/core/grappler/optimizers/custom_graph_optimizer_registry.cc:113] Plugin optimizer for device_type GPU is enabled.\n"
     ]
    },
    {
     "name": "stdout",
     "output_type": "stream",
     "text": [
      "[[0.9305556]] (1, 1)\n",
      ">1, MAE: 0.040\n"
     ]
    },
    {
     "name": "stderr",
     "output_type": "stream",
     "text": [
      "2022-09-07 00:03:50.314142: I tensorflow/core/grappler/optimizers/custom_graph_optimizer_registry.cc:113] Plugin optimizer for device_type GPU is enabled.\n",
      "2022-09-07 00:03:50.578258: I tensorflow/core/grappler/optimizers/custom_graph_optimizer_registry.cc:113] Plugin optimizer for device_type GPU is enabled.\n",
      "2022-09-07 00:03:50.770891: I tensorflow/core/grappler/optimizers/custom_graph_optimizer_registry.cc:113] Plugin optimizer for device_type GPU is enabled.\n",
      "2022-09-07 00:03:53.201426: I tensorflow/core/grappler/optimizers/custom_graph_optimizer_registry.cc:113] Plugin optimizer for device_type GPU is enabled.\n",
      "2022-09-07 00:03:53.290469: I tensorflow/core/grappler/optimizers/custom_graph_optimizer_registry.cc:113] Plugin optimizer for device_type GPU is enabled.\n"
     ]
    },
    {
     "name": "stdout",
     "output_type": "stream",
     "text": [
      "[[0.9305556]] (1, 1)\n",
      ">2, MAE: 0.072\n"
     ]
    },
    {
     "name": "stderr",
     "output_type": "stream",
     "text": [
      "2022-09-07 00:03:56.465720: I tensorflow/core/grappler/optimizers/custom_graph_optimizer_registry.cc:113] Plugin optimizer for device_type GPU is enabled.\n",
      "2022-09-07 00:03:56.748464: I tensorflow/core/grappler/optimizers/custom_graph_optimizer_registry.cc:113] Plugin optimizer for device_type GPU is enabled.\n",
      "2022-09-07 00:03:56.939577: I tensorflow/core/grappler/optimizers/custom_graph_optimizer_registry.cc:113] Plugin optimizer for device_type GPU is enabled.\n",
      "2022-09-07 00:03:59.380361: I tensorflow/core/grappler/optimizers/custom_graph_optimizer_registry.cc:113] Plugin optimizer for device_type GPU is enabled.\n",
      "2022-09-07 00:03:59.469291: I tensorflow/core/grappler/optimizers/custom_graph_optimizer_registry.cc:113] Plugin optimizer for device_type GPU is enabled.\n"
     ]
    },
    {
     "name": "stdout",
     "output_type": "stream",
     "text": [
      "[[0.9305556]] (1, 1)\n",
      ">3, MAE: 0.051\n"
     ]
    },
    {
     "name": "stderr",
     "output_type": "stream",
     "text": [
      "2022-09-07 00:04:00.797903: I tensorflow/core/grappler/optimizers/custom_graph_optimizer_registry.cc:113] Plugin optimizer for device_type GPU is enabled.\n",
      "2022-09-07 00:04:01.064648: I tensorflow/core/grappler/optimizers/custom_graph_optimizer_registry.cc:113] Plugin optimizer for device_type GPU is enabled.\n",
      "2022-09-07 00:04:01.257916: I tensorflow/core/grappler/optimizers/custom_graph_optimizer_registry.cc:113] Plugin optimizer for device_type GPU is enabled.\n",
      "2022-09-07 00:04:03.590978: I tensorflow/core/grappler/optimizers/custom_graph_optimizer_registry.cc:113] Plugin optimizer for device_type GPU is enabled.\n",
      "2022-09-07 00:04:03.681845: I tensorflow/core/grappler/optimizers/custom_graph_optimizer_registry.cc:113] Plugin optimizer for device_type GPU is enabled.\n"
     ]
    },
    {
     "name": "stdout",
     "output_type": "stream",
     "text": [
      "[[0.9305556]] (1, 1)\n",
      ">4, MAE: 0.095\n"
     ]
    },
    {
     "name": "stderr",
     "output_type": "stream",
     "text": [
      "2022-09-07 00:04:05.171740: I tensorflow/core/grappler/optimizers/custom_graph_optimizer_registry.cc:113] Plugin optimizer for device_type GPU is enabled.\n",
      "2022-09-07 00:04:05.442797: I tensorflow/core/grappler/optimizers/custom_graph_optimizer_registry.cc:113] Plugin optimizer for device_type GPU is enabled.\n",
      "2022-09-07 00:04:05.635142: I tensorflow/core/grappler/optimizers/custom_graph_optimizer_registry.cc:113] Plugin optimizer for device_type GPU is enabled.\n",
      "2022-09-07 00:04:07.958179: I tensorflow/core/grappler/optimizers/custom_graph_optimizer_registry.cc:113] Plugin optimizer for device_type GPU is enabled.\n",
      "2022-09-07 00:04:08.046508: I tensorflow/core/grappler/optimizers/custom_graph_optimizer_registry.cc:113] Plugin optimizer for device_type GPU is enabled.\n"
     ]
    },
    {
     "name": "stdout",
     "output_type": "stream",
     "text": [
      "[[0.9305556]] (1, 1)\n",
      ">5, MAE: 0.043\n"
     ]
    },
    {
     "name": "stderr",
     "output_type": "stream",
     "text": [
      "2022-09-07 00:04:09.363508: I tensorflow/core/grappler/optimizers/custom_graph_optimizer_registry.cc:113] Plugin optimizer for device_type GPU is enabled.\n",
      "2022-09-07 00:04:09.629981: I tensorflow/core/grappler/optimizers/custom_graph_optimizer_registry.cc:113] Plugin optimizer for device_type GPU is enabled.\n",
      "2022-09-07 00:04:09.821065: I tensorflow/core/grappler/optimizers/custom_graph_optimizer_registry.cc:113] Plugin optimizer for device_type GPU is enabled.\n",
      "2022-09-07 00:04:12.159940: I tensorflow/core/grappler/optimizers/custom_graph_optimizer_registry.cc:113] Plugin optimizer for device_type GPU is enabled.\n",
      "2022-09-07 00:04:12.250397: I tensorflow/core/grappler/optimizers/custom_graph_optimizer_registry.cc:113] Plugin optimizer for device_type GPU is enabled.\n"
     ]
    },
    {
     "name": "stdout",
     "output_type": "stream",
     "text": [
      "[[0.9305556]] (1, 1)\n",
      ">6, MAE: 0.060\n"
     ]
    },
    {
     "name": "stderr",
     "output_type": "stream",
     "text": [
      "2022-09-07 00:04:13.574113: I tensorflow/core/grappler/optimizers/custom_graph_optimizer_registry.cc:113] Plugin optimizer for device_type GPU is enabled.\n",
      "2022-09-07 00:04:13.842589: I tensorflow/core/grappler/optimizers/custom_graph_optimizer_registry.cc:113] Plugin optimizer for device_type GPU is enabled.\n",
      "2022-09-07 00:04:14.033914: I tensorflow/core/grappler/optimizers/custom_graph_optimizer_registry.cc:113] Plugin optimizer for device_type GPU is enabled.\n",
      "2022-09-07 00:04:16.534766: I tensorflow/core/grappler/optimizers/custom_graph_optimizer_registry.cc:113] Plugin optimizer for device_type GPU is enabled.\n",
      "2022-09-07 00:04:16.626128: I tensorflow/core/grappler/optimizers/custom_graph_optimizer_registry.cc:113] Plugin optimizer for device_type GPU is enabled.\n"
     ]
    },
    {
     "name": "stdout",
     "output_type": "stream",
     "text": [
      "[[0.9305556]] (1, 1)\n",
      ">7, MAE: 0.061\n"
     ]
    },
    {
     "name": "stderr",
     "output_type": "stream",
     "text": [
      "2022-09-07 00:04:17.943546: I tensorflow/core/grappler/optimizers/custom_graph_optimizer_registry.cc:113] Plugin optimizer for device_type GPU is enabled.\n",
      "2022-09-07 00:04:18.208769: I tensorflow/core/grappler/optimizers/custom_graph_optimizer_registry.cc:113] Plugin optimizer for device_type GPU is enabled.\n",
      "2022-09-07 00:04:18.402063: I tensorflow/core/grappler/optimizers/custom_graph_optimizer_registry.cc:113] Plugin optimizer for device_type GPU is enabled.\n",
      "2022-09-07 00:04:20.732110: I tensorflow/core/grappler/optimizers/custom_graph_optimizer_registry.cc:113] Plugin optimizer for device_type GPU is enabled.\n",
      "2022-09-07 00:04:20.820799: I tensorflow/core/grappler/optimizers/custom_graph_optimizer_registry.cc:113] Plugin optimizer for device_type GPU is enabled.\n"
     ]
    },
    {
     "name": "stdout",
     "output_type": "stream",
     "text": [
      "[[0.9305556]] (1, 1)\n",
      ">8, MAE: 0.038\n"
     ]
    },
    {
     "name": "stderr",
     "output_type": "stream",
     "text": [
      "2022-09-07 00:04:22.129122: I tensorflow/core/grappler/optimizers/custom_graph_optimizer_registry.cc:113] Plugin optimizer for device_type GPU is enabled.\n",
      "2022-09-07 00:04:22.395749: I tensorflow/core/grappler/optimizers/custom_graph_optimizer_registry.cc:113] Plugin optimizer for device_type GPU is enabled.\n",
      "2022-09-07 00:04:22.587774: I tensorflow/core/grappler/optimizers/custom_graph_optimizer_registry.cc:113] Plugin optimizer for device_type GPU is enabled.\n",
      "2022-09-07 00:04:24.928007: I tensorflow/core/grappler/optimizers/custom_graph_optimizer_registry.cc:113] Plugin optimizer for device_type GPU is enabled.\n",
      "2022-09-07 00:04:25.018638: I tensorflow/core/grappler/optimizers/custom_graph_optimizer_registry.cc:113] Plugin optimizer for device_type GPU is enabled.\n"
     ]
    },
    {
     "name": "stdout",
     "output_type": "stream",
     "text": [
      "[[0.9305556]] (1, 1)\n",
      ">9, MAE: 0.066\n"
     ]
    },
    {
     "name": "stderr",
     "output_type": "stream",
     "text": [
      "2022-09-07 00:04:26.331606: I tensorflow/core/grappler/optimizers/custom_graph_optimizer_registry.cc:113] Plugin optimizer for device_type GPU is enabled.\n",
      "2022-09-07 00:04:26.605889: I tensorflow/core/grappler/optimizers/custom_graph_optimizer_registry.cc:113] Plugin optimizer for device_type GPU is enabled.\n",
      "2022-09-07 00:04:26.800061: I tensorflow/core/grappler/optimizers/custom_graph_optimizer_registry.cc:113] Plugin optimizer for device_type GPU is enabled.\n",
      "2022-09-07 00:04:29.399454: I tensorflow/core/grappler/optimizers/custom_graph_optimizer_registry.cc:113] Plugin optimizer for device_type GPU is enabled.\n",
      "2022-09-07 00:04:29.490058: I tensorflow/core/grappler/optimizers/custom_graph_optimizer_registry.cc:113] Plugin optimizer for device_type GPU is enabled.\n"
     ]
    },
    {
     "name": "stdout",
     "output_type": "stream",
     "text": [
      "[[0.9305556]] (1, 1)\n",
      ">10, MAE: 0.031\n"
     ]
    },
    {
     "name": "stderr",
     "output_type": "stream",
     "text": [
      "2022-09-07 00:04:30.824112: I tensorflow/core/grappler/optimizers/custom_graph_optimizer_registry.cc:113] Plugin optimizer for device_type GPU is enabled.\n",
      "2022-09-07 00:04:31.093311: I tensorflow/core/grappler/optimizers/custom_graph_optimizer_registry.cc:113] Plugin optimizer for device_type GPU is enabled.\n",
      "2022-09-07 00:04:31.288092: I tensorflow/core/grappler/optimizers/custom_graph_optimizer_registry.cc:113] Plugin optimizer for device_type GPU is enabled.\n",
      "2022-09-07 00:04:33.633285: I tensorflow/core/grappler/optimizers/custom_graph_optimizer_registry.cc:113] Plugin optimizer for device_type GPU is enabled.\n",
      "2022-09-07 00:04:33.722969: I tensorflow/core/grappler/optimizers/custom_graph_optimizer_registry.cc:113] Plugin optimizer for device_type GPU is enabled.\n"
     ]
    },
    {
     "name": "stdout",
     "output_type": "stream",
     "text": [
      "[[0.9305556]] (1, 1)\n",
      ">11, MAE: 0.061\n"
     ]
    },
    {
     "name": "stderr",
     "output_type": "stream",
     "text": [
      "2022-09-07 00:04:35.057062: I tensorflow/core/grappler/optimizers/custom_graph_optimizer_registry.cc:113] Plugin optimizer for device_type GPU is enabled.\n",
      "2022-09-07 00:04:35.324459: I tensorflow/core/grappler/optimizers/custom_graph_optimizer_registry.cc:113] Plugin optimizer for device_type GPU is enabled.\n",
      "2022-09-07 00:04:35.519368: I tensorflow/core/grappler/optimizers/custom_graph_optimizer_registry.cc:113] Plugin optimizer for device_type GPU is enabled.\n",
      "2022-09-07 00:04:37.867225: I tensorflow/core/grappler/optimizers/custom_graph_optimizer_registry.cc:113] Plugin optimizer for device_type GPU is enabled.\n",
      "2022-09-07 00:04:37.957109: I tensorflow/core/grappler/optimizers/custom_graph_optimizer_registry.cc:113] Plugin optimizer for device_type GPU is enabled.\n"
     ]
    },
    {
     "name": "stdout",
     "output_type": "stream",
     "text": [
      "[[0.9305556]] (1, 1)\n",
      ">12, MAE: 0.064\n"
     ]
    },
    {
     "name": "stderr",
     "output_type": "stream",
     "text": [
      "2022-09-07 00:04:39.294267: I tensorflow/core/grappler/optimizers/custom_graph_optimizer_registry.cc:113] Plugin optimizer for device_type GPU is enabled.\n",
      "2022-09-07 00:04:39.568339: I tensorflow/core/grappler/optimizers/custom_graph_optimizer_registry.cc:113] Plugin optimizer for device_type GPU is enabled.\n",
      "2022-09-07 00:04:39.758797: I tensorflow/core/grappler/optimizers/custom_graph_optimizer_registry.cc:113] Plugin optimizer for device_type GPU is enabled.\n",
      "2022-09-07 00:04:42.102230: I tensorflow/core/grappler/optimizers/custom_graph_optimizer_registry.cc:113] Plugin optimizer for device_type GPU is enabled.\n",
      "2022-09-07 00:04:42.191157: I tensorflow/core/grappler/optimizers/custom_graph_optimizer_registry.cc:113] Plugin optimizer for device_type GPU is enabled.\n"
     ]
    },
    {
     "name": "stdout",
     "output_type": "stream",
     "text": [
      "[[0.9305556]] (1, 1)\n",
      ">13, MAE: 0.036\n"
     ]
    },
    {
     "name": "stderr",
     "output_type": "stream",
     "text": [
      "2022-09-07 00:04:43.806540: I tensorflow/core/grappler/optimizers/custom_graph_optimizer_registry.cc:113] Plugin optimizer for device_type GPU is enabled.\n",
      "2022-09-07 00:04:44.074591: I tensorflow/core/grappler/optimizers/custom_graph_optimizer_registry.cc:113] Plugin optimizer for device_type GPU is enabled.\n",
      "2022-09-07 00:04:44.267088: I tensorflow/core/grappler/optimizers/custom_graph_optimizer_registry.cc:113] Plugin optimizer for device_type GPU is enabled.\n",
      "2022-09-07 00:04:46.593911: I tensorflow/core/grappler/optimizers/custom_graph_optimizer_registry.cc:113] Plugin optimizer for device_type GPU is enabled.\n",
      "2022-09-07 00:04:46.683806: I tensorflow/core/grappler/optimizers/custom_graph_optimizer_registry.cc:113] Plugin optimizer for device_type GPU is enabled.\n"
     ]
    },
    {
     "name": "stdout",
     "output_type": "stream",
     "text": [
      "[[0.9305556]] (1, 1)\n",
      ">14, MAE: 0.070\n"
     ]
    },
    {
     "name": "stderr",
     "output_type": "stream",
     "text": [
      "2022-09-07 00:04:48.036396: I tensorflow/core/grappler/optimizers/custom_graph_optimizer_registry.cc:113] Plugin optimizer for device_type GPU is enabled.\n",
      "2022-09-07 00:04:48.306161: I tensorflow/core/grappler/optimizers/custom_graph_optimizer_registry.cc:113] Plugin optimizer for device_type GPU is enabled.\n",
      "2022-09-07 00:04:48.500823: I tensorflow/core/grappler/optimizers/custom_graph_optimizer_registry.cc:113] Plugin optimizer for device_type GPU is enabled.\n",
      "2022-09-07 00:04:50.844208: I tensorflow/core/grappler/optimizers/custom_graph_optimizer_registry.cc:113] Plugin optimizer for device_type GPU is enabled.\n",
      "2022-09-07 00:04:50.934203: I tensorflow/core/grappler/optimizers/custom_graph_optimizer_registry.cc:113] Plugin optimizer for device_type GPU is enabled.\n"
     ]
    },
    {
     "name": "stdout",
     "output_type": "stream",
     "text": [
      "[[0.9305556]] (1, 1)\n",
      ">15, MAE: 0.069\n"
     ]
    },
    {
     "name": "stderr",
     "output_type": "stream",
     "text": [
      "2022-09-07 00:04:52.268992: I tensorflow/core/grappler/optimizers/custom_graph_optimizer_registry.cc:113] Plugin optimizer for device_type GPU is enabled.\n",
      "2022-09-07 00:04:52.538892: I tensorflow/core/grappler/optimizers/custom_graph_optimizer_registry.cc:113] Plugin optimizer for device_type GPU is enabled.\n",
      "2022-09-07 00:04:52.728693: I tensorflow/core/grappler/optimizers/custom_graph_optimizer_registry.cc:113] Plugin optimizer for device_type GPU is enabled.\n",
      "2022-09-07 00:04:55.039121: I tensorflow/core/grappler/optimizers/custom_graph_optimizer_registry.cc:113] Plugin optimizer for device_type GPU is enabled.\n",
      "2022-09-07 00:04:55.133775: I tensorflow/core/grappler/optimizers/custom_graph_optimizer_registry.cc:113] Plugin optimizer for device_type GPU is enabled.\n"
     ]
    },
    {
     "name": "stdout",
     "output_type": "stream",
     "text": [
      "[[0.9305556]] (1, 1)\n",
      ">16, MAE: 0.057\n"
     ]
    },
    {
     "name": "stderr",
     "output_type": "stream",
     "text": [
      "2022-09-07 00:04:56.787687: I tensorflow/core/grappler/optimizers/custom_graph_optimizer_registry.cc:113] Plugin optimizer for device_type GPU is enabled.\n",
      "2022-09-07 00:04:57.057498: I tensorflow/core/grappler/optimizers/custom_graph_optimizer_registry.cc:113] Plugin optimizer for device_type GPU is enabled.\n",
      "2022-09-07 00:04:57.246928: I tensorflow/core/grappler/optimizers/custom_graph_optimizer_registry.cc:113] Plugin optimizer for device_type GPU is enabled.\n",
      "2022-09-07 00:04:59.580798: I tensorflow/core/grappler/optimizers/custom_graph_optimizer_registry.cc:113] Plugin optimizer for device_type GPU is enabled.\n",
      "2022-09-07 00:04:59.669161: I tensorflow/core/grappler/optimizers/custom_graph_optimizer_registry.cc:113] Plugin optimizer for device_type GPU is enabled.\n"
     ]
    },
    {
     "name": "stdout",
     "output_type": "stream",
     "text": [
      "[[0.9305556]] (1, 1)\n",
      ">17, MAE: 0.050\n"
     ]
    },
    {
     "name": "stderr",
     "output_type": "stream",
     "text": [
      "2022-09-07 00:05:00.991661: I tensorflow/core/grappler/optimizers/custom_graph_optimizer_registry.cc:113] Plugin optimizer for device_type GPU is enabled.\n",
      "2022-09-07 00:05:01.261945: I tensorflow/core/grappler/optimizers/custom_graph_optimizer_registry.cc:113] Plugin optimizer for device_type GPU is enabled.\n",
      "2022-09-07 00:05:01.452664: I tensorflow/core/grappler/optimizers/custom_graph_optimizer_registry.cc:113] Plugin optimizer for device_type GPU is enabled.\n",
      "2022-09-07 00:05:03.773167: I tensorflow/core/grappler/optimizers/custom_graph_optimizer_registry.cc:113] Plugin optimizer for device_type GPU is enabled.\n",
      "2022-09-07 00:05:03.862858: I tensorflow/core/grappler/optimizers/custom_graph_optimizer_registry.cc:113] Plugin optimizer for device_type GPU is enabled.\n"
     ]
    },
    {
     "name": "stdout",
     "output_type": "stream",
     "text": [
      "[[0.9305556]] (1, 1)\n",
      ">18, MAE: 0.066\n"
     ]
    },
    {
     "name": "stderr",
     "output_type": "stream",
     "text": [
      "2022-09-07 00:05:05.184448: I tensorflow/core/grappler/optimizers/custom_graph_optimizer_registry.cc:113] Plugin optimizer for device_type GPU is enabled.\n",
      "2022-09-07 00:05:05.455672: I tensorflow/core/grappler/optimizers/custom_graph_optimizer_registry.cc:113] Plugin optimizer for device_type GPU is enabled.\n",
      "2022-09-07 00:05:05.640046: I tensorflow/core/grappler/optimizers/custom_graph_optimizer_registry.cc:113] Plugin optimizer for device_type GPU is enabled.\n",
      "2022-09-07 00:05:07.959694: I tensorflow/core/grappler/optimizers/custom_graph_optimizer_registry.cc:113] Plugin optimizer for device_type GPU is enabled.\n",
      "2022-09-07 00:05:08.052139: I tensorflow/core/grappler/optimizers/custom_graph_optimizer_registry.cc:113] Plugin optimizer for device_type GPU is enabled.\n"
     ]
    },
    {
     "name": "stdout",
     "output_type": "stream",
     "text": [
      "[[0.9305556]] (1, 1)\n",
      ">19, MAE: 0.087\n"
     ]
    },
    {
     "name": "stderr",
     "output_type": "stream",
     "text": [
      "2022-09-07 00:05:09.384893: I tensorflow/core/grappler/optimizers/custom_graph_optimizer_registry.cc:113] Plugin optimizer for device_type GPU is enabled.\n",
      "2022-09-07 00:05:09.669861: I tensorflow/core/grappler/optimizers/custom_graph_optimizer_registry.cc:113] Plugin optimizer for device_type GPU is enabled.\n",
      "2022-09-07 00:05:09.856651: I tensorflow/core/grappler/optimizers/custom_graph_optimizer_registry.cc:113] Plugin optimizer for device_type GPU is enabled.\n",
      "2022-09-07 00:05:12.162688: I tensorflow/core/grappler/optimizers/custom_graph_optimizer_registry.cc:113] Plugin optimizer for device_type GPU is enabled.\n",
      "2022-09-07 00:05:12.257003: I tensorflow/core/grappler/optimizers/custom_graph_optimizer_registry.cc:113] Plugin optimizer for device_type GPU is enabled.\n"
     ]
    },
    {
     "name": "stdout",
     "output_type": "stream",
     "text": [
      "[[0.9305556]] (1, 1)\n",
      ">20, MAE: 0.068\n",
      "(20, 1)\n",
      "95% prediction interval: [670.4, 676.5]\n",
      "True value: 0.9\n"
     ]
    }
   ],
   "source": [
    "from math import sqrt\n",
    "from numpy import concatenate\n",
    "from matplotlib import pyplot\n",
    "import pandas as pd\n",
    "from pandas import read_csv\n",
    "from pandas import DataFrame\n",
    "from pandas import concat\n",
    "from sklearn.preprocessing import MinMaxScaler\n",
    "from sklearn.preprocessing import LabelEncoder\n",
    "from sklearn.metrics import mean_squared_error\n",
    "from keras.models import Sequential\n",
    "from keras.layers import Dense\n",
    "from keras.layers import LSTM\n",
    "\n",
    "import io\n",
    "import datetime\n",
    "\n",
    "# sheet='BYX'\n",
    "df= pd.read_excel(r'../Logical Ports Prediction.xlsx',sheet_name=sheet,header=0)\n",
    "# df= pd.read_excel(r'Logical Ports Prediction.xlsx',sheet_name='C2',header=0)\n",
    "df.dropna(subset=['Date'],inplace=True)\n",
    "\n",
    "from datetime import datetime as dt\n",
    "last_date=df.loc[:,'Date']\n",
    "last_date=last_date.iat[-1]\n",
    "last_date=last_date.strftime('%Y-%m-%d')\n",
    "last_date\n",
    "\n",
    "df=df[df['Date']<=last_date].reset_index(drop=True)\n",
    "df.tail()\n",
    "df['Year'] = pd.to_datetime(df['Date']).dt.strftime('%Y')\n",
    "df['Month'] = pd.to_datetime(df['Date']).dt.strftime('%m')\n",
    "\n",
    "df.drop(['Date','Logical Ports','Asset'],axis=1,inplace=True)\n",
    "first_column = df.pop('Year')\n",
    "df.insert(0, 'Year', first_column)\n",
    "second_column = df.pop('Month')\n",
    "df.insert(1, 'Month', second_column)\n",
    "first_column = df.pop('PortQyt')\n",
    "df.insert(0, 'PortQyt', first_column)\n",
    "\n",
    "df.shape\n",
    "print(len(list(df)[:]))\n",
    "# # df=df.drop(['D&J_Close30d_Avg.','D&J_Close30d_Min','Monthly Real GDP Index','TCV','FEDFUNDS','Unemployement Rate','SPX_Price30d_Std.','D&J_Close30d_Std.','VIX_Close30d_Max.','VIX_Close30d_Avg.','VIX_Close30d_Std.','VIX_Close30d_Min.'],axis=1)\n",
    "\n",
    "\n",
    "values=df.values\n",
    "#\n",
    "# import matplotlib.pyplot as pp\n",
    "# pp.plot(values[:,0])\n",
    "# pp.show()\n",
    "\n",
    "# encoder = LabelEncoder()\n",
    "# # # print(values[:,0]) #PortQyt Value\n",
    "# values[:,0]=encoder.fit_transform(values[:,0])\n",
    "# print(values[:,0])\n",
    "\n",
    "# import matplotlib.pyplot as pp\n",
    "# pp.plot(values[:,0])\n",
    "# pp.show()\n",
    "\n",
    "# # print(values[:,4].shape)\n",
    "# # print(values[:,4])\n",
    "values = values.astype('float32')\n",
    "\n",
    "# specify the number of lag hours\n",
    "n_months = 5\n",
    "n_features = len(list(df)[:])\n",
    "\n",
    "#Normalize the first feature\n",
    "from sklearn.preprocessing import StandardScaler\n",
    "scaler2 = MinMaxScaler(feature_range=(0, 1)).fit(values[:,0:1])\n",
    "# train_y = scaler2.transform(values[:,-n_features])\n",
    "# scaled2 = scaler2.fit_transform(values) #try\n",
    "\n",
    "\n",
    "# # normalize features\n",
    "scaler = MinMaxScaler(feature_range=(0, 1))\n",
    "scaled = scaler.fit_transform(values)\n",
    "\n",
    "\n",
    "# len(list(dataset.columns))-3\n",
    "\n",
    "# convert series to supervised learning\n",
    "def series_to_supervised(data, n_in=1, n_out=1, dropnan=True):\n",
    "\tn_vars = 1 if type(data) is list else data.shape[1]\n",
    "\tdf = DataFrame(data)\n",
    "\tcols, names = list(), list()\n",
    "\t# input sequence (t-n, ... t-1)\n",
    "\tfor i in range(n_in, 0, -1):\n",
    "\t\tcols.append(df.shift(i))\n",
    "\t\tnames += [('var%d(t-%d)' % (j+1, i)) for j in range(n_vars)]\n",
    "\t# forecast sequence (t, t+1, ... t+n)\n",
    "\tfor i in range(0, n_out):\n",
    "\t\tcols.append(df.shift(-i))\n",
    "\t\tif i == 0:\n",
    "\t\t\tnames += [('var%d(t)' % (j+1)) for j in range(n_vars)]\n",
    "\t\telse:\n",
    "\t\t\tnames += [('var%d(t+%d)' % (j+1, i)) for j in range(n_vars)]\n",
    "\t# put it all together\n",
    "\tagg = concat(cols, axis=1)\n",
    "\tagg.columns = names\n",
    "\t# drop rows with NaN values\n",
    "\tif dropnan:\n",
    "\t\tagg.dropna(inplace=True)\n",
    "\treturn agg\n",
    "\n",
    "# frame as supervised learning\n",
    "reframed = series_to_supervised(scaled, n_months, 1)\n",
    "# print(reframed.shape)\n",
    "\n",
    "\n",
    "# print(reframed.tail())\n",
    "\n",
    "\n",
    "\n",
    "\n",
    "\n",
    "# split into train and test sets\n",
    "values = reframed.values\n",
    "n_train_months = 36\n",
    "train = values[:n_train_months, :]\n",
    "test = values[n_train_months:, :]\n",
    "print(values.shape)\n",
    "# split into input and outputs\n",
    "n_obs = (n_months+1)* n_features #the following fourth month\n",
    "train.shape\n",
    "train_X, train_y = train[:, :n_obs], train[:, -n_features*(1+3):-n_features*(1+3)+1] \n",
    "test_X, test_y = test[:, :n_obs], test[:, -n_features*(1+3):-n_features*(1+3)+1]\n",
    "print(test.shape)\n",
    "\n",
    "\n",
    "# import matplotlib.pyplot as pp\n",
    "# pp.plot(train_y)\n",
    "# pp.show()\n",
    "\n",
    "train_X = train_X.reshape((train_X.shape[0], (n_months+1), n_features))\n",
    "test_X = test_X.reshape((test_X.shape[0], (n_months+1), n_features))\n",
    "print(train_X.shape, train_y.shape, test_X.shape, test_y.shape)\n",
    "\n",
    "# prediction interval for mlps on the housing regression dataset\n",
    "from numpy import asarray\n",
    "from pandas import read_csv\n",
    "from sklearn.model_selection import train_test_split\n",
    "from sklearn.metrics import mean_absolute_error\n",
    "from sklearn.preprocessing import MinMaxScaler\n",
    "from tensorflow.keras.models import Sequential\n",
    "from tensorflow.keras.layers import Dense\n",
    "from tensorflow.keras.optimizers import Adam\n",
    "import tensorflow as tf\n",
    "import math\n",
    "import numpy as np\n",
    "\n",
    " \n",
    "# define and fit the model\n",
    "def fit_model(X_train, y_train):\n",
    "    features = X_train.shape[1]\n",
    "    model = Sequential()\n",
    "    model.add(LSTM(50, input_shape=(train_X.shape[1], train_X.shape[2])))\n",
    "    model.add(Dense(1))\n",
    "    model.compile(loss='mse', optimizer='adam')\n",
    "    model.fit(X_train, y_train, verbose=0, epochs=50, batch_size=16)\n",
    "    return model\n",
    "\n",
    "\t\n",
    " \n",
    "# fit an ensemble of models\n",
    "def fit_ensemble(n_members, X_train, X_test, y_train, y_test):\n",
    "    ensemble = list()\n",
    "    for i in range(n_members):\n",
    "        model = fit_model(X_train, y_train) # define and fit the model on the training set\n",
    "        yhat = model.predict(X_test, verbose=0) # evaluate model on the test set\n",
    "        print(y_test.shape,yhat.shape)\n",
    "        mae = mean_absolute_error(y_test, yhat)\n",
    "        print('>%d, MAE: %.3f' % (i+1, mae))\n",
    "        ensemble.append(model) # store the model\n",
    "    return ensemble\n",
    "\n",
    "n_members = 20\n",
    "ensemble = list()\n",
    "for i in range(n_members):\n",
    "  model = fit_model(train_X, train_y) # define and fit the model on the training set\n",
    "  yhat = model.predict(test_X, verbose=0) # evaluate model on the test set\n",
    "  print(test_y,yhat.shape)\n",
    "  mae = mean_absolute_error(test_y, yhat)\n",
    "  print('>%d, MAE: %.3f' % (i+1, mae))\n",
    "  ensemble.append(model) # store the model\n",
    "    \n",
    "# make predictions with the ensemble and calculate a prediction interval\n",
    "def predict_with_pi(ensemble, X,n_members):\n",
    "    yhat = [model.predict(X, verbose=0) for model in ensemble]\n",
    "    yhat = asarray(yhat)\n",
    "    yhat = np.reshape(yhat,[n_members,1])\n",
    "    print(yhat.shape)\n",
    "    # yhat = scaled2.inverse_transform(yhat)\n",
    "    yhat = scaler2.inverse_transform(yhat) # invert scaling for actual\n",
    "    yhat = yhat[:,0] \n",
    "    interval = 1.96 * yhat.std()/math.sqrt(len(yhat))\n",
    "    lower, upper = yhat.mean() - interval, yhat.mean() + interval\n",
    "    return lower, yhat.mean(), upper\n",
    "\n",
    "n_members=len(ensemble)\n",
    "# make predictions with prediction interval\n",
    "newX = asarray([test_X[0, :]])\n",
    "lower, mean, upper = predict_with_pi(ensemble, newX,n_members)\n",
    "# print(test_y)\n",
    "# print('Point prediction: %.1f' % mean)\n",
    "print('95%% prediction interval: [%.1f, %.1f]' % (lower, upper))\n",
    "print('True value: %.1f' % test_y[0])\n",
    "outcome = {'Prediction': [mean],\n",
    "           '95%CI.Min': [lower],\n",
    "           '95%CI.Max': [upper]\n",
    "           }\n",
    "\n",
    "\n",
    "outcome3= pd.DataFrame(outcome)\n",
    "outcome3\n",
    "\n",
    "from os import path\n",
    "#save ensemble\n",
    "for i,i_model in enumerate(ensemble):\n",
    "    i_model.save(path.join(sheet, '3',f'ensemble_corr_{i}.h5'))\n",
    "#   i_model.save(f'BYX/1/ensemble_corr_{i}.h5')\n",
    "\n",
    "\n",
    "\n",
    "#save model\n",
    "# model.save(f'/1/model_corr.h5')\n",
    "model.save(path.join(sheet, '3','model_corr.h5'))\n"
   ]
  },
  {
   "cell_type": "markdown",
   "metadata": {
    "pycharm": {
     "name": "#%% md\n"
    }
   },
   "source": [
    "## 4m"
   ]
  },
  {
   "cell_type": "code",
   "execution_count": 6,
   "metadata": {
    "pycharm": {
     "name": "#%%\n"
    }
   },
   "outputs": [
    {
     "name": "stdout",
     "output_type": "stream",
     "text": [
      "18\n",
      "(37, 108)\n",
      "(1, 108)\n",
      "(36, 6, 18) (36, 1) (1, 6, 18) (1, 1)\n"
     ]
    },
    {
     "name": "stderr",
     "output_type": "stream",
     "text": [
      "2022-09-07 00:05:16.713955: I tensorflow/core/grappler/optimizers/custom_graph_optimizer_registry.cc:113] Plugin optimizer for device_type GPU is enabled.\n",
      "2022-09-07 00:05:17.031963: I tensorflow/core/grappler/optimizers/custom_graph_optimizer_registry.cc:113] Plugin optimizer for device_type GPU is enabled.\n",
      "2022-09-07 00:05:17.232750: I tensorflow/core/grappler/optimizers/custom_graph_optimizer_registry.cc:113] Plugin optimizer for device_type GPU is enabled.\n",
      "2022-09-07 00:05:19.713855: I tensorflow/core/grappler/optimizers/custom_graph_optimizer_registry.cc:113] Plugin optimizer for device_type GPU is enabled.\n",
      "2022-09-07 00:05:19.801678: I tensorflow/core/grappler/optimizers/custom_graph_optimizer_registry.cc:113] Plugin optimizer for device_type GPU is enabled.\n"
     ]
    },
    {
     "name": "stdout",
     "output_type": "stream",
     "text": [
      "[[0.9768518]] (1, 1)\n",
      ">1, MAE: 0.048\n"
     ]
    },
    {
     "name": "stderr",
     "output_type": "stream",
     "text": [
      "2022-09-07 00:05:21.130293: I tensorflow/core/grappler/optimizers/custom_graph_optimizer_registry.cc:113] Plugin optimizer for device_type GPU is enabled.\n",
      "2022-09-07 00:05:21.399549: I tensorflow/core/grappler/optimizers/custom_graph_optimizer_registry.cc:113] Plugin optimizer for device_type GPU is enabled.\n",
      "2022-09-07 00:05:21.611484: I tensorflow/core/grappler/optimizers/custom_graph_optimizer_registry.cc:113] Plugin optimizer for device_type GPU is enabled.\n",
      "2022-09-07 00:05:23.956969: I tensorflow/core/grappler/optimizers/custom_graph_optimizer_registry.cc:113] Plugin optimizer for device_type GPU is enabled.\n",
      "2022-09-07 00:05:24.044036: I tensorflow/core/grappler/optimizers/custom_graph_optimizer_registry.cc:113] Plugin optimizer for device_type GPU is enabled.\n"
     ]
    },
    {
     "name": "stdout",
     "output_type": "stream",
     "text": [
      "[[0.9768518]] (1, 1)\n",
      ">2, MAE: 0.079\n"
     ]
    },
    {
     "name": "stderr",
     "output_type": "stream",
     "text": [
      "2022-09-07 00:05:25.507069: I tensorflow/core/grappler/optimizers/custom_graph_optimizer_registry.cc:113] Plugin optimizer for device_type GPU is enabled.\n",
      "2022-09-07 00:05:25.776062: I tensorflow/core/grappler/optimizers/custom_graph_optimizer_registry.cc:113] Plugin optimizer for device_type GPU is enabled.\n",
      "2022-09-07 00:05:25.972069: I tensorflow/core/grappler/optimizers/custom_graph_optimizer_registry.cc:113] Plugin optimizer for device_type GPU is enabled.\n",
      "2022-09-07 00:05:28.298769: I tensorflow/core/grappler/optimizers/custom_graph_optimizer_registry.cc:113] Plugin optimizer for device_type GPU is enabled.\n",
      "2022-09-07 00:05:28.385532: I tensorflow/core/grappler/optimizers/custom_graph_optimizer_registry.cc:113] Plugin optimizer for device_type GPU is enabled.\n"
     ]
    },
    {
     "name": "stdout",
     "output_type": "stream",
     "text": [
      "[[0.9768518]] (1, 1)\n",
      ">3, MAE: 0.031\n"
     ]
    },
    {
     "name": "stderr",
     "output_type": "stream",
     "text": [
      "2022-09-07 00:05:29.691359: I tensorflow/core/grappler/optimizers/custom_graph_optimizer_registry.cc:113] Plugin optimizer for device_type GPU is enabled.\n",
      "2022-09-07 00:05:29.957310: I tensorflow/core/grappler/optimizers/custom_graph_optimizer_registry.cc:113] Plugin optimizer for device_type GPU is enabled.\n",
      "2022-09-07 00:05:30.130883: I tensorflow/core/grappler/optimizers/custom_graph_optimizer_registry.cc:113] Plugin optimizer for device_type GPU is enabled.\n",
      "2022-09-07 00:05:32.436668: I tensorflow/core/grappler/optimizers/custom_graph_optimizer_registry.cc:113] Plugin optimizer for device_type GPU is enabled.\n",
      "2022-09-07 00:05:32.524799: I tensorflow/core/grappler/optimizers/custom_graph_optimizer_registry.cc:113] Plugin optimizer for device_type GPU is enabled.\n"
     ]
    },
    {
     "name": "stdout",
     "output_type": "stream",
     "text": [
      "[[0.9768518]] (1, 1)\n",
      ">4, MAE: 0.021\n"
     ]
    },
    {
     "name": "stderr",
     "output_type": "stream",
     "text": [
      "2022-09-07 00:05:34.003210: I tensorflow/core/grappler/optimizers/custom_graph_optimizer_registry.cc:113] Plugin optimizer for device_type GPU is enabled.\n",
      "2022-09-07 00:05:34.278302: I tensorflow/core/grappler/optimizers/custom_graph_optimizer_registry.cc:113] Plugin optimizer for device_type GPU is enabled.\n",
      "2022-09-07 00:05:34.462138: I tensorflow/core/grappler/optimizers/custom_graph_optimizer_registry.cc:113] Plugin optimizer for device_type GPU is enabled.\n",
      "2022-09-07 00:05:36.792924: I tensorflow/core/grappler/optimizers/custom_graph_optimizer_registry.cc:113] Plugin optimizer for device_type GPU is enabled.\n",
      "2022-09-07 00:05:36.882841: I tensorflow/core/grappler/optimizers/custom_graph_optimizer_registry.cc:113] Plugin optimizer for device_type GPU is enabled.\n"
     ]
    },
    {
     "name": "stdout",
     "output_type": "stream",
     "text": [
      "[[0.9768518]] (1, 1)\n",
      ">5, MAE: 0.082\n"
     ]
    },
    {
     "name": "stderr",
     "output_type": "stream",
     "text": [
      "2022-09-07 00:05:38.261696: I tensorflow/core/grappler/optimizers/custom_graph_optimizer_registry.cc:113] Plugin optimizer for device_type GPU is enabled.\n",
      "2022-09-07 00:05:38.532766: I tensorflow/core/grappler/optimizers/custom_graph_optimizer_registry.cc:113] Plugin optimizer for device_type GPU is enabled.\n",
      "2022-09-07 00:05:38.719150: I tensorflow/core/grappler/optimizers/custom_graph_optimizer_registry.cc:113] Plugin optimizer for device_type GPU is enabled.\n",
      "2022-09-07 00:05:41.076721: I tensorflow/core/grappler/optimizers/custom_graph_optimizer_registry.cc:113] Plugin optimizer for device_type GPU is enabled.\n",
      "2022-09-07 00:05:41.165451: I tensorflow/core/grappler/optimizers/custom_graph_optimizer_registry.cc:113] Plugin optimizer for device_type GPU is enabled.\n"
     ]
    },
    {
     "name": "stdout",
     "output_type": "stream",
     "text": [
      "[[0.9768518]] (1, 1)\n",
      ">6, MAE: 0.028\n"
     ]
    },
    {
     "name": "stderr",
     "output_type": "stream",
     "text": [
      "2022-09-07 00:05:42.490609: I tensorflow/core/grappler/optimizers/custom_graph_optimizer_registry.cc:113] Plugin optimizer for device_type GPU is enabled.\n",
      "2022-09-07 00:05:42.769042: I tensorflow/core/grappler/optimizers/custom_graph_optimizer_registry.cc:113] Plugin optimizer for device_type GPU is enabled.\n",
      "2022-09-07 00:05:42.954909: I tensorflow/core/grappler/optimizers/custom_graph_optimizer_registry.cc:113] Plugin optimizer for device_type GPU is enabled.\n",
      "2022-09-07 00:05:45.356532: I tensorflow/core/grappler/optimizers/custom_graph_optimizer_registry.cc:113] Plugin optimizer for device_type GPU is enabled.\n",
      "2022-09-07 00:05:45.444698: I tensorflow/core/grappler/optimizers/custom_graph_optimizer_registry.cc:113] Plugin optimizer for device_type GPU is enabled.\n"
     ]
    },
    {
     "name": "stdout",
     "output_type": "stream",
     "text": [
      "[[0.9768518]] (1, 1)\n",
      ">7, MAE: 0.066\n"
     ]
    },
    {
     "name": "stderr",
     "output_type": "stream",
     "text": [
      "2022-09-07 00:05:46.940242: I tensorflow/core/grappler/optimizers/custom_graph_optimizer_registry.cc:113] Plugin optimizer for device_type GPU is enabled.\n",
      "2022-09-07 00:05:47.204688: I tensorflow/core/grappler/optimizers/custom_graph_optimizer_registry.cc:113] Plugin optimizer for device_type GPU is enabled.\n",
      "2022-09-07 00:05:47.388495: I tensorflow/core/grappler/optimizers/custom_graph_optimizer_registry.cc:113] Plugin optimizer for device_type GPU is enabled.\n",
      "2022-09-07 00:05:50.041006: I tensorflow/core/grappler/optimizers/custom_graph_optimizer_registry.cc:113] Plugin optimizer for device_type GPU is enabled.\n",
      "2022-09-07 00:05:50.129106: I tensorflow/core/grappler/optimizers/custom_graph_optimizer_registry.cc:113] Plugin optimizer for device_type GPU is enabled.\n"
     ]
    },
    {
     "name": "stdout",
     "output_type": "stream",
     "text": [
      "[[0.9768518]] (1, 1)\n",
      ">8, MAE: 0.052\n"
     ]
    },
    {
     "name": "stderr",
     "output_type": "stream",
     "text": [
      "2022-09-07 00:05:51.529474: I tensorflow/core/grappler/optimizers/custom_graph_optimizer_registry.cc:113] Plugin optimizer for device_type GPU is enabled.\n",
      "2022-09-07 00:05:51.801922: I tensorflow/core/grappler/optimizers/custom_graph_optimizer_registry.cc:113] Plugin optimizer for device_type GPU is enabled.\n",
      "2022-09-07 00:05:51.986595: I tensorflow/core/grappler/optimizers/custom_graph_optimizer_registry.cc:113] Plugin optimizer for device_type GPU is enabled.\n",
      "2022-09-07 00:05:54.396747: I tensorflow/core/grappler/optimizers/custom_graph_optimizer_registry.cc:113] Plugin optimizer for device_type GPU is enabled.\n",
      "2022-09-07 00:05:54.487585: I tensorflow/core/grappler/optimizers/custom_graph_optimizer_registry.cc:113] Plugin optimizer for device_type GPU is enabled.\n"
     ]
    },
    {
     "name": "stdout",
     "output_type": "stream",
     "text": [
      "[[0.9768518]] (1, 1)\n",
      ">9, MAE: 0.062\n"
     ]
    },
    {
     "name": "stderr",
     "output_type": "stream",
     "text": [
      "2022-09-07 00:05:55.907641: I tensorflow/core/grappler/optimizers/custom_graph_optimizer_registry.cc:113] Plugin optimizer for device_type GPU is enabled.\n",
      "2022-09-07 00:05:56.185840: I tensorflow/core/grappler/optimizers/custom_graph_optimizer_registry.cc:113] Plugin optimizer for device_type GPU is enabled.\n",
      "2022-09-07 00:05:56.375665: I tensorflow/core/grappler/optimizers/custom_graph_optimizer_registry.cc:113] Plugin optimizer for device_type GPU is enabled.\n",
      "2022-09-07 00:05:59.021906: I tensorflow/core/grappler/optimizers/custom_graph_optimizer_registry.cc:113] Plugin optimizer for device_type GPU is enabled.\n",
      "2022-09-07 00:05:59.112363: I tensorflow/core/grappler/optimizers/custom_graph_optimizer_registry.cc:113] Plugin optimizer for device_type GPU is enabled.\n"
     ]
    },
    {
     "name": "stdout",
     "output_type": "stream",
     "text": [
      "[[0.9768518]] (1, 1)\n",
      ">10, MAE: 0.028\n"
     ]
    },
    {
     "name": "stderr",
     "output_type": "stream",
     "text": [
      "2022-09-07 00:06:00.675743: I tensorflow/core/grappler/optimizers/custom_graph_optimizer_registry.cc:113] Plugin optimizer for device_type GPU is enabled.\n",
      "2022-09-07 00:06:00.945097: I tensorflow/core/grappler/optimizers/custom_graph_optimizer_registry.cc:113] Plugin optimizer for device_type GPU is enabled.\n",
      "2022-09-07 00:06:01.191495: I tensorflow/core/grappler/optimizers/custom_graph_optimizer_registry.cc:113] Plugin optimizer for device_type GPU is enabled.\n",
      "2022-09-07 00:06:03.553987: I tensorflow/core/grappler/optimizers/custom_graph_optimizer_registry.cc:113] Plugin optimizer for device_type GPU is enabled.\n",
      "2022-09-07 00:06:03.641522: I tensorflow/core/grappler/optimizers/custom_graph_optimizer_registry.cc:113] Plugin optimizer for device_type GPU is enabled.\n"
     ]
    },
    {
     "name": "stdout",
     "output_type": "stream",
     "text": [
      "[[0.9768518]] (1, 1)\n",
      ">11, MAE: 0.052\n"
     ]
    },
    {
     "name": "stderr",
     "output_type": "stream",
     "text": [
      "2022-09-07 00:06:04.962863: I tensorflow/core/grappler/optimizers/custom_graph_optimizer_registry.cc:113] Plugin optimizer for device_type GPU is enabled.\n",
      "2022-09-07 00:06:05.232137: I tensorflow/core/grappler/optimizers/custom_graph_optimizer_registry.cc:113] Plugin optimizer for device_type GPU is enabled.\n",
      "2022-09-07 00:06:05.437584: I tensorflow/core/grappler/optimizers/custom_graph_optimizer_registry.cc:113] Plugin optimizer for device_type GPU is enabled.\n",
      "2022-09-07 00:06:07.991641: I tensorflow/core/grappler/optimizers/custom_graph_optimizer_registry.cc:113] Plugin optimizer for device_type GPU is enabled.\n",
      "2022-09-07 00:06:08.080248: I tensorflow/core/grappler/optimizers/custom_graph_optimizer_registry.cc:113] Plugin optimizer for device_type GPU is enabled.\n"
     ]
    },
    {
     "name": "stdout",
     "output_type": "stream",
     "text": [
      "[[0.9768518]] (1, 1)\n",
      ">12, MAE: 0.003\n"
     ]
    },
    {
     "name": "stderr",
     "output_type": "stream",
     "text": [
      "2022-09-07 00:06:09.494356: I tensorflow/core/grappler/optimizers/custom_graph_optimizer_registry.cc:113] Plugin optimizer for device_type GPU is enabled.\n",
      "2022-09-07 00:06:09.761736: I tensorflow/core/grappler/optimizers/custom_graph_optimizer_registry.cc:113] Plugin optimizer for device_type GPU is enabled.\n",
      "2022-09-07 00:06:09.953301: I tensorflow/core/grappler/optimizers/custom_graph_optimizer_registry.cc:113] Plugin optimizer for device_type GPU is enabled.\n",
      "2022-09-07 00:06:12.419608: I tensorflow/core/grappler/optimizers/custom_graph_optimizer_registry.cc:113] Plugin optimizer for device_type GPU is enabled.\n",
      "2022-09-07 00:06:12.509588: I tensorflow/core/grappler/optimizers/custom_graph_optimizer_registry.cc:113] Plugin optimizer for device_type GPU is enabled.\n"
     ]
    },
    {
     "name": "stdout",
     "output_type": "stream",
     "text": [
      "[[0.9768518]] (1, 1)\n",
      ">13, MAE: 0.038\n"
     ]
    },
    {
     "name": "stderr",
     "output_type": "stream",
     "text": [
      "2022-09-07 00:06:14.227014: I tensorflow/core/grappler/optimizers/custom_graph_optimizer_registry.cc:113] Plugin optimizer for device_type GPU is enabled.\n",
      "2022-09-07 00:06:14.503934: I tensorflow/core/grappler/optimizers/custom_graph_optimizer_registry.cc:113] Plugin optimizer for device_type GPU is enabled.\n",
      "2022-09-07 00:06:14.735051: I tensorflow/core/grappler/optimizers/custom_graph_optimizer_registry.cc:113] Plugin optimizer for device_type GPU is enabled.\n",
      "2022-09-07 00:06:17.309932: I tensorflow/core/grappler/optimizers/custom_graph_optimizer_registry.cc:113] Plugin optimizer for device_type GPU is enabled.\n",
      "2022-09-07 00:06:17.400097: I tensorflow/core/grappler/optimizers/custom_graph_optimizer_registry.cc:113] Plugin optimizer for device_type GPU is enabled.\n"
     ]
    },
    {
     "name": "stdout",
     "output_type": "stream",
     "text": [
      "[[0.9768518]] (1, 1)\n",
      ">14, MAE: 0.044\n"
     ]
    },
    {
     "name": "stderr",
     "output_type": "stream",
     "text": [
      "2022-09-07 00:06:18.732643: I tensorflow/core/grappler/optimizers/custom_graph_optimizer_registry.cc:113] Plugin optimizer for device_type GPU is enabled.\n",
      "2022-09-07 00:06:19.003313: I tensorflow/core/grappler/optimizers/custom_graph_optimizer_registry.cc:113] Plugin optimizer for device_type GPU is enabled.\n",
      "2022-09-07 00:06:19.304353: I tensorflow/core/grappler/optimizers/custom_graph_optimizer_registry.cc:113] Plugin optimizer for device_type GPU is enabled.\n",
      "2022-09-07 00:06:21.845813: I tensorflow/core/grappler/optimizers/custom_graph_optimizer_registry.cc:113] Plugin optimizer for device_type GPU is enabled.\n",
      "2022-09-07 00:06:21.935265: I tensorflow/core/grappler/optimizers/custom_graph_optimizer_registry.cc:113] Plugin optimizer for device_type GPU is enabled.\n"
     ]
    },
    {
     "name": "stdout",
     "output_type": "stream",
     "text": [
      "[[0.9768518]] (1, 1)\n",
      ">15, MAE: 0.052\n"
     ]
    },
    {
     "name": "stderr",
     "output_type": "stream",
     "text": [
      "2022-09-07 00:06:23.388216: I tensorflow/core/grappler/optimizers/custom_graph_optimizer_registry.cc:113] Plugin optimizer for device_type GPU is enabled.\n",
      "2022-09-07 00:06:23.651448: I tensorflow/core/grappler/optimizers/custom_graph_optimizer_registry.cc:113] Plugin optimizer for device_type GPU is enabled.\n",
      "2022-09-07 00:06:23.825098: I tensorflow/core/grappler/optimizers/custom_graph_optimizer_registry.cc:113] Plugin optimizer for device_type GPU is enabled.\n",
      "2022-09-07 00:06:26.429462: I tensorflow/core/grappler/optimizers/custom_graph_optimizer_registry.cc:113] Plugin optimizer for device_type GPU is enabled.\n",
      "2022-09-07 00:06:26.517190: I tensorflow/core/grappler/optimizers/custom_graph_optimizer_registry.cc:113] Plugin optimizer for device_type GPU is enabled.\n"
     ]
    },
    {
     "name": "stdout",
     "output_type": "stream",
     "text": [
      "[[0.9768518]] (1, 1)\n",
      ">16, MAE: 0.059\n"
     ]
    },
    {
     "name": "stderr",
     "output_type": "stream",
     "text": [
      "2022-09-07 00:06:27.862271: I tensorflow/core/grappler/optimizers/custom_graph_optimizer_registry.cc:113] Plugin optimizer for device_type GPU is enabled.\n",
      "2022-09-07 00:06:28.132245: I tensorflow/core/grappler/optimizers/custom_graph_optimizer_registry.cc:113] Plugin optimizer for device_type GPU is enabled.\n",
      "2022-09-07 00:06:28.427015: I tensorflow/core/grappler/optimizers/custom_graph_optimizer_registry.cc:113] Plugin optimizer for device_type GPU is enabled.\n",
      "2022-09-07 00:06:31.080896: I tensorflow/core/grappler/optimizers/custom_graph_optimizer_registry.cc:113] Plugin optimizer for device_type GPU is enabled.\n",
      "2022-09-07 00:06:31.179061: I tensorflow/core/grappler/optimizers/custom_graph_optimizer_registry.cc:113] Plugin optimizer for device_type GPU is enabled.\n"
     ]
    },
    {
     "name": "stdout",
     "output_type": "stream",
     "text": [
      "[[0.9768518]] (1, 1)\n",
      ">17, MAE: 0.041\n"
     ]
    },
    {
     "name": "stderr",
     "output_type": "stream",
     "text": [
      "2022-09-07 00:06:34.358370: I tensorflow/core/grappler/optimizers/custom_graph_optimizer_registry.cc:113] Plugin optimizer for device_type GPU is enabled.\n",
      "2022-09-07 00:06:34.746023: I tensorflow/core/grappler/optimizers/custom_graph_optimizer_registry.cc:113] Plugin optimizer for device_type GPU is enabled.\n",
      "2022-09-07 00:06:35.086079: I tensorflow/core/grappler/optimizers/custom_graph_optimizer_registry.cc:113] Plugin optimizer for device_type GPU is enabled.\n",
      "2022-09-07 00:06:39.751058: I tensorflow/core/grappler/optimizers/custom_graph_optimizer_registry.cc:113] Plugin optimizer for device_type GPU is enabled.\n",
      "2022-09-07 00:06:39.900794: I tensorflow/core/grappler/optimizers/custom_graph_optimizer_registry.cc:113] Plugin optimizer for device_type GPU is enabled.\n"
     ]
    },
    {
     "name": "stdout",
     "output_type": "stream",
     "text": [
      "[[0.9768518]] (1, 1)\n",
      ">18, MAE: 0.053\n"
     ]
    },
    {
     "name": "stderr",
     "output_type": "stream",
     "text": [
      "2022-09-07 00:06:42.328252: I tensorflow/core/grappler/optimizers/custom_graph_optimizer_registry.cc:113] Plugin optimizer for device_type GPU is enabled.\n",
      "2022-09-07 00:06:42.694141: I tensorflow/core/grappler/optimizers/custom_graph_optimizer_registry.cc:113] Plugin optimizer for device_type GPU is enabled.\n",
      "2022-09-07 00:06:42.950883: I tensorflow/core/grappler/optimizers/custom_graph_optimizer_registry.cc:113] Plugin optimizer for device_type GPU is enabled.\n",
      "2022-09-07 00:06:47.532569: I tensorflow/core/grappler/optimizers/custom_graph_optimizer_registry.cc:113] Plugin optimizer for device_type GPU is enabled.\n",
      "2022-09-07 00:06:47.711399: I tensorflow/core/grappler/optimizers/custom_graph_optimizer_registry.cc:113] Plugin optimizer for device_type GPU is enabled.\n"
     ]
    },
    {
     "name": "stdout",
     "output_type": "stream",
     "text": [
      "[[0.9768518]] (1, 1)\n",
      ">19, MAE: 0.065\n"
     ]
    },
    {
     "name": "stderr",
     "output_type": "stream",
     "text": [
      "2022-09-07 00:06:51.209257: I tensorflow/core/grappler/optimizers/custom_graph_optimizer_registry.cc:113] Plugin optimizer for device_type GPU is enabled.\n",
      "2022-09-07 00:06:51.617266: I tensorflow/core/grappler/optimizers/custom_graph_optimizer_registry.cc:113] Plugin optimizer for device_type GPU is enabled.\n",
      "2022-09-07 00:06:51.829777: I tensorflow/core/grappler/optimizers/custom_graph_optimizer_registry.cc:113] Plugin optimizer for device_type GPU is enabled.\n",
      "2022-09-07 00:06:57.005719: I tensorflow/core/grappler/optimizers/custom_graph_optimizer_registry.cc:113] Plugin optimizer for device_type GPU is enabled.\n",
      "2022-09-07 00:06:57.093735: I tensorflow/core/grappler/optimizers/custom_graph_optimizer_registry.cc:113] Plugin optimizer for device_type GPU is enabled.\n"
     ]
    },
    {
     "name": "stdout",
     "output_type": "stream",
     "text": [
      "[[0.9768518]] (1, 1)\n",
      ">20, MAE: 0.082\n",
      "(20, 1)\n",
      "95% prediction interval: [693.9, 701.6]\n",
      "True value: 1.0\n"
     ]
    }
   ],
   "source": [
    "from math import sqrt\n",
    "from numpy import concatenate\n",
    "from matplotlib import pyplot\n",
    "import pandas as pd\n",
    "from pandas import read_csv\n",
    "from pandas import DataFrame\n",
    "from pandas import concat\n",
    "from sklearn.preprocessing import MinMaxScaler\n",
    "from sklearn.preprocessing import LabelEncoder\n",
    "from sklearn.metrics import mean_squared_error\n",
    "from keras.models import Sequential\n",
    "from keras.layers import Dense\n",
    "from keras.layers import LSTM\n",
    "\n",
    "import io\n",
    "import datetime\n",
    "\n",
    "# sheet='BYX'\n",
    "df= pd.read_excel(r'../Logical Ports Prediction.xlsx',sheet_name=sheet,header=0)\n",
    "# df= pd.read_excel(r'Logical Ports Prediction.xlsx',sheet_name='C2',header=0)\n",
    "df.dropna(subset=['Date'],inplace=True)\n",
    "\n",
    "from datetime import datetime as dt\n",
    "last_date=df.loc[:,'Date']\n",
    "last_date=last_date.iat[-1]\n",
    "last_date=last_date.strftime('%Y-%m-%d')\n",
    "last_date\n",
    "\n",
    "df=df[df['Date']<=last_date].reset_index(drop=True)\n",
    "df.tail()\n",
    "df['Year'] = pd.to_datetime(df['Date']).dt.strftime('%Y')\n",
    "df['Month'] = pd.to_datetime(df['Date']).dt.strftime('%m')\n",
    "\n",
    "df.drop(['Date','Logical Ports','Asset'],axis=1,inplace=True)\n",
    "first_column = df.pop('Year')\n",
    "df.insert(0, 'Year', first_column)\n",
    "second_column = df.pop('Month')\n",
    "df.insert(1, 'Month', second_column)\n",
    "first_column = df.pop('PortQyt')\n",
    "df.insert(0, 'PortQyt', first_column)\n",
    "\n",
    "df.shape\n",
    "print(len(list(df)[:]))\n",
    "# # df=df.drop(['D&J_Close30d_Avg.','D&J_Close30d_Min','Monthly Real GDP Index','TCV','FEDFUNDS','Unemployement Rate','SPX_Price30d_Std.','D&J_Close30d_Std.','VIX_Close30d_Max.','VIX_Close30d_Avg.','VIX_Close30d_Std.','VIX_Close30d_Min.'],axis=1)\n",
    "\n",
    "\n",
    "values=df.values\n",
    "# #\n",
    "# import matplotlib.pyplot as pp\n",
    "# pp.plot(values[:,0])\n",
    "# pp.show()\n",
    "\n",
    "# encoder = LabelEncoder()\n",
    "# # # print(values[:,0]) #PortQyt Value\n",
    "# values[:,0]=encoder.fit_transform(values[:,0])\n",
    "# print(values[:,0])\n",
    "\n",
    "# import matplotlib.pyplot as pp\n",
    "# pp.plot(values[:,0])\n",
    "# pp.show()\n",
    "\n",
    "# # print(values[:,4].shape)\n",
    "# # print(values[:,4])\n",
    "values = values.astype('float32')\n",
    "\n",
    "# specify the number of lag hours\n",
    "n_months = 5\n",
    "n_features = len(list(df)[:])\n",
    "\n",
    "#Normalize the first feature\n",
    "from sklearn.preprocessing import StandardScaler\n",
    "scaler2 = MinMaxScaler(feature_range=(0, 1)).fit(values[:,0:1])\n",
    "# train_y = scaler2.transform(values[:,-n_features])\n",
    "# scaled2 = scaler2.fit_transform(values) #try\n",
    "\n",
    "\n",
    "# # normalize features\n",
    "scaler = MinMaxScaler(feature_range=(0, 1))\n",
    "scaled = scaler.fit_transform(values)\n",
    "\n",
    "\n",
    "# len(list(dataset.columns))-3\n",
    "\n",
    "# convert series to supervised learning\n",
    "def series_to_supervised(data, n_in=1, n_out=1, dropnan=True):\n",
    "\tn_vars = 1 if type(data) is list else data.shape[1]\n",
    "\tdf = DataFrame(data)\n",
    "\tcols, names = list(), list()\n",
    "\t# input sequence (t-n, ... t-1)\n",
    "\tfor i in range(n_in, 0, -1):\n",
    "\t\tcols.append(df.shift(i))\n",
    "\t\tnames += [('var%d(t-%d)' % (j+1, i)) for j in range(n_vars)]\n",
    "\t# forecast sequence (t, t+1, ... t+n)\n",
    "\tfor i in range(0, n_out):\n",
    "\t\tcols.append(df.shift(-i))\n",
    "\t\tif i == 0:\n",
    "\t\t\tnames += [('var%d(t)' % (j+1)) for j in range(n_vars)]\n",
    "\t\telse:\n",
    "\t\t\tnames += [('var%d(t+%d)' % (j+1, i)) for j in range(n_vars)]\n",
    "\t# put it all together\n",
    "\tagg = concat(cols, axis=1)\n",
    "\tagg.columns = names\n",
    "\t# drop rows with NaN values\n",
    "\tif dropnan:\n",
    "\t\tagg.dropna(inplace=True)\n",
    "\treturn agg\n",
    "\n",
    "# frame as supervised learning\n",
    "reframed = series_to_supervised(scaled, n_months, 1)\n",
    "# print(reframed.shape)\n",
    "\n",
    "\n",
    "# print(reframed.tail())\n",
    "\n",
    "\n",
    "\n",
    "\n",
    "\n",
    "# split into train and test sets\n",
    "values = reframed.values\n",
    "n_train_months = 36\n",
    "train = values[:n_train_months, :]\n",
    "test = values[n_train_months:, :]\n",
    "print(values.shape)\n",
    "# split into input and outputs\n",
    "n_obs = (n_months+1)* n_features #the following fourth month\n",
    "train.shape\n",
    "train_X, train_y = train[:, :n_obs], train[:, -n_features*(1+2):-n_features*(1+2)+1] \n",
    "test_X, test_y = test[:, :n_obs], test[:, -n_features*(1+2):-n_features*(1+2)+1]\n",
    "print(test.shape)\n",
    "\n",
    "\n",
    "# import matplotlib.pyplot as pp\n",
    "# pp.plot(train_y)\n",
    "# pp.show()\n",
    "\n",
    "train_X = train_X.reshape((train_X.shape[0], (n_months+1), n_features))\n",
    "test_X = test_X.reshape((test_X.shape[0], (n_months+1), n_features))\n",
    "print(train_X.shape, train_y.shape, test_X.shape, test_y.shape)\n",
    "\n",
    "# prediction interval for mlps on the housing regression dataset\n",
    "from numpy import asarray\n",
    "from pandas import read_csv\n",
    "from sklearn.model_selection import train_test_split\n",
    "from sklearn.metrics import mean_absolute_error\n",
    "from sklearn.preprocessing import MinMaxScaler\n",
    "from tensorflow.keras.models import Sequential\n",
    "from tensorflow.keras.layers import Dense\n",
    "from tensorflow.keras.optimizers import Adam\n",
    "import tensorflow as tf\n",
    "import math\n",
    "import numpy as np\n",
    "\n",
    " \n",
    "# define and fit the model\n",
    "def fit_model(X_train, y_train):\n",
    "    features = X_train.shape[1]\n",
    "    model = Sequential()\n",
    "    model.add(LSTM(50, input_shape=(train_X.shape[1], train_X.shape[2])))\n",
    "    model.add(Dense(1))\n",
    "    model.compile(loss='mse', optimizer='adam')\n",
    "    model.fit(X_train, y_train, verbose=0, epochs=50, batch_size=16)\n",
    "    return model\n",
    "\n",
    "\t\n",
    " \n",
    "# fit an ensemble of models\n",
    "def fit_ensemble(n_members, X_train, X_test, y_train, y_test):\n",
    "    ensemble = list()\n",
    "    for i in range(n_members):\n",
    "        model = fit_model(X_train, y_train) # define and fit the model on the training set\n",
    "        yhat = model.predict(X_test, verbose=0) # evaluate model on the test set\n",
    "        print(y_test.shape,yhat.shape)\n",
    "        mae = mean_absolute_error(y_test, yhat)\n",
    "        print('>%d, MAE: %.3f' % (i+1, mae))\n",
    "        ensemble.append(model) # store the model\n",
    "    return ensemble\n",
    "\n",
    "n_members = 20\n",
    "ensemble = list()\n",
    "for i in range(n_members):\n",
    "  model = fit_model(train_X, train_y) # define and fit the model on the training set\n",
    "  yhat = model.predict(test_X, verbose=0) # evaluate model on the test set\n",
    "  print(test_y,yhat.shape)\n",
    "  mae = mean_absolute_error(test_y, yhat)\n",
    "  print('>%d, MAE: %.3f' % (i+1, mae))\n",
    "  ensemble.append(model) # store the model\n",
    "    \n",
    "# make predictions with the ensemble and calculate a prediction interval\n",
    "def predict_with_pi(ensemble, X,n_members):\n",
    "    yhat = [model.predict(X, verbose=0) for model in ensemble]\n",
    "    yhat = asarray(yhat)\n",
    "    yhat = np.reshape(yhat,[n_members,1])\n",
    "    print(yhat.shape)\n",
    "    # yhat = scaled2.inverse_transform(yhat)\n",
    "    yhat = scaler2.inverse_transform(yhat) # invert scaling for actual\n",
    "    yhat = yhat[:,0] \n",
    "    interval = 1.96 * yhat.std()/math.sqrt(len(yhat))\n",
    "    lower, upper = yhat.mean() - interval, yhat.mean() + interval\n",
    "    return lower, yhat.mean(), upper\n",
    "\n",
    "n_members=len(ensemble)\n",
    "# make predictions with prediction interval\n",
    "newX = asarray([test_X[0, :]])\n",
    "lower, mean, upper = predict_with_pi(ensemble, newX,n_members)\n",
    "# print(test_y)\n",
    "# print('Point prediction: %.1f' % mean)\n",
    "print('95%% prediction interval: [%.1f, %.1f]' % (lower, upper))\n",
    "print('True value: %.1f' % test_y[0])\n",
    "outcome = {'Prediction': [mean],\n",
    "           '95%CI.Min': [lower],\n",
    "           '95%CI.Max': [upper]\n",
    "           }\n",
    "\n",
    "\n",
    "outcome4= pd.DataFrame(outcome)\n",
    "outcome4\n",
    "\n",
    "from os import path\n",
    "#save ensemble\n",
    "for i,i_model in enumerate(ensemble):\n",
    "    i_model.save(path.join(sheet, '4',f'ensemble_corr_{i}.h5'))\n",
    "#   i_model.save(f'BYX/1/ensemble_corr_{i}.h5')\n",
    "\n",
    "\n",
    "\n",
    "#save model\n",
    "# model.save(f'/1/model_corr.h5')\n",
    "model.save(path.join(sheet, '4','model_corr.h5'))\n"
   ]
  },
  {
   "cell_type": "markdown",
   "metadata": {
    "pycharm": {
     "name": "#%% md\n"
    }
   },
   "source": [
    "## 5m"
   ]
  },
  {
   "cell_type": "code",
   "execution_count": 7,
   "metadata": {
    "pycharm": {
     "name": "#%%\n"
    }
   },
   "outputs": [
    {
     "name": "stdout",
     "output_type": "stream",
     "text": [
      "18\n",
      "(37, 108)\n",
      "(1, 108)\n",
      "(36, 6, 18) (36, 1) (1, 6, 18) (1, 1)\n"
     ]
    },
    {
     "name": "stderr",
     "output_type": "stream",
     "text": [
      "2022-09-07 00:06:59.989270: I tensorflow/core/grappler/optimizers/custom_graph_optimizer_registry.cc:113] Plugin optimizer for device_type GPU is enabled.\n",
      "2022-09-07 00:07:00.272458: I tensorflow/core/grappler/optimizers/custom_graph_optimizer_registry.cc:113] Plugin optimizer for device_type GPU is enabled.\n",
      "2022-09-07 00:07:00.596090: I tensorflow/core/grappler/optimizers/custom_graph_optimizer_registry.cc:113] Plugin optimizer for device_type GPU is enabled.\n",
      "2022-09-07 00:07:03.444697: I tensorflow/core/grappler/optimizers/custom_graph_optimizer_registry.cc:113] Plugin optimizer for device_type GPU is enabled.\n",
      "2022-09-07 00:07:03.699547: I tensorflow/core/grappler/optimizers/custom_graph_optimizer_registry.cc:113] Plugin optimizer for device_type GPU is enabled.\n"
     ]
    },
    {
     "name": "stdout",
     "output_type": "stream",
     "text": [
      "[[0.9976852]] (1, 1)\n",
      ">1, MAE: 0.044\n"
     ]
    },
    {
     "name": "stderr",
     "output_type": "stream",
     "text": [
      "2022-09-07 00:07:11.828877: I tensorflow/core/grappler/optimizers/custom_graph_optimizer_registry.cc:113] Plugin optimizer for device_type GPU is enabled.\n",
      "2022-09-07 00:07:12.379544: I tensorflow/core/grappler/optimizers/custom_graph_optimizer_registry.cc:113] Plugin optimizer for device_type GPU is enabled.\n",
      "2022-09-07 00:07:13.053911: I tensorflow/core/grappler/optimizers/custom_graph_optimizer_registry.cc:113] Plugin optimizer for device_type GPU is enabled.\n",
      "2022-09-07 00:07:19.170183: I tensorflow/core/grappler/optimizers/custom_graph_optimizer_registry.cc:113] Plugin optimizer for device_type GPU is enabled.\n",
      "2022-09-07 00:07:19.347560: I tensorflow/core/grappler/optimizers/custom_graph_optimizer_registry.cc:113] Plugin optimizer for device_type GPU is enabled.\n"
     ]
    },
    {
     "name": "stdout",
     "output_type": "stream",
     "text": [
      "[[0.9976852]] (1, 1)\n",
      ">2, MAE: 0.046\n"
     ]
    },
    {
     "name": "stderr",
     "output_type": "stream",
     "text": [
      "2022-09-07 00:07:21.924283: I tensorflow/core/grappler/optimizers/custom_graph_optimizer_registry.cc:113] Plugin optimizer for device_type GPU is enabled.\n",
      "2022-09-07 00:07:22.343038: I tensorflow/core/grappler/optimizers/custom_graph_optimizer_registry.cc:113] Plugin optimizer for device_type GPU is enabled.\n",
      "2022-09-07 00:07:22.644225: I tensorflow/core/grappler/optimizers/custom_graph_optimizer_registry.cc:113] Plugin optimizer for device_type GPU is enabled.\n",
      "2022-09-07 00:07:27.867750: I tensorflow/core/grappler/optimizers/custom_graph_optimizer_registry.cc:113] Plugin optimizer for device_type GPU is enabled.\n",
      "2022-09-07 00:07:28.024092: I tensorflow/core/grappler/optimizers/custom_graph_optimizer_registry.cc:113] Plugin optimizer for device_type GPU is enabled.\n"
     ]
    },
    {
     "name": "stdout",
     "output_type": "stream",
     "text": [
      "[[0.9976852]] (1, 1)\n",
      ">3, MAE: 0.018\n"
     ]
    },
    {
     "name": "stderr",
     "output_type": "stream",
     "text": [
      "2022-09-07 00:07:29.908336: I tensorflow/core/grappler/optimizers/custom_graph_optimizer_registry.cc:113] Plugin optimizer for device_type GPU is enabled.\n",
      "2022-09-07 00:07:30.169542: I tensorflow/core/grappler/optimizers/custom_graph_optimizer_registry.cc:113] Plugin optimizer for device_type GPU is enabled.\n",
      "2022-09-07 00:07:30.404169: I tensorflow/core/grappler/optimizers/custom_graph_optimizer_registry.cc:113] Plugin optimizer for device_type GPU is enabled.\n",
      "2022-09-07 00:07:35.156700: I tensorflow/core/grappler/optimizers/custom_graph_optimizer_registry.cc:113] Plugin optimizer for device_type GPU is enabled.\n",
      "2022-09-07 00:07:35.380271: I tensorflow/core/grappler/optimizers/custom_graph_optimizer_registry.cc:113] Plugin optimizer for device_type GPU is enabled.\n"
     ]
    },
    {
     "name": "stdout",
     "output_type": "stream",
     "text": [
      "[[0.9976852]] (1, 1)\n",
      ">4, MAE: 0.031\n"
     ]
    },
    {
     "name": "stderr",
     "output_type": "stream",
     "text": [
      "2022-09-07 00:07:37.469820: I tensorflow/core/grappler/optimizers/custom_graph_optimizer_registry.cc:113] Plugin optimizer for device_type GPU is enabled.\n",
      "2022-09-07 00:07:37.886742: I tensorflow/core/grappler/optimizers/custom_graph_optimizer_registry.cc:113] Plugin optimizer for device_type GPU is enabled.\n",
      "2022-09-07 00:07:38.247819: I tensorflow/core/grappler/optimizers/custom_graph_optimizer_registry.cc:113] Plugin optimizer for device_type GPU is enabled.\n",
      "2022-09-07 00:07:44.148379: I tensorflow/core/grappler/optimizers/custom_graph_optimizer_registry.cc:113] Plugin optimizer for device_type GPU is enabled.\n",
      "2022-09-07 00:07:44.373574: I tensorflow/core/grappler/optimizers/custom_graph_optimizer_registry.cc:113] Plugin optimizer for device_type GPU is enabled.\n"
     ]
    },
    {
     "name": "stdout",
     "output_type": "stream",
     "text": [
      "[[0.9976852]] (1, 1)\n",
      ">5, MAE: 0.035\n"
     ]
    },
    {
     "name": "stderr",
     "output_type": "stream",
     "text": [
      "2022-09-07 00:07:48.330713: I tensorflow/core/grappler/optimizers/custom_graph_optimizer_registry.cc:113] Plugin optimizer for device_type GPU is enabled.\n",
      "2022-09-07 00:07:48.745902: I tensorflow/core/grappler/optimizers/custom_graph_optimizer_registry.cc:113] Plugin optimizer for device_type GPU is enabled.\n",
      "2022-09-07 00:07:49.064838: I tensorflow/core/grappler/optimizers/custom_graph_optimizer_registry.cc:113] Plugin optimizer for device_type GPU is enabled.\n",
      "2022-09-07 00:07:54.915949: I tensorflow/core/grappler/optimizers/custom_graph_optimizer_registry.cc:113] Plugin optimizer for device_type GPU is enabled.\n",
      "2022-09-07 00:07:55.073903: I tensorflow/core/grappler/optimizers/custom_graph_optimizer_registry.cc:113] Plugin optimizer for device_type GPU is enabled.\n"
     ]
    },
    {
     "name": "stdout",
     "output_type": "stream",
     "text": [
      "[[0.9976852]] (1, 1)\n",
      ">6, MAE: 0.016\n"
     ]
    },
    {
     "name": "stderr",
     "output_type": "stream",
     "text": [
      "2022-09-07 00:07:57.485139: I tensorflow/core/grappler/optimizers/custom_graph_optimizer_registry.cc:113] Plugin optimizer for device_type GPU is enabled.\n",
      "2022-09-07 00:07:57.756434: I tensorflow/core/grappler/optimizers/custom_graph_optimizer_registry.cc:113] Plugin optimizer for device_type GPU is enabled.\n",
      "2022-09-07 00:07:58.081364: I tensorflow/core/grappler/optimizers/custom_graph_optimizer_registry.cc:113] Plugin optimizer for device_type GPU is enabled.\n",
      "2022-09-07 00:08:00.872699: I tensorflow/core/grappler/optimizers/custom_graph_optimizer_registry.cc:113] Plugin optimizer for device_type GPU is enabled.\n",
      "2022-09-07 00:08:00.966262: I tensorflow/core/grappler/optimizers/custom_graph_optimizer_registry.cc:113] Plugin optimizer for device_type GPU is enabled.\n"
     ]
    },
    {
     "name": "stdout",
     "output_type": "stream",
     "text": [
      "[[0.9976852]] (1, 1)\n",
      ">7, MAE: 0.016\n"
     ]
    },
    {
     "name": "stderr",
     "output_type": "stream",
     "text": [
      "2022-09-07 00:08:02.367338: I tensorflow/core/grappler/optimizers/custom_graph_optimizer_registry.cc:113] Plugin optimizer for device_type GPU is enabled.\n",
      "2022-09-07 00:08:02.730013: I tensorflow/core/grappler/optimizers/custom_graph_optimizer_registry.cc:113] Plugin optimizer for device_type GPU is enabled.\n",
      "2022-09-07 00:08:03.204393: I tensorflow/core/grappler/optimizers/custom_graph_optimizer_registry.cc:113] Plugin optimizer for device_type GPU is enabled.\n",
      "2022-09-07 00:08:13.949405: I tensorflow/core/grappler/optimizers/custom_graph_optimizer_registry.cc:113] Plugin optimizer for device_type GPU is enabled.\n",
      "2022-09-07 00:08:14.117003: I tensorflow/core/grappler/optimizers/custom_graph_optimizer_registry.cc:113] Plugin optimizer for device_type GPU is enabled.\n"
     ]
    },
    {
     "name": "stdout",
     "output_type": "stream",
     "text": [
      "[[0.9976852]] (1, 1)\n",
      ">8, MAE: 0.031\n"
     ]
    },
    {
     "name": "stderr",
     "output_type": "stream",
     "text": [
      "2022-09-07 00:08:16.841919: I tensorflow/core/grappler/optimizers/custom_graph_optimizer_registry.cc:113] Plugin optimizer for device_type GPU is enabled.\n",
      "2022-09-07 00:08:17.112513: I tensorflow/core/grappler/optimizers/custom_graph_optimizer_registry.cc:113] Plugin optimizer for device_type GPU is enabled.\n",
      "2022-09-07 00:08:17.413842: I tensorflow/core/grappler/optimizers/custom_graph_optimizer_registry.cc:113] Plugin optimizer for device_type GPU is enabled.\n",
      "2022-09-07 00:08:20.219862: I tensorflow/core/grappler/optimizers/custom_graph_optimizer_registry.cc:113] Plugin optimizer for device_type GPU is enabled.\n",
      "2022-09-07 00:08:20.310414: I tensorflow/core/grappler/optimizers/custom_graph_optimizer_registry.cc:113] Plugin optimizer for device_type GPU is enabled.\n"
     ]
    },
    {
     "name": "stdout",
     "output_type": "stream",
     "text": [
      "[[0.9976852]] (1, 1)\n",
      ">9, MAE: 0.017\n"
     ]
    },
    {
     "name": "stderr",
     "output_type": "stream",
     "text": [
      "2022-09-07 00:08:21.691780: I tensorflow/core/grappler/optimizers/custom_graph_optimizer_registry.cc:113] Plugin optimizer for device_type GPU is enabled.\n",
      "2022-09-07 00:08:21.962714: I tensorflow/core/grappler/optimizers/custom_graph_optimizer_registry.cc:113] Plugin optimizer for device_type GPU is enabled.\n",
      "2022-09-07 00:08:22.263981: I tensorflow/core/grappler/optimizers/custom_graph_optimizer_registry.cc:113] Plugin optimizer for device_type GPU is enabled.\n",
      "2022-09-07 00:08:25.095909: I tensorflow/core/grappler/optimizers/custom_graph_optimizer_registry.cc:113] Plugin optimizer for device_type GPU is enabled.\n",
      "2022-09-07 00:08:25.183639: I tensorflow/core/grappler/optimizers/custom_graph_optimizer_registry.cc:113] Plugin optimizer for device_type GPU is enabled.\n"
     ]
    },
    {
     "name": "stdout",
     "output_type": "stream",
     "text": [
      "[[0.9976852]] (1, 1)\n",
      ">10, MAE: 0.004\n"
     ]
    },
    {
     "name": "stderr",
     "output_type": "stream",
     "text": [
      "2022-09-07 00:08:26.563643: I tensorflow/core/grappler/optimizers/custom_graph_optimizer_registry.cc:113] Plugin optimizer for device_type GPU is enabled.\n",
      "2022-09-07 00:08:26.842459: I tensorflow/core/grappler/optimizers/custom_graph_optimizer_registry.cc:113] Plugin optimizer for device_type GPU is enabled.\n",
      "2022-09-07 00:08:27.188592: I tensorflow/core/grappler/optimizers/custom_graph_optimizer_registry.cc:113] Plugin optimizer for device_type GPU is enabled.\n",
      "2022-09-07 00:08:30.143931: I tensorflow/core/grappler/optimizers/custom_graph_optimizer_registry.cc:113] Plugin optimizer for device_type GPU is enabled.\n",
      "2022-09-07 00:08:30.237109: I tensorflow/core/grappler/optimizers/custom_graph_optimizer_registry.cc:113] Plugin optimizer for device_type GPU is enabled.\n"
     ]
    },
    {
     "name": "stdout",
     "output_type": "stream",
     "text": [
      "[[0.9976852]] (1, 1)\n",
      ">11, MAE: 0.013\n"
     ]
    },
    {
     "name": "stderr",
     "output_type": "stream",
     "text": [
      "2022-09-07 00:08:31.625330: I tensorflow/core/grappler/optimizers/custom_graph_optimizer_registry.cc:113] Plugin optimizer for device_type GPU is enabled.\n",
      "2022-09-07 00:08:31.898730: I tensorflow/core/grappler/optimizers/custom_graph_optimizer_registry.cc:113] Plugin optimizer for device_type GPU is enabled.\n",
      "2022-09-07 00:08:32.208963: I tensorflow/core/grappler/optimizers/custom_graph_optimizer_registry.cc:113] Plugin optimizer for device_type GPU is enabled.\n",
      "2022-09-07 00:08:34.915225: I tensorflow/core/grappler/optimizers/custom_graph_optimizer_registry.cc:113] Plugin optimizer for device_type GPU is enabled.\n",
      "2022-09-07 00:08:35.002392: I tensorflow/core/grappler/optimizers/custom_graph_optimizer_registry.cc:113] Plugin optimizer for device_type GPU is enabled.\n"
     ]
    },
    {
     "name": "stdout",
     "output_type": "stream",
     "text": [
      "[[0.9976852]] (1, 1)\n",
      ">12, MAE: 0.002\n"
     ]
    },
    {
     "name": "stderr",
     "output_type": "stream",
     "text": [
      "2022-09-07 00:08:36.373231: I tensorflow/core/grappler/optimizers/custom_graph_optimizer_registry.cc:113] Plugin optimizer for device_type GPU is enabled.\n",
      "2022-09-07 00:08:36.652038: I tensorflow/core/grappler/optimizers/custom_graph_optimizer_registry.cc:113] Plugin optimizer for device_type GPU is enabled.\n",
      "2022-09-07 00:08:36.945653: I tensorflow/core/grappler/optimizers/custom_graph_optimizer_registry.cc:113] Plugin optimizer for device_type GPU is enabled.\n",
      "2022-09-07 00:08:39.634576: I tensorflow/core/grappler/optimizers/custom_graph_optimizer_registry.cc:113] Plugin optimizer for device_type GPU is enabled.\n",
      "2022-09-07 00:08:39.722923: I tensorflow/core/grappler/optimizers/custom_graph_optimizer_registry.cc:113] Plugin optimizer for device_type GPU is enabled.\n"
     ]
    },
    {
     "name": "stdout",
     "output_type": "stream",
     "text": [
      "[[0.9976852]] (1, 1)\n",
      ">13, MAE: 0.050\n"
     ]
    },
    {
     "name": "stderr",
     "output_type": "stream",
     "text": [
      "2022-09-07 00:08:41.110715: I tensorflow/core/grappler/optimizers/custom_graph_optimizer_registry.cc:113] Plugin optimizer for device_type GPU is enabled.\n",
      "2022-09-07 00:08:41.384165: I tensorflow/core/grappler/optimizers/custom_graph_optimizer_registry.cc:113] Plugin optimizer for device_type GPU is enabled.\n",
      "2022-09-07 00:08:41.687970: I tensorflow/core/grappler/optimizers/custom_graph_optimizer_registry.cc:113] Plugin optimizer for device_type GPU is enabled.\n",
      "2022-09-07 00:08:44.413518: I tensorflow/core/grappler/optimizers/custom_graph_optimizer_registry.cc:113] Plugin optimizer for device_type GPU is enabled.\n",
      "2022-09-07 00:08:44.501145: I tensorflow/core/grappler/optimizers/custom_graph_optimizer_registry.cc:113] Plugin optimizer for device_type GPU is enabled.\n"
     ]
    },
    {
     "name": "stdout",
     "output_type": "stream",
     "text": [
      "[[0.9976852]] (1, 1)\n",
      ">14, MAE: 0.009\n"
     ]
    },
    {
     "name": "stderr",
     "output_type": "stream",
     "text": [
      "2022-09-07 00:08:46.154316: I tensorflow/core/grappler/optimizers/custom_graph_optimizer_registry.cc:113] Plugin optimizer for device_type GPU is enabled.\n",
      "2022-09-07 00:08:46.416338: I tensorflow/core/grappler/optimizers/custom_graph_optimizer_registry.cc:113] Plugin optimizer for device_type GPU is enabled.\n",
      "2022-09-07 00:08:46.725535: I tensorflow/core/grappler/optimizers/custom_graph_optimizer_registry.cc:113] Plugin optimizer for device_type GPU is enabled.\n",
      "2022-09-07 00:08:49.545011: I tensorflow/core/grappler/optimizers/custom_graph_optimizer_registry.cc:113] Plugin optimizer for device_type GPU is enabled.\n",
      "2022-09-07 00:08:49.632819: I tensorflow/core/grappler/optimizers/custom_graph_optimizer_registry.cc:113] Plugin optimizer for device_type GPU is enabled.\n"
     ]
    },
    {
     "name": "stdout",
     "output_type": "stream",
     "text": [
      "[[0.9976852]] (1, 1)\n",
      ">15, MAE: 0.038\n"
     ]
    },
    {
     "name": "stderr",
     "output_type": "stream",
     "text": [
      "2022-09-07 00:08:51.019168: I tensorflow/core/grappler/optimizers/custom_graph_optimizer_registry.cc:113] Plugin optimizer for device_type GPU is enabled.\n",
      "2022-09-07 00:08:51.293143: I tensorflow/core/grappler/optimizers/custom_graph_optimizer_registry.cc:113] Plugin optimizer for device_type GPU is enabled.\n",
      "2022-09-07 00:08:51.600518: I tensorflow/core/grappler/optimizers/custom_graph_optimizer_registry.cc:113] Plugin optimizer for device_type GPU is enabled.\n",
      "2022-09-07 00:08:54.321099: I tensorflow/core/grappler/optimizers/custom_graph_optimizer_registry.cc:113] Plugin optimizer for device_type GPU is enabled.\n",
      "2022-09-07 00:08:54.409074: I tensorflow/core/grappler/optimizers/custom_graph_optimizer_registry.cc:113] Plugin optimizer for device_type GPU is enabled.\n"
     ]
    },
    {
     "name": "stdout",
     "output_type": "stream",
     "text": [
      "[[0.9976852]] (1, 1)\n",
      ">16, MAE: 0.026\n"
     ]
    },
    {
     "name": "stderr",
     "output_type": "stream",
     "text": [
      "2022-09-07 00:08:55.794771: I tensorflow/core/grappler/optimizers/custom_graph_optimizer_registry.cc:113] Plugin optimizer for device_type GPU is enabled.\n",
      "2022-09-07 00:08:56.065515: I tensorflow/core/grappler/optimizers/custom_graph_optimizer_registry.cc:113] Plugin optimizer for device_type GPU is enabled.\n",
      "2022-09-07 00:08:56.383700: I tensorflow/core/grappler/optimizers/custom_graph_optimizer_registry.cc:113] Plugin optimizer for device_type GPU is enabled.\n",
      "2022-09-07 00:08:59.131214: I tensorflow/core/grappler/optimizers/custom_graph_optimizer_registry.cc:113] Plugin optimizer for device_type GPU is enabled.\n",
      "2022-09-07 00:08:59.219089: I tensorflow/core/grappler/optimizers/custom_graph_optimizer_registry.cc:113] Plugin optimizer for device_type GPU is enabled.\n"
     ]
    },
    {
     "name": "stdout",
     "output_type": "stream",
     "text": [
      "[[0.9976852]] (1, 1)\n",
      ">17, MAE: 0.059\n"
     ]
    },
    {
     "name": "stderr",
     "output_type": "stream",
     "text": [
      "2022-09-07 00:09:00.627374: I tensorflow/core/grappler/optimizers/custom_graph_optimizer_registry.cc:113] Plugin optimizer for device_type GPU is enabled.\n",
      "2022-09-07 00:09:00.893687: I tensorflow/core/grappler/optimizers/custom_graph_optimizer_registry.cc:113] Plugin optimizer for device_type GPU is enabled.\n",
      "2022-09-07 00:09:01.209520: I tensorflow/core/grappler/optimizers/custom_graph_optimizer_registry.cc:113] Plugin optimizer for device_type GPU is enabled.\n",
      "2022-09-07 00:09:03.925979: I tensorflow/core/grappler/optimizers/custom_graph_optimizer_registry.cc:113] Plugin optimizer for device_type GPU is enabled.\n",
      "2022-09-07 00:09:04.012473: I tensorflow/core/grappler/optimizers/custom_graph_optimizer_registry.cc:113] Plugin optimizer for device_type GPU is enabled.\n"
     ]
    },
    {
     "name": "stdout",
     "output_type": "stream",
     "text": [
      "[[0.9976852]] (1, 1)\n",
      ">18, MAE: 0.030\n"
     ]
    },
    {
     "name": "stderr",
     "output_type": "stream",
     "text": [
      "2022-09-07 00:09:05.816870: I tensorflow/core/grappler/optimizers/custom_graph_optimizer_registry.cc:113] Plugin optimizer for device_type GPU is enabled.\n",
      "2022-09-07 00:09:06.085761: I tensorflow/core/grappler/optimizers/custom_graph_optimizer_registry.cc:113] Plugin optimizer for device_type GPU is enabled.\n",
      "2022-09-07 00:09:06.427485: I tensorflow/core/grappler/optimizers/custom_graph_optimizer_registry.cc:113] Plugin optimizer for device_type GPU is enabled.\n",
      "2022-09-07 00:09:09.133200: I tensorflow/core/grappler/optimizers/custom_graph_optimizer_registry.cc:113] Plugin optimizer for device_type GPU is enabled.\n",
      "2022-09-07 00:09:09.221487: I tensorflow/core/grappler/optimizers/custom_graph_optimizer_registry.cc:113] Plugin optimizer for device_type GPU is enabled.\n"
     ]
    },
    {
     "name": "stdout",
     "output_type": "stream",
     "text": [
      "[[0.9976852]] (1, 1)\n",
      ">19, MAE: 0.019\n"
     ]
    },
    {
     "name": "stderr",
     "output_type": "stream",
     "text": [
      "2022-09-07 00:09:10.613182: I tensorflow/core/grappler/optimizers/custom_graph_optimizer_registry.cc:113] Plugin optimizer for device_type GPU is enabled.\n",
      "2022-09-07 00:09:10.873876: I tensorflow/core/grappler/optimizers/custom_graph_optimizer_registry.cc:113] Plugin optimizer for device_type GPU is enabled.\n",
      "2022-09-07 00:09:11.186843: I tensorflow/core/grappler/optimizers/custom_graph_optimizer_registry.cc:113] Plugin optimizer for device_type GPU is enabled.\n",
      "2022-09-07 00:09:13.921085: I tensorflow/core/grappler/optimizers/custom_graph_optimizer_registry.cc:113] Plugin optimizer for device_type GPU is enabled.\n",
      "2022-09-07 00:09:14.009884: I tensorflow/core/grappler/optimizers/custom_graph_optimizer_registry.cc:113] Plugin optimizer for device_type GPU is enabled.\n"
     ]
    },
    {
     "name": "stdout",
     "output_type": "stream",
     "text": [
      "[[0.9976852]] (1, 1)\n",
      ">20, MAE: 0.030\n",
      "(20, 1)\n",
      "95% prediction interval: [714.2, 721.8]\n",
      "True value: 1.0\n"
     ]
    }
   ],
   "source": [
    "from math import sqrt\n",
    "from numpy import concatenate\n",
    "from matplotlib import pyplot\n",
    "import pandas as pd\n",
    "from pandas import read_csv\n",
    "from pandas import DataFrame\n",
    "from pandas import concat\n",
    "from sklearn.preprocessing import MinMaxScaler\n",
    "from sklearn.preprocessing import LabelEncoder\n",
    "from sklearn.metrics import mean_squared_error\n",
    "from keras.models import Sequential\n",
    "from keras.layers import Dense\n",
    "from keras.layers import LSTM\n",
    "\n",
    "import io\n",
    "import datetime\n",
    "\n",
    "# sheet='BYX'\n",
    "df= pd.read_excel(r'../Logical Ports Prediction.xlsx',sheet_name=sheet,header=0)\n",
    "# df= pd.read_excel(r'Logical Ports Prediction.xlsx',sheet_name='C2',header=0)\n",
    "df.dropna(subset=['Date'],inplace=True)\n",
    "\n",
    "from datetime import datetime as dt\n",
    "last_date=df.loc[:,'Date']\n",
    "last_date=last_date.iat[-1]\n",
    "last_date=last_date.strftime('%Y-%m-%d')\n",
    "last_date\n",
    "\n",
    "df=df[df['Date']<=last_date].reset_index(drop=True)\n",
    "df.tail()\n",
    "df['Year'] = pd.to_datetime(df['Date']).dt.strftime('%Y')\n",
    "df['Month'] = pd.to_datetime(df['Date']).dt.strftime('%m')\n",
    "\n",
    "df.drop(['Date','Logical Ports','Asset'],axis=1,inplace=True)\n",
    "first_column = df.pop('Year')\n",
    "df.insert(0, 'Year', first_column)\n",
    "second_column = df.pop('Month')\n",
    "df.insert(1, 'Month', second_column)\n",
    "first_column = df.pop('PortQyt')\n",
    "df.insert(0, 'PortQyt', first_column)\n",
    "\n",
    "df.shape\n",
    "print(len(list(df)[:]))\n",
    "# # df=df.drop(['D&J_Close30d_Avg.','D&J_Close30d_Min','Monthly Real GDP Index','TCV','FEDFUNDS','Unemployement Rate','SPX_Price30d_Std.','D&J_Close30d_Std.','VIX_Close30d_Max.','VIX_Close30d_Avg.','VIX_Close30d_Std.','VIX_Close30d_Min.'],axis=1)\n",
    "\n",
    "\n",
    "values=df.values\n",
    "#\n",
    "# import matplotlib.pyplot as pp\n",
    "# pp.plot(values[:,0])\n",
    "# pp.show()\n",
    "\n",
    "# encoder = LabelEncoder()\n",
    "# # # print(values[:,0]) #PortQyt Value\n",
    "# values[:,0]=encoder.fit_transform(values[:,0])\n",
    "# print(values[:,0])\n",
    "\n",
    "# import matplotlib.pyplot as pp\n",
    "# pp.plot(values[:,0])\n",
    "# pp.show()\n",
    "\n",
    "# # print(values[:,4].shape)\n",
    "# # print(values[:,4])\n",
    "values = values.astype('float32')\n",
    "\n",
    "# specify the number of lag hours\n",
    "n_months = 5\n",
    "n_features = len(list(df)[:])\n",
    "\n",
    "#Normalize the first feature\n",
    "from sklearn.preprocessing import StandardScaler\n",
    "scaler2 = MinMaxScaler(feature_range=(0, 1)).fit(values[:,0:1])\n",
    "# train_y = scaler2.transform(values[:,-n_features])\n",
    "# scaled2 = scaler2.fit_transform(values) #try\n",
    "\n",
    "\n",
    "# # normalize features\n",
    "scaler = MinMaxScaler(feature_range=(0, 1))\n",
    "scaled = scaler.fit_transform(values)\n",
    "\n",
    "\n",
    "# len(list(dataset.columns))-3\n",
    "\n",
    "# convert series to supervised learning\n",
    "def series_to_supervised(data, n_in=1, n_out=1, dropnan=True):\n",
    "\tn_vars = 1 if type(data) is list else data.shape[1]\n",
    "\tdf = DataFrame(data)\n",
    "\tcols, names = list(), list()\n",
    "\t# input sequence (t-n, ... t-1)\n",
    "\tfor i in range(n_in, 0, -1):\n",
    "\t\tcols.append(df.shift(i))\n",
    "\t\tnames += [('var%d(t-%d)' % (j+1, i)) for j in range(n_vars)]\n",
    "\t# forecast sequence (t, t+1, ... t+n)\n",
    "\tfor i in range(0, n_out):\n",
    "\t\tcols.append(df.shift(-i))\n",
    "\t\tif i == 0:\n",
    "\t\t\tnames += [('var%d(t)' % (j+1)) for j in range(n_vars)]\n",
    "\t\telse:\n",
    "\t\t\tnames += [('var%d(t+%d)' % (j+1, i)) for j in range(n_vars)]\n",
    "\t# put it all together\n",
    "\tagg = concat(cols, axis=1)\n",
    "\tagg.columns = names\n",
    "\t# drop rows with NaN values\n",
    "\tif dropnan:\n",
    "\t\tagg.dropna(inplace=True)\n",
    "\treturn agg\n",
    "\n",
    "# frame as supervised learning\n",
    "reframed = series_to_supervised(scaled, n_months, 1)\n",
    "# print(reframed.shape)\n",
    "\n",
    "\n",
    "# print(reframed.tail())\n",
    "\n",
    "\n",
    "\n",
    "\n",
    "\n",
    "m=6-5\n",
    "# split into train and test sets\n",
    "values = reframed.values\n",
    "n_train_months = 36\n",
    "train = values[:n_train_months, :]\n",
    "test = values[n_train_months:, :]\n",
    "print(values.shape)\n",
    "# split into input and outputs\n",
    "n_obs = (n_months+1)* n_features #the following fourth month\n",
    "train.shape\n",
    "train_X, train_y = train[:, :n_obs], train[:, -n_features*(1+m):-n_features*(1+m)+1] \n",
    "test_X, test_y = test[:, :n_obs], test[:, -n_features*(1+m):-n_features*(1+m)+1]\n",
    "print(test.shape)\n",
    "\n",
    "\n",
    "# import matplotlib.pyplot as pp\n",
    "# pp.plot(train_y)\n",
    "# pp.show()\n",
    "\n",
    "train_X = train_X.reshape((train_X.shape[0], (n_months+1), n_features))\n",
    "test_X = test_X.reshape((test_X.shape[0], (n_months+1), n_features))\n",
    "print(train_X.shape, train_y.shape, test_X.shape, test_y.shape)\n",
    "\n",
    "# prediction interval for mlps on the housing regression dataset\n",
    "from numpy import asarray\n",
    "from pandas import read_csv\n",
    "from sklearn.model_selection import train_test_split\n",
    "from sklearn.metrics import mean_absolute_error\n",
    "from sklearn.preprocessing import MinMaxScaler\n",
    "from tensorflow.keras.models import Sequential\n",
    "from tensorflow.keras.layers import Dense\n",
    "from tensorflow.keras.optimizers import Adam\n",
    "import tensorflow as tf\n",
    "import math\n",
    "import numpy as np\n",
    "\n",
    " \n",
    "# define and fit the model\n",
    "def fit_model(X_train, y_train):\n",
    "    features = X_train.shape[1]\n",
    "    model = Sequential()\n",
    "    model.add(LSTM(50, input_shape=(train_X.shape[1], train_X.shape[2])))\n",
    "    model.add(Dense(1))\n",
    "    model.compile(loss='mse', optimizer='adam')\n",
    "    model.fit(X_train, y_train, verbose=0, epochs=50, batch_size=16)\n",
    "    return model\n",
    "\n",
    "\t\n",
    " \n",
    "# fit an ensemble of models\n",
    "def fit_ensemble(n_members, X_train, X_test, y_train, y_test):\n",
    "    ensemble = list()\n",
    "    for i in range(n_members):\n",
    "        model = fit_model(X_train, y_train) # define and fit the model on the training set\n",
    "        yhat = model.predict(X_test, verbose=0) # evaluate model on the test set\n",
    "        print(y_test.shape,yhat.shape)\n",
    "        mae = mean_absolute_error(y_test, yhat)\n",
    "        print('>%d, MAE: %.3f' % (i+1, mae))\n",
    "        ensemble.append(model) # store the model\n",
    "    return ensemble\n",
    "\n",
    "n_members = 20\n",
    "ensemble = list()\n",
    "for i in range(n_members):\n",
    "  model = fit_model(train_X, train_y) # define and fit the model on the training set\n",
    "  yhat = model.predict(test_X, verbose=0) # evaluate model on the test set\n",
    "  print(test_y,yhat.shape)\n",
    "  mae = mean_absolute_error(test_y, yhat)\n",
    "  print('>%d, MAE: %.3f' % (i+1, mae))\n",
    "  ensemble.append(model) # store the model\n",
    "    \n",
    "# make predictions with the ensemble and calculate a prediction interval\n",
    "def predict_with_pi(ensemble, X,n_members):\n",
    "    yhat = [model.predict(X, verbose=0) for model in ensemble]\n",
    "    yhat = asarray(yhat)\n",
    "    yhat = np.reshape(yhat,[n_members,1])\n",
    "    print(yhat.shape)\n",
    "    # yhat = scaled2.inverse_transform(yhat)\n",
    "    yhat = scaler2.inverse_transform(yhat) # invert scaling for actual\n",
    "    yhat = yhat[:,0] \n",
    "    interval = 1.96 * yhat.std()/math.sqrt(len(yhat))\n",
    "    lower, upper = yhat.mean() - interval, yhat.mean() + interval\n",
    "    return lower, yhat.mean(), upper\n",
    "\n",
    "n_members=len(ensemble)\n",
    "# make predictions with prediction interval\n",
    "newX = asarray([test_X[0, :]])\n",
    "lower, mean, upper = predict_with_pi(ensemble, newX,n_members)\n",
    "# print(test_y)\n",
    "# print('Point prediction: %.1f' % mean)\n",
    "print('95%% prediction interval: [%.1f, %.1f]' % (lower, upper))\n",
    "print('True value: %.1f' % test_y[0])\n",
    "outcome = {'Prediction': [mean],\n",
    "           '95%CI.Min': [lower],\n",
    "           '95%CI.Max': [upper]\n",
    "           }\n",
    "\n",
    "\n",
    "outcome5= pd.DataFrame(outcome)\n",
    "outcome5\n",
    "\n",
    "from os import path\n",
    "#save ensemble\n",
    "for i,i_model in enumerate(ensemble):\n",
    "    i_model.save(path.join(sheet, '5',f'ensemble_corr_{i}.h5'))\n",
    "#   i_model.save(f'BYX/1/ensemble_corr_{i}.h5')\n",
    "\n",
    "\n",
    "\n",
    "#save model\n",
    "# model.save(f'/1/model_corr.h5')\n",
    "model.save(path.join(sheet, '5','model_corr.h5'))\n"
   ]
  },
  {
   "cell_type": "markdown",
   "metadata": {
    "pycharm": {
     "name": "#%% md\n"
    }
   },
   "source": [
    "## 6m"
   ]
  },
  {
   "cell_type": "code",
   "execution_count": 8,
   "metadata": {
    "pycharm": {
     "name": "#%%\n"
    }
   },
   "outputs": [
    {
     "name": "stdout",
     "output_type": "stream",
     "text": [
      "18\n",
      "(37, 108)\n",
      "(1, 108)\n",
      "(36, 6, 18) (36, 1) (1, 6, 18) (1, 1)\n"
     ]
    },
    {
     "name": "stderr",
     "output_type": "stream",
     "text": [
      "2022-09-07 00:09:16.911862: I tensorflow/core/grappler/optimizers/custom_graph_optimizer_registry.cc:113] Plugin optimizer for device_type GPU is enabled.\n",
      "2022-09-07 00:09:17.185792: I tensorflow/core/grappler/optimizers/custom_graph_optimizer_registry.cc:113] Plugin optimizer for device_type GPU is enabled.\n",
      "2022-09-07 00:09:17.504462: I tensorflow/core/grappler/optimizers/custom_graph_optimizer_registry.cc:113] Plugin optimizer for device_type GPU is enabled.\n",
      "2022-09-07 00:09:20.309613: I tensorflow/core/grappler/optimizers/custom_graph_optimizer_registry.cc:113] Plugin optimizer for device_type GPU is enabled.\n",
      "2022-09-07 00:09:20.398067: I tensorflow/core/grappler/optimizers/custom_graph_optimizer_registry.cc:113] Plugin optimizer for device_type GPU is enabled.\n"
     ]
    },
    {
     "name": "stdout",
     "output_type": "stream",
     "text": [
      "[[1.]] (1, 1)\n",
      ">1, MAE: 0.008\n"
     ]
    },
    {
     "name": "stderr",
     "output_type": "stream",
     "text": [
      "2022-09-07 00:09:21.835274: I tensorflow/core/grappler/optimizers/custom_graph_optimizer_registry.cc:113] Plugin optimizer for device_type GPU is enabled.\n",
      "2022-09-07 00:09:22.098403: I tensorflow/core/grappler/optimizers/custom_graph_optimizer_registry.cc:113] Plugin optimizer for device_type GPU is enabled.\n",
      "2022-09-07 00:09:22.427569: I tensorflow/core/grappler/optimizers/custom_graph_optimizer_registry.cc:113] Plugin optimizer for device_type GPU is enabled.\n",
      "2022-09-07 00:09:25.182544: I tensorflow/core/grappler/optimizers/custom_graph_optimizer_registry.cc:113] Plugin optimizer for device_type GPU is enabled.\n",
      "2022-09-07 00:09:25.269580: I tensorflow/core/grappler/optimizers/custom_graph_optimizer_registry.cc:113] Plugin optimizer for device_type GPU is enabled.\n"
     ]
    },
    {
     "name": "stdout",
     "output_type": "stream",
     "text": [
      "[[1.]] (1, 1)\n",
      ">2, MAE: 0.002\n"
     ]
    },
    {
     "name": "stderr",
     "output_type": "stream",
     "text": [
      "2022-09-07 00:09:28.734865: I tensorflow/core/grappler/optimizers/custom_graph_optimizer_registry.cc:113] Plugin optimizer for device_type GPU is enabled.\n",
      "2022-09-07 00:09:29.087662: I tensorflow/core/grappler/optimizers/custom_graph_optimizer_registry.cc:113] Plugin optimizer for device_type GPU is enabled.\n",
      "2022-09-07 00:09:29.424615: I tensorflow/core/grappler/optimizers/custom_graph_optimizer_registry.cc:113] Plugin optimizer for device_type GPU is enabled.\n",
      "2022-09-07 00:09:32.560314: I tensorflow/core/grappler/optimizers/custom_graph_optimizer_registry.cc:113] Plugin optimizer for device_type GPU is enabled.\n",
      "2022-09-07 00:09:32.681995: I tensorflow/core/grappler/optimizers/custom_graph_optimizer_registry.cc:113] Plugin optimizer for device_type GPU is enabled.\n"
     ]
    },
    {
     "name": "stdout",
     "output_type": "stream",
     "text": [
      "[[1.]] (1, 1)\n",
      ">3, MAE: 0.014\n"
     ]
    },
    {
     "name": "stderr",
     "output_type": "stream",
     "text": [
      "2022-09-07 00:09:34.101959: I tensorflow/core/grappler/optimizers/custom_graph_optimizer_registry.cc:113] Plugin optimizer for device_type GPU is enabled.\n",
      "2022-09-07 00:09:34.376745: I tensorflow/core/grappler/optimizers/custom_graph_optimizer_registry.cc:113] Plugin optimizer for device_type GPU is enabled.\n",
      "2022-09-07 00:09:34.691954: I tensorflow/core/grappler/optimizers/custom_graph_optimizer_registry.cc:113] Plugin optimizer for device_type GPU is enabled.\n",
      "2022-09-07 00:09:37.433394: I tensorflow/core/grappler/optimizers/custom_graph_optimizer_registry.cc:113] Plugin optimizer for device_type GPU is enabled.\n",
      "2022-09-07 00:09:37.523405: I tensorflow/core/grappler/optimizers/custom_graph_optimizer_registry.cc:113] Plugin optimizer for device_type GPU is enabled.\n"
     ]
    },
    {
     "name": "stdout",
     "output_type": "stream",
     "text": [
      "[[1.]] (1, 1)\n",
      ">4, MAE: 0.008\n"
     ]
    },
    {
     "name": "stderr",
     "output_type": "stream",
     "text": [
      "2022-09-07 00:09:39.153267: I tensorflow/core/grappler/optimizers/custom_graph_optimizer_registry.cc:113] Plugin optimizer for device_type GPU is enabled.\n",
      "2022-09-07 00:09:39.415312: I tensorflow/core/grappler/optimizers/custom_graph_optimizer_registry.cc:113] Plugin optimizer for device_type GPU is enabled.\n",
      "2022-09-07 00:09:39.731635: I tensorflow/core/grappler/optimizers/custom_graph_optimizer_registry.cc:113] Plugin optimizer for device_type GPU is enabled.\n",
      "2022-09-07 00:09:42.494181: I tensorflow/core/grappler/optimizers/custom_graph_optimizer_registry.cc:113] Plugin optimizer for device_type GPU is enabled.\n",
      "2022-09-07 00:09:42.583233: I tensorflow/core/grappler/optimizers/custom_graph_optimizer_registry.cc:113] Plugin optimizer for device_type GPU is enabled.\n"
     ]
    },
    {
     "name": "stdout",
     "output_type": "stream",
     "text": [
      "[[1.]] (1, 1)\n",
      ">5, MAE: 0.011\n"
     ]
    },
    {
     "name": "stderr",
     "output_type": "stream",
     "text": [
      "2022-09-07 00:09:43.955521: I tensorflow/core/grappler/optimizers/custom_graph_optimizer_registry.cc:113] Plugin optimizer for device_type GPU is enabled.\n",
      "2022-09-07 00:09:44.237154: I tensorflow/core/grappler/optimizers/custom_graph_optimizer_registry.cc:113] Plugin optimizer for device_type GPU is enabled.\n",
      "2022-09-07 00:09:44.549380: I tensorflow/core/grappler/optimizers/custom_graph_optimizer_registry.cc:113] Plugin optimizer for device_type GPU is enabled.\n",
      "2022-09-07 00:09:47.268911: I tensorflow/core/grappler/optimizers/custom_graph_optimizer_registry.cc:113] Plugin optimizer for device_type GPU is enabled.\n",
      "2022-09-07 00:09:47.357432: I tensorflow/core/grappler/optimizers/custom_graph_optimizer_registry.cc:113] Plugin optimizer for device_type GPU is enabled.\n"
     ]
    },
    {
     "name": "stdout",
     "output_type": "stream",
     "text": [
      "[[1.]] (1, 1)\n",
      ">6, MAE: 0.012\n"
     ]
    },
    {
     "name": "stderr",
     "output_type": "stream",
     "text": [
      "2022-09-07 00:09:48.935624: I tensorflow/core/grappler/optimizers/custom_graph_optimizer_registry.cc:113] Plugin optimizer for device_type GPU is enabled.\n",
      "2022-09-07 00:09:49.199842: I tensorflow/core/grappler/optimizers/custom_graph_optimizer_registry.cc:113] Plugin optimizer for device_type GPU is enabled.\n",
      "2022-09-07 00:09:49.515292: I tensorflow/core/grappler/optimizers/custom_graph_optimizer_registry.cc:113] Plugin optimizer for device_type GPU is enabled.\n",
      "2022-09-07 00:09:52.250618: I tensorflow/core/grappler/optimizers/custom_graph_optimizer_registry.cc:113] Plugin optimizer for device_type GPU is enabled.\n",
      "2022-09-07 00:09:52.339573: I tensorflow/core/grappler/optimizers/custom_graph_optimizer_registry.cc:113] Plugin optimizer for device_type GPU is enabled.\n"
     ]
    },
    {
     "name": "stdout",
     "output_type": "stream",
     "text": [
      "[[1.]] (1, 1)\n",
      ">7, MAE: 0.018\n"
     ]
    },
    {
     "name": "stderr",
     "output_type": "stream",
     "text": [
      "2022-09-07 00:09:53.718230: I tensorflow/core/grappler/optimizers/custom_graph_optimizer_registry.cc:113] Plugin optimizer for device_type GPU is enabled.\n",
      "2022-09-07 00:09:53.985604: I tensorflow/core/grappler/optimizers/custom_graph_optimizer_registry.cc:113] Plugin optimizer for device_type GPU is enabled.\n",
      "2022-09-07 00:09:54.299913: I tensorflow/core/grappler/optimizers/custom_graph_optimizer_registry.cc:113] Plugin optimizer for device_type GPU is enabled.\n",
      "2022-09-07 00:09:57.041360: I tensorflow/core/grappler/optimizers/custom_graph_optimizer_registry.cc:113] Plugin optimizer for device_type GPU is enabled.\n",
      "2022-09-07 00:09:57.133254: I tensorflow/core/grappler/optimizers/custom_graph_optimizer_registry.cc:113] Plugin optimizer for device_type GPU is enabled.\n"
     ]
    },
    {
     "name": "stdout",
     "output_type": "stream",
     "text": [
      "[[1.]] (1, 1)\n",
      ">8, MAE: 0.013\n"
     ]
    },
    {
     "name": "stderr",
     "output_type": "stream",
     "text": [
      "2022-09-07 00:09:58.507942: I tensorflow/core/grappler/optimizers/custom_graph_optimizer_registry.cc:113] Plugin optimizer for device_type GPU is enabled.\n",
      "2022-09-07 00:09:58.785655: I tensorflow/core/grappler/optimizers/custom_graph_optimizer_registry.cc:113] Plugin optimizer for device_type GPU is enabled.\n",
      "2022-09-07 00:09:59.094534: I tensorflow/core/grappler/optimizers/custom_graph_optimizer_registry.cc:113] Plugin optimizer for device_type GPU is enabled.\n",
      "2022-09-07 00:10:01.833218: I tensorflow/core/grappler/optimizers/custom_graph_optimizer_registry.cc:113] Plugin optimizer for device_type GPU is enabled.\n",
      "2022-09-07 00:10:01.921492: I tensorflow/core/grappler/optimizers/custom_graph_optimizer_registry.cc:113] Plugin optimizer for device_type GPU is enabled.\n"
     ]
    },
    {
     "name": "stdout",
     "output_type": "stream",
     "text": [
      "[[1.]] (1, 1)\n",
      ">9, MAE: 0.012\n"
     ]
    },
    {
     "name": "stderr",
     "output_type": "stream",
     "text": [
      "2022-09-07 00:10:03.539554: I tensorflow/core/grappler/optimizers/custom_graph_optimizer_registry.cc:113] Plugin optimizer for device_type GPU is enabled.\n",
      "2022-09-07 00:10:03.813897: I tensorflow/core/grappler/optimizers/custom_graph_optimizer_registry.cc:113] Plugin optimizer for device_type GPU is enabled.\n",
      "2022-09-07 00:10:04.136401: I tensorflow/core/grappler/optimizers/custom_graph_optimizer_registry.cc:113] Plugin optimizer for device_type GPU is enabled.\n",
      "2022-09-07 00:10:06.881918: I tensorflow/core/grappler/optimizers/custom_graph_optimizer_registry.cc:113] Plugin optimizer for device_type GPU is enabled.\n",
      "2022-09-07 00:10:06.970913: I tensorflow/core/grappler/optimizers/custom_graph_optimizer_registry.cc:113] Plugin optimizer for device_type GPU is enabled.\n"
     ]
    },
    {
     "name": "stdout",
     "output_type": "stream",
     "text": [
      "[[1.]] (1, 1)\n",
      ">10, MAE: 0.021\n"
     ]
    },
    {
     "name": "stderr",
     "output_type": "stream",
     "text": [
      "2022-09-07 00:10:08.361462: I tensorflow/core/grappler/optimizers/custom_graph_optimizer_registry.cc:113] Plugin optimizer for device_type GPU is enabled.\n",
      "2022-09-07 00:10:08.649419: I tensorflow/core/grappler/optimizers/custom_graph_optimizer_registry.cc:113] Plugin optimizer for device_type GPU is enabled.\n",
      "2022-09-07 00:10:08.967255: I tensorflow/core/grappler/optimizers/custom_graph_optimizer_registry.cc:113] Plugin optimizer for device_type GPU is enabled.\n",
      "2022-09-07 00:10:11.716862: I tensorflow/core/grappler/optimizers/custom_graph_optimizer_registry.cc:113] Plugin optimizer for device_type GPU is enabled.\n",
      "2022-09-07 00:10:11.805397: I tensorflow/core/grappler/optimizers/custom_graph_optimizer_registry.cc:113] Plugin optimizer for device_type GPU is enabled.\n"
     ]
    },
    {
     "name": "stdout",
     "output_type": "stream",
     "text": [
      "[[1.]] (1, 1)\n",
      ">11, MAE: 0.021\n"
     ]
    },
    {
     "name": "stderr",
     "output_type": "stream",
     "text": [
      "2022-09-07 00:10:13.198285: I tensorflow/core/grappler/optimizers/custom_graph_optimizer_registry.cc:113] Plugin optimizer for device_type GPU is enabled.\n",
      "2022-09-07 00:10:13.476030: I tensorflow/core/grappler/optimizers/custom_graph_optimizer_registry.cc:113] Plugin optimizer for device_type GPU is enabled.\n",
      "2022-09-07 00:10:13.833004: I tensorflow/core/grappler/optimizers/custom_graph_optimizer_registry.cc:113] Plugin optimizer for device_type GPU is enabled.\n",
      "2022-09-07 00:10:16.568091: I tensorflow/core/grappler/optimizers/custom_graph_optimizer_registry.cc:113] Plugin optimizer for device_type GPU is enabled.\n",
      "2022-09-07 00:10:16.657310: I tensorflow/core/grappler/optimizers/custom_graph_optimizer_registry.cc:113] Plugin optimizer for device_type GPU is enabled.\n"
     ]
    },
    {
     "name": "stdout",
     "output_type": "stream",
     "text": [
      "[[1.]] (1, 1)\n",
      ">12, MAE: 0.003\n"
     ]
    },
    {
     "name": "stderr",
     "output_type": "stream",
     "text": [
      "2022-09-07 00:10:18.049764: I tensorflow/core/grappler/optimizers/custom_graph_optimizer_registry.cc:113] Plugin optimizer for device_type GPU is enabled.\n",
      "2022-09-07 00:10:18.322009: I tensorflow/core/grappler/optimizers/custom_graph_optimizer_registry.cc:113] Plugin optimizer for device_type GPU is enabled.\n",
      "2022-09-07 00:10:18.640917: I tensorflow/core/grappler/optimizers/custom_graph_optimizer_registry.cc:113] Plugin optimizer for device_type GPU is enabled.\n",
      "2022-09-07 00:10:21.660315: I tensorflow/core/grappler/optimizers/custom_graph_optimizer_registry.cc:113] Plugin optimizer for device_type GPU is enabled.\n",
      "2022-09-07 00:10:21.750573: I tensorflow/core/grappler/optimizers/custom_graph_optimizer_registry.cc:113] Plugin optimizer for device_type GPU is enabled.\n"
     ]
    },
    {
     "name": "stdout",
     "output_type": "stream",
     "text": [
      "[[1.]] (1, 1)\n",
      ">13, MAE: 0.003\n"
     ]
    },
    {
     "name": "stderr",
     "output_type": "stream",
     "text": [
      "2022-09-07 00:10:23.116663: I tensorflow/core/grappler/optimizers/custom_graph_optimizer_registry.cc:113] Plugin optimizer for device_type GPU is enabled.\n",
      "2022-09-07 00:10:23.392472: I tensorflow/core/grappler/optimizers/custom_graph_optimizer_registry.cc:113] Plugin optimizer for device_type GPU is enabled.\n",
      "2022-09-07 00:10:23.708291: I tensorflow/core/grappler/optimizers/custom_graph_optimizer_registry.cc:113] Plugin optimizer for device_type GPU is enabled.\n",
      "2022-09-07 00:10:26.419893: I tensorflow/core/grappler/optimizers/custom_graph_optimizer_registry.cc:113] Plugin optimizer for device_type GPU is enabled.\n",
      "2022-09-07 00:10:26.507631: I tensorflow/core/grappler/optimizers/custom_graph_optimizer_registry.cc:113] Plugin optimizer for device_type GPU is enabled.\n"
     ]
    },
    {
     "name": "stdout",
     "output_type": "stream",
     "text": [
      "[[1.]] (1, 1)\n",
      ">14, MAE: 0.016\n"
     ]
    },
    {
     "name": "stderr",
     "output_type": "stream",
     "text": [
      "2022-09-07 00:10:28.345448: I tensorflow/core/grappler/optimizers/custom_graph_optimizer_registry.cc:113] Plugin optimizer for device_type GPU is enabled.\n",
      "2022-09-07 00:10:28.651826: I tensorflow/core/grappler/optimizers/custom_graph_optimizer_registry.cc:113] Plugin optimizer for device_type GPU is enabled.\n",
      "2022-09-07 00:10:28.959492: I tensorflow/core/grappler/optimizers/custom_graph_optimizer_registry.cc:113] Plugin optimizer for device_type GPU is enabled.\n",
      "2022-09-07 00:10:31.677239: I tensorflow/core/grappler/optimizers/custom_graph_optimizer_registry.cc:113] Plugin optimizer for device_type GPU is enabled.\n",
      "2022-09-07 00:10:31.766229: I tensorflow/core/grappler/optimizers/custom_graph_optimizer_registry.cc:113] Plugin optimizer for device_type GPU is enabled.\n"
     ]
    },
    {
     "name": "stdout",
     "output_type": "stream",
     "text": [
      "[[1.]] (1, 1)\n",
      ">15, MAE: 0.013\n"
     ]
    },
    {
     "name": "stderr",
     "output_type": "stream",
     "text": [
      "2022-09-07 00:10:33.187956: I tensorflow/core/grappler/optimizers/custom_graph_optimizer_registry.cc:113] Plugin optimizer for device_type GPU is enabled.\n",
      "2022-09-07 00:10:33.459354: I tensorflow/core/grappler/optimizers/custom_graph_optimizer_registry.cc:113] Plugin optimizer for device_type GPU is enabled.\n",
      "2022-09-07 00:10:33.767267: I tensorflow/core/grappler/optimizers/custom_graph_optimizer_registry.cc:113] Plugin optimizer for device_type GPU is enabled.\n",
      "2022-09-07 00:10:36.563317: I tensorflow/core/grappler/optimizers/custom_graph_optimizer_registry.cc:113] Plugin optimizer for device_type GPU is enabled.\n",
      "2022-09-07 00:10:36.649832: I tensorflow/core/grappler/optimizers/custom_graph_optimizer_registry.cc:113] Plugin optimizer for device_type GPU is enabled.\n"
     ]
    },
    {
     "name": "stdout",
     "output_type": "stream",
     "text": [
      "[[1.]] (1, 1)\n",
      ">16, MAE: 0.013\n"
     ]
    },
    {
     "name": "stderr",
     "output_type": "stream",
     "text": [
      "2022-09-07 00:10:38.375759: I tensorflow/core/grappler/optimizers/custom_graph_optimizer_registry.cc:113] Plugin optimizer for device_type GPU is enabled.\n",
      "2022-09-07 00:10:38.650634: I tensorflow/core/grappler/optimizers/custom_graph_optimizer_registry.cc:113] Plugin optimizer for device_type GPU is enabled.\n",
      "2022-09-07 00:10:38.958985: I tensorflow/core/grappler/optimizers/custom_graph_optimizer_registry.cc:113] Plugin optimizer for device_type GPU is enabled.\n",
      "2022-09-07 00:10:41.705495: I tensorflow/core/grappler/optimizers/custom_graph_optimizer_registry.cc:113] Plugin optimizer for device_type GPU is enabled.\n",
      "2022-09-07 00:10:41.797747: I tensorflow/core/grappler/optimizers/custom_graph_optimizer_registry.cc:113] Plugin optimizer for device_type GPU is enabled.\n"
     ]
    },
    {
     "name": "stdout",
     "output_type": "stream",
     "text": [
      "[[1.]] (1, 1)\n",
      ">17, MAE: 0.053\n"
     ]
    },
    {
     "name": "stderr",
     "output_type": "stream",
     "text": [
      "2022-09-07 00:10:43.199710: I tensorflow/core/grappler/optimizers/custom_graph_optimizer_registry.cc:113] Plugin optimizer for device_type GPU is enabled.\n",
      "2022-09-07 00:10:43.473511: I tensorflow/core/grappler/optimizers/custom_graph_optimizer_registry.cc:113] Plugin optimizer for device_type GPU is enabled.\n",
      "2022-09-07 00:10:43.782857: I tensorflow/core/grappler/optimizers/custom_graph_optimizer_registry.cc:113] Plugin optimizer for device_type GPU is enabled.\n",
      "2022-09-07 00:10:46.520376: I tensorflow/core/grappler/optimizers/custom_graph_optimizer_registry.cc:113] Plugin optimizer for device_type GPU is enabled.\n",
      "2022-09-07 00:10:46.609551: I tensorflow/core/grappler/optimizers/custom_graph_optimizer_registry.cc:113] Plugin optimizer for device_type GPU is enabled.\n"
     ]
    },
    {
     "name": "stdout",
     "output_type": "stream",
     "text": [
      "[[1.]] (1, 1)\n",
      ">18, MAE: 0.004\n"
     ]
    },
    {
     "name": "stderr",
     "output_type": "stream",
     "text": [
      "2022-09-07 00:10:47.994366: I tensorflow/core/grappler/optimizers/custom_graph_optimizer_registry.cc:113] Plugin optimizer for device_type GPU is enabled.\n",
      "2022-09-07 00:10:48.271699: I tensorflow/core/grappler/optimizers/custom_graph_optimizer_registry.cc:113] Plugin optimizer for device_type GPU is enabled.\n",
      "2022-09-07 00:10:48.580354: I tensorflow/core/grappler/optimizers/custom_graph_optimizer_registry.cc:113] Plugin optimizer for device_type GPU is enabled.\n",
      "2022-09-07 00:10:51.400004: I tensorflow/core/grappler/optimizers/custom_graph_optimizer_registry.cc:113] Plugin optimizer for device_type GPU is enabled.\n",
      "2022-09-07 00:10:51.490062: I tensorflow/core/grappler/optimizers/custom_graph_optimizer_registry.cc:113] Plugin optimizer for device_type GPU is enabled.\n"
     ]
    },
    {
     "name": "stdout",
     "output_type": "stream",
     "text": [
      "[[1.]] (1, 1)\n",
      ">19, MAE: 0.020\n"
     ]
    },
    {
     "name": "stderr",
     "output_type": "stream",
     "text": [
      "2022-09-07 00:10:52.893948: I tensorflow/core/grappler/optimizers/custom_graph_optimizer_registry.cc:113] Plugin optimizer for device_type GPU is enabled.\n",
      "2022-09-07 00:10:53.160784: I tensorflow/core/grappler/optimizers/custom_graph_optimizer_registry.cc:113] Plugin optimizer for device_type GPU is enabled.\n",
      "2022-09-07 00:10:53.464426: I tensorflow/core/grappler/optimizers/custom_graph_optimizer_registry.cc:113] Plugin optimizer for device_type GPU is enabled.\n",
      "2022-09-07 00:10:56.193564: I tensorflow/core/grappler/optimizers/custom_graph_optimizer_registry.cc:113] Plugin optimizer for device_type GPU is enabled.\n",
      "2022-09-07 00:10:56.290768: I tensorflow/core/grappler/optimizers/custom_graph_optimizer_registry.cc:113] Plugin optimizer for device_type GPU is enabled.\n"
     ]
    },
    {
     "name": "stdout",
     "output_type": "stream",
     "text": [
      "[[1.]] (1, 1)\n",
      ">20, MAE: 0.002\n",
      "(20, 1)\n",
      "95% prediction interval: [723.9, 730.2]\n",
      "True value: 1.0\n"
     ]
    }
   ],
   "source": [
    "from math import sqrt\n",
    "from numpy import concatenate\n",
    "from matplotlib import pyplot\n",
    "import pandas as pd\n",
    "from pandas import read_csv\n",
    "from pandas import DataFrame\n",
    "from pandas import concat\n",
    "from sklearn.preprocessing import MinMaxScaler\n",
    "from sklearn.preprocessing import LabelEncoder\n",
    "from sklearn.metrics import mean_squared_error\n",
    "from keras.models import Sequential\n",
    "from keras.layers import Dense\n",
    "from keras.layers import LSTM\n",
    "\n",
    "import io\n",
    "import datetime\n",
    "\n",
    "# sheet='BYX'\n",
    "df= pd.read_excel(r'../Logical Ports Prediction.xlsx',sheet_name=sheet,header=0)\n",
    "# df= pd.read_excel(r'Logical Ports Prediction.xlsx',sheet_name='C2',header=0)\n",
    "df.dropna(subset=['Date'],inplace=True)\n",
    "\n",
    "from datetime import datetime as dt\n",
    "last_date=df.loc[:,'Date']\n",
    "last_date=last_date.iat[-1]\n",
    "last_date=last_date.strftime('%Y-%m-%d')\n",
    "last_date\n",
    "\n",
    "df=df[df['Date']<=last_date].reset_index(drop=True)\n",
    "df.tail()\n",
    "df['Year'] = pd.to_datetime(df['Date']).dt.strftime('%Y')\n",
    "df['Month'] = pd.to_datetime(df['Date']).dt.strftime('%m')\n",
    "\n",
    "df.drop(['Date','Logical Ports','Asset'],axis=1,inplace=True)\n",
    "first_column = df.pop('Year')\n",
    "df.insert(0, 'Year', first_column)\n",
    "second_column = df.pop('Month')\n",
    "df.insert(1, 'Month', second_column)\n",
    "first_column = df.pop('PortQyt')\n",
    "df.insert(0, 'PortQyt', first_column)\n",
    "\n",
    "df.shape\n",
    "print(len(list(df)[:]))\n",
    "# # df=df.drop(['D&J_Close30d_Avg.','D&J_Close30d_Min','Monthly Real GDP Index','TCV','FEDFUNDS','Unemployement Rate','SPX_Price30d_Std.','D&J_Close30d_Std.','VIX_Close30d_Max.','VIX_Close30d_Avg.','VIX_Close30d_Std.','VIX_Close30d_Min.'],axis=1)\n",
    "\n",
    "\n",
    "values=df.values\n",
    "#\n",
    "# import matplotlib.pyplot as pp\n",
    "# pp.plot(values[:,0])\n",
    "# pp.show()\n",
    "\n",
    "# encoder = LabelEncoder()\n",
    "# # # print(values[:,0]) #PortQyt Value\n",
    "# values[:,0]=encoder.fit_transform(values[:,0])\n",
    "# print(values[:,0])\n",
    "\n",
    "# import matplotlib.pyplot as pp\n",
    "# pp.plot(values[:,0])\n",
    "# pp.show()\n",
    "\n",
    "# # print(values[:,4].shape)\n",
    "# # print(values[:,4])\n",
    "values = values.astype('float32')\n",
    "\n",
    "# specify the number of lag hours\n",
    "n_months = 5\n",
    "n_features = len(list(df)[:])\n",
    "\n",
    "#Normalize the first feature\n",
    "from sklearn.preprocessing import StandardScaler\n",
    "scaler2 = MinMaxScaler(feature_range=(0, 1)).fit(values[:,0:1])\n",
    "# train_y = scaler2.transform(values[:,-n_features])\n",
    "# scaled2 = scaler2.fit_transform(values) #try\n",
    "\n",
    "\n",
    "# # normalize features\n",
    "scaler = MinMaxScaler(feature_range=(0, 1))\n",
    "scaled = scaler.fit_transform(values)\n",
    "\n",
    "\n",
    "# len(list(dataset.columns))-3\n",
    "\n",
    "# convert series to supervised learning\n",
    "def series_to_supervised(data, n_in=1, n_out=1, dropnan=True):\n",
    "\tn_vars = 1 if type(data) is list else data.shape[1]\n",
    "\tdf = DataFrame(data)\n",
    "\tcols, names = list(), list()\n",
    "\t# input sequence (t-n, ... t-1)\n",
    "\tfor i in range(n_in, 0, -1):\n",
    "\t\tcols.append(df.shift(i))\n",
    "\t\tnames += [('var%d(t-%d)' % (j+1, i)) for j in range(n_vars)]\n",
    "\t# forecast sequence (t, t+1, ... t+n)\n",
    "\tfor i in range(0, n_out):\n",
    "\t\tcols.append(df.shift(-i))\n",
    "\t\tif i == 0:\n",
    "\t\t\tnames += [('var%d(t)' % (j+1)) for j in range(n_vars)]\n",
    "\t\telse:\n",
    "\t\t\tnames += [('var%d(t+%d)' % (j+1, i)) for j in range(n_vars)]\n",
    "\t# put it all together\n",
    "\tagg = concat(cols, axis=1)\n",
    "\tagg.columns = names\n",
    "\t# drop rows with NaN values\n",
    "\tif dropnan:\n",
    "\t\tagg.dropna(inplace=True)\n",
    "\treturn agg\n",
    "\n",
    "# frame as supervised learning\n",
    "reframed = series_to_supervised(scaled, n_months, 1)\n",
    "# print(reframed.shape)\n",
    "\n",
    "\n",
    "# print(reframed.tail())\n",
    "\n",
    "\n",
    "\n",
    "\n",
    "\n",
    "m=6-6\n",
    "# split into train and test sets\n",
    "values = reframed.values\n",
    "n_train_months = 36\n",
    "train = values[:n_train_months, :]\n",
    "test = values[n_train_months:, :]\n",
    "print(values.shape)\n",
    "# split into input and outputs\n",
    "n_obs = (n_months+1)* n_features #the following fourth month\n",
    "train.shape\n",
    "train_X, train_y = train[:, :n_obs], train[:, -n_features*(1+m):-n_features*(1+m)+1] \n",
    "test_X, test_y = test[:, :n_obs], test[:, -n_features*(1+m):-n_features*(1+m)+1]\n",
    "print(test.shape)\n",
    "\n",
    "\n",
    "# import matplotlib.pyplot as pp\n",
    "# pp.plot(train_y)\n",
    "# pp.show()\n",
    "\n",
    "train_X = train_X.reshape((train_X.shape[0], (n_months+1), n_features))\n",
    "test_X = test_X.reshape((test_X.shape[0], (n_months+1), n_features))\n",
    "print(train_X.shape, train_y.shape, test_X.shape, test_y.shape)\n",
    "\n",
    "# prediction interval for mlps on the housing regression dataset\n",
    "from numpy import asarray\n",
    "from pandas import read_csv\n",
    "from sklearn.model_selection import train_test_split\n",
    "from sklearn.metrics import mean_absolute_error\n",
    "from sklearn.preprocessing import MinMaxScaler\n",
    "from tensorflow.keras.models import Sequential\n",
    "from tensorflow.keras.layers import Dense\n",
    "from tensorflow.keras.optimizers import Adam\n",
    "import tensorflow as tf\n",
    "import math\n",
    "import numpy as np\n",
    "\n",
    " \n",
    "# define and fit the model\n",
    "def fit_model(X_train, y_train):\n",
    "    features = X_train.shape[1]\n",
    "    model = Sequential()\n",
    "    model.add(LSTM(50, input_shape=(train_X.shape[1], train_X.shape[2])))\n",
    "    model.add(Dense(1))\n",
    "    model.compile(loss='mse', optimizer='adam')\n",
    "    model.fit(X_train, y_train, verbose=0, epochs=50, batch_size=16)\n",
    "    return model\n",
    "\n",
    "\t\n",
    " \n",
    "# fit an ensemble of models\n",
    "def fit_ensemble(n_members, X_train, X_test, y_train, y_test):\n",
    "    ensemble = list()\n",
    "    for i in range(n_members):\n",
    "        model = fit_model(X_train, y_train) # define and fit the model on the training set\n",
    "        yhat = model.predict(X_test, verbose=0) # evaluate model on the test set\n",
    "        print(y_test.shape,yhat.shape)\n",
    "        mae = mean_absolute_error(y_test, yhat)\n",
    "        print('>%d, MAE: %.3f' % (i+1, mae))\n",
    "        ensemble.append(model) # store the model\n",
    "    return ensemble\n",
    "\n",
    "n_members = 20\n",
    "ensemble = list()\n",
    "for i in range(n_members):\n",
    "  model = fit_model(train_X, train_y) # define and fit the model on the training set\n",
    "  yhat = model.predict(test_X, verbose=0) # evaluate model on the test set\n",
    "  print(test_y,yhat.shape)\n",
    "  mae = mean_absolute_error(test_y, yhat)\n",
    "  print('>%d, MAE: %.3f' % (i+1, mae))\n",
    "  ensemble.append(model) # store the model\n",
    "    \n",
    "# make predictions with the ensemble and calculate a prediction interval\n",
    "def predict_with_pi(ensemble, X,n_members):\n",
    "    yhat = [model.predict(X, verbose=0) for model in ensemble]\n",
    "    yhat = asarray(yhat)\n",
    "    yhat = np.reshape(yhat,[n_members,1])\n",
    "    print(yhat.shape)\n",
    "    # yhat = scaled2.inverse_transform(yhat)\n",
    "    yhat = scaler2.inverse_transform(yhat) # invert scaling for actual\n",
    "    yhat = yhat[:,0] \n",
    "    interval = 1.96 * yhat.std()/math.sqrt(len(yhat))\n",
    "    lower, upper = yhat.mean() - interval, yhat.mean() + interval\n",
    "    return lower, yhat.mean(), upper\n",
    "\n",
    "n_members=len(ensemble)\n",
    "# make predictions with prediction interval\n",
    "newX = asarray([test_X[0, :]])\n",
    "lower, mean, upper = predict_with_pi(ensemble, newX,n_members)\n",
    "# print(test_y)\n",
    "# print('Point prediction: %.1f' % mean)\n",
    "print('95%% prediction interval: [%.1f, %.1f]' % (lower, upper))\n",
    "print('True value: %.1f' % test_y[0])\n",
    "outcome = {'Prediction': [mean],\n",
    "           '95%CI.Min': [lower],\n",
    "           '95%CI.Max': [upper]\n",
    "           }\n",
    "\n",
    "\n",
    "outcome6= pd.DataFrame(outcome)\n",
    "outcome6\n",
    "\n",
    "from os import path\n",
    "#save ensemble\n",
    "for i,i_model in enumerate(ensemble):\n",
    "    i_model.save(path.join(sheet, '6',f'ensemble_corr_{i}.h5'))\n",
    "#   i_model.save(f'BYX/1/ensemble_corr_{i}.h5')\n",
    "\n",
    "\n",
    "\n",
    "#save model\n",
    "# model.save(f'/1/model_corr.h5')\n",
    "model.save(path.join(sheet, '6','model_corr.h5'))\n"
   ]
  },
  {
   "cell_type": "markdown",
   "metadata": {
    "pycharm": {
     "name": "#%% md\n"
    }
   },
   "source": [
    "## 12m"
   ]
  },
  {
   "cell_type": "code",
   "execution_count": 9,
   "metadata": {
    "pycharm": {
     "name": "#%%\n"
    }
   },
   "outputs": [
    {
     "name": "stdout",
     "output_type": "stream",
     "text": [
      "18\n",
      "(19, 432)\n",
      "(2, 432)\n",
      "(17, 12, 18) (17, 1) (2, 12, 18) (2, 1)\n"
     ]
    },
    {
     "name": "stderr",
     "output_type": "stream",
     "text": [
      "2022-09-07 00:11:01.670788: I tensorflow/core/grappler/optimizers/custom_graph_optimizer_registry.cc:113] Plugin optimizer for device_type GPU is enabled.\n",
      "2022-09-07 00:11:01.964699: I tensorflow/core/grappler/optimizers/custom_graph_optimizer_registry.cc:113] Plugin optimizer for device_type GPU is enabled.\n",
      "2022-09-07 00:11:02.688312: I tensorflow/core/grappler/optimizers/custom_graph_optimizer_registry.cc:113] Plugin optimizer for device_type GPU is enabled.\n",
      "2022-09-07 00:11:06.478762: I tensorflow/core/grappler/optimizers/custom_graph_optimizer_registry.cc:113] Plugin optimizer for device_type GPU is enabled.\n",
      "2022-09-07 00:11:06.577329: I tensorflow/core/grappler/optimizers/custom_graph_optimizer_registry.cc:113] Plugin optimizer for device_type GPU is enabled.\n"
     ]
    },
    {
     "name": "stdout",
     "output_type": "stream",
     "text": [
      "[[0.9976852]\n",
      " [1.       ]] (2, 1)\n",
      ">1, MAE: 0.050\n"
     ]
    },
    {
     "name": "stderr",
     "output_type": "stream",
     "text": [
      "2022-09-07 00:11:08.045117: I tensorflow/core/grappler/optimizers/custom_graph_optimizer_registry.cc:113] Plugin optimizer for device_type GPU is enabled.\n",
      "2022-09-07 00:11:08.310233: I tensorflow/core/grappler/optimizers/custom_graph_optimizer_registry.cc:113] Plugin optimizer for device_type GPU is enabled.\n",
      "2022-09-07 00:11:08.632971: I tensorflow/core/grappler/optimizers/custom_graph_optimizer_registry.cc:113] Plugin optimizer for device_type GPU is enabled.\n",
      "2022-09-07 00:11:11.109880: I tensorflow/core/grappler/optimizers/custom_graph_optimizer_registry.cc:113] Plugin optimizer for device_type GPU is enabled.\n",
      "2022-09-07 00:11:11.197269: I tensorflow/core/grappler/optimizers/custom_graph_optimizer_registry.cc:113] Plugin optimizer for device_type GPU is enabled.\n"
     ]
    },
    {
     "name": "stdout",
     "output_type": "stream",
     "text": [
      "[[0.9976852]\n",
      " [1.       ]] (2, 1)\n",
      ">2, MAE: 0.020\n"
     ]
    },
    {
     "name": "stderr",
     "output_type": "stream",
     "text": [
      "2022-09-07 00:11:12.774884: I tensorflow/core/grappler/optimizers/custom_graph_optimizer_registry.cc:113] Plugin optimizer for device_type GPU is enabled.\n",
      "2022-09-07 00:11:13.046930: I tensorflow/core/grappler/optimizers/custom_graph_optimizer_registry.cc:113] Plugin optimizer for device_type GPU is enabled.\n",
      "2022-09-07 00:11:13.365468: I tensorflow/core/grappler/optimizers/custom_graph_optimizer_registry.cc:113] Plugin optimizer for device_type GPU is enabled.\n",
      "2022-09-07 00:11:15.916770: I tensorflow/core/grappler/optimizers/custom_graph_optimizer_registry.cc:113] Plugin optimizer for device_type GPU is enabled.\n",
      "2022-09-07 00:11:16.008666: I tensorflow/core/grappler/optimizers/custom_graph_optimizer_registry.cc:113] Plugin optimizer for device_type GPU is enabled.\n"
     ]
    },
    {
     "name": "stdout",
     "output_type": "stream",
     "text": [
      "[[0.9976852]\n",
      " [1.       ]] (2, 1)\n",
      ">3, MAE: 0.068\n"
     ]
    },
    {
     "name": "stderr",
     "output_type": "stream",
     "text": [
      "2022-09-07 00:11:17.448658: I tensorflow/core/grappler/optimizers/custom_graph_optimizer_registry.cc:113] Plugin optimizer for device_type GPU is enabled.\n",
      "2022-09-07 00:11:17.734383: I tensorflow/core/grappler/optimizers/custom_graph_optimizer_registry.cc:113] Plugin optimizer for device_type GPU is enabled.\n",
      "2022-09-07 00:11:18.067067: I tensorflow/core/grappler/optimizers/custom_graph_optimizer_registry.cc:113] Plugin optimizer for device_type GPU is enabled.\n",
      "2022-09-07 00:11:20.497285: I tensorflow/core/grappler/optimizers/custom_graph_optimizer_registry.cc:113] Plugin optimizer for device_type GPU is enabled.\n",
      "2022-09-07 00:11:20.585867: I tensorflow/core/grappler/optimizers/custom_graph_optimizer_registry.cc:113] Plugin optimizer for device_type GPU is enabled.\n"
     ]
    },
    {
     "name": "stdout",
     "output_type": "stream",
     "text": [
      "[[0.9976852]\n",
      " [1.       ]] (2, 1)\n",
      ">4, MAE: 0.025\n"
     ]
    },
    {
     "name": "stderr",
     "output_type": "stream",
     "text": [
      "2022-09-07 00:11:22.142516: I tensorflow/core/grappler/optimizers/custom_graph_optimizer_registry.cc:113] Plugin optimizer for device_type GPU is enabled.\n",
      "2022-09-07 00:11:22.413387: I tensorflow/core/grappler/optimizers/custom_graph_optimizer_registry.cc:113] Plugin optimizer for device_type GPU is enabled.\n",
      "2022-09-07 00:11:22.748794: I tensorflow/core/grappler/optimizers/custom_graph_optimizer_registry.cc:113] Plugin optimizer for device_type GPU is enabled.\n",
      "2022-09-07 00:11:25.296722: I tensorflow/core/grappler/optimizers/custom_graph_optimizer_registry.cc:113] Plugin optimizer for device_type GPU is enabled.\n",
      "2022-09-07 00:11:25.392902: I tensorflow/core/grappler/optimizers/custom_graph_optimizer_registry.cc:113] Plugin optimizer for device_type GPU is enabled.\n"
     ]
    },
    {
     "name": "stdout",
     "output_type": "stream",
     "text": [
      "[[0.9976852]\n",
      " [1.       ]] (2, 1)\n",
      ">5, MAE: 0.063\n"
     ]
    },
    {
     "name": "stderr",
     "output_type": "stream",
     "text": [
      "2022-09-07 00:11:27.592101: I tensorflow/core/grappler/optimizers/custom_graph_optimizer_registry.cc:113] Plugin optimizer for device_type GPU is enabled.\n",
      "2022-09-07 00:11:27.881345: I tensorflow/core/grappler/optimizers/custom_graph_optimizer_registry.cc:113] Plugin optimizer for device_type GPU is enabled.\n",
      "2022-09-07 00:11:28.272207: I tensorflow/core/grappler/optimizers/custom_graph_optimizer_registry.cc:113] Plugin optimizer for device_type GPU is enabled.\n",
      "2022-09-07 00:11:34.105517: I tensorflow/core/grappler/optimizers/custom_graph_optimizer_registry.cc:113] Plugin optimizer for device_type GPU is enabled.\n",
      "2022-09-07 00:11:34.371880: I tensorflow/core/grappler/optimizers/custom_graph_optimizer_registry.cc:113] Plugin optimizer for device_type GPU is enabled.\n"
     ]
    },
    {
     "name": "stdout",
     "output_type": "stream",
     "text": [
      "[[0.9976852]\n",
      " [1.       ]] (2, 1)\n",
      ">6, MAE: 0.054\n"
     ]
    },
    {
     "name": "stderr",
     "output_type": "stream",
     "text": [
      "2022-09-07 00:11:37.098109: I tensorflow/core/grappler/optimizers/custom_graph_optimizer_registry.cc:113] Plugin optimizer for device_type GPU is enabled.\n",
      "2022-09-07 00:11:37.648871: I tensorflow/core/grappler/optimizers/custom_graph_optimizer_registry.cc:113] Plugin optimizer for device_type GPU is enabled.\n",
      "2022-09-07 00:11:38.307646: I tensorflow/core/grappler/optimizers/custom_graph_optimizer_registry.cc:113] Plugin optimizer for device_type GPU is enabled.\n",
      "2022-09-07 00:11:42.066411: I tensorflow/core/grappler/optimizers/custom_graph_optimizer_registry.cc:113] Plugin optimizer for device_type GPU is enabled.\n",
      "2022-09-07 00:11:42.192568: I tensorflow/core/grappler/optimizers/custom_graph_optimizer_registry.cc:113] Plugin optimizer for device_type GPU is enabled.\n"
     ]
    },
    {
     "name": "stdout",
     "output_type": "stream",
     "text": [
      "[[0.9976852]\n",
      " [1.       ]] (2, 1)\n",
      ">7, MAE: 0.038\n"
     ]
    },
    {
     "name": "stderr",
     "output_type": "stream",
     "text": [
      "2022-09-07 00:11:44.801066: I tensorflow/core/grappler/optimizers/custom_graph_optimizer_registry.cc:113] Plugin optimizer for device_type GPU is enabled.\n",
      "2022-09-07 00:11:45.261936: I tensorflow/core/grappler/optimizers/custom_graph_optimizer_registry.cc:113] Plugin optimizer for device_type GPU is enabled.\n",
      "2022-09-07 00:11:45.753253: I tensorflow/core/grappler/optimizers/custom_graph_optimizer_registry.cc:113] Plugin optimizer for device_type GPU is enabled.\n",
      "2022-09-07 00:11:48.721393: I tensorflow/core/grappler/optimizers/custom_graph_optimizer_registry.cc:113] Plugin optimizer for device_type GPU is enabled.\n",
      "2022-09-07 00:11:48.813599: I tensorflow/core/grappler/optimizers/custom_graph_optimizer_registry.cc:113] Plugin optimizer for device_type GPU is enabled.\n"
     ]
    },
    {
     "name": "stdout",
     "output_type": "stream",
     "text": [
      "[[0.9976852]\n",
      " [1.       ]] (2, 1)\n",
      ">8, MAE: 0.053\n"
     ]
    },
    {
     "name": "stderr",
     "output_type": "stream",
     "text": [
      "2022-09-07 00:11:50.983333: I tensorflow/core/grappler/optimizers/custom_graph_optimizer_registry.cc:113] Plugin optimizer for device_type GPU is enabled.\n",
      "2022-09-07 00:11:51.381204: I tensorflow/core/grappler/optimizers/custom_graph_optimizer_registry.cc:113] Plugin optimizer for device_type GPU is enabled.\n",
      "2022-09-07 00:11:51.734310: I tensorflow/core/grappler/optimizers/custom_graph_optimizer_registry.cc:113] Plugin optimizer for device_type GPU is enabled.\n",
      "2022-09-07 00:11:55.564727: I tensorflow/core/grappler/optimizers/custom_graph_optimizer_registry.cc:113] Plugin optimizer for device_type GPU is enabled.\n",
      "2022-09-07 00:11:55.759172: I tensorflow/core/grappler/optimizers/custom_graph_optimizer_registry.cc:113] Plugin optimizer for device_type GPU is enabled.\n"
     ]
    },
    {
     "name": "stdout",
     "output_type": "stream",
     "text": [
      "[[0.9976852]\n",
      " [1.       ]] (2, 1)\n",
      ">9, MAE: 0.018\n"
     ]
    },
    {
     "name": "stderr",
     "output_type": "stream",
     "text": [
      "2022-09-07 00:11:59.259633: I tensorflow/core/grappler/optimizers/custom_graph_optimizer_registry.cc:113] Plugin optimizer for device_type GPU is enabled.\n",
      "2022-09-07 00:11:59.601632: I tensorflow/core/grappler/optimizers/custom_graph_optimizer_registry.cc:113] Plugin optimizer for device_type GPU is enabled.\n",
      "2022-09-07 00:11:59.964434: I tensorflow/core/grappler/optimizers/custom_graph_optimizer_registry.cc:113] Plugin optimizer for device_type GPU is enabled.\n",
      "2022-09-07 00:12:06.866916: I tensorflow/core/grappler/optimizers/custom_graph_optimizer_registry.cc:113] Plugin optimizer for device_type GPU is enabled.\n",
      "2022-09-07 00:12:07.105342: I tensorflow/core/grappler/optimizers/custom_graph_optimizer_registry.cc:113] Plugin optimizer for device_type GPU is enabled.\n"
     ]
    },
    {
     "name": "stdout",
     "output_type": "stream",
     "text": [
      "[[0.9976852]\n",
      " [1.       ]] (2, 1)\n",
      ">10, MAE: 0.054\n"
     ]
    },
    {
     "name": "stderr",
     "output_type": "stream",
     "text": [
      "2022-09-07 00:12:08.989354: I tensorflow/core/grappler/optimizers/custom_graph_optimizer_registry.cc:113] Plugin optimizer for device_type GPU is enabled.\n",
      "2022-09-07 00:12:09.372442: I tensorflow/core/grappler/optimizers/custom_graph_optimizer_registry.cc:113] Plugin optimizer for device_type GPU is enabled.\n",
      "2022-09-07 00:12:09.727875: I tensorflow/core/grappler/optimizers/custom_graph_optimizer_registry.cc:113] Plugin optimizer for device_type GPU is enabled.\n",
      "2022-09-07 00:12:13.418362: I tensorflow/core/grappler/optimizers/custom_graph_optimizer_registry.cc:113] Plugin optimizer for device_type GPU is enabled.\n",
      "2022-09-07 00:12:13.556583: I tensorflow/core/grappler/optimizers/custom_graph_optimizer_registry.cc:113] Plugin optimizer for device_type GPU is enabled.\n"
     ]
    },
    {
     "name": "stdout",
     "output_type": "stream",
     "text": [
      "[[0.9976852]\n",
      " [1.       ]] (2, 1)\n",
      ">11, MAE: 0.084\n"
     ]
    },
    {
     "name": "stderr",
     "output_type": "stream",
     "text": [
      "2022-09-07 00:12:16.416646: I tensorflow/core/grappler/optimizers/custom_graph_optimizer_registry.cc:113] Plugin optimizer for device_type GPU is enabled.\n",
      "2022-09-07 00:12:16.881436: I tensorflow/core/grappler/optimizers/custom_graph_optimizer_registry.cc:113] Plugin optimizer for device_type GPU is enabled.\n",
      "2022-09-07 00:12:17.377297: I tensorflow/core/grappler/optimizers/custom_graph_optimizer_registry.cc:113] Plugin optimizer for device_type GPU is enabled.\n",
      "2022-09-07 00:12:22.752319: I tensorflow/core/grappler/optimizers/custom_graph_optimizer_registry.cc:113] Plugin optimizer for device_type GPU is enabled.\n",
      "2022-09-07 00:12:22.881134: I tensorflow/core/grappler/optimizers/custom_graph_optimizer_registry.cc:113] Plugin optimizer for device_type GPU is enabled.\n"
     ]
    },
    {
     "name": "stdout",
     "output_type": "stream",
     "text": [
      "[[0.9976852]\n",
      " [1.       ]] (2, 1)\n",
      ">12, MAE: 0.074\n"
     ]
    },
    {
     "name": "stderr",
     "output_type": "stream",
     "text": [
      "2022-09-07 00:12:26.513301: I tensorflow/core/grappler/optimizers/custom_graph_optimizer_registry.cc:113] Plugin optimizer for device_type GPU is enabled.\n",
      "2022-09-07 00:12:27.210557: I tensorflow/core/grappler/optimizers/custom_graph_optimizer_registry.cc:113] Plugin optimizer for device_type GPU is enabled.\n",
      "2022-09-07 00:12:28.197103: I tensorflow/core/grappler/optimizers/custom_graph_optimizer_registry.cc:113] Plugin optimizer for device_type GPU is enabled.\n",
      "2022-09-07 00:12:34.394711: I tensorflow/core/grappler/optimizers/custom_graph_optimizer_registry.cc:113] Plugin optimizer for device_type GPU is enabled.\n",
      "2022-09-07 00:12:34.574104: I tensorflow/core/grappler/optimizers/custom_graph_optimizer_registry.cc:113] Plugin optimizer for device_type GPU is enabled.\n"
     ]
    },
    {
     "name": "stdout",
     "output_type": "stream",
     "text": [
      "[[0.9976852]\n",
      " [1.       ]] (2, 1)\n",
      ">13, MAE: 0.080\n"
     ]
    },
    {
     "name": "stderr",
     "output_type": "stream",
     "text": [
      "2022-09-07 00:12:39.526171: I tensorflow/core/grappler/optimizers/custom_graph_optimizer_registry.cc:113] Plugin optimizer for device_type GPU is enabled.\n",
      "2022-09-07 00:12:40.222433: I tensorflow/core/grappler/optimizers/custom_graph_optimizer_registry.cc:113] Plugin optimizer for device_type GPU is enabled.\n",
      "2022-09-07 00:12:41.755099: I tensorflow/core/grappler/optimizers/custom_graph_optimizer_registry.cc:113] Plugin optimizer for device_type GPU is enabled.\n",
      "2022-09-07 00:12:48.836902: I tensorflow/core/grappler/optimizers/custom_graph_optimizer_registry.cc:113] Plugin optimizer for device_type GPU is enabled.\n",
      "2022-09-07 00:12:49.068823: I tensorflow/core/grappler/optimizers/custom_graph_optimizer_registry.cc:113] Plugin optimizer for device_type GPU is enabled.\n"
     ]
    },
    {
     "name": "stdout",
     "output_type": "stream",
     "text": [
      "[[0.9976852]\n",
      " [1.       ]] (2, 1)\n",
      ">14, MAE: 0.058\n"
     ]
    },
    {
     "name": "stderr",
     "output_type": "stream",
     "text": [
      "2022-09-07 00:12:53.149777: I tensorflow/core/grappler/optimizers/custom_graph_optimizer_registry.cc:113] Plugin optimizer for device_type GPU is enabled.\n",
      "2022-09-07 00:12:53.757159: I tensorflow/core/grappler/optimizers/custom_graph_optimizer_registry.cc:113] Plugin optimizer for device_type GPU is enabled.\n",
      "2022-09-07 00:12:54.568989: I tensorflow/core/grappler/optimizers/custom_graph_optimizer_registry.cc:113] Plugin optimizer for device_type GPU is enabled.\n",
      "2022-09-07 00:13:02.899936: I tensorflow/core/grappler/optimizers/custom_graph_optimizer_registry.cc:113] Plugin optimizer for device_type GPU is enabled.\n",
      "2022-09-07 00:13:03.109484: I tensorflow/core/grappler/optimizers/custom_graph_optimizer_registry.cc:113] Plugin optimizer for device_type GPU is enabled.\n"
     ]
    },
    {
     "name": "stdout",
     "output_type": "stream",
     "text": [
      "[[0.9976852]\n",
      " [1.       ]] (2, 1)\n",
      ">15, MAE: 0.068\n"
     ]
    },
    {
     "name": "stderr",
     "output_type": "stream",
     "text": [
      "2022-09-07 00:13:06.147423: I tensorflow/core/grappler/optimizers/custom_graph_optimizer_registry.cc:113] Plugin optimizer for device_type GPU is enabled.\n",
      "2022-09-07 00:13:06.672640: I tensorflow/core/grappler/optimizers/custom_graph_optimizer_registry.cc:113] Plugin optimizer for device_type GPU is enabled.\n",
      "2022-09-07 00:13:07.399926: I tensorflow/core/grappler/optimizers/custom_graph_optimizer_registry.cc:113] Plugin optimizer for device_type GPU is enabled.\n",
      "2022-09-07 00:13:14.479577: I tensorflow/core/grappler/optimizers/custom_graph_optimizer_registry.cc:113] Plugin optimizer for device_type GPU is enabled.\n",
      "2022-09-07 00:13:14.755465: I tensorflow/core/grappler/optimizers/custom_graph_optimizer_registry.cc:113] Plugin optimizer for device_type GPU is enabled.\n"
     ]
    },
    {
     "name": "stdout",
     "output_type": "stream",
     "text": [
      "[[0.9976852]\n",
      " [1.       ]] (2, 1)\n",
      ">16, MAE: 0.052\n"
     ]
    },
    {
     "name": "stderr",
     "output_type": "stream",
     "text": [
      "2022-09-07 00:13:18.544951: I tensorflow/core/grappler/optimizers/custom_graph_optimizer_registry.cc:113] Plugin optimizer for device_type GPU is enabled.\n",
      "2022-09-07 00:13:18.945047: I tensorflow/core/grappler/optimizers/custom_graph_optimizer_registry.cc:113] Plugin optimizer for device_type GPU is enabled.\n",
      "2022-09-07 00:13:19.547332: I tensorflow/core/grappler/optimizers/custom_graph_optimizer_registry.cc:113] Plugin optimizer for device_type GPU is enabled.\n",
      "2022-09-07 00:13:25.997031: I tensorflow/core/grappler/optimizers/custom_graph_optimizer_registry.cc:113] Plugin optimizer for device_type GPU is enabled.\n",
      "2022-09-07 00:13:26.177325: I tensorflow/core/grappler/optimizers/custom_graph_optimizer_registry.cc:113] Plugin optimizer for device_type GPU is enabled.\n"
     ]
    },
    {
     "name": "stdout",
     "output_type": "stream",
     "text": [
      "[[0.9976852]\n",
      " [1.       ]] (2, 1)\n",
      ">17, MAE: 0.127\n"
     ]
    },
    {
     "name": "stderr",
     "output_type": "stream",
     "text": [
      "2022-09-07 00:13:29.261685: I tensorflow/core/grappler/optimizers/custom_graph_optimizer_registry.cc:113] Plugin optimizer for device_type GPU is enabled.\n",
      "2022-09-07 00:13:29.758567: I tensorflow/core/grappler/optimizers/custom_graph_optimizer_registry.cc:113] Plugin optimizer for device_type GPU is enabled.\n",
      "2022-09-07 00:13:30.101573: I tensorflow/core/grappler/optimizers/custom_graph_optimizer_registry.cc:113] Plugin optimizer for device_type GPU is enabled.\n",
      "2022-09-07 00:13:36.173982: I tensorflow/core/grappler/optimizers/custom_graph_optimizer_registry.cc:113] Plugin optimizer for device_type GPU is enabled.\n",
      "2022-09-07 00:13:36.281442: I tensorflow/core/grappler/optimizers/custom_graph_optimizer_registry.cc:113] Plugin optimizer for device_type GPU is enabled.\n"
     ]
    },
    {
     "name": "stdout",
     "output_type": "stream",
     "text": [
      "[[0.9976852]\n",
      " [1.       ]] (2, 1)\n",
      ">18, MAE: 0.108\n"
     ]
    },
    {
     "name": "stderr",
     "output_type": "stream",
     "text": [
      "2022-09-07 00:13:39.378564: I tensorflow/core/grappler/optimizers/custom_graph_optimizer_registry.cc:113] Plugin optimizer for device_type GPU is enabled.\n",
      "2022-09-07 00:13:39.798191: I tensorflow/core/grappler/optimizers/custom_graph_optimizer_registry.cc:113] Plugin optimizer for device_type GPU is enabled.\n",
      "2022-09-07 00:13:40.206144: I tensorflow/core/grappler/optimizers/custom_graph_optimizer_registry.cc:113] Plugin optimizer for device_type GPU is enabled.\n",
      "2022-09-07 00:13:45.273637: I tensorflow/core/grappler/optimizers/custom_graph_optimizer_registry.cc:113] Plugin optimizer for device_type GPU is enabled.\n",
      "2022-09-07 00:13:45.369811: I tensorflow/core/grappler/optimizers/custom_graph_optimizer_registry.cc:113] Plugin optimizer for device_type GPU is enabled.\n"
     ]
    },
    {
     "name": "stdout",
     "output_type": "stream",
     "text": [
      "[[0.9976852]\n",
      " [1.       ]] (2, 1)\n",
      ">19, MAE: 0.072\n"
     ]
    },
    {
     "name": "stderr",
     "output_type": "stream",
     "text": [
      "2022-09-07 00:13:48.014338: I tensorflow/core/grappler/optimizers/custom_graph_optimizer_registry.cc:113] Plugin optimizer for device_type GPU is enabled.\n",
      "2022-09-07 00:13:48.460140: I tensorflow/core/grappler/optimizers/custom_graph_optimizer_registry.cc:113] Plugin optimizer for device_type GPU is enabled.\n",
      "2022-09-07 00:13:48.944417: I tensorflow/core/grappler/optimizers/custom_graph_optimizer_registry.cc:113] Plugin optimizer for device_type GPU is enabled.\n",
      "2022-09-07 00:13:55.759445: I tensorflow/core/grappler/optimizers/custom_graph_optimizer_registry.cc:113] Plugin optimizer for device_type GPU is enabled.\n",
      "2022-09-07 00:13:55.861254: I tensorflow/core/grappler/optimizers/custom_graph_optimizer_registry.cc:113] Plugin optimizer for device_type GPU is enabled.\n"
     ]
    },
    {
     "name": "stdout",
     "output_type": "stream",
     "text": [
      "[[0.9976852]\n",
      " [1.       ]] (2, 1)\n",
      ">20, MAE: 0.019\n",
      "(20, 1)\n",
      "95% prediction interval: [739.5, 749.7]\n",
      "True value: 1.0\n"
     ]
    }
   ],
   "source": [
    "from math import sqrt\n",
    "from numpy import concatenate\n",
    "from matplotlib import pyplot\n",
    "import pandas as pd\n",
    "from pandas import read_csv\n",
    "from pandas import DataFrame\n",
    "from pandas import concat\n",
    "from sklearn.preprocessing import MinMaxScaler\n",
    "from sklearn.preprocessing import LabelEncoder\n",
    "from sklearn.metrics import mean_squared_error\n",
    "from keras.models import Sequential\n",
    "from keras.layers import Dense\n",
    "from keras.layers import LSTM\n",
    "\n",
    "import io\n",
    "import datetime\n",
    "\n",
    "# sheet='OPT_BZX BATS'\n",
    "df= pd.read_excel(r'../Logical Ports Prediction.xlsx',sheet_name=sheet,header=0)\n",
    "# df= pd.read_excel(r'Logical Ports Prediction.xlsx',sheet_name='C2',header=0)\n",
    "df.dropna(subset=['Date'],inplace=True)\n",
    "\n",
    "from datetime import datetime as dt\n",
    "last_date=df.loc[:,'Date']\n",
    "last_date=last_date.iat[-1]\n",
    "last_date=last_date.strftime('%Y-%m-%d')\n",
    "last_date\n",
    "\n",
    "df=df[df['Date']<=last_date].reset_index(drop=True)\n",
    "df.tail()\n",
    "df['Year'] = pd.to_datetime(df['Date']).dt.strftime('%Y')\n",
    "df['Month'] = pd.to_datetime(df['Date']).dt.strftime('%m')\n",
    "\n",
    "df.drop(['Date','Logical Ports','Asset'],axis=1,inplace=True)\n",
    "first_column = df.pop('Year')\n",
    "df.insert(0, 'Year', first_column)\n",
    "second_column = df.pop('Month')\n",
    "df.insert(1, 'Month', second_column)\n",
    "first_column = df.pop('PortQyt')\n",
    "df.insert(0, 'PortQyt', first_column)\n",
    "\n",
    "df.shape\n",
    "print(len(list(df)[:]))\n",
    "# # df=df.drop(['D&J_Close30d_Avg.','D&J_Close30d_Min','Monthly Real GDP Index','TCV','FEDFUNDS','Unemployement Rate','SPX_Price30d_Std.','D&J_Close30d_Std.','VIX_Close30d_Max.','VIX_Close30d_Avg.','VIX_Close30d_Std.','VIX_Close30d_Min.'],axis=1)\n",
    "\n",
    "\n",
    "values=df.values\n",
    "#\n",
    "# import matplotlib.pyplot as pp\n",
    "# pp.plot(values[:,0])\n",
    "# pp.show()\n",
    "\n",
    "# # encoder = LabelEncoder()\n",
    "# # # # print(values[:,0]) #PortQyt Value\n",
    "# # values[:,0]=encoder.fit_transform(values[:,0])\n",
    "# # print(values[:,0])\n",
    "\n",
    "# import matplotlib.pyplot as pp\n",
    "# pp.plot(values[:,0])\n",
    "# pp.show()\n",
    "\n",
    "# # print(values[:,4].shape)\n",
    "# # print(values[:,4])\n",
    "values = values.astype('float32')\n",
    "\n",
    "# specify the number of lag hours\n",
    "# n_months = 11\n",
    "n_months = 23\n",
    "n_features = len(list(df)[:])\n",
    "\n",
    "#Normalize the first feature\n",
    "from sklearn.preprocessing import StandardScaler\n",
    "scaler2 = MinMaxScaler(feature_range=(0, 1)).fit(values[:,0:1])\n",
    "# train_y = scaler2.transform(values[:,-n_features])\n",
    "# scaled2 = scaler2.fit_transform(values) #try\n",
    "\n",
    "\n",
    "# # normalize features\n",
    "scaler = MinMaxScaler(feature_range=(0, 1))\n",
    "scaled = scaler.fit_transform(values)\n",
    "\n",
    "\n",
    "# len(list(dataset.columns))-3\n",
    "\n",
    "# convert series to supervised learning\n",
    "def series_to_supervised(data, n_in=1, n_out=1, dropnan=True):\n",
    "\tn_vars = 1 if type(data) is list else data.shape[1]\n",
    "\tdf = DataFrame(data)\n",
    "\tcols, names = list(), list()\n",
    "\t# input sequence (t-n, ... t-1)\n",
    "\tfor i in range(n_in, 0, -1):\n",
    "\t\tcols.append(df.shift(i))\n",
    "\t\tnames += [('var%d(t-%d)' % (j+1, i)) for j in range(n_vars)]\n",
    "\t# forecast sequence (t, t+1, ... t+n)\n",
    "\tfor i in range(0, n_out):\n",
    "\t\tcols.append(df.shift(-i))\n",
    "\t\tif i == 0:\n",
    "\t\t\tnames += [('var%d(t)' % (j+1)) for j in range(n_vars)]\n",
    "\t\telse:\n",
    "\t\t\tnames += [('var%d(t+%d)' % (j+1, i)) for j in range(n_vars)]\n",
    "\t# put it all together\n",
    "\tagg = concat(cols, axis=1)\n",
    "\tagg.columns = names\n",
    "\t# drop rows with NaN values\n",
    "\tif dropnan:\n",
    "\t\tagg.dropna(inplace=True)\n",
    "\treturn agg\n",
    "\n",
    "# frame as supervised learning\n",
    "reframed = series_to_supervised(scaled, n_months, 1)\n",
    "# print(reframed.shape)\n",
    "\n",
    "\n",
    "# print(reframed.tail())\n",
    "\n",
    "\n",
    "\n",
    "m=6-6\n",
    "# split into train and test sets\n",
    "values = reframed.values\n",
    "n_train_months =17\n",
    "train = values[:n_train_months, :]\n",
    "test = values[n_train_months:, :]\n",
    "print(values.shape)\n",
    "# split into input and outputs\n",
    "n_obs = ((n_months+1)//2)* n_features #the following 12\n",
    "# n_obs = (n_months+1)* n_features #the following \n",
    "train.shape\n",
    "train_X, train_y = train[:, :n_obs], train[:, -n_features*(1+m):-n_features*(1+m)+1] \n",
    "train_X, train_y = train[:, :n_obs], train[:, -n_features*(1+m):-n_features*(1+m)+1] \n",
    "test_X, test_y = test[:, :n_obs], test[:, -n_features*(1+m):-n_features*(1+m)+1]\n",
    "print(test.shape)\n",
    "\n",
    "\n",
    "# import matplotlib.pyplot as pp\n",
    "# pp.plot(train_y)\n",
    "# pp.show()\n",
    "\n",
    "train_X = train_X.reshape((train_X.shape[0], (n_months+1)//2, n_features))\n",
    "# train_X = train_X.reshape((train_X.shape[0], (n_months+1), n_features))\n",
    "test_X = test_X.reshape((test_X.shape[0], (n_months+1)//2, n_features))\n",
    "print(train_X.shape, train_y.shape, test_X.shape, test_y.shape)\n",
    "\n",
    "# prediction interval for mlps on the housing regression dataset\n",
    "from numpy import asarray\n",
    "from pandas import read_csv\n",
    "from sklearn.model_selection import train_test_split\n",
    "from sklearn.metrics import mean_absolute_error\n",
    "from sklearn.preprocessing import MinMaxScaler\n",
    "from tensorflow.keras.models import Sequential\n",
    "from tensorflow.keras.layers import Dense\n",
    "from tensorflow.keras.optimizers import Adam\n",
    "import tensorflow as tf\n",
    "import math\n",
    "import numpy as np\n",
    "\n",
    " \n",
    "# define and fit the model\n",
    "def fit_model(X_train, y_train):\n",
    "    features = X_train.shape[1]\n",
    "    model = Sequential()\n",
    "    model.add(LSTM(50, input_shape=(train_X.shape[1], train_X.shape[2])))\n",
    "    model.add(Dense(1))\n",
    "    model.compile(loss='mse', optimizer='adam')\n",
    "    model.fit(X_train, y_train, verbose=0, epochs=50, batch_size=16)\n",
    "    return model\n",
    "\n",
    "\t\n",
    " \n",
    "# fit an ensemble of models\n",
    "def fit_ensemble(n_members, X_train, X_test, y_train, y_test):\n",
    "    ensemble = list()\n",
    "    for i in range(n_members):\n",
    "        model = fit_model(X_train, y_train) # define and fit the model on the training set\n",
    "        yhat = model.predict(X_test, verbose=0) # evaluate model on the test set\n",
    "        print(y_test.shape,yhat.shape)\n",
    "        mae = mean_absolute_error(y_test, yhat)\n",
    "        print('>%d, MAE: %.3f' % (i+1, mae))\n",
    "        ensemble.append(model) # store the model\n",
    "    return ensemble\n",
    "\n",
    "n_members = 20\n",
    "ensemble = list()\n",
    "for i in range(n_members):\n",
    "  model = fit_model(train_X, train_y) # define and fit the model on the training set\n",
    "  yhat = model.predict(test_X, verbose=0) # evaluate model on the test set\n",
    "  print(test_y,yhat.shape)\n",
    "  mae = mean_absolute_error(test_y, yhat)\n",
    "  print('>%d, MAE: %.3f' % (i+1, mae))\n",
    "  ensemble.append(model) # store the model\n",
    "    \n",
    "# make predictions with the ensemble and calculate a prediction interval\n",
    "def predict_with_pi(ensemble, X,n_members):\n",
    "    yhat = [model.predict(X, verbose=0) for model in ensemble]\n",
    "    yhat = asarray(yhat)\n",
    "    yhat = np.reshape(yhat,[n_members,1])\n",
    "    print(yhat.shape)\n",
    "    # yhat = scaled2.inverse_transform(yhat)\n",
    "    yhat = scaler2.inverse_transform(yhat) # invert scaling for actual\n",
    "    yhat = yhat[:,0] \n",
    "    interval = 1.96 * yhat.std()/math.sqrt(len(yhat))\n",
    "    lower, upper = yhat.mean() - interval, yhat.mean() + interval\n",
    "    return lower, yhat.mean(), upper\n",
    "\n",
    "n_members=len(ensemble)\n",
    "# make predictions with prediction interval\n",
    "newX = asarray([test_X[0, :]])\n",
    "lower, mean, upper = predict_with_pi(ensemble, newX,n_members)\n",
    "# print(test_y)\n",
    "# print('Point prediction: %.1f' % mean)\n",
    "print('95%% prediction interval: [%.1f, %.1f]' % (lower, upper))\n",
    "print('True value: %.1f' % test_y[0])\n",
    "outcome = {'Prediction': [mean],\n",
    "           '95%CI.Min': [lower],\n",
    "           '95%CI.Max': [upper]\n",
    "           }\n",
    "\n",
    "\n",
    "outcome12= pd.DataFrame(outcome)\n",
    "outcome12\n",
    "\n",
    "from os import path\n",
    "#save ensemble\n",
    "for i,i_model in enumerate(ensemble):\n",
    "    i_model.save(path.join(sheet, '12',f'ensemble_corr_{i}.h5'))\n",
    "#   i_model.save(f'BYX/1/ensemble_corr_{i}.h5')\n",
    "\n",
    "\n",
    "\n",
    "#save model\n",
    "# model.save(f'/1/model_corr.h5')\n",
    "model.save(path.join(sheet, '12','model_corr.h5'))\n",
    "\n",
    "\n"
   ]
  },
  {
   "cell_type": "markdown",
   "source": [
    "## Prediciton Chart"
   ],
   "metadata": {
    "collapsed": false,
    "pycharm": {
     "name": "#%% md\n"
    }
   }
  },
  {
   "cell_type": "code",
   "execution_count": 10,
   "metadata": {
    "pycharm": {
     "name": "#%%\n"
    }
   },
   "outputs": [
    {
     "data": {
      "text/plain": "<Figure size 1000x1000 with 1 Axes>",
      "image/png": "[encoded data removed]"
     },
     "metadata": {},
     "output_type": "display_data"
    }
   ],
   "source": [
    "#Concatenate all dataframes by identical columns\n",
    "\n",
    "df=pd.concat([outcome1, outcome2,outcome3,outcome4,outcome5,outcome6,outcome12])\n",
    "# df=pd.concat([outcome6,outcome12])\n",
    "\n",
    "insert_index = 0\n",
    "insert_colname = 'Asset'\n",
    "insert_values = ['Options','Options','Options','Options','Options','Options','Options'] # this can be a numpy array too\n",
    "# insert_values = ['Options','Options'] # this can be a numpy array too\n",
    "df.insert(loc=insert_index, column=insert_colname, value=insert_values)\n",
    "\n",
    "\n",
    "insert_index = 1\n",
    "insert_colname = 'Product'\n",
    "insert_values = [sheet,sheet,sheet,sheet,sheet,sheet,sheet] # this can be a numpy array too\n",
    "# insert_values = [sheet,sheet] # this can be a numpy array too\n",
    "df.insert(loc=insert_index, column=insert_colname, value=insert_values)\n",
    "\n",
    "insert_index = 2\n",
    "insert_colname = 'Month Ahead'\n",
    "insert_values = ['1','2','3','4','5','6','12'] # this can be a numpy array too\n",
    "# insert_values = ['6','12'] # this can be a numpy array too\n",
    "df.insert(loc=insert_index, column=insert_colname, value=insert_values)\n",
    "\n",
    "globals()[sheet] = df\n",
    "\n",
    "import matplotlib.pyplot as mp\n",
    "df.plot(title=sheet,x='Month Ahead',y=[\"Prediction\",\"95%CI.Min\",\"95%CI.Max\"],kind=\"line\",figsize=(10,10))\n",
    "mp.show()"
   ]
  },
  {
   "cell_type": "code",
   "execution_count": 11,
   "metadata": {
    "pycharm": {
     "name": "#%%\n"
    }
   },
   "outputs": [
    {
     "data": {
      "text/plain": "{'__name__': '__main__',\n '__doc__': 'Automatically created module for IPython interactive environment',\n '__package__': None,\n '__loader__': None,\n '__spec__': None,\n '__builtin__': <module 'builtins' (built-in)>,\n '__builtins__': <module 'builtins' (built-in)>,\n '_ih': ['',\n  \"# sheet='C1'\\n# sheet='C2'\\n# sheet='BYX'\\n# sheet='BZX'\\n# sheet='EDGA'\\n# sheet='EDGX_Equities'\\nsheet='EXO_EDGX_Options'\\n# sheet='OPT_BZX_BATS'\\n# sheet='CFE'\",\n  \"from math import sqrt\\nfrom numpy import concatenate\\nfrom matplotlib import pyplot\\nimport pandas as pd\\nfrom pandas import read_csv\\nfrom pandas import DataFrame\\nfrom pandas import concat\\nfrom sklearn.preprocessing import MinMaxScaler\\nfrom sklearn.preprocessing import LabelEncoder\\nfrom sklearn.metrics import mean_squared_error\\nfrom keras.models import Sequential\\nfrom keras.layers import Dense\\nfrom keras.layers import LSTM\\n\\n\\nimport io\\nimport datetime\\n\\n# sheet='C1'\\n# sheet='C2'\\n# sheet='BYX'\\n# sheet='BZX'\\n# sheet='EDGA'\\n# sheet='EDGX_Equities'\\n# sheet='EXO_EDGX Options'\\n# sheet='OPT_BZX BATS'\\n# sheet='CFE'\\n\\n#load ensemble\\nimport os\\nfrom keras.models import load_model\\n\\ndf= pd.read_excel(r'../Logical Ports Prediction.xlsx',sheet_name=sheet,header=0)\\n# df= pd.read_excel(r'Logical Ports Prediction.xlsx',sheet_name='C2',header=0)\\ndf.dropna(subset=['Date'],inplace=True)\\n\\nfrom datetime import datetime as dt\\nlast_date=df.loc[:,'Date']\\nlast_date=last_date.iat[-1]\\nlast_date=last_date.strftime('%Y-%m-%d')\\nlast_date\\n\\ndf=df[df['Date']<=last_date].reset_index(drop=True)\\ndf.tail()\\ndf['Year'] = pd.to_datetime(df['Date']).dt.strftime('%Y')\\ndf['Month'] = pd.to_datetime(df['Date']).dt.strftime('%m')\\n\\ndf.drop(['Date','Logical Ports','Asset'],axis=1,inplace=True)\\nfirst_column = df.pop('Year')\\ndf.insert(0, 'Year', first_column)\\nsecond_column = df.pop('Month')\\ndf.insert(1, 'Month', second_column)\\nfirst_column = df.pop('PortQyt')\\ndf.insert(0, 'PortQyt', first_column)\\n\\ndf.shape\\nprint(len(list(df)[:]))\\n# # df=df.drop(['D&J_Close30d_Avg.','D&J_Close30d_Min','Monthly Real GDP Index','TCV','FEDFUNDS','Unemployement Rate','SPX_Price30d_Std.','D&J_Close30d_Std.','VIX_Close30d_Max.','VIX_Close30d_Avg.','VIX_Close30d_Std.','VIX_Close30d_Min.'],axis=1)\\n\\nvalues=df.values\\n#\\n# import matplotlib.pyplot as pp\\n# pp.plot(values[:,0])\\n# pp.show()\\n\\n# # encoder = LabelEncoder()\\n# # # # print(values[:,0]) #PortQyt Value\\n# # values[:,0]=encoder.fit_transform(values[:,0])\\n# # print(values[:,0])\\n\\n# import matplotlib.pyplot as pp\\n# pp.plot(values[:,0])\\n# pp.show()\\n\\n# # print(values[:,4].shape)\\n# # print(values[:,4])\\nvalues = values.astype('float32')\\n\\n# specify the number of lag hours\\nn_months = 5\\nn_features = len(list(df)[:])\\n\\n#Normalize the first feature\\nfrom sklearn.preprocessing import StandardScaler\\nscaler2 = MinMaxScaler(feature_range=(0, 1)).fit(values[:,0:1])\\n# train_y = scaler2.transform(values[:,-n_features])\\n# scaled2 = scaler2.fit_transform(values) #try\\n\\n\\n# # normalize features\\nscaler = MinMaxScaler(feature_range=(0, 1))\\nscaled = scaler.fit_transform(values)\\n\\n\\n# len(list(dataset.columns))-3\\n\\n# convert series to supervised learning\\ndef series_to_supervised(data, n_in=1, n_out=1, dropnan=True):\\n\\tn_vars = 1 if type(data) is list else data.shape[1]\\n\\tdf = DataFrame(data)\\n\\tcols, names = list(), list()\\n\\t# input sequence (t-n, ... t-1)\\n\\tfor i in range(n_in, 0, -1):\\n\\t\\tcols.append(df.shift(i))\\n\\t\\tnames += [('var%d(t-%d)' % (j+1, i)) for j in range(n_vars)]\\n\\t# forecast sequence (t, t+1, ... t+n)\\n\\tfor i in range(0, n_out):\\n\\t\\tcols.append(df.shift(-i))\\n\\t\\tif i == 0:\\n\\t\\t\\tnames += [('var%d(t)' % (j+1)) for j in range(n_vars)]\\n\\t\\telse:\\n\\t\\t\\tnames += [('var%d(t+%d)' % (j+1, i)) for j in range(n_vars)]\\n\\t# put it all together\\n\\tagg = concat(cols, axis=1)\\n\\tagg.columns = names\\n\\t# drop rows with NaN values\\n\\tif dropnan:\\n\\t\\tagg.dropna(inplace=True)\\n\\treturn agg\\n\\n# frame as supervised learning\\nreframed = series_to_supervised(scaled, n_months, 1)\\n# print(reframed.shape)\\n\\n\\n# print(reframed.tail())\\n\\n# split into train and test sets\\nvalues = reframed.values\\nn_train_months = 36\\ntrain = values[:n_train_months, :]\\ntest = values[n_train_months:, :]\\nprint(values.shape)\\n# split into input and outputs\\nn_obs = ((n_months+1))* n_features #the following fourth month\\ntrain.shape\\ntrain_X, train_y = train[:, :n_obs], train[:, -n_features*(1+5):-n_features*(1+5)+1]\\ntest_X, test_y = test[:, :n_obs], test[:, -n_features*(1+5):-n_features*(1+5)+1]\\nprint(test.shape)\\n\\n\\n# import matplotlib.pyplot as pp\\n# pp.plot(train_y)\\n# pp.show()\\n\\ntrain_X = train_X.reshape((train_X.shape[0], (n_months+1) , n_features))\\ntest_X = test_X.reshape((test_X.shape[0], (n_months+1), n_features))\\nprint(train_X.shape, train_y.shape, test_X.shape, test_y.shape)\\n\\n# prediction interval for mlps on the housing regression dataset\\nfrom numpy import asarray\\nfrom pandas import read_csv\\nfrom sklearn.model_selection import train_test_split\\nfrom sklearn.metrics import mean_absolute_error\\nfrom sklearn.preprocessing import MinMaxScaler\\nfrom tensorflow.keras.models import Sequential\\nfrom tensorflow.keras.layers import Dense\\nfrom tensorflow.keras.optimizers import Adam\\nimport tensorflow as tf\\nimport math\\nimport numpy as np\\n\\n\\n# define and fit the model\\ndef fit_model(X_train, y_train):\\n    features = X_train.shape[1]\\n    model = Sequential()\\n    model.add(LSTM(50, input_shape=(train_X.shape[1], train_X.shape[2])))\\n    model.add(Dense(1))\\n    model.compile(loss='mse', optimizer='adam')\\n    model.fit(X_train, y_train, verbose=0, epochs=50, batch_size=16)\\n    return model\\n\\n\\n\\n# fit an ensemble of models\\ndef fit_ensemble(n_members, X_train, X_test, y_train, y_test):\\n    ensemble = list()\\n    for i in range(n_members):\\n        model = fit_model(X_train, y_train) # define and fit the model on the training set\\n        yhat = model.predict(X_test, verbose=0) # evaluate model on the test set\\n        print(y_test.shape,yhat.shape)\\n        mae = mean_absolute_error(y_test, yhat)\\n        print('>%d, MAE: %.3f' % (i+1, mae))\\n        ensemble.append(model) # store the model\\n    return ensemble, model\\n\\nn_members = 20\\nensemble = list()\\nfor i in range(n_members):\\n  model = fit_model(train_X, train_y) # define and fit the model on the training set\\n  yhat = model.predict(test_X, verbose=0) # evaluate model on the test set\\n  print(test_y,yhat.shape)\\n  mae = mean_absolute_error(test_y, yhat)\\n  print('>%d, MAE: %.3f' % (i+1, mae))\\n  ensemble.append(model) # store the model\\n\\n# make predictions with the ensemble and calculate a prediction interval\\ndef predict_with_pi(ensemble, X,n_members):\\n    yhat = [model.predict(X, verbose=0) for model in ensemble]\\n    yhat = asarray(yhat)\\n    yhat = np.reshape(yhat,[n_members,1])\\n    print(yhat.shape)\\n    # yhat = scaled2.inverse_transform(yhat)\\n    yhat = scaler2.inverse_transform(yhat) # invert scaling for actual\\n    yhat = yhat[:,0]\\n    interval = 1.96 * yhat.std()/math.sqrt(len(yhat))\\n    lower, upper = yhat.mean() - interval, yhat.mean() + interval\\n    return lower, yhat.mean(), upper\\n\\nn_members=len(ensemble)\\n# make predictions with prediction interval\\nnewX = asarray([test_X[0, :]])\\nlower, mean, upper = predict_with_pi(ensemble, newX,n_members)\\n# print(test_y)\\n# print('Point prediction: %.1f' % mean)\\nprint('95%% prediction interval: [%.1f, %.1f]' % (lower, upper))\\nprint('True value: %.1f' % test_y[0])\\noutcome = {'Prediction': [mean],\\n           '95%CI.Min': [lower],\\n           '95%CI.Max': [upper]\\n           }\\n\\n\\noutcome1= pd.DataFrame(outcome)\\noutcome1\",\n  \"from os import path\\n#save ensemble\\nfor i,i_model in enumerate(ensemble):\\n    i_model.save(path.join(sheet, '1',f'ensemble_corr_{i}.h5'))\\n#   i_model.save(f'BYX/1/ensemble_corr_{i}.h5')\\n\\n\\n\\n#save model\\n# model.save(f'/1/model_corr.h5')\\nmodel.save(path.join(sheet, '1','model_corr.h5'))\",\n  \"from math import sqrt\\nimport numpy as np\\nfrom numpy import concatenate\\nfrom matplotlib import pyplot\\nimport pandas as pd\\nfrom pandas import read_csv\\nfrom pandas import DataFrame\\nfrom pandas import concat\\nfrom sklearn.preprocessing import MinMaxScaler\\nfrom sklearn.preprocessing import LabelEncoder\\nfrom sklearn.metrics import mean_squared_error\\nfrom keras.models import Sequential\\nfrom keras.layers import Dense\\nfrom keras.layers import LSTM\\n\\nimport io\\nimport datetime\\n\\n# sheet='BYX'\\ndf= pd.read_excel(r'../Logical Ports Prediction.xlsx',sheet_name=sheet,header=0)\\n# df= pd.read_excel(r'Logical Ports Prediction.xlsx',sheet_name='C2',header=0)\\ndf.dropna(subset=['Date'],inplace=True)\\n\\nfrom datetime import datetime as dt\\nlast_date=df.loc[:,'Date']\\nlast_date=last_date.iat[-1]\\nlast_date=last_date.strftime('%Y-%m-%d')\\nlast_date\\n\\ndf=df[df['Date']<=last_date].reset_index(drop=True)\\ndf.tail()\\ndf['Year'] = pd.to_datetime(df['Date']).dt.strftime('%Y')\\ndf['Month'] = pd.to_datetime(df['Date']).dt.strftime('%m')\\n\\ndf.drop(['Date','Logical Ports','Asset'],axis=1,inplace=True)\\nfirst_column = df.pop('Year')\\ndf.insert(0, 'Year', first_column)\\nsecond_column = df.pop('Month')\\ndf.insert(1, 'Month', second_column)\\nfirst_column = df.pop('PortQyt')\\ndf.insert(0, 'PortQyt', first_column)\\n\\ndf.shape\\nprint(len(list(df)[:]))\\n# # df=df.drop(['D&J_Close30d_Avg.','D&J_Close30d_Min','Monthly Real GDP Index','TCV','FEDFUNDS','Unemployement Rate','SPX_Price30d_Std.','D&J_Close30d_Std.','VIX_Close30d_Max.','VIX_Close30d_Avg.','VIX_Close30d_Std.','VIX_Close30d_Min.'],axis=1)\\n\\n\\nvalues=df.values\\n#\\n# import matplotlib.pyplot as pp\\n# pp.plot(values[:,0])\\n# pp.show()\\n\\n# encoder = LabelEncoder()\\n# # # print(values[:,0]) #PortQyt Value\\n# values[:,0]=encoder.fit_transform(values[:,0])\\n# print(values[:,0])\\n\\n# import matplotlib.pyplot as pp\\n# pp.plot(values[:,0])\\n# pp.show()\\n\\n# # print(values[:,4].shape)\\n# # print(values[:,4])\\nvalues = values.astype('float32')\\n\\n# specify the number of lag hours\\nn_months = 5\\nn_features = len(list(df)[:])\\n\\n#Normalize the first feature\\nfrom sklearn.preprocessing import StandardScaler\\nscaler2 = MinMaxScaler(feature_range=(0, 1)).fit(values[:,0:1])\\n# train_y = scaler2.transform(values[:,-n_features])\\n# scaled2 = scaler2.fit_transform(values) #try\\n\\n\\n# # normalize features\\nscaler = MinMaxScaler(feature_range=(0, 1))\\nscaled = scaler.fit_transform(values)\\n\\n\\n# len(list(dataset.columns))-3\\n\\n# convert series to supervised learning\\ndef series_to_supervised(data, n_in=1, n_out=1, dropnan=True):\\n\\tn_vars = 1 if type(data) is list else data.shape[1]\\n\\tdf = DataFrame(data)\\n\\tcols, names = list(), list()\\n\\t# input sequence (t-n, ... t-1)\\n\\tfor i in range(n_in, 0, -1):\\n\\t\\tcols.append(df.shift(i))\\n\\t\\tnames += [('var%d(t-%d)' % (j+1, i)) for j in range(n_vars)]\\n\\t# forecast sequence (t, t+1, ... t+n)\\n\\tfor i in range(0, n_out):\\n\\t\\tcols.append(df.shift(-i))\\n\\t\\tif i == 0:\\n\\t\\t\\tnames += [('var%d(t)' % (j+1)) for j in range(n_vars)]\\n\\t\\telse:\\n\\t\\t\\tnames += [('var%d(t+%d)' % (j+1, i)) for j in range(n_vars)]\\n\\t# put it all together\\n\\tagg = concat(cols, axis=1)\\n\\tagg.columns = names\\n\\t# drop rows with NaN values\\n\\tif dropnan:\\n\\t\\tagg.dropna(inplace=True)\\n\\treturn agg\\n\\n# frame as supervised learning\\nreframed = series_to_supervised(scaled, n_months, 1)\\n# print(reframed.shape)\\n\\n\\n# print(reframed.tail())\\n\\n\\n# split into train and test sets\\nvalues = reframed.values\\nn_train_months = 36\\ntrain = values[:n_train_months, :]\\ntest = values[n_train_months:, :]\\nprint(values.shape)\\n# split into input and outputs\\nn_obs = ((n_months+1))* n_features #the following fourth month\\ntrain.shape\\ntrain_X, train_y = train[:, :n_obs], train[:, -n_features*(1+4):-n_features*(1+4)+1] \\ntest_X, test_y = test[:, :n_obs], test[:, -n_features*(1+4):-n_features*(1+4)+1]\\nprint(test.shape)\\n\\n\\n# import matplotlib.pyplot as pp\\n# pp.plot(train_y)\\n# pp.show()\\n\\ntrain_X = train_X.reshape((train_X.shape[0], (n_months+1) , n_features))\\ntest_X = test_X.reshape((test_X.shape[0], (n_months+1), n_features))\\nprint(train_X.shape, train_y.shape, test_X.shape, test_y.shape)\\n\\n\\n# prediction interval for mlps on the housing regression dataset\\nfrom numpy import asarray\\nfrom pandas import read_csv\\nfrom sklearn.model_selection import train_test_split\\nfrom sklearn.metrics import mean_absolute_error\\nfrom sklearn.preprocessing import MinMaxScaler\\nfrom tensorflow.keras.models import Sequential\\nfrom tensorflow.keras.layers import Dense\\nfrom tensorflow.keras.optimizers import Adam\\nimport tensorflow as tf\\nimport math\\nimport numpy as np\\n\\n \\n# define and fit the model\\ndef fit_model(X_train, y_train):\\n    features = X_train.shape[1]\\n    model = Sequential()\\n    model.add(LSTM(50, input_shape=(train_X.shape[1], train_X.shape[2])))\\n    model.add(Dense(1))\\n    model.compile(loss='mse', optimizer='adam')\\n    model.fit(X_train, y_train, verbose=0, epochs=50, batch_size=16)\\n    return model\\n\\n\\t\\n \\n# fit an ensemble of models\\ndef fit_ensemble(n_members, X_train, X_test, y_train, y_test):\\n    ensemble = list()\\n    for i in range(n_members):\\n        model = fit_model(X_train, y_train) # define and fit the model on the training set\\n        yhat = model.predict(X_test, verbose=0) # evaluate model on the test set\\n        print(y_test.shape,yhat.shape)\\n        mae = mean_absolute_error(y_test, yhat)\\n        print('>%d, MAE: %.3f' % (i+1, mae))\\n        ensemble.append(model) # store the model\\n    return ensemble\\n\\nn_members = 20\\nensemble = list()\\nfor i in range(n_members):\\n  model = fit_model(train_X, train_y) # define and fit the model on the training set\\n  yhat = model.predict(test_X, verbose=0) # evaluate model on the test set\\n  print(test_y,yhat.shape)\\n  mae = mean_absolute_error(test_y, yhat)\\n  print('>%d, MAE: %.3f' % (i+1, mae))\\n  ensemble.append(model) # store the model\\n    \\n# make predictions with the ensemble and calculate a prediction interval\\ndef predict_with_pi(ensemble, X,n_members):\\n    yhat = [model.predict(X, verbose=0) for model in ensemble]\\n    yhat = asarray(yhat)\\n    yhat = np.reshape(yhat,[n_members,1])\\n    print(yhat.shape)\\n    # yhat = scaled2.inverse_transform(yhat)\\n    yhat = scaler2.inverse_transform(yhat) # invert scaling for actual\\n    yhat = yhat[:,0] \\n    interval = 1.96 * yhat.std()/math.sqrt(len(yhat))\\n    lower, upper = yhat.mean() - interval, yhat.mean() + interval\\n    return lower, yhat.mean(), upper\\n\\nn_members=len(ensemble)\\n# make predictions with prediction interval\\nnewX = asarray([test_X[0, :]])\\nlower, mean, upper = predict_with_pi(ensemble, newX,n_members)\\n# print(test_y)\\n# print('Point prediction: %.1f' % mean)\\nprint('95%% prediction interval: [%.1f, %.1f]' % (lower, upper))\\nprint('True value: %.1f' % test_y[0])\\noutcome = {'Prediction': [mean],\\n           '95%CI.Min': [lower],\\n           '95%CI.Max': [upper]\\n           }\\n\\n\\noutcome2= pd.DataFrame(outcome)\\noutcome2\\n\\nfrom os import path\\n#save ensemble\\nfor i,i_model in enumerate(ensemble):\\n    i_model.save(path.join(sheet, '2',f'ensemble_corr_{i}.h5'))\\n#   i_model.save(f'BYX/1/ensemble_corr_{i}.h5')\\n\\n\\n\\n#save model\\n# model.save(f'/1/model_corr.h5')\\nmodel.save(path.join(sheet, '2','model_corr.h5'))\",\n  \"from math import sqrt\\nfrom numpy import concatenate\\nfrom matplotlib import pyplot\\nimport pandas as pd\\nfrom pandas import read_csv\\nfrom pandas import DataFrame\\nfrom pandas import concat\\nfrom sklearn.preprocessing import MinMaxScaler\\nfrom sklearn.preprocessing import LabelEncoder\\nfrom sklearn.metrics import mean_squared_error\\nfrom keras.models import Sequential\\nfrom keras.layers import Dense\\nfrom keras.layers import LSTM\\n\\nimport io\\nimport datetime\\n\\n# sheet='BYX'\\ndf= pd.read_excel(r'../Logical Ports Prediction.xlsx',sheet_name=sheet,header=0)\\n# df= pd.read_excel(r'Logical Ports Prediction.xlsx',sheet_name='C2',header=0)\\ndf.dropna(subset=['Date'],inplace=True)\\n\\nfrom datetime import datetime as dt\\nlast_date=df.loc[:,'Date']\\nlast_date=last_date.iat[-1]\\nlast_date=last_date.strftime('%Y-%m-%d')\\nlast_date\\n\\ndf=df[df['Date']<=last_date].reset_index(drop=True)\\ndf.tail()\\ndf['Year'] = pd.to_datetime(df['Date']).dt.strftime('%Y')\\ndf['Month'] = pd.to_datetime(df['Date']).dt.strftime('%m')\\n\\ndf.drop(['Date','Logical Ports','Asset'],axis=1,inplace=True)\\nfirst_column = df.pop('Year')\\ndf.insert(0, 'Year', first_column)\\nsecond_column = df.pop('Month')\\ndf.insert(1, 'Month', second_column)\\nfirst_column = df.pop('PortQyt')\\ndf.insert(0, 'PortQyt', first_column)\\n\\ndf.shape\\nprint(len(list(df)[:]))\\n# # df=df.drop(['D&J_Close30d_Avg.','D&J_Close30d_Min','Monthly Real GDP Index','TCV','FEDFUNDS','Unemployement Rate','SPX_Price30d_Std.','D&J_Close30d_Std.','VIX_Close30d_Max.','VIX_Close30d_Avg.','VIX_Close30d_Std.','VIX_Close30d_Min.'],axis=1)\\n\\n\\nvalues=df.values\\n#\\n# import matplotlib.pyplot as pp\\n# pp.plot(values[:,0])\\n# pp.show()\\n\\n# encoder = LabelEncoder()\\n# # # print(values[:,0]) #PortQyt Value\\n# values[:,0]=encoder.fit_transform(values[:,0])\\n# print(values[:,0])\\n\\n# import matplotlib.pyplot as pp\\n# pp.plot(values[:,0])\\n# pp.show()\\n\\n# # print(values[:,4].shape)\\n# # print(values[:,4])\\nvalues = values.astype('float32')\\n\\n# specify the number of lag hours\\nn_months = 5\\nn_features = len(list(df)[:])\\n\\n#Normalize the first feature\\nfrom sklearn.preprocessing import StandardScaler\\nscaler2 = MinMaxScaler(feature_range=(0, 1)).fit(values[:,0:1])\\n# train_y = scaler2.transform(values[:,-n_features])\\n# scaled2 = scaler2.fit_transform(values) #try\\n\\n\\n# # normalize features\\nscaler = MinMaxScaler(feature_range=(0, 1))\\nscaled = scaler.fit_transform(values)\\n\\n\\n# len(list(dataset.columns))-3\\n\\n# convert series to supervised learning\\ndef series_to_supervised(data, n_in=1, n_out=1, dropnan=True):\\n\\tn_vars = 1 if type(data) is list else data.shape[1]\\n\\tdf = DataFrame(data)\\n\\tcols, names = list(), list()\\n\\t# input sequence (t-n, ... t-1)\\n\\tfor i in range(n_in, 0, -1):\\n\\t\\tcols.append(df.shift(i))\\n\\t\\tnames += [('var%d(t-%d)' % (j+1, i)) for j in range(n_vars)]\\n\\t# forecast sequence (t, t+1, ... t+n)\\n\\tfor i in range(0, n_out):\\n\\t\\tcols.append(df.shift(-i))\\n\\t\\tif i == 0:\\n\\t\\t\\tnames += [('var%d(t)' % (j+1)) for j in range(n_vars)]\\n\\t\\telse:\\n\\t\\t\\tnames += [('var%d(t+%d)' % (j+1, i)) for j in range(n_vars)]\\n\\t# put it all together\\n\\tagg = concat(cols, axis=1)\\n\\tagg.columns = names\\n\\t# drop rows with NaN values\\n\\tif dropnan:\\n\\t\\tagg.dropna(inplace=True)\\n\\treturn agg\\n\\n# frame as supervised learning\\nreframed = series_to_supervised(scaled, n_months, 1)\\n# print(reframed.shape)\\n\\n\\n# print(reframed.tail())\\n\\n\\n\\n\\n\\n# split into train and test sets\\nvalues = reframed.values\\nn_train_months = 36\\ntrain = values[:n_train_months, :]\\ntest = values[n_train_months:, :]\\nprint(values.shape)\\n# split into input and outputs\\nn_obs = (n_months+1)* n_features #the following fourth month\\ntrain.shape\\ntrain_X, train_y = train[:, :n_obs], train[:, -n_features*(1+3):-n_features*(1+3)+1] \\ntest_X, test_y = test[:, :n_obs], test[:, -n_features*(1+3):-n_features*(1+3)+1]\\nprint(test.shape)\\n\\n\\n# import matplotlib.pyplot as pp\\n# pp.plot(train_y)\\n# pp.show()\\n\\ntrain_X = train_X.reshape((train_X.shape[0], (n_months+1), n_features))\\ntest_X = test_X.reshape((test_X.shape[0], (n_months+1), n_features))\\nprint(train_X.shape, train_y.shape, test_X.shape, test_y.shape)\\n\\n# prediction interval for mlps on the housing regression dataset\\nfrom numpy import asarray\\nfrom pandas import read_csv\\nfrom sklearn.model_selection import train_test_split\\nfrom sklearn.metrics import mean_absolute_error\\nfrom sklearn.preprocessing import MinMaxScaler\\nfrom tensorflow.keras.models import Sequential\\nfrom tensorflow.keras.layers import Dense\\nfrom tensorflow.keras.optimizers import Adam\\nimport tensorflow as tf\\nimport math\\nimport numpy as np\\n\\n \\n# define and fit the model\\ndef fit_model(X_train, y_train):\\n    features = X_train.shape[1]\\n    model = Sequential()\\n    model.add(LSTM(50, input_shape=(train_X.shape[1], train_X.shape[2])))\\n    model.add(Dense(1))\\n    model.compile(loss='mse', optimizer='adam')\\n    model.fit(X_train, y_train, verbose=0, epochs=50, batch_size=16)\\n    return model\\n\\n\\t\\n \\n# fit an ensemble of models\\ndef fit_ensemble(n_members, X_train, X_test, y_train, y_test):\\n    ensemble = list()\\n    for i in range(n_members):\\n        model = fit_model(X_train, y_train) # define and fit the model on the training set\\n        yhat = model.predict(X_test, verbose=0) # evaluate model on the test set\\n        print(y_test.shape,yhat.shape)\\n        mae = mean_absolute_error(y_test, yhat)\\n        print('>%d, MAE: %.3f' % (i+1, mae))\\n        ensemble.append(model) # store the model\\n    return ensemble\\n\\nn_members = 20\\nensemble = list()\\nfor i in range(n_members):\\n  model = fit_model(train_X, train_y) # define and fit the model on the training set\\n  yhat = model.predict(test_X, verbose=0) # evaluate model on the test set\\n  print(test_y,yhat.shape)\\n  mae = mean_absolute_error(test_y, yhat)\\n  print('>%d, MAE: %.3f' % (i+1, mae))\\n  ensemble.append(model) # store the model\\n    \\n# make predictions with the ensemble and calculate a prediction interval\\ndef predict_with_pi(ensemble, X,n_members):\\n    yhat = [model.predict(X, verbose=0) for model in ensemble]\\n    yhat = asarray(yhat)\\n    yhat = np.reshape(yhat,[n_members,1])\\n    print(yhat.shape)\\n    # yhat = scaled2.inverse_transform(yhat)\\n    yhat = scaler2.inverse_transform(yhat) # invert scaling for actual\\n    yhat = yhat[:,0] \\n    interval = 1.96 * yhat.std()/math.sqrt(len(yhat))\\n    lower, upper = yhat.mean() - interval, yhat.mean() + interval\\n    return lower, yhat.mean(), upper\\n\\nn_members=len(ensemble)\\n# make predictions with prediction interval\\nnewX = asarray([test_X[0, :]])\\nlower, mean, upper = predict_with_pi(ensemble, newX,n_members)\\n# print(test_y)\\n# print('Point prediction: %.1f' % mean)\\nprint('95%% prediction interval: [%.1f, %.1f]' % (lower, upper))\\nprint('True value: %.1f' % test_y[0])\\noutcome = {'Prediction': [mean],\\n           '95%CI.Min': [lower],\\n           '95%CI.Max': [upper]\\n           }\\n\\n\\noutcome3= pd.DataFrame(outcome)\\noutcome3\\n\\nfrom os import path\\n#save ensemble\\nfor i,i_model in enumerate(ensemble):\\n    i_model.save(path.join(sheet, '3',f'ensemble_corr_{i}.h5'))\\n#   i_model.save(f'BYX/1/ensemble_corr_{i}.h5')\\n\\n\\n\\n#save model\\n# model.save(f'/1/model_corr.h5')\\nmodel.save(path.join(sheet, '3','model_corr.h5'))\",\n  \"from math import sqrt\\nfrom numpy import concatenate\\nfrom matplotlib import pyplot\\nimport pandas as pd\\nfrom pandas import read_csv\\nfrom pandas import DataFrame\\nfrom pandas import concat\\nfrom sklearn.preprocessing import MinMaxScaler\\nfrom sklearn.preprocessing import LabelEncoder\\nfrom sklearn.metrics import mean_squared_error\\nfrom keras.models import Sequential\\nfrom keras.layers import Dense\\nfrom keras.layers import LSTM\\n\\nimport io\\nimport datetime\\n\\n# sheet='BYX'\\ndf= pd.read_excel(r'../Logical Ports Prediction.xlsx',sheet_name=sheet,header=0)\\n# df= pd.read_excel(r'Logical Ports Prediction.xlsx',sheet_name='C2',header=0)\\ndf.dropna(subset=['Date'],inplace=True)\\n\\nfrom datetime import datetime as dt\\nlast_date=df.loc[:,'Date']\\nlast_date=last_date.iat[-1]\\nlast_date=last_date.strftime('%Y-%m-%d')\\nlast_date\\n\\ndf=df[df['Date']<=last_date].reset_index(drop=True)\\ndf.tail()\\ndf['Year'] = pd.to_datetime(df['Date']).dt.strftime('%Y')\\ndf['Month'] = pd.to_datetime(df['Date']).dt.strftime('%m')\\n\\ndf.drop(['Date','Logical Ports','Asset'],axis=1,inplace=True)\\nfirst_column = df.pop('Year')\\ndf.insert(0, 'Year', first_column)\\nsecond_column = df.pop('Month')\\ndf.insert(1, 'Month', second_column)\\nfirst_column = df.pop('PortQyt')\\ndf.insert(0, 'PortQyt', first_column)\\n\\ndf.shape\\nprint(len(list(df)[:]))\\n# # df=df.drop(['D&J_Close30d_Avg.','D&J_Close30d_Min','Monthly Real GDP Index','TCV','FEDFUNDS','Unemployement Rate','SPX_Price30d_Std.','D&J_Close30d_Std.','VIX_Close30d_Max.','VIX_Close30d_Avg.','VIX_Close30d_Std.','VIX_Close30d_Min.'],axis=1)\\n\\n\\nvalues=df.values\\n# #\\n# import matplotlib.pyplot as pp\\n# pp.plot(values[:,0])\\n# pp.show()\\n\\n# encoder = LabelEncoder()\\n# # # print(values[:,0]) #PortQyt Value\\n# values[:,0]=encoder.fit_transform(values[:,0])\\n# print(values[:,0])\\n\\n# import matplotlib.pyplot as pp\\n# pp.plot(values[:,0])\\n# pp.show()\\n\\n# # print(values[:,4].shape)\\n# # print(values[:,4])\\nvalues = values.astype('float32')\\n\\n# specify the number of lag hours\\nn_months = 5\\nn_features = len(list(df)[:])\\n\\n#Normalize the first feature\\nfrom sklearn.preprocessing import StandardScaler\\nscaler2 = MinMaxScaler(feature_range=(0, 1)).fit(values[:,0:1])\\n# train_y = scaler2.transform(values[:,-n_features])\\n# scaled2 = scaler2.fit_transform(values) #try\\n\\n\\n# # normalize features\\nscaler = MinMaxScaler(feature_range=(0, 1))\\nscaled = scaler.fit_transform(values)\\n\\n\\n# len(list(dataset.columns))-3\\n\\n# convert series to supervised learning\\ndef series_to_supervised(data, n_in=1, n_out=1, dropnan=True):\\n\\tn_vars = 1 if type(data) is list else data.shape[1]\\n\\tdf = DataFrame(data)\\n\\tcols, names = list(), list()\\n\\t# input sequence (t-n, ... t-1)\\n\\tfor i in range(n_in, 0, -1):\\n\\t\\tcols.append(df.shift(i))\\n\\t\\tnames += [('var%d(t-%d)' % (j+1, i)) for j in range(n_vars)]\\n\\t# forecast sequence (t, t+1, ... t+n)\\n\\tfor i in range(0, n_out):\\n\\t\\tcols.append(df.shift(-i))\\n\\t\\tif i == 0:\\n\\t\\t\\tnames += [('var%d(t)' % (j+1)) for j in range(n_vars)]\\n\\t\\telse:\\n\\t\\t\\tnames += [('var%d(t+%d)' % (j+1, i)) for j in range(n_vars)]\\n\\t# put it all together\\n\\tagg = concat(cols, axis=1)\\n\\tagg.columns = names\\n\\t# drop rows with NaN values\\n\\tif dropnan:\\n\\t\\tagg.dropna(inplace=True)\\n\\treturn agg\\n\\n# frame as supervised learning\\nreframed = series_to_supervised(scaled, n_months, 1)\\n# print(reframed.shape)\\n\\n\\n# print(reframed.tail())\\n\\n\\n\\n\\n\\n# split into train and test sets\\nvalues = reframed.values\\nn_train_months = 36\\ntrain = values[:n_train_months, :]\\ntest = values[n_train_months:, :]\\nprint(values.shape)\\n# split into input and outputs\\nn_obs = (n_months+1)* n_features #the following fourth month\\ntrain.shape\\ntrain_X, train_y = train[:, :n_obs], train[:, -n_features*(1+2):-n_features*(1+2)+1] \\ntest_X, test_y = test[:, :n_obs], test[:, -n_features*(1+2):-n_features*(1+2)+1]\\nprint(test.shape)\\n\\n\\n# import matplotlib.pyplot as pp\\n# pp.plot(train_y)\\n# pp.show()\\n\\ntrain_X = train_X.reshape((train_X.shape[0], (n_months+1), n_features))\\ntest_X = test_X.reshape((test_X.shape[0], (n_months+1), n_features))\\nprint(train_X.shape, train_y.shape, test_X.shape, test_y.shape)\\n\\n# prediction interval for mlps on the housing regression dataset\\nfrom numpy import asarray\\nfrom pandas import read_csv\\nfrom sklearn.model_selection import train_test_split\\nfrom sklearn.metrics import mean_absolute_error\\nfrom sklearn.preprocessing import MinMaxScaler\\nfrom tensorflow.keras.models import Sequential\\nfrom tensorflow.keras.layers import Dense\\nfrom tensorflow.keras.optimizers import Adam\\nimport tensorflow as tf\\nimport math\\nimport numpy as np\\n\\n \\n# define and fit the model\\ndef fit_model(X_train, y_train):\\n    features = X_train.shape[1]\\n    model = Sequential()\\n    model.add(LSTM(50, input_shape=(train_X.shape[1], train_X.shape[2])))\\n    model.add(Dense(1))\\n    model.compile(loss='mse', optimizer='adam')\\n    model.fit(X_train, y_train, verbose=0, epochs=50, batch_size=16)\\n    return model\\n\\n\\t\\n \\n# fit an ensemble of models\\ndef fit_ensemble(n_members, X_train, X_test, y_train, y_test):\\n    ensemble = list()\\n    for i in range(n_members):\\n        model = fit_model(X_train, y_train) # define and fit the model on the training set\\n        yhat = model.predict(X_test, verbose=0) # evaluate model on the test set\\n        print(y_test.shape,yhat.shape)\\n        mae = mean_absolute_error(y_test, yhat)\\n        print('>%d, MAE: %.3f' % (i+1, mae))\\n        ensemble.append(model) # store the model\\n    return ensemble\\n\\nn_members = 20\\nensemble = list()\\nfor i in range(n_members):\\n  model = fit_model(train_X, train_y) # define and fit the model on the training set\\n  yhat = model.predict(test_X, verbose=0) # evaluate model on the test set\\n  print(test_y,yhat.shape)\\n  mae = mean_absolute_error(test_y, yhat)\\n  print('>%d, MAE: %.3f' % (i+1, mae))\\n  ensemble.append(model) # store the model\\n    \\n# make predictions with the ensemble and calculate a prediction interval\\ndef predict_with_pi(ensemble, X,n_members):\\n    yhat = [model.predict(X, verbose=0) for model in ensemble]\\n    yhat = asarray(yhat)\\n    yhat = np.reshape(yhat,[n_members,1])\\n    print(yhat.shape)\\n    # yhat = scaled2.inverse_transform(yhat)\\n    yhat = scaler2.inverse_transform(yhat) # invert scaling for actual\\n    yhat = yhat[:,0] \\n    interval = 1.96 * yhat.std()/math.sqrt(len(yhat))\\n    lower, upper = yhat.mean() - interval, yhat.mean() + interval\\n    return lower, yhat.mean(), upper\\n\\nn_members=len(ensemble)\\n# make predictions with prediction interval\\nnewX = asarray([test_X[0, :]])\\nlower, mean, upper = predict_with_pi(ensemble, newX,n_members)\\n# print(test_y)\\n# print('Point prediction: %.1f' % mean)\\nprint('95%% prediction interval: [%.1f, %.1f]' % (lower, upper))\\nprint('True value: %.1f' % test_y[0])\\noutcome = {'Prediction': [mean],\\n           '95%CI.Min': [lower],\\n           '95%CI.Max': [upper]\\n           }\\n\\n\\noutcome4= pd.DataFrame(outcome)\\noutcome4\\n\\nfrom os import path\\n#save ensemble\\nfor i,i_model in enumerate(ensemble):\\n    i_model.save(path.join(sheet, '4',f'ensemble_corr_{i}.h5'))\\n#   i_model.save(f'BYX/1/ensemble_corr_{i}.h5')\\n\\n\\n\\n#save model\\n# model.save(f'/1/model_corr.h5')\\nmodel.save(path.join(sheet, '4','model_corr.h5'))\",\n  \"from math import sqrt\\nfrom numpy import concatenate\\nfrom matplotlib import pyplot\\nimport pandas as pd\\nfrom pandas import read_csv\\nfrom pandas import DataFrame\\nfrom pandas import concat\\nfrom sklearn.preprocessing import MinMaxScaler\\nfrom sklearn.preprocessing import LabelEncoder\\nfrom sklearn.metrics import mean_squared_error\\nfrom keras.models import Sequential\\nfrom keras.layers import Dense\\nfrom keras.layers import LSTM\\n\\nimport io\\nimport datetime\\n\\n# sheet='BYX'\\ndf= pd.read_excel(r'../Logical Ports Prediction.xlsx',sheet_name=sheet,header=0)\\n# df= pd.read_excel(r'Logical Ports Prediction.xlsx',sheet_name='C2',header=0)\\ndf.dropna(subset=['Date'],inplace=True)\\n\\nfrom datetime import datetime as dt\\nlast_date=df.loc[:,'Date']\\nlast_date=last_date.iat[-1]\\nlast_date=last_date.strftime('%Y-%m-%d')\\nlast_date\\n\\ndf=df[df['Date']<=last_date].reset_index(drop=True)\\ndf.tail()\\ndf['Year'] = pd.to_datetime(df['Date']).dt.strftime('%Y')\\ndf['Month'] = pd.to_datetime(df['Date']).dt.strftime('%m')\\n\\ndf.drop(['Date','Logical Ports','Asset'],axis=1,inplace=True)\\nfirst_column = df.pop('Year')\\ndf.insert(0, 'Year', first_column)\\nsecond_column = df.pop('Month')\\ndf.insert(1, 'Month', second_column)\\nfirst_column = df.pop('PortQyt')\\ndf.insert(0, 'PortQyt', first_column)\\n\\ndf.shape\\nprint(len(list(df)[:]))\\n# # df=df.drop(['D&J_Close30d_Avg.','D&J_Close30d_Min','Monthly Real GDP Index','TCV','FEDFUNDS','Unemployement Rate','SPX_Price30d_Std.','D&J_Close30d_Std.','VIX_Close30d_Max.','VIX_Close30d_Avg.','VIX_Close30d_Std.','VIX_Close30d_Min.'],axis=1)\\n\\n\\nvalues=df.values\\n#\\n# import matplotlib.pyplot as pp\\n# pp.plot(values[:,0])\\n# pp.show()\\n\\n# encoder = LabelEncoder()\\n# # # print(values[:,0]) #PortQyt Value\\n# values[:,0]=encoder.fit_transform(values[:,0])\\n# print(values[:,0])\\n\\n# import matplotlib.pyplot as pp\\n# pp.plot(values[:,0])\\n# pp.show()\\n\\n# # print(values[:,4].shape)\\n# # print(values[:,4])\\nvalues = values.astype('float32')\\n\\n# specify the number of lag hours\\nn_months = 5\\nn_features = len(list(df)[:])\\n\\n#Normalize the first feature\\nfrom sklearn.preprocessing import StandardScaler\\nscaler2 = MinMaxScaler(feature_range=(0, 1)).fit(values[:,0:1])\\n# train_y = scaler2.transform(values[:,-n_features])\\n# scaled2 = scaler2.fit_transform(values) #try\\n\\n\\n# # normalize features\\nscaler = MinMaxScaler(feature_range=(0, 1))\\nscaled = scaler.fit_transform(values)\\n\\n\\n# len(list(dataset.columns))-3\\n\\n# convert series to supervised learning\\ndef series_to_supervised(data, n_in=1, n_out=1, dropnan=True):\\n\\tn_vars = 1 if type(data) is list else data.shape[1]\\n\\tdf = DataFrame(data)\\n\\tcols, names = list(), list()\\n\\t# input sequence (t-n, ... t-1)\\n\\tfor i in range(n_in, 0, -1):\\n\\t\\tcols.append(df.shift(i))\\n\\t\\tnames += [('var%d(t-%d)' % (j+1, i)) for j in range(n_vars)]\\n\\t# forecast sequence (t, t+1, ... t+n)\\n\\tfor i in range(0, n_out):\\n\\t\\tcols.append(df.shift(-i))\\n\\t\\tif i == 0:\\n\\t\\t\\tnames += [('var%d(t)' % (j+1)) for j in range(n_vars)]\\n\\t\\telse:\\n\\t\\t\\tnames += [('var%d(t+%d)' % (j+1, i)) for j in range(n_vars)]\\n\\t# put it all together\\n\\tagg = concat(cols, axis=1)\\n\\tagg.columns = names\\n\\t# drop rows with NaN values\\n\\tif dropnan:\\n\\t\\tagg.dropna(inplace=True)\\n\\treturn agg\\n\\n# frame as supervised learning\\nreframed = series_to_supervised(scaled, n_months, 1)\\n# print(reframed.shape)\\n\\n\\n# print(reframed.tail())\\n\\n\\n\\n\\n\\nm=6-5\\n# split into train and test sets\\nvalues = reframed.values\\nn_train_months = 36\\ntrain = values[:n_train_months, :]\\ntest = values[n_train_months:, :]\\nprint(values.shape)\\n# split into input and outputs\\nn_obs = (n_months+1)* n_features #the following fourth month\\ntrain.shape\\ntrain_X, train_y = train[:, :n_obs], train[:, -n_features*(1+m):-n_features*(1+m)+1] \\ntest_X, test_y = test[:, :n_obs], test[:, -n_features*(1+m):-n_features*(1+m)+1]\\nprint(test.shape)\\n\\n\\n# import matplotlib.pyplot as pp\\n# pp.plot(train_y)\\n# pp.show()\\n\\ntrain_X = train_X.reshape((train_X.shape[0], (n_months+1), n_features))\\ntest_X = test_X.reshape((test_X.shape[0], (n_months+1), n_features))\\nprint(train_X.shape, train_y.shape, test_X.shape, test_y.shape)\\n\\n# prediction interval for mlps on the housing regression dataset\\nfrom numpy import asarray\\nfrom pandas import read_csv\\nfrom sklearn.model_selection import train_test_split\\nfrom sklearn.metrics import mean_absolute_error\\nfrom sklearn.preprocessing import MinMaxScaler\\nfrom tensorflow.keras.models import Sequential\\nfrom tensorflow.keras.layers import Dense\\nfrom tensorflow.keras.optimizers import Adam\\nimport tensorflow as tf\\nimport math\\nimport numpy as np\\n\\n \\n# define and fit the model\\ndef fit_model(X_train, y_train):\\n    features = X_train.shape[1]\\n    model = Sequential()\\n    model.add(LSTM(50, input_shape=(train_X.shape[1], train_X.shape[2])))\\n    model.add(Dense(1))\\n    model.compile(loss='mse', optimizer='adam')\\n    model.fit(X_train, y_train, verbose=0, epochs=50, batch_size=16)\\n    return model\\n\\n\\t\\n \\n# fit an ensemble of models\\ndef fit_ensemble(n_members, X_train, X_test, y_train, y_test):\\n    ensemble = list()\\n    for i in range(n_members):\\n        model = fit_model(X_train, y_train) # define and fit the model on the training set\\n        yhat = model.predict(X_test, verbose=0) # evaluate model on the test set\\n        print(y_test.shape,yhat.shape)\\n        mae = mean_absolute_error(y_test, yhat)\\n        print('>%d, MAE: %.3f' % (i+1, mae))\\n        ensemble.append(model) # store the model\\n    return ensemble\\n\\nn_members = 20\\nensemble = list()\\nfor i in range(n_members):\\n  model = fit_model(train_X, train_y) # define and fit the model on the training set\\n  yhat = model.predict(test_X, verbose=0) # evaluate model on the test set\\n  print(test_y,yhat.shape)\\n  mae = mean_absolute_error(test_y, yhat)\\n  print('>%d, MAE: %.3f' % (i+1, mae))\\n  ensemble.append(model) # store the model\\n    \\n# make predictions with the ensemble and calculate a prediction interval\\ndef predict_with_pi(ensemble, X,n_members):\\n    yhat = [model.predict(X, verbose=0) for model in ensemble]\\n    yhat = asarray(yhat)\\n    yhat = np.reshape(yhat,[n_members,1])\\n    print(yhat.shape)\\n    # yhat = scaled2.inverse_transform(yhat)\\n    yhat = scaler2.inverse_transform(yhat) # invert scaling for actual\\n    yhat = yhat[:,0] \\n    interval = 1.96 * yhat.std()/math.sqrt(len(yhat))\\n    lower, upper = yhat.mean() - interval, yhat.mean() + interval\\n    return lower, yhat.mean(), upper\\n\\nn_members=len(ensemble)\\n# make predictions with prediction interval\\nnewX = asarray([test_X[0, :]])\\nlower, mean, upper = predict_with_pi(ensemble, newX,n_members)\\n# print(test_y)\\n# print('Point prediction: %.1f' % mean)\\nprint('95%% prediction interval: [%.1f, %.1f]' % (lower, upper))\\nprint('True value: %.1f' % test_y[0])\\noutcome = {'Prediction': [mean],\\n           '95%CI.Min': [lower],\\n           '95%CI.Max': [upper]\\n           }\\n\\n\\noutcome5= pd.DataFrame(outcome)\\noutcome5\\n\\nfrom os import path\\n#save ensemble\\nfor i,i_model in enumerate(ensemble):\\n    i_model.save(path.join(sheet, '5',f'ensemble_corr_{i}.h5'))\\n#   i_model.save(f'BYX/1/ensemble_corr_{i}.h5')\\n\\n\\n\\n#save model\\n# model.save(f'/1/model_corr.h5')\\nmodel.save(path.join(sheet, '5','model_corr.h5'))\",\n  \"from math import sqrt\\nfrom numpy import concatenate\\nfrom matplotlib import pyplot\\nimport pandas as pd\\nfrom pandas import read_csv\\nfrom pandas import DataFrame\\nfrom pandas import concat\\nfrom sklearn.preprocessing import MinMaxScaler\\nfrom sklearn.preprocessing import LabelEncoder\\nfrom sklearn.metrics import mean_squared_error\\nfrom keras.models import Sequential\\nfrom keras.layers import Dense\\nfrom keras.layers import LSTM\\n\\nimport io\\nimport datetime\\n\\n# sheet='BYX'\\ndf= pd.read_excel(r'../Logical Ports Prediction.xlsx',sheet_name=sheet,header=0)\\n# df= pd.read_excel(r'Logical Ports Prediction.xlsx',sheet_name='C2',header=0)\\ndf.dropna(subset=['Date'],inplace=True)\\n\\nfrom datetime import datetime as dt\\nlast_date=df.loc[:,'Date']\\nlast_date=last_date.iat[-1]\\nlast_date=last_date.strftime('%Y-%m-%d')\\nlast_date\\n\\ndf=df[df['Date']<=last_date].reset_index(drop=True)\\ndf.tail()\\ndf['Year'] = pd.to_datetime(df['Date']).dt.strftime('%Y')\\ndf['Month'] = pd.to_datetime(df['Date']).dt.strftime('%m')\\n\\ndf.drop(['Date','Logical Ports','Asset'],axis=1,inplace=True)\\nfirst_column = df.pop('Year')\\ndf.insert(0, 'Year', first_column)\\nsecond_column = df.pop('Month')\\ndf.insert(1, 'Month', second_column)\\nfirst_column = df.pop('PortQyt')\\ndf.insert(0, 'PortQyt', first_column)\\n\\ndf.shape\\nprint(len(list(df)[:]))\\n# # df=df.drop(['D&J_Close30d_Avg.','D&J_Close30d_Min','Monthly Real GDP Index','TCV','FEDFUNDS','Unemployement Rate','SPX_Price30d_Std.','D&J_Close30d_Std.','VIX_Close30d_Max.','VIX_Close30d_Avg.','VIX_Close30d_Std.','VIX_Close30d_Min.'],axis=1)\\n\\n\\nvalues=df.values\\n#\\n# import matplotlib.pyplot as pp\\n# pp.plot(values[:,0])\\n# pp.show()\\n\\n# encoder = LabelEncoder()\\n# # # print(values[:,0]) #PortQyt Value\\n# values[:,0]=encoder.fit_transform(values[:,0])\\n# print(values[:,0])\\n\\n# import matplotlib.pyplot as pp\\n# pp.plot(values[:,0])\\n# pp.show()\\n\\n# # print(values[:,4].shape)\\n# # print(values[:,4])\\nvalues = values.astype('float32')\\n\\n# specify the number of lag hours\\nn_months = 5\\nn_features = len(list(df)[:])\\n\\n#Normalize the first feature\\nfrom sklearn.preprocessing import StandardScaler\\nscaler2 = MinMaxScaler(feature_range=(0, 1)).fit(values[:,0:1])\\n# train_y = scaler2.transform(values[:,-n_features])\\n# scaled2 = scaler2.fit_transform(values) #try\\n\\n\\n# # normalize features\\nscaler = MinMaxScaler(feature_range=(0, 1))\\nscaled = scaler.fit_transform(values)\\n\\n\\n# len(list(dataset.columns))-3\\n\\n# convert series to supervised learning\\ndef series_to_supervised(data, n_in=1, n_out=1, dropnan=True):\\n\\tn_vars = 1 if type(data) is list else data.shape[1]\\n\\tdf = DataFrame(data)\\n\\tcols, names = list(), list()\\n\\t# input sequence (t-n, ... t-1)\\n\\tfor i in range(n_in, 0, -1):\\n\\t\\tcols.append(df.shift(i))\\n\\t\\tnames += [('var%d(t-%d)' % (j+1, i)) for j in range(n_vars)]\\n\\t# forecast sequence (t, t+1, ... t+n)\\n\\tfor i in range(0, n_out):\\n\\t\\tcols.append(df.shift(-i))\\n\\t\\tif i == 0:\\n\\t\\t\\tnames += [('var%d(t)' % (j+1)) for j in range(n_vars)]\\n\\t\\telse:\\n\\t\\t\\tnames += [('var%d(t+%d)' % (j+1, i)) for j in range(n_vars)]\\n\\t# put it all together\\n\\tagg = concat(cols, axis=1)\\n\\tagg.columns = names\\n\\t# drop rows with NaN values\\n\\tif dropnan:\\n\\t\\tagg.dropna(inplace=True)\\n\\treturn agg\\n\\n# frame as supervised learning\\nreframed = series_to_supervised(scaled, n_months, 1)\\n# print(reframed.shape)\\n\\n\\n# print(reframed.tail())\\n\\n\\n\\n\\n\\nm=6-6\\n# split into train and test sets\\nvalues = reframed.values\\nn_train_months = 36\\ntrain = values[:n_train_months, :]\\ntest = values[n_train_months:, :]\\nprint(values.shape)\\n# split into input and outputs\\nn_obs = (n_months+1)* n_features #the following fourth month\\ntrain.shape\\ntrain_X, train_y = train[:, :n_obs], train[:, -n_features*(1+m):-n_features*(1+m)+1] \\ntest_X, test_y = test[:, :n_obs], test[:, -n_features*(1+m):-n_features*(1+m)+1]\\nprint(test.shape)\\n\\n\\n# import matplotlib.pyplot as pp\\n# pp.plot(train_y)\\n# pp.show()\\n\\ntrain_X = train_X.reshape((train_X.shape[0], (n_months+1), n_features))\\ntest_X = test_X.reshape((test_X.shape[0], (n_months+1), n_features))\\nprint(train_X.shape, train_y.shape, test_X.shape, test_y.shape)\\n\\n# prediction interval for mlps on the housing regression dataset\\nfrom numpy import asarray\\nfrom pandas import read_csv\\nfrom sklearn.model_selection import train_test_split\\nfrom sklearn.metrics import mean_absolute_error\\nfrom sklearn.preprocessing import MinMaxScaler\\nfrom tensorflow.keras.models import Sequential\\nfrom tensorflow.keras.layers import Dense\\nfrom tensorflow.keras.optimizers import Adam\\nimport tensorflow as tf\\nimport math\\nimport numpy as np\\n\\n \\n# define and fit the model\\ndef fit_model(X_train, y_train):\\n    features = X_train.shape[1]\\n    model = Sequential()\\n    model.add(LSTM(50, input_shape=(train_X.shape[1], train_X.shape[2])))\\n    model.add(Dense(1))\\n    model.compile(loss='mse', optimizer='adam')\\n    model.fit(X_train, y_train, verbose=0, epochs=50, batch_size=16)\\n    return model\\n\\n\\t\\n \\n# fit an ensemble of models\\ndef fit_ensemble(n_members, X_train, X_test, y_train, y_test):\\n    ensemble = list()\\n    for i in range(n_members):\\n        model = fit_model(X_train, y_train) # define and fit the model on the training set\\n        yhat = model.predict(X_test, verbose=0) # evaluate model on the test set\\n        print(y_test.shape,yhat.shape)\\n        mae = mean_absolute_error(y_test, yhat)\\n        print('>%d, MAE: %.3f' % (i+1, mae))\\n        ensemble.append(model) # store the model\\n    return ensemble\\n\\nn_members = 20\\nensemble = list()\\nfor i in range(n_members):\\n  model = fit_model(train_X, train_y) # define and fit the model on the training set\\n  yhat = model.predict(test_X, verbose=0) # evaluate model on the test set\\n  print(test_y,yhat.shape)\\n  mae = mean_absolute_error(test_y, yhat)\\n  print('>%d, MAE: %.3f' % (i+1, mae))\\n  ensemble.append(model) # store the model\\n    \\n# make predictions with the ensemble and calculate a prediction interval\\ndef predict_with_pi(ensemble, X,n_members):\\n    yhat = [model.predict(X, verbose=0) for model in ensemble]\\n    yhat = asarray(yhat)\\n    yhat = np.reshape(yhat,[n_members,1])\\n    print(yhat.shape)\\n    # yhat = scaled2.inverse_transform(yhat)\\n    yhat = scaler2.inverse_transform(yhat) # invert scaling for actual\\n    yhat = yhat[:,0] \\n    interval = 1.96 * yhat.std()/math.sqrt(len(yhat))\\n    lower, upper = yhat.mean() - interval, yhat.mean() + interval\\n    return lower, yhat.mean(), upper\\n\\nn_members=len(ensemble)\\n# make predictions with prediction interval\\nnewX = asarray([test_X[0, :]])\\nlower, mean, upper = predict_with_pi(ensemble, newX,n_members)\\n# print(test_y)\\n# print('Point prediction: %.1f' % mean)\\nprint('95%% prediction interval: [%.1f, %.1f]' % (lower, upper))\\nprint('True value: %.1f' % test_y[0])\\noutcome = {'Prediction': [mean],\\n           '95%CI.Min': [lower],\\n           '95%CI.Max': [upper]\\n           }\\n\\n\\noutcome6= pd.DataFrame(outcome)\\noutcome6\\n\\nfrom os import path\\n#save ensemble\\nfor i,i_model in enumerate(ensemble):\\n    i_model.save(path.join(sheet, '6',f'ensemble_corr_{i}.h5'))\\n#   i_model.save(f'BYX/1/ensemble_corr_{i}.h5')\\n\\n\\n\\n#save model\\n# model.save(f'/1/model_corr.h5')\\nmodel.save(path.join(sheet, '6','model_corr.h5'))\",\n  \"from math import sqrt\\nfrom numpy import concatenate\\nfrom matplotlib import pyplot\\nimport pandas as pd\\nfrom pandas import read_csv\\nfrom pandas import DataFrame\\nfrom pandas import concat\\nfrom sklearn.preprocessing import MinMaxScaler\\nfrom sklearn.preprocessing import LabelEncoder\\nfrom sklearn.metrics import mean_squared_error\\nfrom keras.models import Sequential\\nfrom keras.layers import Dense\\nfrom keras.layers import LSTM\\n\\nimport io\\nimport datetime\\n\\n# sheet='OPT_BZX BATS'\\ndf= pd.read_excel(r'../Logical Ports Prediction.xlsx',sheet_name=sheet,header=0)\\n# df= pd.read_excel(r'Logical Ports Prediction.xlsx',sheet_name='C2',header=0)\\ndf.dropna(subset=['Date'],inplace=True)\\n\\nfrom datetime import datetime as dt\\nlast_date=df.loc[:,'Date']\\nlast_date=last_date.iat[-1]\\nlast_date=last_date.strftime('%Y-%m-%d')\\nlast_date\\n\\ndf=df[df['Date']<=last_date].reset_index(drop=True)\\ndf.tail()\\ndf['Year'] = pd.to_datetime(df['Date']).dt.strftime('%Y')\\ndf['Month'] = pd.to_datetime(df['Date']).dt.strftime('%m')\\n\\ndf.drop(['Date','Logical Ports','Asset'],axis=1,inplace=True)\\nfirst_column = df.pop('Year')\\ndf.insert(0, 'Year', first_column)\\nsecond_column = df.pop('Month')\\ndf.insert(1, 'Month', second_column)\\nfirst_column = df.pop('PortQyt')\\ndf.insert(0, 'PortQyt', first_column)\\n\\ndf.shape\\nprint(len(list(df)[:]))\\n# # df=df.drop(['D&J_Close30d_Avg.','D&J_Close30d_Min','Monthly Real GDP Index','TCV','FEDFUNDS','Unemployement Rate','SPX_Price30d_Std.','D&J_Close30d_Std.','VIX_Close30d_Max.','VIX_Close30d_Avg.','VIX_Close30d_Std.','VIX_Close30d_Min.'],axis=1)\\n\\n\\nvalues=df.values\\n#\\n# import matplotlib.pyplot as pp\\n# pp.plot(values[:,0])\\n# pp.show()\\n\\n# # encoder = LabelEncoder()\\n# # # # print(values[:,0]) #PortQyt Value\\n# # values[:,0]=encoder.fit_transform(values[:,0])\\n# # print(values[:,0])\\n\\n# import matplotlib.pyplot as pp\\n# pp.plot(values[:,0])\\n# pp.show()\\n\\n# # print(values[:,4].shape)\\n# # print(values[:,4])\\nvalues = values.astype('float32')\\n\\n# specify the number of lag hours\\n# n_months = 11\\nn_months = 23\\nn_features = len(list(df)[:])\\n\\n#Normalize the first feature\\nfrom sklearn.preprocessing import StandardScaler\\nscaler2 = MinMaxScaler(feature_range=(0, 1)).fit(values[:,0:1])\\n# train_y = scaler2.transform(values[:,-n_features])\\n# scaled2 = scaler2.fit_transform(values) #try\\n\\n\\n# # normalize features\\nscaler = MinMaxScaler(feature_range=(0, 1))\\nscaled = scaler.fit_transform(values)\\n\\n\\n# len(list(dataset.columns))-3\\n\\n# convert series to supervised learning\\ndef series_to_supervised(data, n_in=1, n_out=1, dropnan=True):\\n\\tn_vars = 1 if type(data) is list else data.shape[1]\\n\\tdf = DataFrame(data)\\n\\tcols, names = list(), list()\\n\\t# input sequence (t-n, ... t-1)\\n\\tfor i in range(n_in, 0, -1):\\n\\t\\tcols.append(df.shift(i))\\n\\t\\tnames += [('var%d(t-%d)' % (j+1, i)) for j in range(n_vars)]\\n\\t# forecast sequence (t, t+1, ... t+n)\\n\\tfor i in range(0, n_out):\\n\\t\\tcols.append(df.shift(-i))\\n\\t\\tif i == 0:\\n\\t\\t\\tnames += [('var%d(t)' % (j+1)) for j in range(n_vars)]\\n\\t\\telse:\\n\\t\\t\\tnames += [('var%d(t+%d)' % (j+1, i)) for j in range(n_vars)]\\n\\t# put it all together\\n\\tagg = concat(cols, axis=1)\\n\\tagg.columns = names\\n\\t# drop rows with NaN values\\n\\tif dropnan:\\n\\t\\tagg.dropna(inplace=True)\\n\\treturn agg\\n\\n# frame as supervised learning\\nreframed = series_to_supervised(scaled, n_months, 1)\\n# print(reframed.shape)\\n\\n\\n# print(reframed.tail())\\n\\n\\n\\nm=6-6\\n# split into train and test sets\\nvalues = reframed.values\\nn_train_months =17\\ntrain = values[:n_train_months, :]\\ntest = values[n_train_months:, :]\\nprint(values.shape)\\n# split into input and outputs\\nn_obs = ((n_months+1)//2)* n_features #the following 12\\n# n_obs = (n_months+1)* n_features #the following \\ntrain.shape\\ntrain_X, train_y = train[:, :n_obs], train[:, -n_features*(1+m):-n_features*(1+m)+1] \\ntrain_X, train_y = train[:, :n_obs], train[:, -n_features*(1+m):-n_features*(1+m)+1] \\ntest_X, test_y = test[:, :n_obs], test[:, -n_features*(1+m):-n_features*(1+m)+1]\\nprint(test.shape)\\n\\n\\n# import matplotlib.pyplot as pp\\n# pp.plot(train_y)\\n# pp.show()\\n\\ntrain_X = train_X.reshape((train_X.shape[0], (n_months+1)//2, n_features))\\n# train_X = train_X.reshape((train_X.shape[0], (n_months+1), n_features))\\ntest_X = test_X.reshape((test_X.shape[0], (n_months+1)//2, n_features))\\nprint(train_X.shape, train_y.shape, test_X.shape, test_y.shape)\\n\\n# prediction interval for mlps on the housing regression dataset\\nfrom numpy import asarray\\nfrom pandas import read_csv\\nfrom sklearn.model_selection import train_test_split\\nfrom sklearn.metrics import mean_absolute_error\\nfrom sklearn.preprocessing import MinMaxScaler\\nfrom tensorflow.keras.models import Sequential\\nfrom tensorflow.keras.layers import Dense\\nfrom tensorflow.keras.optimizers import Adam\\nimport tensorflow as tf\\nimport math\\nimport numpy as np\\n\\n \\n# define and fit the model\\ndef fit_model(X_train, y_train):\\n    features = X_train.shape[1]\\n    model = Sequential()\\n    model.add(LSTM(50, input_shape=(train_X.shape[1], train_X.shape[2])))\\n    model.add(Dense(1))\\n    model.compile(loss='mse', optimizer='adam')\\n    model.fit(X_train, y_train, verbose=0, epochs=50, batch_size=16)\\n    return model\\n\\n\\t\\n \\n# fit an ensemble of models\\ndef fit_ensemble(n_members, X_train, X_test, y_train, y_test):\\n    ensemble = list()\\n    for i in range(n_members):\\n        model = fit_model(X_train, y_train) # define and fit the model on the training set\\n        yhat = model.predict(X_test, verbose=0) # evaluate model on the test set\\n        print(y_test.shape,yhat.shape)\\n        mae = mean_absolute_error(y_test, yhat)\\n        print('>%d, MAE: %.3f' % (i+1, mae))\\n        ensemble.append(model) # store the model\\n    return ensemble\\n\\nn_members = 20\\nensemble = list()\\nfor i in range(n_members):\\n  model = fit_model(train_X, train_y) # define and fit the model on the training set\\n  yhat = model.predict(test_X, verbose=0) # evaluate model on the test set\\n  print(test_y,yhat.shape)\\n  mae = mean_absolute_error(test_y, yhat)\\n  print('>%d, MAE: %.3f' % (i+1, mae))\\n  ensemble.append(model) # store the model\\n    \\n# make predictions with the ensemble and calculate a prediction interval\\ndef predict_with_pi(ensemble, X,n_members):\\n    yhat = [model.predict(X, verbose=0) for model in ensemble]\\n    yhat = asarray(yhat)\\n    yhat = np.reshape(yhat,[n_members,1])\\n    print(yhat.shape)\\n    # yhat = scaled2.inverse_transform(yhat)\\n    yhat = scaler2.inverse_transform(yhat) # invert scaling for actual\\n    yhat = yhat[:,0] \\n    interval = 1.96 * yhat.std()/math.sqrt(len(yhat))\\n    lower, upper = yhat.mean() - interval, yhat.mean() + interval\\n    return lower, yhat.mean(), upper\\n\\nn_members=len(ensemble)\\n# make predictions with prediction interval\\nnewX = asarray([test_X[0, :]])\\nlower, mean, upper = predict_with_pi(ensemble, newX,n_members)\\n# print(test_y)\\n# print('Point prediction: %.1f' % mean)\\nprint('95%% prediction interval: [%.1f, %.1f]' % (lower, upper))\\nprint('True value: %.1f' % test_y[0])\\noutcome = {'Prediction': [mean],\\n           '95%CI.Min': [lower],\\n           '95%CI.Max': [upper]\\n           }\\n\\n\\noutcome12= pd.DataFrame(outcome)\\noutcome12\\n\\nfrom os import path\\n#save ensemble\\nfor i,i_model in enumerate(ensemble):\\n    i_model.save(path.join(sheet, '12',f'ensemble_corr_{i}.h5'))\\n#   i_model.save(f'BYX/1/ensemble_corr_{i}.h5')\\n\\n\\n\\n#save model\\n# model.save(f'/1/model_corr.h5')\\nmodel.save(path.join(sheet, '12','model_corr.h5'))\",\n  '#Concatenate all dataframes by identical columns\\n\\ndf=pd.concat([outcome1, outcome2,outcome3,outcome4,outcome5,outcome6,outcome12])\\n# df=pd.concat([outcome6,outcome12])\\n\\ninsert_index = 0\\ninsert_colname = \\'Asset\\'\\ninsert_values = [\\'Options\\',\\'Options\\',\\'Options\\',\\'Options\\',\\'Options\\',\\'Options\\',\\'Options\\'] # this can be a numpy array too\\n# insert_values = [\\'Options\\',\\'Options\\'] # this can be a numpy array too\\ndf.insert(loc=insert_index, column=insert_colname, value=insert_values)\\n\\n\\ninsert_index = 1\\ninsert_colname = \\'Product\\'\\ninsert_values = [sheet,sheet,sheet,sheet,sheet,sheet,sheet] # this can be a numpy array too\\n# insert_values = [sheet,sheet] # this can be a numpy array too\\ndf.insert(loc=insert_index, column=insert_colname, value=insert_values)\\n\\ninsert_index = 2\\ninsert_colname = \\'Month Ahead\\'\\ninsert_values = [\\'1\\',\\'2\\',\\'3\\',\\'4\\',\\'5\\',\\'6\\',\\'12\\'] # this can be a numpy array too\\n# insert_values = [\\'6\\',\\'12\\'] # this can be a numpy array too\\ndf.insert(loc=insert_index, column=insert_colname, value=insert_values)\\n\\nglobals()[sheet] = df\\n\\nimport matplotlib.pyplot as mp\\ndf.plot(title=sheet,x=\\'Month Ahead\\',y=[\"Prediction\",\"95%CI.Min\",\"95%CI.Max\"],kind=\"line\",figsize=(10,10))\\nmp.show()',\n  'globals()'],\n '_oh': {2:    Prediction   95%CI.Min   95%CI.Max\n  0  656.793579  653.470549  660.116609},\n '_dh': [PosixPath('/Users/issacsmacbookpro/Desktop/ModelPrediction/Train & Predicition')],\n 'In': ['',\n  \"# sheet='C1'\\n# sheet='C2'\\n# sheet='BYX'\\n# sheet='BZX'\\n# sheet='EDGA'\\n# sheet='EDGX_Equities'\\nsheet='EXO_EDGX_Options'\\n# sheet='OPT_BZX_BATS'\\n# sheet='CFE'\",\n  \"from math import sqrt\\nfrom numpy import concatenate\\nfrom matplotlib import pyplot\\nimport pandas as pd\\nfrom pandas import read_csv\\nfrom pandas import DataFrame\\nfrom pandas import concat\\nfrom sklearn.preprocessing import MinMaxScaler\\nfrom sklearn.preprocessing import LabelEncoder\\nfrom sklearn.metrics import mean_squared_error\\nfrom keras.models import Sequential\\nfrom keras.layers import Dense\\nfrom keras.layers import LSTM\\n\\n\\nimport io\\nimport datetime\\n\\n# sheet='C1'\\n# sheet='C2'\\n# sheet='BYX'\\n# sheet='BZX'\\n# sheet='EDGA'\\n# sheet='EDGX_Equities'\\n# sheet='EXO_EDGX Options'\\n# sheet='OPT_BZX BATS'\\n# sheet='CFE'\\n\\n#load ensemble\\nimport os\\nfrom keras.models import load_model\\n\\ndf= pd.read_excel(r'../Logical Ports Prediction.xlsx',sheet_name=sheet,header=0)\\n# df= pd.read_excel(r'Logical Ports Prediction.xlsx',sheet_name='C2',header=0)\\ndf.dropna(subset=['Date'],inplace=True)\\n\\nfrom datetime import datetime as dt\\nlast_date=df.loc[:,'Date']\\nlast_date=last_date.iat[-1]\\nlast_date=last_date.strftime('%Y-%m-%d')\\nlast_date\\n\\ndf=df[df['Date']<=last_date].reset_index(drop=True)\\ndf.tail()\\ndf['Year'] = pd.to_datetime(df['Date']).dt.strftime('%Y')\\ndf['Month'] = pd.to_datetime(df['Date']).dt.strftime('%m')\\n\\ndf.drop(['Date','Logical Ports','Asset'],axis=1,inplace=True)\\nfirst_column = df.pop('Year')\\ndf.insert(0, 'Year', first_column)\\nsecond_column = df.pop('Month')\\ndf.insert(1, 'Month', second_column)\\nfirst_column = df.pop('PortQyt')\\ndf.insert(0, 'PortQyt', first_column)\\n\\ndf.shape\\nprint(len(list(df)[:]))\\n# # df=df.drop(['D&J_Close30d_Avg.','D&J_Close30d_Min','Monthly Real GDP Index','TCV','FEDFUNDS','Unemployement Rate','SPX_Price30d_Std.','D&J_Close30d_Std.','VIX_Close30d_Max.','VIX_Close30d_Avg.','VIX_Close30d_Std.','VIX_Close30d_Min.'],axis=1)\\n\\nvalues=df.values\\n#\\n# import matplotlib.pyplot as pp\\n# pp.plot(values[:,0])\\n# pp.show()\\n\\n# # encoder = LabelEncoder()\\n# # # # print(values[:,0]) #PortQyt Value\\n# # values[:,0]=encoder.fit_transform(values[:,0])\\n# # print(values[:,0])\\n\\n# import matplotlib.pyplot as pp\\n# pp.plot(values[:,0])\\n# pp.show()\\n\\n# # print(values[:,4].shape)\\n# # print(values[:,4])\\nvalues = values.astype('float32')\\n\\n# specify the number of lag hours\\nn_months = 5\\nn_features = len(list(df)[:])\\n\\n#Normalize the first feature\\nfrom sklearn.preprocessing import StandardScaler\\nscaler2 = MinMaxScaler(feature_range=(0, 1)).fit(values[:,0:1])\\n# train_y = scaler2.transform(values[:,-n_features])\\n# scaled2 = scaler2.fit_transform(values) #try\\n\\n\\n# # normalize features\\nscaler = MinMaxScaler(feature_range=(0, 1))\\nscaled = scaler.fit_transform(values)\\n\\n\\n# len(list(dataset.columns))-3\\n\\n# convert series to supervised learning\\ndef series_to_supervised(data, n_in=1, n_out=1, dropnan=True):\\n\\tn_vars = 1 if type(data) is list else data.shape[1]\\n\\tdf = DataFrame(data)\\n\\tcols, names = list(), list()\\n\\t# input sequence (t-n, ... t-1)\\n\\tfor i in range(n_in, 0, -1):\\n\\t\\tcols.append(df.shift(i))\\n\\t\\tnames += [('var%d(t-%d)' % (j+1, i)) for j in range(n_vars)]\\n\\t# forecast sequence (t, t+1, ... t+n)\\n\\tfor i in range(0, n_out):\\n\\t\\tcols.append(df.shift(-i))\\n\\t\\tif i == 0:\\n\\t\\t\\tnames += [('var%d(t)' % (j+1)) for j in range(n_vars)]\\n\\t\\telse:\\n\\t\\t\\tnames += [('var%d(t+%d)' % (j+1, i)) for j in range(n_vars)]\\n\\t# put it all together\\n\\tagg = concat(cols, axis=1)\\n\\tagg.columns = names\\n\\t# drop rows with NaN values\\n\\tif dropnan:\\n\\t\\tagg.dropna(inplace=True)\\n\\treturn agg\\n\\n# frame as supervised learning\\nreframed = series_to_supervised(scaled, n_months, 1)\\n# print(reframed.shape)\\n\\n\\n# print(reframed.tail())\\n\\n# split into train and test sets\\nvalues = reframed.values\\nn_train_months = 36\\ntrain = values[:n_train_months, :]\\ntest = values[n_train_months:, :]\\nprint(values.shape)\\n# split into input and outputs\\nn_obs = ((n_months+1))* n_features #the following fourth month\\ntrain.shape\\ntrain_X, train_y = train[:, :n_obs], train[:, -n_features*(1+5):-n_features*(1+5)+1]\\ntest_X, test_y = test[:, :n_obs], test[:, -n_features*(1+5):-n_features*(1+5)+1]\\nprint(test.shape)\\n\\n\\n# import matplotlib.pyplot as pp\\n# pp.plot(train_y)\\n# pp.show()\\n\\ntrain_X = train_X.reshape((train_X.shape[0], (n_months+1) , n_features))\\ntest_X = test_X.reshape((test_X.shape[0], (n_months+1), n_features))\\nprint(train_X.shape, train_y.shape, test_X.shape, test_y.shape)\\n\\n# prediction interval for mlps on the housing regression dataset\\nfrom numpy import asarray\\nfrom pandas import read_csv\\nfrom sklearn.model_selection import train_test_split\\nfrom sklearn.metrics import mean_absolute_error\\nfrom sklearn.preprocessing import MinMaxScaler\\nfrom tensorflow.keras.models import Sequential\\nfrom tensorflow.keras.layers import Dense\\nfrom tensorflow.keras.optimizers import Adam\\nimport tensorflow as tf\\nimport math\\nimport numpy as np\\n\\n\\n# define and fit the model\\ndef fit_model(X_train, y_train):\\n    features = X_train.shape[1]\\n    model = Sequential()\\n    model.add(LSTM(50, input_shape=(train_X.shape[1], train_X.shape[2])))\\n    model.add(Dense(1))\\n    model.compile(loss='mse', optimizer='adam')\\n    model.fit(X_train, y_train, verbose=0, epochs=50, batch_size=16)\\n    return model\\n\\n\\n\\n# fit an ensemble of models\\ndef fit_ensemble(n_members, X_train, X_test, y_train, y_test):\\n    ensemble = list()\\n    for i in range(n_members):\\n        model = fit_model(X_train, y_train) # define and fit the model on the training set\\n        yhat = model.predict(X_test, verbose=0) # evaluate model on the test set\\n        print(y_test.shape,yhat.shape)\\n        mae = mean_absolute_error(y_test, yhat)\\n        print('>%d, MAE: %.3f' % (i+1, mae))\\n        ensemble.append(model) # store the model\\n    return ensemble, model\\n\\nn_members = 20\\nensemble = list()\\nfor i in range(n_members):\\n  model = fit_model(train_X, train_y) # define and fit the model on the training set\\n  yhat = model.predict(test_X, verbose=0) # evaluate model on the test set\\n  print(test_y,yhat.shape)\\n  mae = mean_absolute_error(test_y, yhat)\\n  print('>%d, MAE: %.3f' % (i+1, mae))\\n  ensemble.append(model) # store the model\\n\\n# make predictions with the ensemble and calculate a prediction interval\\ndef predict_with_pi(ensemble, X,n_members):\\n    yhat = [model.predict(X, verbose=0) for model in ensemble]\\n    yhat = asarray(yhat)\\n    yhat = np.reshape(yhat,[n_members,1])\\n    print(yhat.shape)\\n    # yhat = scaled2.inverse_transform(yhat)\\n    yhat = scaler2.inverse_transform(yhat) # invert scaling for actual\\n    yhat = yhat[:,0]\\n    interval = 1.96 * yhat.std()/math.sqrt(len(yhat))\\n    lower, upper = yhat.mean() - interval, yhat.mean() + interval\\n    return lower, yhat.mean(), upper\\n\\nn_members=len(ensemble)\\n# make predictions with prediction interval\\nnewX = asarray([test_X[0, :]])\\nlower, mean, upper = predict_with_pi(ensemble, newX,n_members)\\n# print(test_y)\\n# print('Point prediction: %.1f' % mean)\\nprint('95%% prediction interval: [%.1f, %.1f]' % (lower, upper))\\nprint('True value: %.1f' % test_y[0])\\noutcome = {'Prediction': [mean],\\n           '95%CI.Min': [lower],\\n           '95%CI.Max': [upper]\\n           }\\n\\n\\noutcome1= pd.DataFrame(outcome)\\noutcome1\",\n  \"from os import path\\n#save ensemble\\nfor i,i_model in enumerate(ensemble):\\n    i_model.save(path.join(sheet, '1',f'ensemble_corr_{i}.h5'))\\n#   i_model.save(f'BYX/1/ensemble_corr_{i}.h5')\\n\\n\\n\\n#save model\\n# model.save(f'/1/model_corr.h5')\\nmodel.save(path.join(sheet, '1','model_corr.h5'))\",\n  \"from math import sqrt\\nimport numpy as np\\nfrom numpy import concatenate\\nfrom matplotlib import pyplot\\nimport pandas as pd\\nfrom pandas import read_csv\\nfrom pandas import DataFrame\\nfrom pandas import concat\\nfrom sklearn.preprocessing import MinMaxScaler\\nfrom sklearn.preprocessing import LabelEncoder\\nfrom sklearn.metrics import mean_squared_error\\nfrom keras.models import Sequential\\nfrom keras.layers import Dense\\nfrom keras.layers import LSTM\\n\\nimport io\\nimport datetime\\n\\n# sheet='BYX'\\ndf= pd.read_excel(r'../Logical Ports Prediction.xlsx',sheet_name=sheet,header=0)\\n# df= pd.read_excel(r'Logical Ports Prediction.xlsx',sheet_name='C2',header=0)\\ndf.dropna(subset=['Date'],inplace=True)\\n\\nfrom datetime import datetime as dt\\nlast_date=df.loc[:,'Date']\\nlast_date=last_date.iat[-1]\\nlast_date=last_date.strftime('%Y-%m-%d')\\nlast_date\\n\\ndf=df[df['Date']<=last_date].reset_index(drop=True)\\ndf.tail()\\ndf['Year'] = pd.to_datetime(df['Date']).dt.strftime('%Y')\\ndf['Month'] = pd.to_datetime(df['Date']).dt.strftime('%m')\\n\\ndf.drop(['Date','Logical Ports','Asset'],axis=1,inplace=True)\\nfirst_column = df.pop('Year')\\ndf.insert(0, 'Year', first_column)\\nsecond_column = df.pop('Month')\\ndf.insert(1, 'Month', second_column)\\nfirst_column = df.pop('PortQyt')\\ndf.insert(0, 'PortQyt', first_column)\\n\\ndf.shape\\nprint(len(list(df)[:]))\\n# # df=df.drop(['D&J_Close30d_Avg.','D&J_Close30d_Min','Monthly Real GDP Index','TCV','FEDFUNDS','Unemployement Rate','SPX_Price30d_Std.','D&J_Close30d_Std.','VIX_Close30d_Max.','VIX_Close30d_Avg.','VIX_Close30d_Std.','VIX_Close30d_Min.'],axis=1)\\n\\n\\nvalues=df.values\\n#\\n# import matplotlib.pyplot as pp\\n# pp.plot(values[:,0])\\n# pp.show()\\n\\n# encoder = LabelEncoder()\\n# # # print(values[:,0]) #PortQyt Value\\n# values[:,0]=encoder.fit_transform(values[:,0])\\n# print(values[:,0])\\n\\n# import matplotlib.pyplot as pp\\n# pp.plot(values[:,0])\\n# pp.show()\\n\\n# # print(values[:,4].shape)\\n# # print(values[:,4])\\nvalues = values.astype('float32')\\n\\n# specify the number of lag hours\\nn_months = 5\\nn_features = len(list(df)[:])\\n\\n#Normalize the first feature\\nfrom sklearn.preprocessing import StandardScaler\\nscaler2 = MinMaxScaler(feature_range=(0, 1)).fit(values[:,0:1])\\n# train_y = scaler2.transform(values[:,-n_features])\\n# scaled2 = scaler2.fit_transform(values) #try\\n\\n\\n# # normalize features\\nscaler = MinMaxScaler(feature_range=(0, 1))\\nscaled = scaler.fit_transform(values)\\n\\n\\n# len(list(dataset.columns))-3\\n\\n# convert series to supervised learning\\ndef series_to_supervised(data, n_in=1, n_out=1, dropnan=True):\\n\\tn_vars = 1 if type(data) is list else data.shape[1]\\n\\tdf = DataFrame(data)\\n\\tcols, names = list(), list()\\n\\t# input sequence (t-n, ... t-1)\\n\\tfor i in range(n_in, 0, -1):\\n\\t\\tcols.append(df.shift(i))\\n\\t\\tnames += [('var%d(t-%d)' % (j+1, i)) for j in range(n_vars)]\\n\\t# forecast sequence (t, t+1, ... t+n)\\n\\tfor i in range(0, n_out):\\n\\t\\tcols.append(df.shift(-i))\\n\\t\\tif i == 0:\\n\\t\\t\\tnames += [('var%d(t)' % (j+1)) for j in range(n_vars)]\\n\\t\\telse:\\n\\t\\t\\tnames += [('var%d(t+%d)' % (j+1, i)) for j in range(n_vars)]\\n\\t# put it all together\\n\\tagg = concat(cols, axis=1)\\n\\tagg.columns = names\\n\\t# drop rows with NaN values\\n\\tif dropnan:\\n\\t\\tagg.dropna(inplace=True)\\n\\treturn agg\\n\\n# frame as supervised learning\\nreframed = series_to_supervised(scaled, n_months, 1)\\n# print(reframed.shape)\\n\\n\\n# print(reframed.tail())\\n\\n\\n# split into train and test sets\\nvalues = reframed.values\\nn_train_months = 36\\ntrain = values[:n_train_months, :]\\ntest = values[n_train_months:, :]\\nprint(values.shape)\\n# split into input and outputs\\nn_obs = ((n_months+1))* n_features #the following fourth month\\ntrain.shape\\ntrain_X, train_y = train[:, :n_obs], train[:, -n_features*(1+4):-n_features*(1+4)+1] \\ntest_X, test_y = test[:, :n_obs], test[:, -n_features*(1+4):-n_features*(1+4)+1]\\nprint(test.shape)\\n\\n\\n# import matplotlib.pyplot as pp\\n# pp.plot(train_y)\\n# pp.show()\\n\\ntrain_X = train_X.reshape((train_X.shape[0], (n_months+1) , n_features))\\ntest_X = test_X.reshape((test_X.shape[0], (n_months+1), n_features))\\nprint(train_X.shape, train_y.shape, test_X.shape, test_y.shape)\\n\\n\\n# prediction interval for mlps on the housing regression dataset\\nfrom numpy import asarray\\nfrom pandas import read_csv\\nfrom sklearn.model_selection import train_test_split\\nfrom sklearn.metrics import mean_absolute_error\\nfrom sklearn.preprocessing import MinMaxScaler\\nfrom tensorflow.keras.models import Sequential\\nfrom tensorflow.keras.layers import Dense\\nfrom tensorflow.keras.optimizers import Adam\\nimport tensorflow as tf\\nimport math\\nimport numpy as np\\n\\n \\n# define and fit the model\\ndef fit_model(X_train, y_train):\\n    features = X_train.shape[1]\\n    model = Sequential()\\n    model.add(LSTM(50, input_shape=(train_X.shape[1], train_X.shape[2])))\\n    model.add(Dense(1))\\n    model.compile(loss='mse', optimizer='adam')\\n    model.fit(X_train, y_train, verbose=0, epochs=50, batch_size=16)\\n    return model\\n\\n\\t\\n \\n# fit an ensemble of models\\ndef fit_ensemble(n_members, X_train, X_test, y_train, y_test):\\n    ensemble = list()\\n    for i in range(n_members):\\n        model = fit_model(X_train, y_train) # define and fit the model on the training set\\n        yhat = model.predict(X_test, verbose=0) # evaluate model on the test set\\n        print(y_test.shape,yhat.shape)\\n        mae = mean_absolute_error(y_test, yhat)\\n        print('>%d, MAE: %.3f' % (i+1, mae))\\n        ensemble.append(model) # store the model\\n    return ensemble\\n\\nn_members = 20\\nensemble = list()\\nfor i in range(n_members):\\n  model = fit_model(train_X, train_y) # define and fit the model on the training set\\n  yhat = model.predict(test_X, verbose=0) # evaluate model on the test set\\n  print(test_y,yhat.shape)\\n  mae = mean_absolute_error(test_y, yhat)\\n  print('>%d, MAE: %.3f' % (i+1, mae))\\n  ensemble.append(model) # store the model\\n    \\n# make predictions with the ensemble and calculate a prediction interval\\ndef predict_with_pi(ensemble, X,n_members):\\n    yhat = [model.predict(X, verbose=0) for model in ensemble]\\n    yhat = asarray(yhat)\\n    yhat = np.reshape(yhat,[n_members,1])\\n    print(yhat.shape)\\n    # yhat = scaled2.inverse_transform(yhat)\\n    yhat = scaler2.inverse_transform(yhat) # invert scaling for actual\\n    yhat = yhat[:,0] \\n    interval = 1.96 * yhat.std()/math.sqrt(len(yhat))\\n    lower, upper = yhat.mean() - interval, yhat.mean() + interval\\n    return lower, yhat.mean(), upper\\n\\nn_members=len(ensemble)\\n# make predictions with prediction interval\\nnewX = asarray([test_X[0, :]])\\nlower, mean, upper = predict_with_pi(ensemble, newX,n_members)\\n# print(test_y)\\n# print('Point prediction: %.1f' % mean)\\nprint('95%% prediction interval: [%.1f, %.1f]' % (lower, upper))\\nprint('True value: %.1f' % test_y[0])\\noutcome = {'Prediction': [mean],\\n           '95%CI.Min': [lower],\\n           '95%CI.Max': [upper]\\n           }\\n\\n\\noutcome2= pd.DataFrame(outcome)\\noutcome2\\n\\nfrom os import path\\n#save ensemble\\nfor i,i_model in enumerate(ensemble):\\n    i_model.save(path.join(sheet, '2',f'ensemble_corr_{i}.h5'))\\n#   i_model.save(f'BYX/1/ensemble_corr_{i}.h5')\\n\\n\\n\\n#save model\\n# model.save(f'/1/model_corr.h5')\\nmodel.save(path.join(sheet, '2','model_corr.h5'))\",\n  \"from math import sqrt\\nfrom numpy import concatenate\\nfrom matplotlib import pyplot\\nimport pandas as pd\\nfrom pandas import read_csv\\nfrom pandas import DataFrame\\nfrom pandas import concat\\nfrom sklearn.preprocessing import MinMaxScaler\\nfrom sklearn.preprocessing import LabelEncoder\\nfrom sklearn.metrics import mean_squared_error\\nfrom keras.models import Sequential\\nfrom keras.layers import Dense\\nfrom keras.layers import LSTM\\n\\nimport io\\nimport datetime\\n\\n# sheet='BYX'\\ndf= pd.read_excel(r'../Logical Ports Prediction.xlsx',sheet_name=sheet,header=0)\\n# df= pd.read_excel(r'Logical Ports Prediction.xlsx',sheet_name='C2',header=0)\\ndf.dropna(subset=['Date'],inplace=True)\\n\\nfrom datetime import datetime as dt\\nlast_date=df.loc[:,'Date']\\nlast_date=last_date.iat[-1]\\nlast_date=last_date.strftime('%Y-%m-%d')\\nlast_date\\n\\ndf=df[df['Date']<=last_date].reset_index(drop=True)\\ndf.tail()\\ndf['Year'] = pd.to_datetime(df['Date']).dt.strftime('%Y')\\ndf['Month'] = pd.to_datetime(df['Date']).dt.strftime('%m')\\n\\ndf.drop(['Date','Logical Ports','Asset'],axis=1,inplace=True)\\nfirst_column = df.pop('Year')\\ndf.insert(0, 'Year', first_column)\\nsecond_column = df.pop('Month')\\ndf.insert(1, 'Month', second_column)\\nfirst_column = df.pop('PortQyt')\\ndf.insert(0, 'PortQyt', first_column)\\n\\ndf.shape\\nprint(len(list(df)[:]))\\n# # df=df.drop(['D&J_Close30d_Avg.','D&J_Close30d_Min','Monthly Real GDP Index','TCV','FEDFUNDS','Unemployement Rate','SPX_Price30d_Std.','D&J_Close30d_Std.','VIX_Close30d_Max.','VIX_Close30d_Avg.','VIX_Close30d_Std.','VIX_Close30d_Min.'],axis=1)\\n\\n\\nvalues=df.values\\n#\\n# import matplotlib.pyplot as pp\\n# pp.plot(values[:,0])\\n# pp.show()\\n\\n# encoder = LabelEncoder()\\n# # # print(values[:,0]) #PortQyt Value\\n# values[:,0]=encoder.fit_transform(values[:,0])\\n# print(values[:,0])\\n\\n# import matplotlib.pyplot as pp\\n# pp.plot(values[:,0])\\n# pp.show()\\n\\n# # print(values[:,4].shape)\\n# # print(values[:,4])\\nvalues = values.astype('float32')\\n\\n# specify the number of lag hours\\nn_months = 5\\nn_features = len(list(df)[:])\\n\\n#Normalize the first feature\\nfrom sklearn.preprocessing import StandardScaler\\nscaler2 = MinMaxScaler(feature_range=(0, 1)).fit(values[:,0:1])\\n# train_y = scaler2.transform(values[:,-n_features])\\n# scaled2 = scaler2.fit_transform(values) #try\\n\\n\\n# # normalize features\\nscaler = MinMaxScaler(feature_range=(0, 1))\\nscaled = scaler.fit_transform(values)\\n\\n\\n# len(list(dataset.columns))-3\\n\\n# convert series to supervised learning\\ndef series_to_supervised(data, n_in=1, n_out=1, dropnan=True):\\n\\tn_vars = 1 if type(data) is list else data.shape[1]\\n\\tdf = DataFrame(data)\\n\\tcols, names = list(), list()\\n\\t# input sequence (t-n, ... t-1)\\n\\tfor i in range(n_in, 0, -1):\\n\\t\\tcols.append(df.shift(i))\\n\\t\\tnames += [('var%d(t-%d)' % (j+1, i)) for j in range(n_vars)]\\n\\t# forecast sequence (t, t+1, ... t+n)\\n\\tfor i in range(0, n_out):\\n\\t\\tcols.append(df.shift(-i))\\n\\t\\tif i == 0:\\n\\t\\t\\tnames += [('var%d(t)' % (j+1)) for j in range(n_vars)]\\n\\t\\telse:\\n\\t\\t\\tnames += [('var%d(t+%d)' % (j+1, i)) for j in range(n_vars)]\\n\\t# put it all together\\n\\tagg = concat(cols, axis=1)\\n\\tagg.columns = names\\n\\t# drop rows with NaN values\\n\\tif dropnan:\\n\\t\\tagg.dropna(inplace=True)\\n\\treturn agg\\n\\n# frame as supervised learning\\nreframed = series_to_supervised(scaled, n_months, 1)\\n# print(reframed.shape)\\n\\n\\n# print(reframed.tail())\\n\\n\\n\\n\\n\\n# split into train and test sets\\nvalues = reframed.values\\nn_train_months = 36\\ntrain = values[:n_train_months, :]\\ntest = values[n_train_months:, :]\\nprint(values.shape)\\n# split into input and outputs\\nn_obs = (n_months+1)* n_features #the following fourth month\\ntrain.shape\\ntrain_X, train_y = train[:, :n_obs], train[:, -n_features*(1+3):-n_features*(1+3)+1] \\ntest_X, test_y = test[:, :n_obs], test[:, -n_features*(1+3):-n_features*(1+3)+1]\\nprint(test.shape)\\n\\n\\n# import matplotlib.pyplot as pp\\n# pp.plot(train_y)\\n# pp.show()\\n\\ntrain_X = train_X.reshape((train_X.shape[0], (n_months+1), n_features))\\ntest_X = test_X.reshape((test_X.shape[0], (n_months+1), n_features))\\nprint(train_X.shape, train_y.shape, test_X.shape, test_y.shape)\\n\\n# prediction interval for mlps on the housing regression dataset\\nfrom numpy import asarray\\nfrom pandas import read_csv\\nfrom sklearn.model_selection import train_test_split\\nfrom sklearn.metrics import mean_absolute_error\\nfrom sklearn.preprocessing import MinMaxScaler\\nfrom tensorflow.keras.models import Sequential\\nfrom tensorflow.keras.layers import Dense\\nfrom tensorflow.keras.optimizers import Adam\\nimport tensorflow as tf\\nimport math\\nimport numpy as np\\n\\n \\n# define and fit the model\\ndef fit_model(X_train, y_train):\\n    features = X_train.shape[1]\\n    model = Sequential()\\n    model.add(LSTM(50, input_shape=(train_X.shape[1], train_X.shape[2])))\\n    model.add(Dense(1))\\n    model.compile(loss='mse', optimizer='adam')\\n    model.fit(X_train, y_train, verbose=0, epochs=50, batch_size=16)\\n    return model\\n\\n\\t\\n \\n# fit an ensemble of models\\ndef fit_ensemble(n_members, X_train, X_test, y_train, y_test):\\n    ensemble = list()\\n    for i in range(n_members):\\n        model = fit_model(X_train, y_train) # define and fit the model on the training set\\n        yhat = model.predict(X_test, verbose=0) # evaluate model on the test set\\n        print(y_test.shape,yhat.shape)\\n        mae = mean_absolute_error(y_test, yhat)\\n        print('>%d, MAE: %.3f' % (i+1, mae))\\n        ensemble.append(model) # store the model\\n    return ensemble\\n\\nn_members = 20\\nensemble = list()\\nfor i in range(n_members):\\n  model = fit_model(train_X, train_y) # define and fit the model on the training set\\n  yhat = model.predict(test_X, verbose=0) # evaluate model on the test set\\n  print(test_y,yhat.shape)\\n  mae = mean_absolute_error(test_y, yhat)\\n  print('>%d, MAE: %.3f' % (i+1, mae))\\n  ensemble.append(model) # store the model\\n    \\n# make predictions with the ensemble and calculate a prediction interval\\ndef predict_with_pi(ensemble, X,n_members):\\n    yhat = [model.predict(X, verbose=0) for model in ensemble]\\n    yhat = asarray(yhat)\\n    yhat = np.reshape(yhat,[n_members,1])\\n    print(yhat.shape)\\n    # yhat = scaled2.inverse_transform(yhat)\\n    yhat = scaler2.inverse_transform(yhat) # invert scaling for actual\\n    yhat = yhat[:,0] \\n    interval = 1.96 * yhat.std()/math.sqrt(len(yhat))\\n    lower, upper = yhat.mean() - interval, yhat.mean() + interval\\n    return lower, yhat.mean(), upper\\n\\nn_members=len(ensemble)\\n# make predictions with prediction interval\\nnewX = asarray([test_X[0, :]])\\nlower, mean, upper = predict_with_pi(ensemble, newX,n_members)\\n# print(test_y)\\n# print('Point prediction: %.1f' % mean)\\nprint('95%% prediction interval: [%.1f, %.1f]' % (lower, upper))\\nprint('True value: %.1f' % test_y[0])\\noutcome = {'Prediction': [mean],\\n           '95%CI.Min': [lower],\\n           '95%CI.Max': [upper]\\n           }\\n\\n\\noutcome3= pd.DataFrame(outcome)\\noutcome3\\n\\nfrom os import path\\n#save ensemble\\nfor i,i_model in enumerate(ensemble):\\n    i_model.save(path.join(sheet, '3',f'ensemble_corr_{i}.h5'))\\n#   i_model.save(f'BYX/1/ensemble_corr_{i}.h5')\\n\\n\\n\\n#save model\\n# model.save(f'/1/model_corr.h5')\\nmodel.save(path.join(sheet, '3','model_corr.h5'))\",\n  \"from math import sqrt\\nfrom numpy import concatenate\\nfrom matplotlib import pyplot\\nimport pandas as pd\\nfrom pandas import read_csv\\nfrom pandas import DataFrame\\nfrom pandas import concat\\nfrom sklearn.preprocessing import MinMaxScaler\\nfrom sklearn.preprocessing import LabelEncoder\\nfrom sklearn.metrics import mean_squared_error\\nfrom keras.models import Sequential\\nfrom keras.layers import Dense\\nfrom keras.layers import LSTM\\n\\nimport io\\nimport datetime\\n\\n# sheet='BYX'\\ndf= pd.read_excel(r'../Logical Ports Prediction.xlsx',sheet_name=sheet,header=0)\\n# df= pd.read_excel(r'Logical Ports Prediction.xlsx',sheet_name='C2',header=0)\\ndf.dropna(subset=['Date'],inplace=True)\\n\\nfrom datetime import datetime as dt\\nlast_date=df.loc[:,'Date']\\nlast_date=last_date.iat[-1]\\nlast_date=last_date.strftime('%Y-%m-%d')\\nlast_date\\n\\ndf=df[df['Date']<=last_date].reset_index(drop=True)\\ndf.tail()\\ndf['Year'] = pd.to_datetime(df['Date']).dt.strftime('%Y')\\ndf['Month'] = pd.to_datetime(df['Date']).dt.strftime('%m')\\n\\ndf.drop(['Date','Logical Ports','Asset'],axis=1,inplace=True)\\nfirst_column = df.pop('Year')\\ndf.insert(0, 'Year', first_column)\\nsecond_column = df.pop('Month')\\ndf.insert(1, 'Month', second_column)\\nfirst_column = df.pop('PortQyt')\\ndf.insert(0, 'PortQyt', first_column)\\n\\ndf.shape\\nprint(len(list(df)[:]))\\n# # df=df.drop(['D&J_Close30d_Avg.','D&J_Close30d_Min','Monthly Real GDP Index','TCV','FEDFUNDS','Unemployement Rate','SPX_Price30d_Std.','D&J_Close30d_Std.','VIX_Close30d_Max.','VIX_Close30d_Avg.','VIX_Close30d_Std.','VIX_Close30d_Min.'],axis=1)\\n\\n\\nvalues=df.values\\n# #\\n# import matplotlib.pyplot as pp\\n# pp.plot(values[:,0])\\n# pp.show()\\n\\n# encoder = LabelEncoder()\\n# # # print(values[:,0]) #PortQyt Value\\n# values[:,0]=encoder.fit_transform(values[:,0])\\n# print(values[:,0])\\n\\n# import matplotlib.pyplot as pp\\n# pp.plot(values[:,0])\\n# pp.show()\\n\\n# # print(values[:,4].shape)\\n# # print(values[:,4])\\nvalues = values.astype('float32')\\n\\n# specify the number of lag hours\\nn_months = 5\\nn_features = len(list(df)[:])\\n\\n#Normalize the first feature\\nfrom sklearn.preprocessing import StandardScaler\\nscaler2 = MinMaxScaler(feature_range=(0, 1)).fit(values[:,0:1])\\n# train_y = scaler2.transform(values[:,-n_features])\\n# scaled2 = scaler2.fit_transform(values) #try\\n\\n\\n# # normalize features\\nscaler = MinMaxScaler(feature_range=(0, 1))\\nscaled = scaler.fit_transform(values)\\n\\n\\n# len(list(dataset.columns))-3\\n\\n# convert series to supervised learning\\ndef series_to_supervised(data, n_in=1, n_out=1, dropnan=True):\\n\\tn_vars = 1 if type(data) is list else data.shape[1]\\n\\tdf = DataFrame(data)\\n\\tcols, names = list(), list()\\n\\t# input sequence (t-n, ... t-1)\\n\\tfor i in range(n_in, 0, -1):\\n\\t\\tcols.append(df.shift(i))\\n\\t\\tnames += [('var%d(t-%d)' % (j+1, i)) for j in range(n_vars)]\\n\\t# forecast sequence (t, t+1, ... t+n)\\n\\tfor i in range(0, n_out):\\n\\t\\tcols.append(df.shift(-i))\\n\\t\\tif i == 0:\\n\\t\\t\\tnames += [('var%d(t)' % (j+1)) for j in range(n_vars)]\\n\\t\\telse:\\n\\t\\t\\tnames += [('var%d(t+%d)' % (j+1, i)) for j in range(n_vars)]\\n\\t# put it all together\\n\\tagg = concat(cols, axis=1)\\n\\tagg.columns = names\\n\\t# drop rows with NaN values\\n\\tif dropnan:\\n\\t\\tagg.dropna(inplace=True)\\n\\treturn agg\\n\\n# frame as supervised learning\\nreframed = series_to_supervised(scaled, n_months, 1)\\n# print(reframed.shape)\\n\\n\\n# print(reframed.tail())\\n\\n\\n\\n\\n\\n# split into train and test sets\\nvalues = reframed.values\\nn_train_months = 36\\ntrain = values[:n_train_months, :]\\ntest = values[n_train_months:, :]\\nprint(values.shape)\\n# split into input and outputs\\nn_obs = (n_months+1)* n_features #the following fourth month\\ntrain.shape\\ntrain_X, train_y = train[:, :n_obs], train[:, -n_features*(1+2):-n_features*(1+2)+1] \\ntest_X, test_y = test[:, :n_obs], test[:, -n_features*(1+2):-n_features*(1+2)+1]\\nprint(test.shape)\\n\\n\\n# import matplotlib.pyplot as pp\\n# pp.plot(train_y)\\n# pp.show()\\n\\ntrain_X = train_X.reshape((train_X.shape[0], (n_months+1), n_features))\\ntest_X = test_X.reshape((test_X.shape[0], (n_months+1), n_features))\\nprint(train_X.shape, train_y.shape, test_X.shape, test_y.shape)\\n\\n# prediction interval for mlps on the housing regression dataset\\nfrom numpy import asarray\\nfrom pandas import read_csv\\nfrom sklearn.model_selection import train_test_split\\nfrom sklearn.metrics import mean_absolute_error\\nfrom sklearn.preprocessing import MinMaxScaler\\nfrom tensorflow.keras.models import Sequential\\nfrom tensorflow.keras.layers import Dense\\nfrom tensorflow.keras.optimizers import Adam\\nimport tensorflow as tf\\nimport math\\nimport numpy as np\\n\\n \\n# define and fit the model\\ndef fit_model(X_train, y_train):\\n    features = X_train.shape[1]\\n    model = Sequential()\\n    model.add(LSTM(50, input_shape=(train_X.shape[1], train_X.shape[2])))\\n    model.add(Dense(1))\\n    model.compile(loss='mse', optimizer='adam')\\n    model.fit(X_train, y_train, verbose=0, epochs=50, batch_size=16)\\n    return model\\n\\n\\t\\n \\n# fit an ensemble of models\\ndef fit_ensemble(n_members, X_train, X_test, y_train, y_test):\\n    ensemble = list()\\n    for i in range(n_members):\\n        model = fit_model(X_train, y_train) # define and fit the model on the training set\\n        yhat = model.predict(X_test, verbose=0) # evaluate model on the test set\\n        print(y_test.shape,yhat.shape)\\n        mae = mean_absolute_error(y_test, yhat)\\n        print('>%d, MAE: %.3f' % (i+1, mae))\\n        ensemble.append(model) # store the model\\n    return ensemble\\n\\nn_members = 20\\nensemble = list()\\nfor i in range(n_members):\\n  model = fit_model(train_X, train_y) # define and fit the model on the training set\\n  yhat = model.predict(test_X, verbose=0) # evaluate model on the test set\\n  print(test_y,yhat.shape)\\n  mae = mean_absolute_error(test_y, yhat)\\n  print('>%d, MAE: %.3f' % (i+1, mae))\\n  ensemble.append(model) # store the model\\n    \\n# make predictions with the ensemble and calculate a prediction interval\\ndef predict_with_pi(ensemble, X,n_members):\\n    yhat = [model.predict(X, verbose=0) for model in ensemble]\\n    yhat = asarray(yhat)\\n    yhat = np.reshape(yhat,[n_members,1])\\n    print(yhat.shape)\\n    # yhat = scaled2.inverse_transform(yhat)\\n    yhat = scaler2.inverse_transform(yhat) # invert scaling for actual\\n    yhat = yhat[:,0] \\n    interval = 1.96 * yhat.std()/math.sqrt(len(yhat))\\n    lower, upper = yhat.mean() - interval, yhat.mean() + interval\\n    return lower, yhat.mean(), upper\\n\\nn_members=len(ensemble)\\n# make predictions with prediction interval\\nnewX = asarray([test_X[0, :]])\\nlower, mean, upper = predict_with_pi(ensemble, newX,n_members)\\n# print(test_y)\\n# print('Point prediction: %.1f' % mean)\\nprint('95%% prediction interval: [%.1f, %.1f]' % (lower, upper))\\nprint('True value: %.1f' % test_y[0])\\noutcome = {'Prediction': [mean],\\n           '95%CI.Min': [lower],\\n           '95%CI.Max': [upper]\\n           }\\n\\n\\noutcome4= pd.DataFrame(outcome)\\noutcome4\\n\\nfrom os import path\\n#save ensemble\\nfor i,i_model in enumerate(ensemble):\\n    i_model.save(path.join(sheet, '4',f'ensemble_corr_{i}.h5'))\\n#   i_model.save(f'BYX/1/ensemble_corr_{i}.h5')\\n\\n\\n\\n#save model\\n# model.save(f'/1/model_corr.h5')\\nmodel.save(path.join(sheet, '4','model_corr.h5'))\",\n  \"from math import sqrt\\nfrom numpy import concatenate\\nfrom matplotlib import pyplot\\nimport pandas as pd\\nfrom pandas import read_csv\\nfrom pandas import DataFrame\\nfrom pandas import concat\\nfrom sklearn.preprocessing import MinMaxScaler\\nfrom sklearn.preprocessing import LabelEncoder\\nfrom sklearn.metrics import mean_squared_error\\nfrom keras.models import Sequential\\nfrom keras.layers import Dense\\nfrom keras.layers import LSTM\\n\\nimport io\\nimport datetime\\n\\n# sheet='BYX'\\ndf= pd.read_excel(r'../Logical Ports Prediction.xlsx',sheet_name=sheet,header=0)\\n# df= pd.read_excel(r'Logical Ports Prediction.xlsx',sheet_name='C2',header=0)\\ndf.dropna(subset=['Date'],inplace=True)\\n\\nfrom datetime import datetime as dt\\nlast_date=df.loc[:,'Date']\\nlast_date=last_date.iat[-1]\\nlast_date=last_date.strftime('%Y-%m-%d')\\nlast_date\\n\\ndf=df[df['Date']<=last_date].reset_index(drop=True)\\ndf.tail()\\ndf['Year'] = pd.to_datetime(df['Date']).dt.strftime('%Y')\\ndf['Month'] = pd.to_datetime(df['Date']).dt.strftime('%m')\\n\\ndf.drop(['Date','Logical Ports','Asset'],axis=1,inplace=True)\\nfirst_column = df.pop('Year')\\ndf.insert(0, 'Year', first_column)\\nsecond_column = df.pop('Month')\\ndf.insert(1, 'Month', second_column)\\nfirst_column = df.pop('PortQyt')\\ndf.insert(0, 'PortQyt', first_column)\\n\\ndf.shape\\nprint(len(list(df)[:]))\\n# # df=df.drop(['D&J_Close30d_Avg.','D&J_Close30d_Min','Monthly Real GDP Index','TCV','FEDFUNDS','Unemployement Rate','SPX_Price30d_Std.','D&J_Close30d_Std.','VIX_Close30d_Max.','VIX_Close30d_Avg.','VIX_Close30d_Std.','VIX_Close30d_Min.'],axis=1)\\n\\n\\nvalues=df.values\\n#\\n# import matplotlib.pyplot as pp\\n# pp.plot(values[:,0])\\n# pp.show()\\n\\n# encoder = LabelEncoder()\\n# # # print(values[:,0]) #PortQyt Value\\n# values[:,0]=encoder.fit_transform(values[:,0])\\n# print(values[:,0])\\n\\n# import matplotlib.pyplot as pp\\n# pp.plot(values[:,0])\\n# pp.show()\\n\\n# # print(values[:,4].shape)\\n# # print(values[:,4])\\nvalues = values.astype('float32')\\n\\n# specify the number of lag hours\\nn_months = 5\\nn_features = len(list(df)[:])\\n\\n#Normalize the first feature\\nfrom sklearn.preprocessing import StandardScaler\\nscaler2 = MinMaxScaler(feature_range=(0, 1)).fit(values[:,0:1])\\n# train_y = scaler2.transform(values[:,-n_features])\\n# scaled2 = scaler2.fit_transform(values) #try\\n\\n\\n# # normalize features\\nscaler = MinMaxScaler(feature_range=(0, 1))\\nscaled = scaler.fit_transform(values)\\n\\n\\n# len(list(dataset.columns))-3\\n\\n# convert series to supervised learning\\ndef series_to_supervised(data, n_in=1, n_out=1, dropnan=True):\\n\\tn_vars = 1 if type(data) is list else data.shape[1]\\n\\tdf = DataFrame(data)\\n\\tcols, names = list(), list()\\n\\t# input sequence (t-n, ... t-1)\\n\\tfor i in range(n_in, 0, -1):\\n\\t\\tcols.append(df.shift(i))\\n\\t\\tnames += [('var%d(t-%d)' % (j+1, i)) for j in range(n_vars)]\\n\\t# forecast sequence (t, t+1, ... t+n)\\n\\tfor i in range(0, n_out):\\n\\t\\tcols.append(df.shift(-i))\\n\\t\\tif i == 0:\\n\\t\\t\\tnames += [('var%d(t)' % (j+1)) for j in range(n_vars)]\\n\\t\\telse:\\n\\t\\t\\tnames += [('var%d(t+%d)' % (j+1, i)) for j in range(n_vars)]\\n\\t# put it all together\\n\\tagg = concat(cols, axis=1)\\n\\tagg.columns = names\\n\\t# drop rows with NaN values\\n\\tif dropnan:\\n\\t\\tagg.dropna(inplace=True)\\n\\treturn agg\\n\\n# frame as supervised learning\\nreframed = series_to_supervised(scaled, n_months, 1)\\n# print(reframed.shape)\\n\\n\\n# print(reframed.tail())\\n\\n\\n\\n\\n\\nm=6-5\\n# split into train and test sets\\nvalues = reframed.values\\nn_train_months = 36\\ntrain = values[:n_train_months, :]\\ntest = values[n_train_months:, :]\\nprint(values.shape)\\n# split into input and outputs\\nn_obs = (n_months+1)* n_features #the following fourth month\\ntrain.shape\\ntrain_X, train_y = train[:, :n_obs], train[:, -n_features*(1+m):-n_features*(1+m)+1] \\ntest_X, test_y = test[:, :n_obs], test[:, -n_features*(1+m):-n_features*(1+m)+1]\\nprint(test.shape)\\n\\n\\n# import matplotlib.pyplot as pp\\n# pp.plot(train_y)\\n# pp.show()\\n\\ntrain_X = train_X.reshape((train_X.shape[0], (n_months+1), n_features))\\ntest_X = test_X.reshape((test_X.shape[0], (n_months+1), n_features))\\nprint(train_X.shape, train_y.shape, test_X.shape, test_y.shape)\\n\\n# prediction interval for mlps on the housing regression dataset\\nfrom numpy import asarray\\nfrom pandas import read_csv\\nfrom sklearn.model_selection import train_test_split\\nfrom sklearn.metrics import mean_absolute_error\\nfrom sklearn.preprocessing import MinMaxScaler\\nfrom tensorflow.keras.models import Sequential\\nfrom tensorflow.keras.layers import Dense\\nfrom tensorflow.keras.optimizers import Adam\\nimport tensorflow as tf\\nimport math\\nimport numpy as np\\n\\n \\n# define and fit the model\\ndef fit_model(X_train, y_train):\\n    features = X_train.shape[1]\\n    model = Sequential()\\n    model.add(LSTM(50, input_shape=(train_X.shape[1], train_X.shape[2])))\\n    model.add(Dense(1))\\n    model.compile(loss='mse', optimizer='adam')\\n    model.fit(X_train, y_train, verbose=0, epochs=50, batch_size=16)\\n    return model\\n\\n\\t\\n \\n# fit an ensemble of models\\ndef fit_ensemble(n_members, X_train, X_test, y_train, y_test):\\n    ensemble = list()\\n    for i in range(n_members):\\n        model = fit_model(X_train, y_train) # define and fit the model on the training set\\n        yhat = model.predict(X_test, verbose=0) # evaluate model on the test set\\n        print(y_test.shape,yhat.shape)\\n        mae = mean_absolute_error(y_test, yhat)\\n        print('>%d, MAE: %.3f' % (i+1, mae))\\n        ensemble.append(model) # store the model\\n    return ensemble\\n\\nn_members = 20\\nensemble = list()\\nfor i in range(n_members):\\n  model = fit_model(train_X, train_y) # define and fit the model on the training set\\n  yhat = model.predict(test_X, verbose=0) # evaluate model on the test set\\n  print(test_y,yhat.shape)\\n  mae = mean_absolute_error(test_y, yhat)\\n  print('>%d, MAE: %.3f' % (i+1, mae))\\n  ensemble.append(model) # store the model\\n    \\n# make predictions with the ensemble and calculate a prediction interval\\ndef predict_with_pi(ensemble, X,n_members):\\n    yhat = [model.predict(X, verbose=0) for model in ensemble]\\n    yhat = asarray(yhat)\\n    yhat = np.reshape(yhat,[n_members,1])\\n    print(yhat.shape)\\n    # yhat = scaled2.inverse_transform(yhat)\\n    yhat = scaler2.inverse_transform(yhat) # invert scaling for actual\\n    yhat = yhat[:,0] \\n    interval = 1.96 * yhat.std()/math.sqrt(len(yhat))\\n    lower, upper = yhat.mean() - interval, yhat.mean() + interval\\n    return lower, yhat.mean(), upper\\n\\nn_members=len(ensemble)\\n# make predictions with prediction interval\\nnewX = asarray([test_X[0, :]])\\nlower, mean, upper = predict_with_pi(ensemble, newX,n_members)\\n# print(test_y)\\n# print('Point prediction: %.1f' % mean)\\nprint('95%% prediction interval: [%.1f, %.1f]' % (lower, upper))\\nprint('True value: %.1f' % test_y[0])\\noutcome = {'Prediction': [mean],\\n           '95%CI.Min': [lower],\\n           '95%CI.Max': [upper]\\n           }\\n\\n\\noutcome5= pd.DataFrame(outcome)\\noutcome5\\n\\nfrom os import path\\n#save ensemble\\nfor i,i_model in enumerate(ensemble):\\n    i_model.save(path.join(sheet, '5',f'ensemble_corr_{i}.h5'))\\n#   i_model.save(f'BYX/1/ensemble_corr_{i}.h5')\\n\\n\\n\\n#save model\\n# model.save(f'/1/model_corr.h5')\\nmodel.save(path.join(sheet, '5','model_corr.h5'))\",\n  \"from math import sqrt\\nfrom numpy import concatenate\\nfrom matplotlib import pyplot\\nimport pandas as pd\\nfrom pandas import read_csv\\nfrom pandas import DataFrame\\nfrom pandas import concat\\nfrom sklearn.preprocessing import MinMaxScaler\\nfrom sklearn.preprocessing import LabelEncoder\\nfrom sklearn.metrics import mean_squared_error\\nfrom keras.models import Sequential\\nfrom keras.layers import Dense\\nfrom keras.layers import LSTM\\n\\nimport io\\nimport datetime\\n\\n# sheet='BYX'\\ndf= pd.read_excel(r'../Logical Ports Prediction.xlsx',sheet_name=sheet,header=0)\\n# df= pd.read_excel(r'Logical Ports Prediction.xlsx',sheet_name='C2',header=0)\\ndf.dropna(subset=['Date'],inplace=True)\\n\\nfrom datetime import datetime as dt\\nlast_date=df.loc[:,'Date']\\nlast_date=last_date.iat[-1]\\nlast_date=last_date.strftime('%Y-%m-%d')\\nlast_date\\n\\ndf=df[df['Date']<=last_date].reset_index(drop=True)\\ndf.tail()\\ndf['Year'] = pd.to_datetime(df['Date']).dt.strftime('%Y')\\ndf['Month'] = pd.to_datetime(df['Date']).dt.strftime('%m')\\n\\ndf.drop(['Date','Logical Ports','Asset'],axis=1,inplace=True)\\nfirst_column = df.pop('Year')\\ndf.insert(0, 'Year', first_column)\\nsecond_column = df.pop('Month')\\ndf.insert(1, 'Month', second_column)\\nfirst_column = df.pop('PortQyt')\\ndf.insert(0, 'PortQyt', first_column)\\n\\ndf.shape\\nprint(len(list(df)[:]))\\n# # df=df.drop(['D&J_Close30d_Avg.','D&J_Close30d_Min','Monthly Real GDP Index','TCV','FEDFUNDS','Unemployement Rate','SPX_Price30d_Std.','D&J_Close30d_Std.','VIX_Close30d_Max.','VIX_Close30d_Avg.','VIX_Close30d_Std.','VIX_Close30d_Min.'],axis=1)\\n\\n\\nvalues=df.values\\n#\\n# import matplotlib.pyplot as pp\\n# pp.plot(values[:,0])\\n# pp.show()\\n\\n# encoder = LabelEncoder()\\n# # # print(values[:,0]) #PortQyt Value\\n# values[:,0]=encoder.fit_transform(values[:,0])\\n# print(values[:,0])\\n\\n# import matplotlib.pyplot as pp\\n# pp.plot(values[:,0])\\n# pp.show()\\n\\n# # print(values[:,4].shape)\\n# # print(values[:,4])\\nvalues = values.astype('float32')\\n\\n# specify the number of lag hours\\nn_months = 5\\nn_features = len(list(df)[:])\\n\\n#Normalize the first feature\\nfrom sklearn.preprocessing import StandardScaler\\nscaler2 = MinMaxScaler(feature_range=(0, 1)).fit(values[:,0:1])\\n# train_y = scaler2.transform(values[:,-n_features])\\n# scaled2 = scaler2.fit_transform(values) #try\\n\\n\\n# # normalize features\\nscaler = MinMaxScaler(feature_range=(0, 1))\\nscaled = scaler.fit_transform(values)\\n\\n\\n# len(list(dataset.columns))-3\\n\\n# convert series to supervised learning\\ndef series_to_supervised(data, n_in=1, n_out=1, dropnan=True):\\n\\tn_vars = 1 if type(data) is list else data.shape[1]\\n\\tdf = DataFrame(data)\\n\\tcols, names = list(), list()\\n\\t# input sequence (t-n, ... t-1)\\n\\tfor i in range(n_in, 0, -1):\\n\\t\\tcols.append(df.shift(i))\\n\\t\\tnames += [('var%d(t-%d)' % (j+1, i)) for j in range(n_vars)]\\n\\t# forecast sequence (t, t+1, ... t+n)\\n\\tfor i in range(0, n_out):\\n\\t\\tcols.append(df.shift(-i))\\n\\t\\tif i == 0:\\n\\t\\t\\tnames += [('var%d(t)' % (j+1)) for j in range(n_vars)]\\n\\t\\telse:\\n\\t\\t\\tnames += [('var%d(t+%d)' % (j+1, i)) for j in range(n_vars)]\\n\\t# put it all together\\n\\tagg = concat(cols, axis=1)\\n\\tagg.columns = names\\n\\t# drop rows with NaN values\\n\\tif dropnan:\\n\\t\\tagg.dropna(inplace=True)\\n\\treturn agg\\n\\n# frame as supervised learning\\nreframed = series_to_supervised(scaled, n_months, 1)\\n# print(reframed.shape)\\n\\n\\n# print(reframed.tail())\\n\\n\\n\\n\\n\\nm=6-6\\n# split into train and test sets\\nvalues = reframed.values\\nn_train_months = 36\\ntrain = values[:n_train_months, :]\\ntest = values[n_train_months:, :]\\nprint(values.shape)\\n# split into input and outputs\\nn_obs = (n_months+1)* n_features #the following fourth month\\ntrain.shape\\ntrain_X, train_y = train[:, :n_obs], train[:, -n_features*(1+m):-n_features*(1+m)+1] \\ntest_X, test_y = test[:, :n_obs], test[:, -n_features*(1+m):-n_features*(1+m)+1]\\nprint(test.shape)\\n\\n\\n# import matplotlib.pyplot as pp\\n# pp.plot(train_y)\\n# pp.show()\\n\\ntrain_X = train_X.reshape((train_X.shape[0], (n_months+1), n_features))\\ntest_X = test_X.reshape((test_X.shape[0], (n_months+1), n_features))\\nprint(train_X.shape, train_y.shape, test_X.shape, test_y.shape)\\n\\n# prediction interval for mlps on the housing regression dataset\\nfrom numpy import asarray\\nfrom pandas import read_csv\\nfrom sklearn.model_selection import train_test_split\\nfrom sklearn.metrics import mean_absolute_error\\nfrom sklearn.preprocessing import MinMaxScaler\\nfrom tensorflow.keras.models import Sequential\\nfrom tensorflow.keras.layers import Dense\\nfrom tensorflow.keras.optimizers import Adam\\nimport tensorflow as tf\\nimport math\\nimport numpy as np\\n\\n \\n# define and fit the model\\ndef fit_model(X_train, y_train):\\n    features = X_train.shape[1]\\n    model = Sequential()\\n    model.add(LSTM(50, input_shape=(train_X.shape[1], train_X.shape[2])))\\n    model.add(Dense(1))\\n    model.compile(loss='mse', optimizer='adam')\\n    model.fit(X_train, y_train, verbose=0, epochs=50, batch_size=16)\\n    return model\\n\\n\\t\\n \\n# fit an ensemble of models\\ndef fit_ensemble(n_members, X_train, X_test, y_train, y_test):\\n    ensemble = list()\\n    for i in range(n_members):\\n        model = fit_model(X_train, y_train) # define and fit the model on the training set\\n        yhat = model.predict(X_test, verbose=0) # evaluate model on the test set\\n        print(y_test.shape,yhat.shape)\\n        mae = mean_absolute_error(y_test, yhat)\\n        print('>%d, MAE: %.3f' % (i+1, mae))\\n        ensemble.append(model) # store the model\\n    return ensemble\\n\\nn_members = 20\\nensemble = list()\\nfor i in range(n_members):\\n  model = fit_model(train_X, train_y) # define and fit the model on the training set\\n  yhat = model.predict(test_X, verbose=0) # evaluate model on the test set\\n  print(test_y,yhat.shape)\\n  mae = mean_absolute_error(test_y, yhat)\\n  print('>%d, MAE: %.3f' % (i+1, mae))\\n  ensemble.append(model) # store the model\\n    \\n# make predictions with the ensemble and calculate a prediction interval\\ndef predict_with_pi(ensemble, X,n_members):\\n    yhat = [model.predict(X, verbose=0) for model in ensemble]\\n    yhat = asarray(yhat)\\n    yhat = np.reshape(yhat,[n_members,1])\\n    print(yhat.shape)\\n    # yhat = scaled2.inverse_transform(yhat)\\n    yhat = scaler2.inverse_transform(yhat) # invert scaling for actual\\n    yhat = yhat[:,0] \\n    interval = 1.96 * yhat.std()/math.sqrt(len(yhat))\\n    lower, upper = yhat.mean() - interval, yhat.mean() + interval\\n    return lower, yhat.mean(), upper\\n\\nn_members=len(ensemble)\\n# make predictions with prediction interval\\nnewX = asarray([test_X[0, :]])\\nlower, mean, upper = predict_with_pi(ensemble, newX,n_members)\\n# print(test_y)\\n# print('Point prediction: %.1f' % mean)\\nprint('95%% prediction interval: [%.1f, %.1f]' % (lower, upper))\\nprint('True value: %.1f' % test_y[0])\\noutcome = {'Prediction': [mean],\\n           '95%CI.Min': [lower],\\n           '95%CI.Max': [upper]\\n           }\\n\\n\\noutcome6= pd.DataFrame(outcome)\\noutcome6\\n\\nfrom os import path\\n#save ensemble\\nfor i,i_model in enumerate(ensemble):\\n    i_model.save(path.join(sheet, '6',f'ensemble_corr_{i}.h5'))\\n#   i_model.save(f'BYX/1/ensemble_corr_{i}.h5')\\n\\n\\n\\n#save model\\n# model.save(f'/1/model_corr.h5')\\nmodel.save(path.join(sheet, '6','model_corr.h5'))\",\n  \"from math import sqrt\\nfrom numpy import concatenate\\nfrom matplotlib import pyplot\\nimport pandas as pd\\nfrom pandas import read_csv\\nfrom pandas import DataFrame\\nfrom pandas import concat\\nfrom sklearn.preprocessing import MinMaxScaler\\nfrom sklearn.preprocessing import LabelEncoder\\nfrom sklearn.metrics import mean_squared_error\\nfrom keras.models import Sequential\\nfrom keras.layers import Dense\\nfrom keras.layers import LSTM\\n\\nimport io\\nimport datetime\\n\\n# sheet='OPT_BZX BATS'\\ndf= pd.read_excel(r'../Logical Ports Prediction.xlsx',sheet_name=sheet,header=0)\\n# df= pd.read_excel(r'Logical Ports Prediction.xlsx',sheet_name='C2',header=0)\\ndf.dropna(subset=['Date'],inplace=True)\\n\\nfrom datetime import datetime as dt\\nlast_date=df.loc[:,'Date']\\nlast_date=last_date.iat[-1]\\nlast_date=last_date.strftime('%Y-%m-%d')\\nlast_date\\n\\ndf=df[df['Date']<=last_date].reset_index(drop=True)\\ndf.tail()\\ndf['Year'] = pd.to_datetime(df['Date']).dt.strftime('%Y')\\ndf['Month'] = pd.to_datetime(df['Date']).dt.strftime('%m')\\n\\ndf.drop(['Date','Logical Ports','Asset'],axis=1,inplace=True)\\nfirst_column = df.pop('Year')\\ndf.insert(0, 'Year', first_column)\\nsecond_column = df.pop('Month')\\ndf.insert(1, 'Month', second_column)\\nfirst_column = df.pop('PortQyt')\\ndf.insert(0, 'PortQyt', first_column)\\n\\ndf.shape\\nprint(len(list(df)[:]))\\n# # df=df.drop(['D&J_Close30d_Avg.','D&J_Close30d_Min','Monthly Real GDP Index','TCV','FEDFUNDS','Unemployement Rate','SPX_Price30d_Std.','D&J_Close30d_Std.','VIX_Close30d_Max.','VIX_Close30d_Avg.','VIX_Close30d_Std.','VIX_Close30d_Min.'],axis=1)\\n\\n\\nvalues=df.values\\n#\\n# import matplotlib.pyplot as pp\\n# pp.plot(values[:,0])\\n# pp.show()\\n\\n# # encoder = LabelEncoder()\\n# # # # print(values[:,0]) #PortQyt Value\\n# # values[:,0]=encoder.fit_transform(values[:,0])\\n# # print(values[:,0])\\n\\n# import matplotlib.pyplot as pp\\n# pp.plot(values[:,0])\\n# pp.show()\\n\\n# # print(values[:,4].shape)\\n# # print(values[:,4])\\nvalues = values.astype('float32')\\n\\n# specify the number of lag hours\\n# n_months = 11\\nn_months = 23\\nn_features = len(list(df)[:])\\n\\n#Normalize the first feature\\nfrom sklearn.preprocessing import StandardScaler\\nscaler2 = MinMaxScaler(feature_range=(0, 1)).fit(values[:,0:1])\\n# train_y = scaler2.transform(values[:,-n_features])\\n# scaled2 = scaler2.fit_transform(values) #try\\n\\n\\n# # normalize features\\nscaler = MinMaxScaler(feature_range=(0, 1))\\nscaled = scaler.fit_transform(values)\\n\\n\\n# len(list(dataset.columns))-3\\n\\n# convert series to supervised learning\\ndef series_to_supervised(data, n_in=1, n_out=1, dropnan=True):\\n\\tn_vars = 1 if type(data) is list else data.shape[1]\\n\\tdf = DataFrame(data)\\n\\tcols, names = list(), list()\\n\\t# input sequence (t-n, ... t-1)\\n\\tfor i in range(n_in, 0, -1):\\n\\t\\tcols.append(df.shift(i))\\n\\t\\tnames += [('var%d(t-%d)' % (j+1, i)) for j in range(n_vars)]\\n\\t# forecast sequence (t, t+1, ... t+n)\\n\\tfor i in range(0, n_out):\\n\\t\\tcols.append(df.shift(-i))\\n\\t\\tif i == 0:\\n\\t\\t\\tnames += [('var%d(t)' % (j+1)) for j in range(n_vars)]\\n\\t\\telse:\\n\\t\\t\\tnames += [('var%d(t+%d)' % (j+1, i)) for j in range(n_vars)]\\n\\t# put it all together\\n\\tagg = concat(cols, axis=1)\\n\\tagg.columns = names\\n\\t# drop rows with NaN values\\n\\tif dropnan:\\n\\t\\tagg.dropna(inplace=True)\\n\\treturn agg\\n\\n# frame as supervised learning\\nreframed = series_to_supervised(scaled, n_months, 1)\\n# print(reframed.shape)\\n\\n\\n# print(reframed.tail())\\n\\n\\n\\nm=6-6\\n# split into train and test sets\\nvalues = reframed.values\\nn_train_months =17\\ntrain = values[:n_train_months, :]\\ntest = values[n_train_months:, :]\\nprint(values.shape)\\n# split into input and outputs\\nn_obs = ((n_months+1)//2)* n_features #the following 12\\n# n_obs = (n_months+1)* n_features #the following \\ntrain.shape\\ntrain_X, train_y = train[:, :n_obs], train[:, -n_features*(1+m):-n_features*(1+m)+1] \\ntrain_X, train_y = train[:, :n_obs], train[:, -n_features*(1+m):-n_features*(1+m)+1] \\ntest_X, test_y = test[:, :n_obs], test[:, -n_features*(1+m):-n_features*(1+m)+1]\\nprint(test.shape)\\n\\n\\n# import matplotlib.pyplot as pp\\n# pp.plot(train_y)\\n# pp.show()\\n\\ntrain_X = train_X.reshape((train_X.shape[0], (n_months+1)//2, n_features))\\n# train_X = train_X.reshape((train_X.shape[0], (n_months+1), n_features))\\ntest_X = test_X.reshape((test_X.shape[0], (n_months+1)//2, n_features))\\nprint(train_X.shape, train_y.shape, test_X.shape, test_y.shape)\\n\\n# prediction interval for mlps on the housing regression dataset\\nfrom numpy import asarray\\nfrom pandas import read_csv\\nfrom sklearn.model_selection import train_test_split\\nfrom sklearn.metrics import mean_absolute_error\\nfrom sklearn.preprocessing import MinMaxScaler\\nfrom tensorflow.keras.models import Sequential\\nfrom tensorflow.keras.layers import Dense\\nfrom tensorflow.keras.optimizers import Adam\\nimport tensorflow as tf\\nimport math\\nimport numpy as np\\n\\n \\n# define and fit the model\\ndef fit_model(X_train, y_train):\\n    features = X_train.shape[1]\\n    model = Sequential()\\n    model.add(LSTM(50, input_shape=(train_X.shape[1], train_X.shape[2])))\\n    model.add(Dense(1))\\n    model.compile(loss='mse', optimizer='adam')\\n    model.fit(X_train, y_train, verbose=0, epochs=50, batch_size=16)\\n    return model\\n\\n\\t\\n \\n# fit an ensemble of models\\ndef fit_ensemble(n_members, X_train, X_test, y_train, y_test):\\n    ensemble = list()\\n    for i in range(n_members):\\n        model = fit_model(X_train, y_train) # define and fit the model on the training set\\n        yhat = model.predict(X_test, verbose=0) # evaluate model on the test set\\n        print(y_test.shape,yhat.shape)\\n        mae = mean_absolute_error(y_test, yhat)\\n        print('>%d, MAE: %.3f' % (i+1, mae))\\n        ensemble.append(model) # store the model\\n    return ensemble\\n\\nn_members = 20\\nensemble = list()\\nfor i in range(n_members):\\n  model = fit_model(train_X, train_y) # define and fit the model on the training set\\n  yhat = model.predict(test_X, verbose=0) # evaluate model on the test set\\n  print(test_y,yhat.shape)\\n  mae = mean_absolute_error(test_y, yhat)\\n  print('>%d, MAE: %.3f' % (i+1, mae))\\n  ensemble.append(model) # store the model\\n    \\n# make predictions with the ensemble and calculate a prediction interval\\ndef predict_with_pi(ensemble, X,n_members):\\n    yhat = [model.predict(X, verbose=0) for model in ensemble]\\n    yhat = asarray(yhat)\\n    yhat = np.reshape(yhat,[n_members,1])\\n    print(yhat.shape)\\n    # yhat = scaled2.inverse_transform(yhat)\\n    yhat = scaler2.inverse_transform(yhat) # invert scaling for actual\\n    yhat = yhat[:,0] \\n    interval = 1.96 * yhat.std()/math.sqrt(len(yhat))\\n    lower, upper = yhat.mean() - interval, yhat.mean() + interval\\n    return lower, yhat.mean(), upper\\n\\nn_members=len(ensemble)\\n# make predictions with prediction interval\\nnewX = asarray([test_X[0, :]])\\nlower, mean, upper = predict_with_pi(ensemble, newX,n_members)\\n# print(test_y)\\n# print('Point prediction: %.1f' % mean)\\nprint('95%% prediction interval: [%.1f, %.1f]' % (lower, upper))\\nprint('True value: %.1f' % test_y[0])\\noutcome = {'Prediction': [mean],\\n           '95%CI.Min': [lower],\\n           '95%CI.Max': [upper]\\n           }\\n\\n\\noutcome12= pd.DataFrame(outcome)\\noutcome12\\n\\nfrom os import path\\n#save ensemble\\nfor i,i_model in enumerate(ensemble):\\n    i_model.save(path.join(sheet, '12',f'ensemble_corr_{i}.h5'))\\n#   i_model.save(f'BYX/1/ensemble_corr_{i}.h5')\\n\\n\\n\\n#save model\\n# model.save(f'/1/model_corr.h5')\\nmodel.save(path.join(sheet, '12','model_corr.h5'))\",\n  '#Concatenate all dataframes by identical columns\\n\\ndf=pd.concat([outcome1, outcome2,outcome3,outcome4,outcome5,outcome6,outcome12])\\n# df=pd.concat([outcome6,outcome12])\\n\\ninsert_index = 0\\ninsert_colname = \\'Asset\\'\\ninsert_values = [\\'Options\\',\\'Options\\',\\'Options\\',\\'Options\\',\\'Options\\',\\'Options\\',\\'Options\\'] # this can be a numpy array too\\n# insert_values = [\\'Options\\',\\'Options\\'] # this can be a numpy array too\\ndf.insert(loc=insert_index, column=insert_colname, value=insert_values)\\n\\n\\ninsert_index = 1\\ninsert_colname = \\'Product\\'\\ninsert_values = [sheet,sheet,sheet,sheet,sheet,sheet,sheet] # this can be a numpy array too\\n# insert_values = [sheet,sheet] # this can be a numpy array too\\ndf.insert(loc=insert_index, column=insert_colname, value=insert_values)\\n\\ninsert_index = 2\\ninsert_colname = \\'Month Ahead\\'\\ninsert_values = [\\'1\\',\\'2\\',\\'3\\',\\'4\\',\\'5\\',\\'6\\',\\'12\\'] # this can be a numpy array too\\n# insert_values = [\\'6\\',\\'12\\'] # this can be a numpy array too\\ndf.insert(loc=insert_index, column=insert_colname, value=insert_values)\\n\\nglobals()[sheet] = df\\n\\nimport matplotlib.pyplot as mp\\ndf.plot(title=sheet,x=\\'Month Ahead\\',y=[\"Prediction\",\"95%CI.Min\",\"95%CI.Max\"],kind=\"line\",figsize=(10,10))\\nmp.show()',\n  'globals()'],\n 'Out': {2:    Prediction   95%CI.Min   95%CI.Max\n  0  656.793579  653.470549  660.116609},\n 'get_ipython': <bound method InteractiveShell.get_ipython of <ipykernel.zmqshell.ZMQInteractiveShell object at 0x1055ed7f0>>,\n 'exit': <IPython.core.autocall.ZMQExitAutocall at 0x105604520>,\n 'quit': <IPython.core.autocall.ZMQExitAutocall at 0x105604520>,\n '_':    Prediction   95%CI.Min   95%CI.Max\n 0  656.793579  653.470549  660.116609,\n '__': '',\n '___': '',\n '_i': '#Concatenate all dataframes by identical columns\\n\\ndf=pd.concat([outcome1, outcome2,outcome3,outcome4,outcome5,outcome6,outcome12])\\n# df=pd.concat([outcome6,outcome12])\\n\\ninsert_index = 0\\ninsert_colname = \\'Asset\\'\\ninsert_values = [\\'Options\\',\\'Options\\',\\'Options\\',\\'Options\\',\\'Options\\',\\'Options\\',\\'Options\\'] # this can be a numpy array too\\n# insert_values = [\\'Options\\',\\'Options\\'] # this can be a numpy array too\\ndf.insert(loc=insert_index, column=insert_colname, value=insert_values)\\n\\n\\ninsert_index = 1\\ninsert_colname = \\'Product\\'\\ninsert_values = [sheet,sheet,sheet,sheet,sheet,sheet,sheet] # this can be a numpy array too\\n# insert_values = [sheet,sheet] # this can be a numpy array too\\ndf.insert(loc=insert_index, column=insert_colname, value=insert_values)\\n\\ninsert_index = 2\\ninsert_colname = \\'Month Ahead\\'\\ninsert_values = [\\'1\\',\\'2\\',\\'3\\',\\'4\\',\\'5\\',\\'6\\',\\'12\\'] # this can be a numpy array too\\n# insert_values = [\\'6\\',\\'12\\'] # this can be a numpy array too\\ndf.insert(loc=insert_index, column=insert_colname, value=insert_values)\\n\\nglobals()[sheet] = df\\n\\nimport matplotlib.pyplot as mp\\ndf.plot(title=sheet,x=\\'Month Ahead\\',y=[\"Prediction\",\"95%CI.Min\",\"95%CI.Max\"],kind=\"line\",figsize=(10,10))\\nmp.show()',\n '_ii': \"from math import sqrt\\nfrom numpy import concatenate\\nfrom matplotlib import pyplot\\nimport pandas as pd\\nfrom pandas import read_csv\\nfrom pandas import DataFrame\\nfrom pandas import concat\\nfrom sklearn.preprocessing import MinMaxScaler\\nfrom sklearn.preprocessing import LabelEncoder\\nfrom sklearn.metrics import mean_squared_error\\nfrom keras.models import Sequential\\nfrom keras.layers import Dense\\nfrom keras.layers import LSTM\\n\\nimport io\\nimport datetime\\n\\n# sheet='OPT_BZX BATS'\\ndf= pd.read_excel(r'../Logical Ports Prediction.xlsx',sheet_name=sheet,header=0)\\n# df= pd.read_excel(r'Logical Ports Prediction.xlsx',sheet_name='C2',header=0)\\ndf.dropna(subset=['Date'],inplace=True)\\n\\nfrom datetime import datetime as dt\\nlast_date=df.loc[:,'Date']\\nlast_date=last_date.iat[-1]\\nlast_date=last_date.strftime('%Y-%m-%d')\\nlast_date\\n\\ndf=df[df['Date']<=last_date].reset_index(drop=True)\\ndf.tail()\\ndf['Year'] = pd.to_datetime(df['Date']).dt.strftime('%Y')\\ndf['Month'] = pd.to_datetime(df['Date']).dt.strftime('%m')\\n\\ndf.drop(['Date','Logical Ports','Asset'],axis=1,inplace=True)\\nfirst_column = df.pop('Year')\\ndf.insert(0, 'Year', first_column)\\nsecond_column = df.pop('Month')\\ndf.insert(1, 'Month', second_column)\\nfirst_column = df.pop('PortQyt')\\ndf.insert(0, 'PortQyt', first_column)\\n\\ndf.shape\\nprint(len(list(df)[:]))\\n# # df=df.drop(['D&J_Close30d_Avg.','D&J_Close30d_Min','Monthly Real GDP Index','TCV','FEDFUNDS','Unemployement Rate','SPX_Price30d_Std.','D&J_Close30d_Std.','VIX_Close30d_Max.','VIX_Close30d_Avg.','VIX_Close30d_Std.','VIX_Close30d_Min.'],axis=1)\\n\\n\\nvalues=df.values\\n#\\n# import matplotlib.pyplot as pp\\n# pp.plot(values[:,0])\\n# pp.show()\\n\\n# # encoder = LabelEncoder()\\n# # # # print(values[:,0]) #PortQyt Value\\n# # values[:,0]=encoder.fit_transform(values[:,0])\\n# # print(values[:,0])\\n\\n# import matplotlib.pyplot as pp\\n# pp.plot(values[:,0])\\n# pp.show()\\n\\n# # print(values[:,4].shape)\\n# # print(values[:,4])\\nvalues = values.astype('float32')\\n\\n# specify the number of lag hours\\n# n_months = 11\\nn_months = 23\\nn_features = len(list(df)[:])\\n\\n#Normalize the first feature\\nfrom sklearn.preprocessing import StandardScaler\\nscaler2 = MinMaxScaler(feature_range=(0, 1)).fit(values[:,0:1])\\n# train_y = scaler2.transform(values[:,-n_features])\\n# scaled2 = scaler2.fit_transform(values) #try\\n\\n\\n# # normalize features\\nscaler = MinMaxScaler(feature_range=(0, 1))\\nscaled = scaler.fit_transform(values)\\n\\n\\n# len(list(dataset.columns))-3\\n\\n# convert series to supervised learning\\ndef series_to_supervised(data, n_in=1, n_out=1, dropnan=True):\\n\\tn_vars = 1 if type(data) is list else data.shape[1]\\n\\tdf = DataFrame(data)\\n\\tcols, names = list(), list()\\n\\t# input sequence (t-n, ... t-1)\\n\\tfor i in range(n_in, 0, -1):\\n\\t\\tcols.append(df.shift(i))\\n\\t\\tnames += [('var%d(t-%d)' % (j+1, i)) for j in range(n_vars)]\\n\\t# forecast sequence (t, t+1, ... t+n)\\n\\tfor i in range(0, n_out):\\n\\t\\tcols.append(df.shift(-i))\\n\\t\\tif i == 0:\\n\\t\\t\\tnames += [('var%d(t)' % (j+1)) for j in range(n_vars)]\\n\\t\\telse:\\n\\t\\t\\tnames += [('var%d(t+%d)' % (j+1, i)) for j in range(n_vars)]\\n\\t# put it all together\\n\\tagg = concat(cols, axis=1)\\n\\tagg.columns = names\\n\\t# drop rows with NaN values\\n\\tif dropnan:\\n\\t\\tagg.dropna(inplace=True)\\n\\treturn agg\\n\\n# frame as supervised learning\\nreframed = series_to_supervised(scaled, n_months, 1)\\n# print(reframed.shape)\\n\\n\\n# print(reframed.tail())\\n\\n\\n\\nm=6-6\\n# split into train and test sets\\nvalues = reframed.values\\nn_train_months =17\\ntrain = values[:n_train_months, :]\\ntest = values[n_train_months:, :]\\nprint(values.shape)\\n# split into input and outputs\\nn_obs = ((n_months+1)//2)* n_features #the following 12\\n# n_obs = (n_months+1)* n_features #the following \\ntrain.shape\\ntrain_X, train_y = train[:, :n_obs], train[:, -n_features*(1+m):-n_features*(1+m)+1] \\ntrain_X, train_y = train[:, :n_obs], train[:, -n_features*(1+m):-n_features*(1+m)+1] \\ntest_X, test_y = test[:, :n_obs], test[:, -n_features*(1+m):-n_features*(1+m)+1]\\nprint(test.shape)\\n\\n\\n# import matplotlib.pyplot as pp\\n# pp.plot(train_y)\\n# pp.show()\\n\\ntrain_X = train_X.reshape((train_X.shape[0], (n_months+1)//2, n_features))\\n# train_X = train_X.reshape((train_X.shape[0], (n_months+1), n_features))\\ntest_X = test_X.reshape((test_X.shape[0], (n_months+1)//2, n_features))\\nprint(train_X.shape, train_y.shape, test_X.shape, test_y.shape)\\n\\n# prediction interval for mlps on the housing regression dataset\\nfrom numpy import asarray\\nfrom pandas import read_csv\\nfrom sklearn.model_selection import train_test_split\\nfrom sklearn.metrics import mean_absolute_error\\nfrom sklearn.preprocessing import MinMaxScaler\\nfrom tensorflow.keras.models import Sequential\\nfrom tensorflow.keras.layers import Dense\\nfrom tensorflow.keras.optimizers import Adam\\nimport tensorflow as tf\\nimport math\\nimport numpy as np\\n\\n \\n# define and fit the model\\ndef fit_model(X_train, y_train):\\n    features = X_train.shape[1]\\n    model = Sequential()\\n    model.add(LSTM(50, input_shape=(train_X.shape[1], train_X.shape[2])))\\n    model.add(Dense(1))\\n    model.compile(loss='mse', optimizer='adam')\\n    model.fit(X_train, y_train, verbose=0, epochs=50, batch_size=16)\\n    return model\\n\\n\\t\\n \\n# fit an ensemble of models\\ndef fit_ensemble(n_members, X_train, X_test, y_train, y_test):\\n    ensemble = list()\\n    for i in range(n_members):\\n        model = fit_model(X_train, y_train) # define and fit the model on the training set\\n        yhat = model.predict(X_test, verbose=0) # evaluate model on the test set\\n        print(y_test.shape,yhat.shape)\\n        mae = mean_absolute_error(y_test, yhat)\\n        print('>%d, MAE: %.3f' % (i+1, mae))\\n        ensemble.append(model) # store the model\\n    return ensemble\\n\\nn_members = 20\\nensemble = list()\\nfor i in range(n_members):\\n  model = fit_model(train_X, train_y) # define and fit the model on the training set\\n  yhat = model.predict(test_X, verbose=0) # evaluate model on the test set\\n  print(test_y,yhat.shape)\\n  mae = mean_absolute_error(test_y, yhat)\\n  print('>%d, MAE: %.3f' % (i+1, mae))\\n  ensemble.append(model) # store the model\\n    \\n# make predictions with the ensemble and calculate a prediction interval\\ndef predict_with_pi(ensemble, X,n_members):\\n    yhat = [model.predict(X, verbose=0) for model in ensemble]\\n    yhat = asarray(yhat)\\n    yhat = np.reshape(yhat,[n_members,1])\\n    print(yhat.shape)\\n    # yhat = scaled2.inverse_transform(yhat)\\n    yhat = scaler2.inverse_transform(yhat) # invert scaling for actual\\n    yhat = yhat[:,0] \\n    interval = 1.96 * yhat.std()/math.sqrt(len(yhat))\\n    lower, upper = yhat.mean() - interval, yhat.mean() + interval\\n    return lower, yhat.mean(), upper\\n\\nn_members=len(ensemble)\\n# make predictions with prediction interval\\nnewX = asarray([test_X[0, :]])\\nlower, mean, upper = predict_with_pi(ensemble, newX,n_members)\\n# print(test_y)\\n# print('Point prediction: %.1f' % mean)\\nprint('95%% prediction interval: [%.1f, %.1f]' % (lower, upper))\\nprint('True value: %.1f' % test_y[0])\\noutcome = {'Prediction': [mean],\\n           '95%CI.Min': [lower],\\n           '95%CI.Max': [upper]\\n           }\\n\\n\\noutcome12= pd.DataFrame(outcome)\\noutcome12\\n\\nfrom os import path\\n#save ensemble\\nfor i,i_model in enumerate(ensemble):\\n    i_model.save(path.join(sheet, '12',f'ensemble_corr_{i}.h5'))\\n#   i_model.save(f'BYX/1/ensemble_corr_{i}.h5')\\n\\n\\n\\n#save model\\n# model.save(f'/1/model_corr.h5')\\nmodel.save(path.join(sheet, '12','model_corr.h5'))\",\n '_iii': \"from math import sqrt\\nfrom numpy import concatenate\\nfrom matplotlib import pyplot\\nimport pandas as pd\\nfrom pandas import read_csv\\nfrom pandas import DataFrame\\nfrom pandas import concat\\nfrom sklearn.preprocessing import MinMaxScaler\\nfrom sklearn.preprocessing import LabelEncoder\\nfrom sklearn.metrics import mean_squared_error\\nfrom keras.models import Sequential\\nfrom keras.layers import Dense\\nfrom keras.layers import LSTM\\n\\nimport io\\nimport datetime\\n\\n# sheet='BYX'\\ndf= pd.read_excel(r'../Logical Ports Prediction.xlsx',sheet_name=sheet,header=0)\\n# df= pd.read_excel(r'Logical Ports Prediction.xlsx',sheet_name='C2',header=0)\\ndf.dropna(subset=['Date'],inplace=True)\\n\\nfrom datetime import datetime as dt\\nlast_date=df.loc[:,'Date']\\nlast_date=last_date.iat[-1]\\nlast_date=last_date.strftime('%Y-%m-%d')\\nlast_date\\n\\ndf=df[df['Date']<=last_date].reset_index(drop=True)\\ndf.tail()\\ndf['Year'] = pd.to_datetime(df['Date']).dt.strftime('%Y')\\ndf['Month'] = pd.to_datetime(df['Date']).dt.strftime('%m')\\n\\ndf.drop(['Date','Logical Ports','Asset'],axis=1,inplace=True)\\nfirst_column = df.pop('Year')\\ndf.insert(0, 'Year', first_column)\\nsecond_column = df.pop('Month')\\ndf.insert(1, 'Month', second_column)\\nfirst_column = df.pop('PortQyt')\\ndf.insert(0, 'PortQyt', first_column)\\n\\ndf.shape\\nprint(len(list(df)[:]))\\n# # df=df.drop(['D&J_Close30d_Avg.','D&J_Close30d_Min','Monthly Real GDP Index','TCV','FEDFUNDS','Unemployement Rate','SPX_Price30d_Std.','D&J_Close30d_Std.','VIX_Close30d_Max.','VIX_Close30d_Avg.','VIX_Close30d_Std.','VIX_Close30d_Min.'],axis=1)\\n\\n\\nvalues=df.values\\n#\\n# import matplotlib.pyplot as pp\\n# pp.plot(values[:,0])\\n# pp.show()\\n\\n# encoder = LabelEncoder()\\n# # # print(values[:,0]) #PortQyt Value\\n# values[:,0]=encoder.fit_transform(values[:,0])\\n# print(values[:,0])\\n\\n# import matplotlib.pyplot as pp\\n# pp.plot(values[:,0])\\n# pp.show()\\n\\n# # print(values[:,4].shape)\\n# # print(values[:,4])\\nvalues = values.astype('float32')\\n\\n# specify the number of lag hours\\nn_months = 5\\nn_features = len(list(df)[:])\\n\\n#Normalize the first feature\\nfrom sklearn.preprocessing import StandardScaler\\nscaler2 = MinMaxScaler(feature_range=(0, 1)).fit(values[:,0:1])\\n# train_y = scaler2.transform(values[:,-n_features])\\n# scaled2 = scaler2.fit_transform(values) #try\\n\\n\\n# # normalize features\\nscaler = MinMaxScaler(feature_range=(0, 1))\\nscaled = scaler.fit_transform(values)\\n\\n\\n# len(list(dataset.columns))-3\\n\\n# convert series to supervised learning\\ndef series_to_supervised(data, n_in=1, n_out=1, dropnan=True):\\n\\tn_vars = 1 if type(data) is list else data.shape[1]\\n\\tdf = DataFrame(data)\\n\\tcols, names = list(), list()\\n\\t# input sequence (t-n, ... t-1)\\n\\tfor i in range(n_in, 0, -1):\\n\\t\\tcols.append(df.shift(i))\\n\\t\\tnames += [('var%d(t-%d)' % (j+1, i)) for j in range(n_vars)]\\n\\t# forecast sequence (t, t+1, ... t+n)\\n\\tfor i in range(0, n_out):\\n\\t\\tcols.append(df.shift(-i))\\n\\t\\tif i == 0:\\n\\t\\t\\tnames += [('var%d(t)' % (j+1)) for j in range(n_vars)]\\n\\t\\telse:\\n\\t\\t\\tnames += [('var%d(t+%d)' % (j+1, i)) for j in range(n_vars)]\\n\\t# put it all together\\n\\tagg = concat(cols, axis=1)\\n\\tagg.columns = names\\n\\t# drop rows with NaN values\\n\\tif dropnan:\\n\\t\\tagg.dropna(inplace=True)\\n\\treturn agg\\n\\n# frame as supervised learning\\nreframed = series_to_supervised(scaled, n_months, 1)\\n# print(reframed.shape)\\n\\n\\n# print(reframed.tail())\\n\\n\\n\\n\\n\\nm=6-6\\n# split into train and test sets\\nvalues = reframed.values\\nn_train_months = 36\\ntrain = values[:n_train_months, :]\\ntest = values[n_train_months:, :]\\nprint(values.shape)\\n# split into input and outputs\\nn_obs = (n_months+1)* n_features #the following fourth month\\ntrain.shape\\ntrain_X, train_y = train[:, :n_obs], train[:, -n_features*(1+m):-n_features*(1+m)+1] \\ntest_X, test_y = test[:, :n_obs], test[:, -n_features*(1+m):-n_features*(1+m)+1]\\nprint(test.shape)\\n\\n\\n# import matplotlib.pyplot as pp\\n# pp.plot(train_y)\\n# pp.show()\\n\\ntrain_X = train_X.reshape((train_X.shape[0], (n_months+1), n_features))\\ntest_X = test_X.reshape((test_X.shape[0], (n_months+1), n_features))\\nprint(train_X.shape, train_y.shape, test_X.shape, test_y.shape)\\n\\n# prediction interval for mlps on the housing regression dataset\\nfrom numpy import asarray\\nfrom pandas import read_csv\\nfrom sklearn.model_selection import train_test_split\\nfrom sklearn.metrics import mean_absolute_error\\nfrom sklearn.preprocessing import MinMaxScaler\\nfrom tensorflow.keras.models import Sequential\\nfrom tensorflow.keras.layers import Dense\\nfrom tensorflow.keras.optimizers import Adam\\nimport tensorflow as tf\\nimport math\\nimport numpy as np\\n\\n \\n# define and fit the model\\ndef fit_model(X_train, y_train):\\n    features = X_train.shape[1]\\n    model = Sequential()\\n    model.add(LSTM(50, input_shape=(train_X.shape[1], train_X.shape[2])))\\n    model.add(Dense(1))\\n    model.compile(loss='mse', optimizer='adam')\\n    model.fit(X_train, y_train, verbose=0, epochs=50, batch_size=16)\\n    return model\\n\\n\\t\\n \\n# fit an ensemble of models\\ndef fit_ensemble(n_members, X_train, X_test, y_train, y_test):\\n    ensemble = list()\\n    for i in range(n_members):\\n        model = fit_model(X_train, y_train) # define and fit the model on the training set\\n        yhat = model.predict(X_test, verbose=0) # evaluate model on the test set\\n        print(y_test.shape,yhat.shape)\\n        mae = mean_absolute_error(y_test, yhat)\\n        print('>%d, MAE: %.3f' % (i+1, mae))\\n        ensemble.append(model) # store the model\\n    return ensemble\\n\\nn_members = 20\\nensemble = list()\\nfor i in range(n_members):\\n  model = fit_model(train_X, train_y) # define and fit the model on the training set\\n  yhat = model.predict(test_X, verbose=0) # evaluate model on the test set\\n  print(test_y,yhat.shape)\\n  mae = mean_absolute_error(test_y, yhat)\\n  print('>%d, MAE: %.3f' % (i+1, mae))\\n  ensemble.append(model) # store the model\\n    \\n# make predictions with the ensemble and calculate a prediction interval\\ndef predict_with_pi(ensemble, X,n_members):\\n    yhat = [model.predict(X, verbose=0) for model in ensemble]\\n    yhat = asarray(yhat)\\n    yhat = np.reshape(yhat,[n_members,1])\\n    print(yhat.shape)\\n    # yhat = scaled2.inverse_transform(yhat)\\n    yhat = scaler2.inverse_transform(yhat) # invert scaling for actual\\n    yhat = yhat[:,0] \\n    interval = 1.96 * yhat.std()/math.sqrt(len(yhat))\\n    lower, upper = yhat.mean() - interval, yhat.mean() + interval\\n    return lower, yhat.mean(), upper\\n\\nn_members=len(ensemble)\\n# make predictions with prediction interval\\nnewX = asarray([test_X[0, :]])\\nlower, mean, upper = predict_with_pi(ensemble, newX,n_members)\\n# print(test_y)\\n# print('Point prediction: %.1f' % mean)\\nprint('95%% prediction interval: [%.1f, %.1f]' % (lower, upper))\\nprint('True value: %.1f' % test_y[0])\\noutcome = {'Prediction': [mean],\\n           '95%CI.Min': [lower],\\n           '95%CI.Max': [upper]\\n           }\\n\\n\\noutcome6= pd.DataFrame(outcome)\\noutcome6\\n\\nfrom os import path\\n#save ensemble\\nfor i,i_model in enumerate(ensemble):\\n    i_model.save(path.join(sheet, '6',f'ensemble_corr_{i}.h5'))\\n#   i_model.save(f'BYX/1/ensemble_corr_{i}.h5')\\n\\n\\n\\n#save model\\n# model.save(f'/1/model_corr.h5')\\nmodel.save(path.join(sheet, '6','model_corr.h5'))\",\n '_i1': \"# sheet='C1'\\n# sheet='C2'\\n# sheet='BYX'\\n# sheet='BZX'\\n# sheet='EDGA'\\n# sheet='EDGX_Equities'\\nsheet='EXO_EDGX_Options'\\n# sheet='OPT_BZX_BATS'\\n# sheet='CFE'\",\n 'sheet': 'EXO_EDGX_Options',\n '_i2': \"from math import sqrt\\nfrom numpy import concatenate\\nfrom matplotlib import pyplot\\nimport pandas as pd\\nfrom pandas import read_csv\\nfrom pandas import DataFrame\\nfrom pandas import concat\\nfrom sklearn.preprocessing import MinMaxScaler\\nfrom sklearn.preprocessing import LabelEncoder\\nfrom sklearn.metrics import mean_squared_error\\nfrom keras.models import Sequential\\nfrom keras.layers import Dense\\nfrom keras.layers import LSTM\\n\\n\\nimport io\\nimport datetime\\n\\n# sheet='C1'\\n# sheet='C2'\\n# sheet='BYX'\\n# sheet='BZX'\\n# sheet='EDGA'\\n# sheet='EDGX_Equities'\\n# sheet='EXO_EDGX Options'\\n# sheet='OPT_BZX BATS'\\n# sheet='CFE'\\n\\n#load ensemble\\nimport os\\nfrom keras.models import load_model\\n\\ndf= pd.read_excel(r'../Logical Ports Prediction.xlsx',sheet_name=sheet,header=0)\\n# df= pd.read_excel(r'Logical Ports Prediction.xlsx',sheet_name='C2',header=0)\\ndf.dropna(subset=['Date'],inplace=True)\\n\\nfrom datetime import datetime as dt\\nlast_date=df.loc[:,'Date']\\nlast_date=last_date.iat[-1]\\nlast_date=last_date.strftime('%Y-%m-%d')\\nlast_date\\n\\ndf=df[df['Date']<=last_date].reset_index(drop=True)\\ndf.tail()\\ndf['Year'] = pd.to_datetime(df['Date']).dt.strftime('%Y')\\ndf['Month'] = pd.to_datetime(df['Date']).dt.strftime('%m')\\n\\ndf.drop(['Date','Logical Ports','Asset'],axis=1,inplace=True)\\nfirst_column = df.pop('Year')\\ndf.insert(0, 'Year', first_column)\\nsecond_column = df.pop('Month')\\ndf.insert(1, 'Month', second_column)\\nfirst_column = df.pop('PortQyt')\\ndf.insert(0, 'PortQyt', first_column)\\n\\ndf.shape\\nprint(len(list(df)[:]))\\n# # df=df.drop(['D&J_Close30d_Avg.','D&J_Close30d_Min','Monthly Real GDP Index','TCV','FEDFUNDS','Unemployement Rate','SPX_Price30d_Std.','D&J_Close30d_Std.','VIX_Close30d_Max.','VIX_Close30d_Avg.','VIX_Close30d_Std.','VIX_Close30d_Min.'],axis=1)\\n\\nvalues=df.values\\n#\\n# import matplotlib.pyplot as pp\\n# pp.plot(values[:,0])\\n# pp.show()\\n\\n# # encoder = LabelEncoder()\\n# # # # print(values[:,0]) #PortQyt Value\\n# # values[:,0]=encoder.fit_transform(values[:,0])\\n# # print(values[:,0])\\n\\n# import matplotlib.pyplot as pp\\n# pp.plot(values[:,0])\\n# pp.show()\\n\\n# # print(values[:,4].shape)\\n# # print(values[:,4])\\nvalues = values.astype('float32')\\n\\n# specify the number of lag hours\\nn_months = 5\\nn_features = len(list(df)[:])\\n\\n#Normalize the first feature\\nfrom sklearn.preprocessing import StandardScaler\\nscaler2 = MinMaxScaler(feature_range=(0, 1)).fit(values[:,0:1])\\n# train_y = scaler2.transform(values[:,-n_features])\\n# scaled2 = scaler2.fit_transform(values) #try\\n\\n\\n# # normalize features\\nscaler = MinMaxScaler(feature_range=(0, 1))\\nscaled = scaler.fit_transform(values)\\n\\n\\n# len(list(dataset.columns))-3\\n\\n# convert series to supervised learning\\ndef series_to_supervised(data, n_in=1, n_out=1, dropnan=True):\\n\\tn_vars = 1 if type(data) is list else data.shape[1]\\n\\tdf = DataFrame(data)\\n\\tcols, names = list(), list()\\n\\t# input sequence (t-n, ... t-1)\\n\\tfor i in range(n_in, 0, -1):\\n\\t\\tcols.append(df.shift(i))\\n\\t\\tnames += [('var%d(t-%d)' % (j+1, i)) for j in range(n_vars)]\\n\\t# forecast sequence (t, t+1, ... t+n)\\n\\tfor i in range(0, n_out):\\n\\t\\tcols.append(df.shift(-i))\\n\\t\\tif i == 0:\\n\\t\\t\\tnames += [('var%d(t)' % (j+1)) for j in range(n_vars)]\\n\\t\\telse:\\n\\t\\t\\tnames += [('var%d(t+%d)' % (j+1, i)) for j in range(n_vars)]\\n\\t# put it all together\\n\\tagg = concat(cols, axis=1)\\n\\tagg.columns = names\\n\\t# drop rows with NaN values\\n\\tif dropnan:\\n\\t\\tagg.dropna(inplace=True)\\n\\treturn agg\\n\\n# frame as supervised learning\\nreframed = series_to_supervised(scaled, n_months, 1)\\n# print(reframed.shape)\\n\\n\\n# print(reframed.tail())\\n\\n# split into train and test sets\\nvalues = reframed.values\\nn_train_months = 36\\ntrain = values[:n_train_months, :]\\ntest = values[n_train_months:, :]\\nprint(values.shape)\\n# split into input and outputs\\nn_obs = ((n_months+1))* n_features #the following fourth month\\ntrain.shape\\ntrain_X, train_y = train[:, :n_obs], train[:, -n_features*(1+5):-n_features*(1+5)+1]\\ntest_X, test_y = test[:, :n_obs], test[:, -n_features*(1+5):-n_features*(1+5)+1]\\nprint(test.shape)\\n\\n\\n# import matplotlib.pyplot as pp\\n# pp.plot(train_y)\\n# pp.show()\\n\\ntrain_X = train_X.reshape((train_X.shape[0], (n_months+1) , n_features))\\ntest_X = test_X.reshape((test_X.shape[0], (n_months+1), n_features))\\nprint(train_X.shape, train_y.shape, test_X.shape, test_y.shape)\\n\\n# prediction interval for mlps on the housing regression dataset\\nfrom numpy import asarray\\nfrom pandas import read_csv\\nfrom sklearn.model_selection import train_test_split\\nfrom sklearn.metrics import mean_absolute_error\\nfrom sklearn.preprocessing import MinMaxScaler\\nfrom tensorflow.keras.models import Sequential\\nfrom tensorflow.keras.layers import Dense\\nfrom tensorflow.keras.optimizers import Adam\\nimport tensorflow as tf\\nimport math\\nimport numpy as np\\n\\n\\n# define and fit the model\\ndef fit_model(X_train, y_train):\\n    features = X_train.shape[1]\\n    model = Sequential()\\n    model.add(LSTM(50, input_shape=(train_X.shape[1], train_X.shape[2])))\\n    model.add(Dense(1))\\n    model.compile(loss='mse', optimizer='adam')\\n    model.fit(X_train, y_train, verbose=0, epochs=50, batch_size=16)\\n    return model\\n\\n\\n\\n# fit an ensemble of models\\ndef fit_ensemble(n_members, X_train, X_test, y_train, y_test):\\n    ensemble = list()\\n    for i in range(n_members):\\n        model = fit_model(X_train, y_train) # define and fit the model on the training set\\n        yhat = model.predict(X_test, verbose=0) # evaluate model on the test set\\n        print(y_test.shape,yhat.shape)\\n        mae = mean_absolute_error(y_test, yhat)\\n        print('>%d, MAE: %.3f' % (i+1, mae))\\n        ensemble.append(model) # store the model\\n    return ensemble, model\\n\\nn_members = 20\\nensemble = list()\\nfor i in range(n_members):\\n  model = fit_model(train_X, train_y) # define and fit the model on the training set\\n  yhat = model.predict(test_X, verbose=0) # evaluate model on the test set\\n  print(test_y,yhat.shape)\\n  mae = mean_absolute_error(test_y, yhat)\\n  print('>%d, MAE: %.3f' % (i+1, mae))\\n  ensemble.append(model) # store the model\\n\\n# make predictions with the ensemble and calculate a prediction interval\\ndef predict_with_pi(ensemble, X,n_members):\\n    yhat = [model.predict(X, verbose=0) for model in ensemble]\\n    yhat = asarray(yhat)\\n    yhat = np.reshape(yhat,[n_members,1])\\n    print(yhat.shape)\\n    # yhat = scaled2.inverse_transform(yhat)\\n    yhat = scaler2.inverse_transform(yhat) # invert scaling for actual\\n    yhat = yhat[:,0]\\n    interval = 1.96 * yhat.std()/math.sqrt(len(yhat))\\n    lower, upper = yhat.mean() - interval, yhat.mean() + interval\\n    return lower, yhat.mean(), upper\\n\\nn_members=len(ensemble)\\n# make predictions with prediction interval\\nnewX = asarray([test_X[0, :]])\\nlower, mean, upper = predict_with_pi(ensemble, newX,n_members)\\n# print(test_y)\\n# print('Point prediction: %.1f' % mean)\\nprint('95%% prediction interval: [%.1f, %.1f]' % (lower, upper))\\nprint('True value: %.1f' % test_y[0])\\noutcome = {'Prediction': [mean],\\n           '95%CI.Min': [lower],\\n           '95%CI.Max': [upper]\\n           }\\n\\n\\noutcome1= pd.DataFrame(outcome)\\noutcome1\",\n 'sqrt': <function math.sqrt(x, /)>,\n 'concatenate': <function numpy.concatenate>,\n 'pyplot': <module 'matplotlib.pyplot' from '/Users/issacsmacbookpro/opt/miniconda3/envs/tensorflow/lib/python3.9/site-packages/matplotlib/pyplot.py'>,\n 'pd': <module 'pandas' from '/Users/issacsmacbookpro/opt/miniconda3/envs/tensorflow/lib/python3.9/site-packages/pandas/__init__.py'>,\n 'read_csv': <function pandas.io.parsers.readers.read_csv(filepath_or_buffer: 'FilePath | ReadCsvBuffer[bytes] | ReadCsvBuffer[str]', sep=<no_default>, delimiter=None, header='infer', names=<no_default>, index_col=None, usecols=None, squeeze=None, prefix=<no_default>, mangle_dupe_cols=True, dtype: 'DtypeArg | None' = None, engine: 'CSVEngine | None' = None, converters=None, true_values=None, false_values=None, skipinitialspace=False, skiprows=None, skipfooter=0, nrows=None, na_values=None, keep_default_na=True, na_filter=True, verbose=False, skip_blank_lines=True, parse_dates=None, infer_datetime_format=False, keep_date_col=False, date_parser=None, dayfirst=False, cache_dates=True, iterator=False, chunksize=None, compression: 'CompressionOptions' = 'infer', thousands=None, decimal: 'str' = '.', lineterminator=None, quotechar='\"', quoting=0, doublequote=True, escapechar=None, comment=None, encoding=None, encoding_errors: 'str | None' = 'strict', dialect=None, error_bad_lines=None, warn_bad_lines=None, on_bad_lines=None, delim_whitespace=False, low_memory=True, memory_map=False, float_precision=None, storage_options: 'StorageOptions' = None)>,\n 'DataFrame': pandas.core.frame.DataFrame,\n 'concat': <function pandas.core.reshape.concat.concat(objs: 'Iterable[NDFrame] | Mapping[Hashable, NDFrame]', axis: 'Axis' = 0, join: 'str' = 'outer', ignore_index: 'bool' = False, keys=None, levels=None, names=None, verify_integrity: 'bool' = False, sort: 'bool' = False, copy: 'bool' = True) -> 'DataFrame | Series'>,\n 'MinMaxScaler': sklearn.preprocessing._data.MinMaxScaler,\n 'LabelEncoder': sklearn.preprocessing._label.LabelEncoder,\n 'mean_squared_error': <function sklearn.metrics._regression.mean_squared_error(y_true, y_pred, *, sample_weight=None, multioutput='uniform_average', squared=True)>,\n 'Sequential': keras.engine.sequential.Sequential,\n 'Dense': keras.layers.core.dense.Dense,\n 'LSTM': keras.layers.rnn.lstm.LSTM,\n 'io': <module 'io' from '/Users/issacsmacbookpro/opt/miniconda3/envs/tensorflow/lib/python3.9/io.py'>,\n 'datetime': <module 'datetime' from '/Users/issacsmacbookpro/opt/miniconda3/envs/tensorflow/lib/python3.9/datetime.py'>,\n 'os': <module 'os' from '/Users/issacsmacbookpro/opt/miniconda3/envs/tensorflow/lib/python3.9/os.py'>,\n 'load_model': <function keras.saving.save.load_model(filepath, custom_objects=None, compile=True, options=None)>,\n 'df':      Asset           Product Month Ahead  Prediction   95%CI.Min   95%CI.Max\n 0  Options  EXO_EDGX_Options           1  656.793579  653.470549  660.116609\n 0  Options  EXO_EDGX_Options           2  651.924194  648.253465  655.594924\n 0  Options  EXO_EDGX_Options           3  673.428772  670.377063  676.480481\n 0  Options  EXO_EDGX_Options           4  697.759155  693.907809  701.610501\n 0  Options  EXO_EDGX_Options           5  718.015015  714.183098  721.846931\n 0  Options  EXO_EDGX_Options           6  727.055725  723.884459  730.226991\n 0  Options  EXO_EDGX_Options          12  744.631409  739.547320  749.715497,\n 'dt': datetime.datetime,\n 'last_date': '2022-06-01',\n 'first_column': 0     344.0\n 1     348.0\n 2     359.0\n 3     297.0\n 4     313.0\n 5     298.0\n 6     299.0\n 7     319.0\n 8     361.0\n 9     376.0\n 10    378.0\n 11    376.0\n 12    379.0\n 13    385.0\n 14    390.0\n 15    409.0\n 16    422.0\n 17    414.0\n 18    419.0\n 19    430.0\n 20    436.0\n 21    447.0\n 22    452.0\n 23    456.0\n 24    475.0\n 25    481.0\n 26    472.0\n 27    473.0\n 28    474.0\n 29    478.0\n 30    485.0\n 31    515.0\n 32    529.0\n 33    605.0\n 34    626.0\n 35    629.0\n 36    632.0\n 37    677.0\n 38    699.0\n 39    719.0\n 40    728.0\n 41    729.0\n Name: PortQyt, dtype: float64,\n 'second_column': 0     01\n 1     02\n 2     03\n 3     04\n 4     05\n 5     06\n 6     07\n 7     08\n 8     09\n 9     10\n 10    11\n 11    12\n 12    01\n 13    02\n 14    03\n 15    04\n 16    05\n 17    06\n 18    07\n 19    08\n 20    09\n 21    10\n 22    11\n 23    12\n 24    01\n 25    02\n 26    03\n 27    04\n 28    05\n 29    06\n 30    07\n 31    08\n 32    09\n 33    10\n 34    11\n 35    12\n 36    01\n 37    02\n 38    03\n 39    04\n 40    05\n 41    06\n Name: Month, dtype: object,\n 'values': array([[0.1087963 , 0.        , 0.        , ..., 0.4583851 , 0.44488525,\n         0.48822892],\n        [0.11805558, 0.        , 0.09090909, ..., 0.5630332 , 0.4909358 ,\n         0.6587075 ],\n        [0.14351851, 0.        , 0.18181819, ..., 0.6072968 , 0.5387666 ,\n         0.70309675],\n        ...,\n        [0.28935188, 0.33337402, 0.36363637, ..., 0.86509264, 0.8762548 ,\n         0.86667085],\n        [0.2708333 , 0.33337402, 0.45454547, ..., 0.89914   , 0.8762548 ,\n         0.8879397 ],\n        [0.2824074 , 0.33337402, 0.5454545 , ..., 0.7744826 , 0.86528945,\n         0.7815199 ]], dtype=float32),\n 'n_months': 23,\n 'n_features': 18,\n 'StandardScaler': sklearn.preprocessing._data.StandardScaler,\n 'scaler2': MinMaxScaler(),\n 'scaler': MinMaxScaler(),\n 'scaled': array([[0.1087963 , 0.        , 0.        , 0.0429873 , 0.02975523,\n         0.16666667, 0.9915612 , 0.3731799 , 0.70162773, 0.04464287,\n         0.020715  , 0.28285038, 0.04011428, 0.04996401, 0.27791953,\n         0.11227739, 0.09802651, 0.1975385 ],\n        [0.11805558, 0.        , 0.09090909, 0.        , 0.        ,\n         0.15555556, 0.9915612 , 0.3750794 , 0.70033026, 0.02678573,\n         0.        , 0.21070914, 0.        , 0.04996401, 0.21913278,\n         0.08742058, 0.03534746, 0.1975385 ],\n        [0.14351851, 0.        , 0.18181819, 0.04749545, 0.05582905,\n         0.2       , 0.99578047, 0.38428617, 0.7043867 , 0.02678573,\n         0.07219589, 0.10183777, 0.04648733, 0.17379719, 0.12860835,\n         0.19935238, 0.11985159, 0.35666084],\n        [0.        , 0.        , 0.27272728, 0.05083369, 0.09918505,\n         0.21111111, 0.9999999 , 0.40834856, 0.7258506 , 0.00892857,\n         0.10949242, 0.        , 0.07686973, 0.22221011, 0.        ,\n         0.23823011, 0.13353515, 0.42333317],\n        [0.03703701, 0.        , 0.36363637, 0.14548609, 0.23102856,\n         0.18888889, 0.98734176, 0.41960502, 0.7418542 , 0.00892857,\n         0.14768398, 0.0585347 , 0.11449599, 0.24650651, 0.05149254,\n         0.2696849 , 0.16624737, 0.42654777],\n        [0.00231481, 0.        , 0.45454547, 0.0729869 , 0.16864121,\n         0.16666667, 0.98312235, 0.4352913 , 0.76984644, 0.00892857,\n         0.14414358, 0.09176397, 0.11449599, 0.22616059, 0.12138042,\n         0.24566638, 0.16624737, 0.384125  ],\n        [0.00462961, 0.        , 0.5454545 , 0.09102282, 0.18512172,\n         0.18888889, 0.9915612 , 0.44721437, 0.7750597 , 0.01785716,\n         0.14209187, 0.11330256, 0.12334752, 0.22281641, 0.13166799,\n         0.2499249 , 0.17420244, 0.384125  ],\n        [0.05092591, 0.        , 0.6363636 , 0.12840933, 0.169123  ,\n         0.17777778, 0.8776371 , 0.45330143, 0.7817178 , 0.01785716,\n         0.19468462, 0.01333527, 0.15278733, 0.29722625, 0.02660958,\n         0.32702887, 0.22401357, 0.48977077],\n        [0.14814818, 0.        , 0.72727275, 0.10943267, 0.22815675,\n         0.17777778, 0.8396623 , 0.46074677, 0.7950897 , 0.        ,\n         0.16901636, 0.10107473, 0.15278733, 0.26506835, 0.12081984,\n         0.27764666, 0.22319388, 0.4251343 ],\n        [0.18287039, 0.        , 0.8181819 , 0.16132674, 0.27410424,\n         0.18888889, 0.75105476, 0.47176075, 0.7930312 , 0.00892857,\n         0.18276179, 0.06524628, 0.14499319, 0.26792902, 0.09222741,\n         0.30184162, 0.21253538, 0.43436098],\n        [0.1875    , 0.        , 0.9090909 , 0.10723191, 0.22806567,\n         0.22222221, 0.6329113 , 0.48590398, 0.8196373 , 0.00892857,\n         0.1946361 , 0.05895106, 0.17242813, 0.28572625, 0.03555194,\n         0.3134662 , 0.22304344, 0.46212018],\n        [0.18287039, 0.        , 1.        , 0.1304847 , 0.25626093,\n         0.24444443, 0.6329113 , 0.48966837, 0.81795835, 0.00892857,\n         0.24023414, 0.06725377, 0.21392035, 0.32905024, 0.08321251,\n         0.37143624, 0.29016948, 0.50591326],\n        [0.1898148 , 0.33337402, 0.        , 0.23502329, 0.3094129 ,\n         0.26666668, 0.6329113 , 0.4956298 , 0.8132987 , 0.        ,\n         0.28087628, 0.06577682, 0.25525475, 0.37606996, 0.04722276,\n         0.41704214, 0.34810257, 0.55002916],\n        [0.2037037 , 0.33337402, 0.09090909, 0.2753762 , 0.3270557 ,\n         0.24444443, 0.64556956, 0.5139892 , 0.8519869 , 0.        ,\n         0.32841444, 0.03668831, 0.2981249 , 0.41910845, 0.02973676,\n         0.4652685 , 0.3874998 , 0.5965221 ],\n        [0.21527779, 0.33337402, 0.18181819, 0.3422292 , 0.31822687,\n         0.15555556, 0.25316453, 0.34090137, 0.5455413 , 0.08035716,\n         0.33860707, 0.27365232, 0.3251723 , 0.31499714, 0.3120027 ,\n         0.45126545, 0.40421224, 0.42080975],\n        [0.25925928, 0.33337402, 0.27272728, 0.33610344, 0.4272716 ,\n         0.02222222, 0.        , 0.        , 0.        , 1.        ,\n         0.09183645, 0.99999994, 0.3189906 , 0.        , 1.        ,\n         0.07502329, 0.37696862, 0.        ],\n        [0.28935188, 0.33337402, 0.36363637, 0.39783233, 0.55063796,\n         0.        , 0.        , 0.12985659, 0.21781254, 0.86607146,\n         0.05599785, 0.52171844, 0.11147213, 0.        , 0.45775196,\n         0.        , 0.        , 0.        ],\n        [0.2708333 , 0.33337402, 0.45454547, 0.50973326, 0.48805773,\n         0.05555556, 0.01265822, 0.31022882, 0.5061407 , 0.66964287,\n         0.15689254, 0.17815025, 0.16707897, 0.21934932, 0.16272569,\n         0.11384857, 0.07516241, 0.27325606],\n        [0.2824074 , 0.33337402, 0.5454545 , 0.4434234 , 0.49684095,\n         0.1       , 0.01687764, 0.35478806, 0.5537133 , 0.59821427,\n         0.24199486, 0.14992893, 0.25160396, 0.3124879 , 0.1951356 ,\n         0.23755145, 0.24154449, 0.36252856],\n        [0.3078704 , 0.33337402, 0.6363636 , 0.4675647 , 0.5364528 ,\n         0.13333333, 0.02109705, 0.39829922, 0.6250224 , 0.4375    ,\n         0.28668964, 0.15176159, 0.2724793 , 0.33909148, 0.09702724,\n         0.2707826 , 0.19497132, 0.39650166],\n        [0.32175922, 0.33337402, 0.72727275, 0.50692934, 0.5127573 ,\n         0.14444445, 0.01687764, 0.44169307, 0.6902609 , 0.3928572 ,\n         0.37404346, 0.20862569, 0.3923962 , 0.4298702 , 0.19074494,\n         0.36871612, 0.3304355 , 0.4766276 ],\n        [0.3472222 , 0.33337402, 0.8181819 , 0.35866046, 0.33456182,\n         0.12222223, 0.01687764, 0.47107363, 0.7287164 , 0.30357146,\n         0.38947988, 0.18499596, 0.41832423, 0.43922585, 0.11860386,\n         0.39704788, 0.36714768, 0.504372  ],\n        [0.35879636, 0.33337402, 0.9090909 , 0.44555986, 0.40897435,\n         0.12222223, 0.01687764, 0.4347813 , 0.66398525, 0.28571427,\n         0.38875413, 0.18880485, 0.39601827, 0.43922585, 0.17475377,\n         0.39076865, 0.34553123, 0.48822892],\n        [0.36805558, 0.33337402, 1.        , 0.54285043, 0.43702435,\n         0.14444445, 0.01687764, 0.4429524 , 0.6581874 , 0.28571427,\n         0.4434067 , 0.2978257 , 0.45737135, 0.45374483, 0.31791314,\n         0.4583851 , 0.44488525, 0.48822892],\n        [0.41203701, 0.666687  , 0.        , 0.49533612, 0.28464818,\n         0.14444445, 0.01687764, 0.5287795 , 0.7782254 , 0.2589286 ,\n         0.5231676 , 0.07958345, 0.5021651 , 0.5801181 , 0.02924518,\n         0.5630332 , 0.4909358 , 0.6587075 ],\n        [0.42592597, 0.666687  , 0.09090909, 0.5336548 , 0.34568745,\n         0.17777778, 0.01265822, 0.4840567 , 0.6895318 , 0.2410714 ,\n         0.569304  , 0.09094588, 0.54967153, 0.63712186, 0.06721534,\n         0.6072968 , 0.5387666 , 0.70309675],\n        [0.4050926 , 0.666687  , 0.18181819, 0.56496716, 0.30994463,\n         0.27777776, 0.00843882, 0.5906794 , 0.8362694 , 0.22321427,\n         0.61288667, 0.10897304, 0.587695  , 0.6489778 , 0.08854641,\n         0.6461569 , 0.60234475, 0.70309675],\n        [0.4074074 , 0.666687  , 0.27272728, 0.37698543, 0.26502687,\n         0.45555553, 0.00843882, 0.6181233 , 0.8489523 , 0.22321427,\n         0.63565445, 0.10683896, 0.6283834 , 0.67280847, 0.18145236,\n         0.7299007 , 0.70176387, 0.7612127 ],\n        [0.4097222 , 0.666687  , 0.36363637, 0.38178146, 0.2676543 ,\n         0.54444444, 0.00421941, 0.6386466 , 0.85729647, 0.2053572 ,\n         0.71840847, 0.25840592, 0.72005665, 0.72583526, 0.11363742,\n         0.8318263 , 0.78637004, 0.85354924],\n        [0.41898143, 0.666687  , 0.45454547, 0.5232415 , 0.29174894,\n         0.5888889 , 0.01265822, 0.6660156 , 0.8725085 , 0.21428573,\n         0.7617185 , 0.02667331, 0.73016655, 0.8022534 , 0.0297526 ,\n         0.88052046, 0.83380556, 0.9256201 ],\n        [0.4351852 , 0.666687  , 0.5454545 , 0.4898517 , 0.33200133,\n         0.5888889 , 0.02109705, 0.67224216, 0.85185194, 0.16964287,\n         0.7892654 , 0.04584745, 0.7719554 , 0.84304184, 0.03882231,\n         0.89024675, 0.8320489 , 0.9072516 ],\n        [0.5046296 , 0.666687  , 0.6363636 , 0.5134151 , 0.34742588,\n         0.5777778 , 0.01687764, 0.7190578 , 0.904757  , 0.1517857 ,\n         0.838115  , 0.12253393, 0.8208972 , 0.84769565, 0.06227407,\n         0.91501606, 0.86393476, 0.94330907],\n        [0.537037  , 0.666687  , 0.72727275, 0.52545214, 0.36017263,\n         0.5888889 , 0.01265822, 0.7411051 , 0.91937447, 0.10714284,\n         0.8919294 , 0.05567923, 0.8718823 , 0.9360356 , 0.00957834,\n         0.9576973 , 0.90347934, 1.        ],\n        [0.712963  , 0.666687  , 0.8181819 , 0.62255335, 0.46487874,\n         0.6777777 , 0.01265822, 0.81965184, 1.        , 0.0982143 ,\n         0.89690375, 0.12378119, 0.87578666, 0.9096957 , 0.09886928,\n         0.9314288 , 0.88953876, 0.94143796],\n        [0.76157403, 0.666687  , 0.9090909 , 0.74600077, 0.46549892,\n         0.74444443, 0.01265822, 0.8281257 , 0.98006487, 0.0625    ,\n         0.89305687, 0.23451863, 0.91249406, 0.90658444, 0.15427528,\n         0.935989  , 0.92718863, 0.94143796],\n        [0.76851857, 0.666687  , 1.        , 0.66684836, 0.4972949 ,\n         0.76666665, 0.01265822, 0.84830236, 0.9836626 , 0.0357143 ,\n         0.98276114, 0.1141559 , 0.9569768 , 0.99999994, 0.11171626,\n         0.9999999 , 0.9697981 , 0.95243216],\n        [0.775463  , 1.        , 0.        , 0.7647647 , 0.5547458 ,\n         0.8222222 , 0.01265822, 0.8631928 , 0.96680546, 0.04464287,\n         1.        , 0.1604218 , 0.99832547, 0.99999994, 0.15070492,\n         0.98922145, 0.9823611 , 0.95243216],\n        [0.8796296 , 1.        , 0.09090909, 0.7261382 , 0.62372184,\n         0.8666667 , 0.01265822, 0.8886876 , 0.9672837 , 0.02678573,\n         0.97517633, 0.41241896, 1.0000001 , 0.91802746, 0.22036314,\n         0.9905764 , 1.        , 0.96099615],\n        [0.9305556 , 1.        , 0.18181819, 0.95779973, 0.70850277,\n         0.93333334, 0.06329113, 0.91869044, 0.9608803 , 0.00892857,\n         0.8861549 , 0.22862779, 0.9008435 , 0.8736443 , 0.17828198,\n         0.9120101 , 0.9152057 , 0.8974793 ],\n        [0.9768518 , 1.        , 0.27272728, 0.7920462 , 0.74845695,\n         0.9111111 , 0.11814345, 0.92966914, 0.94785404, 0.00892857,\n         0.8623464 , 0.35667688, 0.92107284, 0.849528  , 0.19914177,\n         0.86509264, 0.8762548 , 0.86667085],\n        [0.9976852 , 1.        , 0.36363637, 0.9594247 , 0.8399497 ,\n         0.9444445 , 0.30379745, 0.9532075 , 0.9464812 , 0.00892857,\n         0.8885429 , 0.3353126 , 0.92107284, 0.83252627, 0.14473031,\n         0.89914   , 0.8762548 , 0.8879397 ],\n        [1.        , 1.        , 0.45454547, 0.99999994, 1.0000001 ,\n         1.        , 0.48945144, 1.        , 0.9581876 , 0.00892857,\n         0.7303034 , 0.40828454, 0.83870566, 0.7309548 , 0.27033213,\n         0.7744826 , 0.86528945, 0.7815199 ]], dtype=float32),\n 'series_to_supervised': <function __main__.series_to_supervised(data, n_in=1, n_out=1, dropnan=True)>,\n 'reframed':     var1(t-23)  var2(t-23)  var3(t-23)  var4(t-23)  var5(t-23)  var6(t-23)  \\\n 23    0.108796    0.000000    0.000000    0.042987    0.029755    0.166667   \n 24    0.118056    0.000000    0.090909    0.000000    0.000000    0.155556   \n 25    0.143519    0.000000    0.181818    0.047495    0.055829    0.200000   \n 26    0.000000    0.000000    0.272727    0.050834    0.099185    0.211111   \n 27    0.037037    0.000000    0.363636    0.145486    0.231029    0.188889   \n 28    0.002315    0.000000    0.454545    0.072987    0.168641    0.166667   \n 29    0.004630    0.000000    0.545455    0.091023    0.185122    0.188889   \n 30    0.050926    0.000000    0.636364    0.128409    0.169123    0.177778   \n 31    0.148148    0.000000    0.727273    0.109433    0.228157    0.177778   \n 32    0.182870    0.000000    0.818182    0.161327    0.274104    0.188889   \n 33    0.187500    0.000000    0.909091    0.107232    0.228066    0.222222   \n 34    0.182870    0.000000    1.000000    0.130485    0.256261    0.244444   \n 35    0.189815    0.333374    0.000000    0.235023    0.309413    0.266667   \n 36    0.203704    0.333374    0.090909    0.275376    0.327056    0.244444   \n 37    0.215278    0.333374    0.181818    0.342229    0.318227    0.155556   \n 38    0.259259    0.333374    0.272727    0.336103    0.427272    0.022222   \n 39    0.289352    0.333374    0.363636    0.397832    0.550638    0.000000   \n 40    0.270833    0.333374    0.454545    0.509733    0.488058    0.055556   \n 41    0.282407    0.333374    0.545455    0.443423    0.496841    0.100000   \n \n     var7(t-23)  var8(t-23)  var9(t-23)  var10(t-23)  ...   var9(t)  var10(t)  \\\n 23    0.991561    0.373180    0.701628     0.044643  ...  0.658187  0.285714   \n 24    0.991561    0.375079    0.700330     0.026786  ...  0.778225  0.258929   \n 25    0.995780    0.384286    0.704387     0.026786  ...  0.689532  0.241071   \n 26    1.000000    0.408349    0.725851     0.008929  ...  0.836269  0.223214   \n 27    0.987342    0.419605    0.741854     0.008929  ...  0.848952  0.223214   \n 28    0.983122    0.435291    0.769846     0.008929  ...  0.857296  0.205357   \n 29    0.991561    0.447214    0.775060     0.017857  ...  0.872509  0.214286   \n 30    0.877637    0.453301    0.781718     0.017857  ...  0.851852  0.169643   \n 31    0.839662    0.460747    0.795090     0.000000  ...  0.904757  0.151786   \n 32    0.751055    0.471761    0.793031     0.008929  ...  0.919374  0.107143   \n 33    0.632911    0.485904    0.819637     0.008929  ...  1.000000  0.098214   \n 34    0.632911    0.489668    0.817958     0.008929  ...  0.980065  0.062500   \n 35    0.632911    0.495630    0.813299     0.000000  ...  0.983663  0.035714   \n 36    0.645570    0.513989    0.851987     0.000000  ...  0.966805  0.044643   \n 37    0.253165    0.340901    0.545541     0.080357  ...  0.967284  0.026786   \n 38    0.000000    0.000000    0.000000     1.000000  ...  0.960880  0.008929   \n 39    0.000000    0.129857    0.217813     0.866071  ...  0.947854  0.008929   \n 40    0.012658    0.310229    0.506141     0.669643  ...  0.946481  0.008929   \n 41    0.016878    0.354788    0.553713     0.598214  ...  0.958188  0.008929   \n \n     var11(t)  var12(t)  var13(t)  var14(t)  var15(t)  var16(t)  var17(t)  \\\n 23  0.443407  0.297826  0.457371  0.453745  0.317913  0.458385  0.444885   \n 24  0.523168  0.079583  0.502165  0.580118  0.029245  0.563033  0.490936   \n 25  0.569304  0.090946  0.549672  0.637122  0.067215  0.607297  0.538767   \n 26  0.612887  0.108973  0.587695  0.648978  0.088546  0.646157  0.602345   \n 27  0.635654  0.106839  0.628383  0.672808  0.181452  0.729901  0.701764   \n 28  0.718408  0.258406  0.720057  0.725835  0.113637  0.831826  0.786370   \n 29  0.761719  0.026673  0.730167  0.802253  0.029753  0.880520  0.833806   \n 30  0.789265  0.045847  0.771955  0.843042  0.038822  0.890247  0.832049   \n 31  0.838115  0.122534  0.820897  0.847696  0.062274  0.915016  0.863935   \n 32  0.891929  0.055679  0.871882  0.936036  0.009578  0.957697  0.903479   \n 33  0.896904  0.123781  0.875787  0.909696  0.098869  0.931429  0.889539   \n 34  0.893057  0.234519  0.912494  0.906584  0.154275  0.935989  0.927189   \n 35  0.982761  0.114156  0.956977  1.000000  0.111716  1.000000  0.969798   \n 36  1.000000  0.160422  0.998325  1.000000  0.150705  0.989221  0.982361   \n 37  0.975176  0.412419  1.000000  0.918027  0.220363  0.990576  1.000000   \n 38  0.886155  0.228628  0.900844  0.873644  0.178282  0.912010  0.915206   \n 39  0.862346  0.356677  0.921073  0.849528  0.199142  0.865093  0.876255   \n 40  0.888543  0.335313  0.921073  0.832526  0.144730  0.899140  0.876255   \n 41  0.730303  0.408285  0.838706  0.730955  0.270332  0.774483  0.865289   \n \n     var18(t)  \n 23  0.488229  \n 24  0.658707  \n 25  0.703097  \n 26  0.703097  \n 27  0.761213  \n 28  0.853549  \n 29  0.925620  \n 30  0.907252  \n 31  0.943309  \n 32  1.000000  \n 33  0.941438  \n 34  0.941438  \n 35  0.952432  \n 36  0.952432  \n 37  0.960996  \n 38  0.897479  \n 39  0.866671  \n 40  0.887940  \n 41  0.781520  \n \n [19 rows x 432 columns],\n 'n_train_months': 17,\n 'train': array([[0.1087963 , 0.        , 0.        , ..., 0.4583851 , 0.44488525,\n         0.48822892],\n        [0.11805558, 0.        , 0.09090909, ..., 0.5630332 , 0.4909358 ,\n         0.6587075 ],\n        [0.14351851, 0.        , 0.18181819, ..., 0.6072968 , 0.5387666 ,\n         0.70309675],\n        ...,\n        [0.21527779, 0.33337402, 0.18181819, ..., 0.9905764 , 1.        ,\n         0.96099615],\n        [0.25925928, 0.33337402, 0.27272728, ..., 0.9120101 , 0.9152057 ,\n         0.8974793 ],\n        [0.28935188, 0.33337402, 0.36363637, ..., 0.86509264, 0.8762548 ,\n         0.86667085]], dtype=float32),\n 'test': array([[0.2708333 , 0.33337402, 0.45454547, 0.50973326, 0.48805773,\n         0.05555556, 0.01265822, 0.31022882, 0.5061407 , 0.66964287,\n         0.15689254, 0.17815025, 0.16707897, 0.21934932, 0.16272569,\n         0.11384857, 0.07516241, 0.27325606, 0.2824074 , 0.33337402,\n         0.5454545 , 0.4434234 , 0.49684095, 0.1       , 0.01687764,\n         0.35478806, 0.5537133 , 0.59821427, 0.24199486, 0.14992893,\n         0.25160396, 0.3124879 , 0.1951356 , 0.23755145, 0.24154449,\n         0.36252856, 0.3078704 , 0.33337402, 0.6363636 , 0.4675647 ,\n         0.5364528 , 0.13333333, 0.02109705, 0.39829922, 0.6250224 ,\n         0.4375    , 0.28668964, 0.15176159, 0.2724793 , 0.33909148,\n         0.09702724, 0.2707826 , 0.19497132, 0.39650166, 0.32175922,\n         0.33337402, 0.72727275, 0.50692934, 0.5127573 , 0.14444445,\n         0.01687764, 0.44169307, 0.6902609 , 0.3928572 , 0.37404346,\n         0.20862569, 0.3923962 , 0.4298702 , 0.19074494, 0.36871612,\n         0.3304355 , 0.4766276 , 0.3472222 , 0.33337402, 0.8181819 ,\n         0.35866046, 0.33456182, 0.12222223, 0.01687764, 0.47107363,\n         0.7287164 , 0.30357146, 0.38947988, 0.18499596, 0.41832423,\n         0.43922585, 0.11860386, 0.39704788, 0.36714768, 0.504372  ,\n         0.35879636, 0.33337402, 0.9090909 , 0.44555986, 0.40897435,\n         0.12222223, 0.01687764, 0.4347813 , 0.66398525, 0.28571427,\n         0.38875413, 0.18880485, 0.39601827, 0.43922585, 0.17475377,\n         0.39076865, 0.34553123, 0.48822892, 0.36805558, 0.33337402,\n         1.        , 0.54285043, 0.43702435, 0.14444445, 0.01687764,\n         0.4429524 , 0.6581874 , 0.28571427, 0.4434067 , 0.2978257 ,\n         0.45737135, 0.45374483, 0.31791314, 0.4583851 , 0.44488525,\n         0.48822892, 0.41203701, 0.666687  , 0.        , 0.49533612,\n         0.28464818, 0.14444445, 0.01687764, 0.5287795 , 0.7782254 ,\n         0.2589286 , 0.5231676 , 0.07958345, 0.5021651 , 0.5801181 ,\n         0.02924518, 0.5630332 , 0.4909358 , 0.6587075 , 0.42592597,\n         0.666687  , 0.09090909, 0.5336548 , 0.34568745, 0.17777778,\n         0.01265822, 0.4840567 , 0.6895318 , 0.2410714 , 0.569304  ,\n         0.09094588, 0.54967153, 0.63712186, 0.06721534, 0.6072968 ,\n         0.5387666 , 0.70309675, 0.4050926 , 0.666687  , 0.18181819,\n         0.56496716, 0.30994463, 0.27777776, 0.00843882, 0.5906794 ,\n         0.8362694 , 0.22321427, 0.61288667, 0.10897304, 0.587695  ,\n         0.6489778 , 0.08854641, 0.6461569 , 0.60234475, 0.70309675,\n         0.4074074 , 0.666687  , 0.27272728, 0.37698543, 0.26502687,\n         0.45555553, 0.00843882, 0.6181233 , 0.8489523 , 0.22321427,\n         0.63565445, 0.10683896, 0.6283834 , 0.67280847, 0.18145236,\n         0.7299007 , 0.70176387, 0.7612127 , 0.4097222 , 0.666687  ,\n         0.36363637, 0.38178146, 0.2676543 , 0.54444444, 0.00421941,\n         0.6386466 , 0.85729647, 0.2053572 , 0.71840847, 0.25840592,\n         0.72005665, 0.72583526, 0.11363742, 0.8318263 , 0.78637004,\n         0.85354924, 0.41898143, 0.666687  , 0.45454547, 0.5232415 ,\n         0.29174894, 0.5888889 , 0.01265822, 0.6660156 , 0.8725085 ,\n         0.21428573, 0.7617185 , 0.02667331, 0.73016655, 0.8022534 ,\n         0.0297526 , 0.88052046, 0.83380556, 0.9256201 , 0.4351852 ,\n         0.666687  , 0.5454545 , 0.4898517 , 0.33200133, 0.5888889 ,\n         0.02109705, 0.67224216, 0.85185194, 0.16964287, 0.7892654 ,\n         0.04584745, 0.7719554 , 0.84304184, 0.03882231, 0.89024675,\n         0.8320489 , 0.9072516 , 0.5046296 , 0.666687  , 0.6363636 ,\n         0.5134151 , 0.34742588, 0.5777778 , 0.01687764, 0.7190578 ,\n         0.904757  , 0.1517857 , 0.838115  , 0.12253393, 0.8208972 ,\n         0.84769565, 0.06227407, 0.91501606, 0.86393476, 0.94330907,\n         0.537037  , 0.666687  , 0.72727275, 0.52545214, 0.36017263,\n         0.5888889 , 0.01265822, 0.7411051 , 0.91937447, 0.10714284,\n         0.8919294 , 0.05567923, 0.8718823 , 0.9360356 , 0.00957834,\n         0.9576973 , 0.90347934, 1.        , 0.712963  , 0.666687  ,\n         0.8181819 , 0.62255335, 0.46487874, 0.6777777 , 0.01265822,\n         0.81965184, 1.        , 0.0982143 , 0.89690375, 0.12378119,\n         0.87578666, 0.9096957 , 0.09886928, 0.9314288 , 0.88953876,\n         0.94143796, 0.76157403, 0.666687  , 0.9090909 , 0.74600077,\n         0.46549892, 0.74444443, 0.01265822, 0.8281257 , 0.98006487,\n         0.0625    , 0.89305687, 0.23451863, 0.91249406, 0.90658444,\n         0.15427528, 0.935989  , 0.92718863, 0.94143796, 0.76851857,\n         0.666687  , 1.        , 0.66684836, 0.4972949 , 0.76666665,\n         0.01265822, 0.84830236, 0.9836626 , 0.0357143 , 0.98276114,\n         0.1141559 , 0.9569768 , 0.99999994, 0.11171626, 0.9999999 ,\n         0.9697981 , 0.95243216, 0.775463  , 1.        , 0.        ,\n         0.7647647 , 0.5547458 , 0.8222222 , 0.01265822, 0.8631928 ,\n         0.96680546, 0.04464287, 1.        , 0.1604218 , 0.99832547,\n         0.99999994, 0.15070492, 0.98922145, 0.9823611 , 0.95243216,\n         0.8796296 , 1.        , 0.09090909, 0.7261382 , 0.62372184,\n         0.8666667 , 0.01265822, 0.8886876 , 0.9672837 , 0.02678573,\n         0.97517633, 0.41241896, 1.0000001 , 0.91802746, 0.22036314,\n         0.9905764 , 1.        , 0.96099615, 0.9305556 , 1.        ,\n         0.18181819, 0.95779973, 0.70850277, 0.93333334, 0.06329113,\n         0.91869044, 0.9608803 , 0.00892857, 0.8861549 , 0.22862779,\n         0.9008435 , 0.8736443 , 0.17828198, 0.9120101 , 0.9152057 ,\n         0.8974793 , 0.9768518 , 1.        , 0.27272728, 0.7920462 ,\n         0.74845695, 0.9111111 , 0.11814345, 0.92966914, 0.94785404,\n         0.00892857, 0.8623464 , 0.35667688, 0.92107284, 0.849528  ,\n         0.19914177, 0.86509264, 0.8762548 , 0.86667085, 0.9976852 ,\n         1.        , 0.36363637, 0.9594247 , 0.8399497 , 0.9444445 ,\n         0.30379745, 0.9532075 , 0.9464812 , 0.00892857, 0.8885429 ,\n         0.3353126 , 0.92107284, 0.83252627, 0.14473031, 0.89914   ,\n         0.8762548 , 0.8879397 ],\n        [0.2824074 , 0.33337402, 0.5454545 , 0.4434234 , 0.49684095,\n         0.1       , 0.01687764, 0.35478806, 0.5537133 , 0.59821427,\n         0.24199486, 0.14992893, 0.25160396, 0.3124879 , 0.1951356 ,\n         0.23755145, 0.24154449, 0.36252856, 0.3078704 , 0.33337402,\n         0.6363636 , 0.4675647 , 0.5364528 , 0.13333333, 0.02109705,\n         0.39829922, 0.6250224 , 0.4375    , 0.28668964, 0.15176159,\n         0.2724793 , 0.33909148, 0.09702724, 0.2707826 , 0.19497132,\n         0.39650166, 0.32175922, 0.33337402, 0.72727275, 0.50692934,\n         0.5127573 , 0.14444445, 0.01687764, 0.44169307, 0.6902609 ,\n         0.3928572 , 0.37404346, 0.20862569, 0.3923962 , 0.4298702 ,\n         0.19074494, 0.36871612, 0.3304355 , 0.4766276 , 0.3472222 ,\n         0.33337402, 0.8181819 , 0.35866046, 0.33456182, 0.12222223,\n         0.01687764, 0.47107363, 0.7287164 , 0.30357146, 0.38947988,\n         0.18499596, 0.41832423, 0.43922585, 0.11860386, 0.39704788,\n         0.36714768, 0.504372  , 0.35879636, 0.33337402, 0.9090909 ,\n         0.44555986, 0.40897435, 0.12222223, 0.01687764, 0.4347813 ,\n         0.66398525, 0.28571427, 0.38875413, 0.18880485, 0.39601827,\n         0.43922585, 0.17475377, 0.39076865, 0.34553123, 0.48822892,\n         0.36805558, 0.33337402, 1.        , 0.54285043, 0.43702435,\n         0.14444445, 0.01687764, 0.4429524 , 0.6581874 , 0.28571427,\n         0.4434067 , 0.2978257 , 0.45737135, 0.45374483, 0.31791314,\n         0.4583851 , 0.44488525, 0.48822892, 0.41203701, 0.666687  ,\n         0.        , 0.49533612, 0.28464818, 0.14444445, 0.01687764,\n         0.5287795 , 0.7782254 , 0.2589286 , 0.5231676 , 0.07958345,\n         0.5021651 , 0.5801181 , 0.02924518, 0.5630332 , 0.4909358 ,\n         0.6587075 , 0.42592597, 0.666687  , 0.09090909, 0.5336548 ,\n         0.34568745, 0.17777778, 0.01265822, 0.4840567 , 0.6895318 ,\n         0.2410714 , 0.569304  , 0.09094588, 0.54967153, 0.63712186,\n         0.06721534, 0.6072968 , 0.5387666 , 0.70309675, 0.4050926 ,\n         0.666687  , 0.18181819, 0.56496716, 0.30994463, 0.27777776,\n         0.00843882, 0.5906794 , 0.8362694 , 0.22321427, 0.61288667,\n         0.10897304, 0.587695  , 0.6489778 , 0.08854641, 0.6461569 ,\n         0.60234475, 0.70309675, 0.4074074 , 0.666687  , 0.27272728,\n         0.37698543, 0.26502687, 0.45555553, 0.00843882, 0.6181233 ,\n         0.8489523 , 0.22321427, 0.63565445, 0.10683896, 0.6283834 ,\n         0.67280847, 0.18145236, 0.7299007 , 0.70176387, 0.7612127 ,\n         0.4097222 , 0.666687  , 0.36363637, 0.38178146, 0.2676543 ,\n         0.54444444, 0.00421941, 0.6386466 , 0.85729647, 0.2053572 ,\n         0.71840847, 0.25840592, 0.72005665, 0.72583526, 0.11363742,\n         0.8318263 , 0.78637004, 0.85354924, 0.41898143, 0.666687  ,\n         0.45454547, 0.5232415 , 0.29174894, 0.5888889 , 0.01265822,\n         0.6660156 , 0.8725085 , 0.21428573, 0.7617185 , 0.02667331,\n         0.73016655, 0.8022534 , 0.0297526 , 0.88052046, 0.83380556,\n         0.9256201 , 0.4351852 , 0.666687  , 0.5454545 , 0.4898517 ,\n         0.33200133, 0.5888889 , 0.02109705, 0.67224216, 0.85185194,\n         0.16964287, 0.7892654 , 0.04584745, 0.7719554 , 0.84304184,\n         0.03882231, 0.89024675, 0.8320489 , 0.9072516 , 0.5046296 ,\n         0.666687  , 0.6363636 , 0.5134151 , 0.34742588, 0.5777778 ,\n         0.01687764, 0.7190578 , 0.904757  , 0.1517857 , 0.838115  ,\n         0.12253393, 0.8208972 , 0.84769565, 0.06227407, 0.91501606,\n         0.86393476, 0.94330907, 0.537037  , 0.666687  , 0.72727275,\n         0.52545214, 0.36017263, 0.5888889 , 0.01265822, 0.7411051 ,\n         0.91937447, 0.10714284, 0.8919294 , 0.05567923, 0.8718823 ,\n         0.9360356 , 0.00957834, 0.9576973 , 0.90347934, 1.        ,\n         0.712963  , 0.666687  , 0.8181819 , 0.62255335, 0.46487874,\n         0.6777777 , 0.01265822, 0.81965184, 1.        , 0.0982143 ,\n         0.89690375, 0.12378119, 0.87578666, 0.9096957 , 0.09886928,\n         0.9314288 , 0.88953876, 0.94143796, 0.76157403, 0.666687  ,\n         0.9090909 , 0.74600077, 0.46549892, 0.74444443, 0.01265822,\n         0.8281257 , 0.98006487, 0.0625    , 0.89305687, 0.23451863,\n         0.91249406, 0.90658444, 0.15427528, 0.935989  , 0.92718863,\n         0.94143796, 0.76851857, 0.666687  , 1.        , 0.66684836,\n         0.4972949 , 0.76666665, 0.01265822, 0.84830236, 0.9836626 ,\n         0.0357143 , 0.98276114, 0.1141559 , 0.9569768 , 0.99999994,\n         0.11171626, 0.9999999 , 0.9697981 , 0.95243216, 0.775463  ,\n         1.        , 0.        , 0.7647647 , 0.5547458 , 0.8222222 ,\n         0.01265822, 0.8631928 , 0.96680546, 0.04464287, 1.        ,\n         0.1604218 , 0.99832547, 0.99999994, 0.15070492, 0.98922145,\n         0.9823611 , 0.95243216, 0.8796296 , 1.        , 0.09090909,\n         0.7261382 , 0.62372184, 0.8666667 , 0.01265822, 0.8886876 ,\n         0.9672837 , 0.02678573, 0.97517633, 0.41241896, 1.0000001 ,\n         0.91802746, 0.22036314, 0.9905764 , 1.        , 0.96099615,\n         0.9305556 , 1.        , 0.18181819, 0.95779973, 0.70850277,\n         0.93333334, 0.06329113, 0.91869044, 0.9608803 , 0.00892857,\n         0.8861549 , 0.22862779, 0.9008435 , 0.8736443 , 0.17828198,\n         0.9120101 , 0.9152057 , 0.8974793 , 0.9768518 , 1.        ,\n         0.27272728, 0.7920462 , 0.74845695, 0.9111111 , 0.11814345,\n         0.92966914, 0.94785404, 0.00892857, 0.8623464 , 0.35667688,\n         0.92107284, 0.849528  , 0.19914177, 0.86509264, 0.8762548 ,\n         0.86667085, 0.9976852 , 1.        , 0.36363637, 0.9594247 ,\n         0.8399497 , 0.9444445 , 0.30379745, 0.9532075 , 0.9464812 ,\n         0.00892857, 0.8885429 , 0.3353126 , 0.92107284, 0.83252627,\n         0.14473031, 0.89914   , 0.8762548 , 0.8879397 , 1.        ,\n         1.        , 0.45454547, 0.99999994, 1.0000001 , 1.        ,\n         0.48945144, 1.        , 0.9581876 , 0.00892857, 0.7303034 ,\n         0.40828454, 0.83870566, 0.7309548 , 0.27033213, 0.7744826 ,\n         0.86528945, 0.7815199 ]], dtype=float32),\n 'n_obs': 216,\n 'train_X': array([[[0.1087963 , 0.        , 0.        , ..., 0.11227739,\n          0.09802651, 0.1975385 ],\n         [0.11805558, 0.        , 0.09090909, ..., 0.08742058,\n          0.03534746, 0.1975385 ],\n         [0.14351851, 0.        , 0.18181819, ..., 0.19935238,\n          0.11985159, 0.35666084],\n         ...,\n         [0.18287039, 0.        , 0.8181819 , ..., 0.30184162,\n          0.21253538, 0.43436098],\n         [0.1875    , 0.        , 0.9090909 , ..., 0.3134662 ,\n          0.22304344, 0.46212018],\n         [0.18287039, 0.        , 1.        , ..., 0.37143624,\n          0.29016948, 0.50591326]],\n \n        [[0.11805558, 0.        , 0.09090909, ..., 0.08742058,\n          0.03534746, 0.1975385 ],\n         [0.14351851, 0.        , 0.18181819, ..., 0.19935238,\n          0.11985159, 0.35666084],\n         [0.        , 0.        , 0.27272728, ..., 0.23823011,\n          0.13353515, 0.42333317],\n         ...,\n         [0.1875    , 0.        , 0.9090909 , ..., 0.3134662 ,\n          0.22304344, 0.46212018],\n         [0.18287039, 0.        , 1.        , ..., 0.37143624,\n          0.29016948, 0.50591326],\n         [0.1898148 , 0.33337402, 0.        , ..., 0.41704214,\n          0.34810257, 0.55002916]],\n \n        [[0.14351851, 0.        , 0.18181819, ..., 0.19935238,\n          0.11985159, 0.35666084],\n         [0.        , 0.        , 0.27272728, ..., 0.23823011,\n          0.13353515, 0.42333317],\n         [0.03703701, 0.        , 0.36363637, ..., 0.2696849 ,\n          0.16624737, 0.42654777],\n         ...,\n         [0.18287039, 0.        , 1.        , ..., 0.37143624,\n          0.29016948, 0.50591326],\n         [0.1898148 , 0.33337402, 0.        , ..., 0.41704214,\n          0.34810257, 0.55002916],\n         [0.2037037 , 0.33337402, 0.09090909, ..., 0.4652685 ,\n          0.3874998 , 0.5965221 ]],\n \n        ...,\n \n        [[0.21527779, 0.33337402, 0.18181819, ..., 0.45126545,\n          0.40421224, 0.42080975],\n         [0.25925928, 0.33337402, 0.27272728, ..., 0.07502329,\n          0.37696862, 0.        ],\n         [0.28935188, 0.33337402, 0.36363637, ..., 0.        ,\n          0.        , 0.        ],\n         ...,\n         [0.36805558, 0.33337402, 1.        , ..., 0.4583851 ,\n          0.44488525, 0.48822892],\n         [0.41203701, 0.666687  , 0.        , ..., 0.5630332 ,\n          0.4909358 , 0.6587075 ],\n         [0.42592597, 0.666687  , 0.09090909, ..., 0.6072968 ,\n          0.5387666 , 0.70309675]],\n \n        [[0.25925928, 0.33337402, 0.27272728, ..., 0.07502329,\n          0.37696862, 0.        ],\n         [0.28935188, 0.33337402, 0.36363637, ..., 0.        ,\n          0.        , 0.        ],\n         [0.2708333 , 0.33337402, 0.45454547, ..., 0.11384857,\n          0.07516241, 0.27325606],\n         ...,\n         [0.41203701, 0.666687  , 0.        , ..., 0.5630332 ,\n          0.4909358 , 0.6587075 ],\n         [0.42592597, 0.666687  , 0.09090909, ..., 0.6072968 ,\n          0.5387666 , 0.70309675],\n         [0.4050926 , 0.666687  , 0.18181819, ..., 0.6461569 ,\n          0.60234475, 0.70309675]],\n \n        [[0.28935188, 0.33337402, 0.36363637, ..., 0.        ,\n          0.        , 0.        ],\n         [0.2708333 , 0.33337402, 0.45454547, ..., 0.11384857,\n          0.07516241, 0.27325606],\n         [0.2824074 , 0.33337402, 0.5454545 , ..., 0.23755145,\n          0.24154449, 0.36252856],\n         ...,\n         [0.42592597, 0.666687  , 0.09090909, ..., 0.6072968 ,\n          0.5387666 , 0.70309675],\n         [0.4050926 , 0.666687  , 0.18181819, ..., 0.6461569 ,\n          0.60234475, 0.70309675],\n         [0.4074074 , 0.666687  , 0.27272728, ..., 0.7299007 ,\n          0.70176387, 0.7612127 ]]], dtype=float32),\n 'train_y': array([[0.36805558],\n        [0.41203701],\n        [0.42592597],\n        [0.4050926 ],\n        [0.4074074 ],\n        [0.4097222 ],\n        [0.41898143],\n        [0.4351852 ],\n        [0.5046296 ],\n        [0.537037  ],\n        [0.712963  ],\n        [0.76157403],\n        [0.76851857],\n        [0.775463  ],\n        [0.8796296 ],\n        [0.9305556 ],\n        [0.9768518 ]], dtype=float32),\n 'test_X': array([[[0.2708333 , 0.33337402, 0.45454547, 0.50973326, 0.48805773,\n          0.05555556, 0.01265822, 0.31022882, 0.5061407 , 0.66964287,\n          0.15689254, 0.17815025, 0.16707897, 0.21934932, 0.16272569,\n          0.11384857, 0.07516241, 0.27325606],\n         [0.2824074 , 0.33337402, 0.5454545 , 0.4434234 , 0.49684095,\n          0.1       , 0.01687764, 0.35478806, 0.5537133 , 0.59821427,\n          0.24199486, 0.14992893, 0.25160396, 0.3124879 , 0.1951356 ,\n          0.23755145, 0.24154449, 0.36252856],\n         [0.3078704 , 0.33337402, 0.6363636 , 0.4675647 , 0.5364528 ,\n          0.13333333, 0.02109705, 0.39829922, 0.6250224 , 0.4375    ,\n          0.28668964, 0.15176159, 0.2724793 , 0.33909148, 0.09702724,\n          0.2707826 , 0.19497132, 0.39650166],\n         [0.32175922, 0.33337402, 0.72727275, 0.50692934, 0.5127573 ,\n          0.14444445, 0.01687764, 0.44169307, 0.6902609 , 0.3928572 ,\n          0.37404346, 0.20862569, 0.3923962 , 0.4298702 , 0.19074494,\n          0.36871612, 0.3304355 , 0.4766276 ],\n         [0.3472222 , 0.33337402, 0.8181819 , 0.35866046, 0.33456182,\n          0.12222223, 0.01687764, 0.47107363, 0.7287164 , 0.30357146,\n          0.38947988, 0.18499596, 0.41832423, 0.43922585, 0.11860386,\n          0.39704788, 0.36714768, 0.504372  ],\n         [0.35879636, 0.33337402, 0.9090909 , 0.44555986, 0.40897435,\n          0.12222223, 0.01687764, 0.4347813 , 0.66398525, 0.28571427,\n          0.38875413, 0.18880485, 0.39601827, 0.43922585, 0.17475377,\n          0.39076865, 0.34553123, 0.48822892],\n         [0.36805558, 0.33337402, 1.        , 0.54285043, 0.43702435,\n          0.14444445, 0.01687764, 0.4429524 , 0.6581874 , 0.28571427,\n          0.4434067 , 0.2978257 , 0.45737135, 0.45374483, 0.31791314,\n          0.4583851 , 0.44488525, 0.48822892],\n         [0.41203701, 0.666687  , 0.        , 0.49533612, 0.28464818,\n          0.14444445, 0.01687764, 0.5287795 , 0.7782254 , 0.2589286 ,\n          0.5231676 , 0.07958345, 0.5021651 , 0.5801181 , 0.02924518,\n          0.5630332 , 0.4909358 , 0.6587075 ],\n         [0.42592597, 0.666687  , 0.09090909, 0.5336548 , 0.34568745,\n          0.17777778, 0.01265822, 0.4840567 , 0.6895318 , 0.2410714 ,\n          0.569304  , 0.09094588, 0.54967153, 0.63712186, 0.06721534,\n          0.6072968 , 0.5387666 , 0.70309675],\n         [0.4050926 , 0.666687  , 0.18181819, 0.56496716, 0.30994463,\n          0.27777776, 0.00843882, 0.5906794 , 0.8362694 , 0.22321427,\n          0.61288667, 0.10897304, 0.587695  , 0.6489778 , 0.08854641,\n          0.6461569 , 0.60234475, 0.70309675],\n         [0.4074074 , 0.666687  , 0.27272728, 0.37698543, 0.26502687,\n          0.45555553, 0.00843882, 0.6181233 , 0.8489523 , 0.22321427,\n          0.63565445, 0.10683896, 0.6283834 , 0.67280847, 0.18145236,\n          0.7299007 , 0.70176387, 0.7612127 ],\n         [0.4097222 , 0.666687  , 0.36363637, 0.38178146, 0.2676543 ,\n          0.54444444, 0.00421941, 0.6386466 , 0.85729647, 0.2053572 ,\n          0.71840847, 0.25840592, 0.72005665, 0.72583526, 0.11363742,\n          0.8318263 , 0.78637004, 0.85354924]],\n \n        [[0.2824074 , 0.33337402, 0.5454545 , 0.4434234 , 0.49684095,\n          0.1       , 0.01687764, 0.35478806, 0.5537133 , 0.59821427,\n          0.24199486, 0.14992893, 0.25160396, 0.3124879 , 0.1951356 ,\n          0.23755145, 0.24154449, 0.36252856],\n         [0.3078704 , 0.33337402, 0.6363636 , 0.4675647 , 0.5364528 ,\n          0.13333333, 0.02109705, 0.39829922, 0.6250224 , 0.4375    ,\n          0.28668964, 0.15176159, 0.2724793 , 0.33909148, 0.09702724,\n          0.2707826 , 0.19497132, 0.39650166],\n         [0.32175922, 0.33337402, 0.72727275, 0.50692934, 0.5127573 ,\n          0.14444445, 0.01687764, 0.44169307, 0.6902609 , 0.3928572 ,\n          0.37404346, 0.20862569, 0.3923962 , 0.4298702 , 0.19074494,\n          0.36871612, 0.3304355 , 0.4766276 ],\n         [0.3472222 , 0.33337402, 0.8181819 , 0.35866046, 0.33456182,\n          0.12222223, 0.01687764, 0.47107363, 0.7287164 , 0.30357146,\n          0.38947988, 0.18499596, 0.41832423, 0.43922585, 0.11860386,\n          0.39704788, 0.36714768, 0.504372  ],\n         [0.35879636, 0.33337402, 0.9090909 , 0.44555986, 0.40897435,\n          0.12222223, 0.01687764, 0.4347813 , 0.66398525, 0.28571427,\n          0.38875413, 0.18880485, 0.39601827, 0.43922585, 0.17475377,\n          0.39076865, 0.34553123, 0.48822892],\n         [0.36805558, 0.33337402, 1.        , 0.54285043, 0.43702435,\n          0.14444445, 0.01687764, 0.4429524 , 0.6581874 , 0.28571427,\n          0.4434067 , 0.2978257 , 0.45737135, 0.45374483, 0.31791314,\n          0.4583851 , 0.44488525, 0.48822892],\n         [0.41203701, 0.666687  , 0.        , 0.49533612, 0.28464818,\n          0.14444445, 0.01687764, 0.5287795 , 0.7782254 , 0.2589286 ,\n          0.5231676 , 0.07958345, 0.5021651 , 0.5801181 , 0.02924518,\n          0.5630332 , 0.4909358 , 0.6587075 ],\n         [0.42592597, 0.666687  , 0.09090909, 0.5336548 , 0.34568745,\n          0.17777778, 0.01265822, 0.4840567 , 0.6895318 , 0.2410714 ,\n          0.569304  , 0.09094588, 0.54967153, 0.63712186, 0.06721534,\n          0.6072968 , 0.5387666 , 0.70309675],\n         [0.4050926 , 0.666687  , 0.18181819, 0.56496716, 0.30994463,\n          0.27777776, 0.00843882, 0.5906794 , 0.8362694 , 0.22321427,\n          0.61288667, 0.10897304, 0.587695  , 0.6489778 , 0.08854641,\n          0.6461569 , 0.60234475, 0.70309675],\n         [0.4074074 , 0.666687  , 0.27272728, 0.37698543, 0.26502687,\n          0.45555553, 0.00843882, 0.6181233 , 0.8489523 , 0.22321427,\n          0.63565445, 0.10683896, 0.6283834 , 0.67280847, 0.18145236,\n          0.7299007 , 0.70176387, 0.7612127 ],\n         [0.4097222 , 0.666687  , 0.36363637, 0.38178146, 0.2676543 ,\n          0.54444444, 0.00421941, 0.6386466 , 0.85729647, 0.2053572 ,\n          0.71840847, 0.25840592, 0.72005665, 0.72583526, 0.11363742,\n          0.8318263 , 0.78637004, 0.85354924],\n         [0.41898143, 0.666687  , 0.45454547, 0.5232415 , 0.29174894,\n          0.5888889 , 0.01265822, 0.6660156 , 0.8725085 , 0.21428573,\n          0.7617185 , 0.02667331, 0.73016655, 0.8022534 , 0.0297526 ,\n          0.88052046, 0.83380556, 0.9256201 ]]], dtype=float32),\n 'test_y': array([[0.9976852],\n        [1.       ]], dtype=float32),\n 'asarray': <function numpy.asarray>,\n 'train_test_split': <function sklearn.model_selection._split.train_test_split(*arrays, test_size=None, train_size=None, random_state=None, shuffle=True, stratify=None)>,\n 'mean_absolute_error': <function sklearn.metrics._regression.mean_absolute_error(y_true, y_pred, *, sample_weight=None, multioutput='uniform_average')>,\n 'Adam': keras.optimizers.optimizer_v2.adam.Adam,\n 'tf': <module 'tensorflow' from '/Users/issacsmacbookpro/opt/miniconda3/envs/tensorflow/lib/python3.9/site-packages/tensorflow/__init__.py'>,\n 'math': <module 'math' from '/Users/issacsmacbookpro/opt/miniconda3/envs/tensorflow/lib/python3.9/lib-dynload/math.cpython-39-darwin.so'>,\n 'np': <module 'numpy' from '/Users/issacsmacbookpro/opt/miniconda3/envs/tensorflow/lib/python3.9/site-packages/numpy/__init__.py'>,\n 'fit_model': <function __main__.fit_model(X_train, y_train)>,\n 'fit_ensemble': <function __main__.fit_ensemble(n_members, X_train, X_test, y_train, y_test)>,\n 'n_members': 20,\n 'ensemble': [<keras.engine.sequential.Sequential at 0x2d95b1dc0>,\n  <keras.engine.sequential.Sequential at 0x35173fc40>,\n  <keras.engine.sequential.Sequential at 0x133ed6ca0>,\n  <keras.engine.sequential.Sequential at 0x2f99a8340>,\n  <keras.engine.sequential.Sequential at 0x2ccf7a7f0>,\n  <keras.engine.sequential.Sequential at 0x2b2f69520>,\n  <keras.engine.sequential.Sequential at 0x2aa765070>,\n  <keras.engine.sequential.Sequential at 0x2ab7c6d30>,\n  <keras.engine.sequential.Sequential at 0x15036f640>,\n  <keras.engine.sequential.Sequential at 0x15c63cd60>,\n  <keras.engine.sequential.Sequential at 0x2c1100e20>,\n  <keras.engine.sequential.Sequential at 0x2e40130d0>,\n  <keras.engine.sequential.Sequential at 0x157ebd550>,\n  <keras.engine.sequential.Sequential at 0x2e2f1be80>,\n  <keras.engine.sequential.Sequential at 0x14ff17940>,\n  <keras.engine.sequential.Sequential at 0x2a2a67fa0>,\n  <keras.engine.sequential.Sequential at 0x353edea90>,\n  <keras.engine.sequential.Sequential at 0x2c6cb6e50>,\n  <keras.engine.sequential.Sequential at 0x2bda57cd0>,\n  <keras.engine.sequential.Sequential at 0x15c67ac10>],\n 'i': 19,\n 'model': <keras.engine.sequential.Sequential at 0x15c67ac10>,\n 'yhat': array([[0.99555445],\n        [1.0358776 ]], dtype=float32),\n 'mae': 0.019004166,\n 'predict_with_pi': <function __main__.predict_with_pi(ensemble, X, n_members)>,\n 'newX': array([[[0.2708333 , 0.33337402, 0.45454547, 0.50973326, 0.48805773,\n          0.05555556, 0.01265822, 0.31022882, 0.5061407 , 0.66964287,\n          0.15689254, 0.17815025, 0.16707897, 0.21934932, 0.16272569,\n          0.11384857, 0.07516241, 0.27325606],\n         [0.2824074 , 0.33337402, 0.5454545 , 0.4434234 , 0.49684095,\n          0.1       , 0.01687764, 0.35478806, 0.5537133 , 0.59821427,\n          0.24199486, 0.14992893, 0.25160396, 0.3124879 , 0.1951356 ,\n          0.23755145, 0.24154449, 0.36252856],\n         [0.3078704 , 0.33337402, 0.6363636 , 0.4675647 , 0.5364528 ,\n          0.13333333, 0.02109705, 0.39829922, 0.6250224 , 0.4375    ,\n          0.28668964, 0.15176159, 0.2724793 , 0.33909148, 0.09702724,\n          0.2707826 , 0.19497132, 0.39650166],\n         [0.32175922, 0.33337402, 0.72727275, 0.50692934, 0.5127573 ,\n          0.14444445, 0.01687764, 0.44169307, 0.6902609 , 0.3928572 ,\n          0.37404346, 0.20862569, 0.3923962 , 0.4298702 , 0.19074494,\n          0.36871612, 0.3304355 , 0.4766276 ],\n         [0.3472222 , 0.33337402, 0.8181819 , 0.35866046, 0.33456182,\n          0.12222223, 0.01687764, 0.47107363, 0.7287164 , 0.30357146,\n          0.38947988, 0.18499596, 0.41832423, 0.43922585, 0.11860386,\n          0.39704788, 0.36714768, 0.504372  ],\n         [0.35879636, 0.33337402, 0.9090909 , 0.44555986, 0.40897435,\n          0.12222223, 0.01687764, 0.4347813 , 0.66398525, 0.28571427,\n          0.38875413, 0.18880485, 0.39601827, 0.43922585, 0.17475377,\n          0.39076865, 0.34553123, 0.48822892],\n         [0.36805558, 0.33337402, 1.        , 0.54285043, 0.43702435,\n          0.14444445, 0.01687764, 0.4429524 , 0.6581874 , 0.28571427,\n          0.4434067 , 0.2978257 , 0.45737135, 0.45374483, 0.31791314,\n          0.4583851 , 0.44488525, 0.48822892],\n         [0.41203701, 0.666687  , 0.        , 0.49533612, 0.28464818,\n          0.14444445, 0.01687764, 0.5287795 , 0.7782254 , 0.2589286 ,\n          0.5231676 , 0.07958345, 0.5021651 , 0.5801181 , 0.02924518,\n          0.5630332 , 0.4909358 , 0.6587075 ],\n         [0.42592597, 0.666687  , 0.09090909, 0.5336548 , 0.34568745,\n          0.17777778, 0.01265822, 0.4840567 , 0.6895318 , 0.2410714 ,\n          0.569304  , 0.09094588, 0.54967153, 0.63712186, 0.06721534,\n          0.6072968 , 0.5387666 , 0.70309675],\n         [0.4050926 , 0.666687  , 0.18181819, 0.56496716, 0.30994463,\n          0.27777776, 0.00843882, 0.5906794 , 0.8362694 , 0.22321427,\n          0.61288667, 0.10897304, 0.587695  , 0.6489778 , 0.08854641,\n          0.6461569 , 0.60234475, 0.70309675],\n         [0.4074074 , 0.666687  , 0.27272728, 0.37698543, 0.26502687,\n          0.45555553, 0.00843882, 0.6181233 , 0.8489523 , 0.22321427,\n          0.63565445, 0.10683896, 0.6283834 , 0.67280847, 0.18145236,\n          0.7299007 , 0.70176387, 0.7612127 ],\n         [0.4097222 , 0.666687  , 0.36363637, 0.38178146, 0.2676543 ,\n          0.54444444, 0.00421941, 0.6386466 , 0.85729647, 0.2053572 ,\n          0.71840847, 0.25840592, 0.72005665, 0.72583526, 0.11363742,\n          0.8318263 , 0.78637004, 0.85354924]]], dtype=float32),\n 'lower': 739.5473201098606,\n 'mean': 744.6314,\n 'upper': 749.7154972729519,\n 'outcome': {'Prediction': [744.6314],\n  '95%CI.Min': [739.5473201098606],\n  '95%CI.Max': [749.7154972729519]},\n 'outcome1':    Prediction   95%CI.Min   95%CI.Max\n 0  656.793579  653.470549  660.116609,\n '_2':    Prediction   95%CI.Min   95%CI.Max\n 0  656.793579  653.470549  660.116609,\n '_i3': \"from os import path\\n#save ensemble\\nfor i,i_model in enumerate(ensemble):\\n    i_model.save(path.join(sheet, '1',f'ensemble_corr_{i}.h5'))\\n#   i_model.save(f'BYX/1/ensemble_corr_{i}.h5')\\n\\n\\n\\n#save model\\n# model.save(f'/1/model_corr.h5')\\nmodel.save(path.join(sheet, '1','model_corr.h5'))\",\n 'path': <module 'posixpath' from '/Users/issacsmacbookpro/opt/miniconda3/envs/tensorflow/lib/python3.9/posixpath.py'>,\n 'i_model': <keras.engine.sequential.Sequential at 0x15c67ac10>,\n '_i4': \"from math import sqrt\\nimport numpy as np\\nfrom numpy import concatenate\\nfrom matplotlib import pyplot\\nimport pandas as pd\\nfrom pandas import read_csv\\nfrom pandas import DataFrame\\nfrom pandas import concat\\nfrom sklearn.preprocessing import MinMaxScaler\\nfrom sklearn.preprocessing import LabelEncoder\\nfrom sklearn.metrics import mean_squared_error\\nfrom keras.models import Sequential\\nfrom keras.layers import Dense\\nfrom keras.layers import LSTM\\n\\nimport io\\nimport datetime\\n\\n# sheet='BYX'\\ndf= pd.read_excel(r'../Logical Ports Prediction.xlsx',sheet_name=sheet,header=0)\\n# df= pd.read_excel(r'Logical Ports Prediction.xlsx',sheet_name='C2',header=0)\\ndf.dropna(subset=['Date'],inplace=True)\\n\\nfrom datetime import datetime as dt\\nlast_date=df.loc[:,'Date']\\nlast_date=last_date.iat[-1]\\nlast_date=last_date.strftime('%Y-%m-%d')\\nlast_date\\n\\ndf=df[df['Date']<=last_date].reset_index(drop=True)\\ndf.tail()\\ndf['Year'] = pd.to_datetime(df['Date']).dt.strftime('%Y')\\ndf['Month'] = pd.to_datetime(df['Date']).dt.strftime('%m')\\n\\ndf.drop(['Date','Logical Ports','Asset'],axis=1,inplace=True)\\nfirst_column = df.pop('Year')\\ndf.insert(0, 'Year', first_column)\\nsecond_column = df.pop('Month')\\ndf.insert(1, 'Month', second_column)\\nfirst_column = df.pop('PortQyt')\\ndf.insert(0, 'PortQyt', first_column)\\n\\ndf.shape\\nprint(len(list(df)[:]))\\n# # df=df.drop(['D&J_Close30d_Avg.','D&J_Close30d_Min','Monthly Real GDP Index','TCV','FEDFUNDS','Unemployement Rate','SPX_Price30d_Std.','D&J_Close30d_Std.','VIX_Close30d_Max.','VIX_Close30d_Avg.','VIX_Close30d_Std.','VIX_Close30d_Min.'],axis=1)\\n\\n\\nvalues=df.values\\n#\\n# import matplotlib.pyplot as pp\\n# pp.plot(values[:,0])\\n# pp.show()\\n\\n# encoder = LabelEncoder()\\n# # # print(values[:,0]) #PortQyt Value\\n# values[:,0]=encoder.fit_transform(values[:,0])\\n# print(values[:,0])\\n\\n# import matplotlib.pyplot as pp\\n# pp.plot(values[:,0])\\n# pp.show()\\n\\n# # print(values[:,4].shape)\\n# # print(values[:,4])\\nvalues = values.astype('float32')\\n\\n# specify the number of lag hours\\nn_months = 5\\nn_features = len(list(df)[:])\\n\\n#Normalize the first feature\\nfrom sklearn.preprocessing import StandardScaler\\nscaler2 = MinMaxScaler(feature_range=(0, 1)).fit(values[:,0:1])\\n# train_y = scaler2.transform(values[:,-n_features])\\n# scaled2 = scaler2.fit_transform(values) #try\\n\\n\\n# # normalize features\\nscaler = MinMaxScaler(feature_range=(0, 1))\\nscaled = scaler.fit_transform(values)\\n\\n\\n# len(list(dataset.columns))-3\\n\\n# convert series to supervised learning\\ndef series_to_supervised(data, n_in=1, n_out=1, dropnan=True):\\n\\tn_vars = 1 if type(data) is list else data.shape[1]\\n\\tdf = DataFrame(data)\\n\\tcols, names = list(), list()\\n\\t# input sequence (t-n, ... t-1)\\n\\tfor i in range(n_in, 0, -1):\\n\\t\\tcols.append(df.shift(i))\\n\\t\\tnames += [('var%d(t-%d)' % (j+1, i)) for j in range(n_vars)]\\n\\t# forecast sequence (t, t+1, ... t+n)\\n\\tfor i in range(0, n_out):\\n\\t\\tcols.append(df.shift(-i))\\n\\t\\tif i == 0:\\n\\t\\t\\tnames += [('var%d(t)' % (j+1)) for j in range(n_vars)]\\n\\t\\telse:\\n\\t\\t\\tnames += [('var%d(t+%d)' % (j+1, i)) for j in range(n_vars)]\\n\\t# put it all together\\n\\tagg = concat(cols, axis=1)\\n\\tagg.columns = names\\n\\t# drop rows with NaN values\\n\\tif dropnan:\\n\\t\\tagg.dropna(inplace=True)\\n\\treturn agg\\n\\n# frame as supervised learning\\nreframed = series_to_supervised(scaled, n_months, 1)\\n# print(reframed.shape)\\n\\n\\n# print(reframed.tail())\\n\\n\\n# split into train and test sets\\nvalues = reframed.values\\nn_train_months = 36\\ntrain = values[:n_train_months, :]\\ntest = values[n_train_months:, :]\\nprint(values.shape)\\n# split into input and outputs\\nn_obs = ((n_months+1))* n_features #the following fourth month\\ntrain.shape\\ntrain_X, train_y = train[:, :n_obs], train[:, -n_features*(1+4):-n_features*(1+4)+1] \\ntest_X, test_y = test[:, :n_obs], test[:, -n_features*(1+4):-n_features*(1+4)+1]\\nprint(test.shape)\\n\\n\\n# import matplotlib.pyplot as pp\\n# pp.plot(train_y)\\n# pp.show()\\n\\ntrain_X = train_X.reshape((train_X.shape[0], (n_months+1) , n_features))\\ntest_X = test_X.reshape((test_X.shape[0], (n_months+1), n_features))\\nprint(train_X.shape, train_y.shape, test_X.shape, test_y.shape)\\n\\n\\n# prediction interval for mlps on the housing regression dataset\\nfrom numpy import asarray\\nfrom pandas import read_csv\\nfrom sklearn.model_selection import train_test_split\\nfrom sklearn.metrics import mean_absolute_error\\nfrom sklearn.preprocessing import MinMaxScaler\\nfrom tensorflow.keras.models import Sequential\\nfrom tensorflow.keras.layers import Dense\\nfrom tensorflow.keras.optimizers import Adam\\nimport tensorflow as tf\\nimport math\\nimport numpy as np\\n\\n \\n# define and fit the model\\ndef fit_model(X_train, y_train):\\n    features = X_train.shape[1]\\n    model = Sequential()\\n    model.add(LSTM(50, input_shape=(train_X.shape[1], train_X.shape[2])))\\n    model.add(Dense(1))\\n    model.compile(loss='mse', optimizer='adam')\\n    model.fit(X_train, y_train, verbose=0, epochs=50, batch_size=16)\\n    return model\\n\\n\\t\\n \\n# fit an ensemble of models\\ndef fit_ensemble(n_members, X_train, X_test, y_train, y_test):\\n    ensemble = list()\\n    for i in range(n_members):\\n        model = fit_model(X_train, y_train) # define and fit the model on the training set\\n        yhat = model.predict(X_test, verbose=0) # evaluate model on the test set\\n        print(y_test.shape,yhat.shape)\\n        mae = mean_absolute_error(y_test, yhat)\\n        print('>%d, MAE: %.3f' % (i+1, mae))\\n        ensemble.append(model) # store the model\\n    return ensemble\\n\\nn_members = 20\\nensemble = list()\\nfor i in range(n_members):\\n  model = fit_model(train_X, train_y) # define and fit the model on the training set\\n  yhat = model.predict(test_X, verbose=0) # evaluate model on the test set\\n  print(test_y,yhat.shape)\\n  mae = mean_absolute_error(test_y, yhat)\\n  print('>%d, MAE: %.3f' % (i+1, mae))\\n  ensemble.append(model) # store the model\\n    \\n# make predictions with the ensemble and calculate a prediction interval\\ndef predict_with_pi(ensemble, X,n_members):\\n    yhat = [model.predict(X, verbose=0) for model in ensemble]\\n    yhat = asarray(yhat)\\n    yhat = np.reshape(yhat,[n_members,1])\\n    print(yhat.shape)\\n    # yhat = scaled2.inverse_transform(yhat)\\n    yhat = scaler2.inverse_transform(yhat) # invert scaling for actual\\n    yhat = yhat[:,0] \\n    interval = 1.96 * yhat.std()/math.sqrt(len(yhat))\\n    lower, upper = yhat.mean() - interval, yhat.mean() + interval\\n    return lower, yhat.mean(), upper\\n\\nn_members=len(ensemble)\\n# make predictions with prediction interval\\nnewX = asarray([test_X[0, :]])\\nlower, mean, upper = predict_with_pi(ensemble, newX,n_members)\\n# print(test_y)\\n# print('Point prediction: %.1f' % mean)\\nprint('95%% prediction interval: [%.1f, %.1f]' % (lower, upper))\\nprint('True value: %.1f' % test_y[0])\\noutcome = {'Prediction': [mean],\\n           '95%CI.Min': [lower],\\n           '95%CI.Max': [upper]\\n           }\\n\\n\\noutcome2= pd.DataFrame(outcome)\\noutcome2\\n\\nfrom os import path\\n#save ensemble\\nfor i,i_model in enumerate(ensemble):\\n    i_model.save(path.join(sheet, '2',f'ensemble_corr_{i}.h5'))\\n#   i_model.save(f'BYX/1/ensemble_corr_{i}.h5')\\n\\n\\n\\n#save model\\n# model.save(f'/1/model_corr.h5')\\nmodel.save(path.join(sheet, '2','model_corr.h5'))\",\n 'outcome2':    Prediction   95%CI.Min   95%CI.Max\n 0  651.924194  648.253465  655.594924,\n '_i5': \"from math import sqrt\\nfrom numpy import concatenate\\nfrom matplotlib import pyplot\\nimport pandas as pd\\nfrom pandas import read_csv\\nfrom pandas import DataFrame\\nfrom pandas import concat\\nfrom sklearn.preprocessing import MinMaxScaler\\nfrom sklearn.preprocessing import LabelEncoder\\nfrom sklearn.metrics import mean_squared_error\\nfrom keras.models import Sequential\\nfrom keras.layers import Dense\\nfrom keras.layers import LSTM\\n\\nimport io\\nimport datetime\\n\\n# sheet='BYX'\\ndf= pd.read_excel(r'../Logical Ports Prediction.xlsx',sheet_name=sheet,header=0)\\n# df= pd.read_excel(r'Logical Ports Prediction.xlsx',sheet_name='C2',header=0)\\ndf.dropna(subset=['Date'],inplace=True)\\n\\nfrom datetime import datetime as dt\\nlast_date=df.loc[:,'Date']\\nlast_date=last_date.iat[-1]\\nlast_date=last_date.strftime('%Y-%m-%d')\\nlast_date\\n\\ndf=df[df['Date']<=last_date].reset_index(drop=True)\\ndf.tail()\\ndf['Year'] = pd.to_datetime(df['Date']).dt.strftime('%Y')\\ndf['Month'] = pd.to_datetime(df['Date']).dt.strftime('%m')\\n\\ndf.drop(['Date','Logical Ports','Asset'],axis=1,inplace=True)\\nfirst_column = df.pop('Year')\\ndf.insert(0, 'Year', first_column)\\nsecond_column = df.pop('Month')\\ndf.insert(1, 'Month', second_column)\\nfirst_column = df.pop('PortQyt')\\ndf.insert(0, 'PortQyt', first_column)\\n\\ndf.shape\\nprint(len(list(df)[:]))\\n# # df=df.drop(['D&J_Close30d_Avg.','D&J_Close30d_Min','Monthly Real GDP Index','TCV','FEDFUNDS','Unemployement Rate','SPX_Price30d_Std.','D&J_Close30d_Std.','VIX_Close30d_Max.','VIX_Close30d_Avg.','VIX_Close30d_Std.','VIX_Close30d_Min.'],axis=1)\\n\\n\\nvalues=df.values\\n#\\n# import matplotlib.pyplot as pp\\n# pp.plot(values[:,0])\\n# pp.show()\\n\\n# encoder = LabelEncoder()\\n# # # print(values[:,0]) #PortQyt Value\\n# values[:,0]=encoder.fit_transform(values[:,0])\\n# print(values[:,0])\\n\\n# import matplotlib.pyplot as pp\\n# pp.plot(values[:,0])\\n# pp.show()\\n\\n# # print(values[:,4].shape)\\n# # print(values[:,4])\\nvalues = values.astype('float32')\\n\\n# specify the number of lag hours\\nn_months = 5\\nn_features = len(list(df)[:])\\n\\n#Normalize the first feature\\nfrom sklearn.preprocessing import StandardScaler\\nscaler2 = MinMaxScaler(feature_range=(0, 1)).fit(values[:,0:1])\\n# train_y = scaler2.transform(values[:,-n_features])\\n# scaled2 = scaler2.fit_transform(values) #try\\n\\n\\n# # normalize features\\nscaler = MinMaxScaler(feature_range=(0, 1))\\nscaled = scaler.fit_transform(values)\\n\\n\\n# len(list(dataset.columns))-3\\n\\n# convert series to supervised learning\\ndef series_to_supervised(data, n_in=1, n_out=1, dropnan=True):\\n\\tn_vars = 1 if type(data) is list else data.shape[1]\\n\\tdf = DataFrame(data)\\n\\tcols, names = list(), list()\\n\\t# input sequence (t-n, ... t-1)\\n\\tfor i in range(n_in, 0, -1):\\n\\t\\tcols.append(df.shift(i))\\n\\t\\tnames += [('var%d(t-%d)' % (j+1, i)) for j in range(n_vars)]\\n\\t# forecast sequence (t, t+1, ... t+n)\\n\\tfor i in range(0, n_out):\\n\\t\\tcols.append(df.shift(-i))\\n\\t\\tif i == 0:\\n\\t\\t\\tnames += [('var%d(t)' % (j+1)) for j in range(n_vars)]\\n\\t\\telse:\\n\\t\\t\\tnames += [('var%d(t+%d)' % (j+1, i)) for j in range(n_vars)]\\n\\t# put it all together\\n\\tagg = concat(cols, axis=1)\\n\\tagg.columns = names\\n\\t# drop rows with NaN values\\n\\tif dropnan:\\n\\t\\tagg.dropna(inplace=True)\\n\\treturn agg\\n\\n# frame as supervised learning\\nreframed = series_to_supervised(scaled, n_months, 1)\\n# print(reframed.shape)\\n\\n\\n# print(reframed.tail())\\n\\n\\n\\n\\n\\n# split into train and test sets\\nvalues = reframed.values\\nn_train_months = 36\\ntrain = values[:n_train_months, :]\\ntest = values[n_train_months:, :]\\nprint(values.shape)\\n# split into input and outputs\\nn_obs = (n_months+1)* n_features #the following fourth month\\ntrain.shape\\ntrain_X, train_y = train[:, :n_obs], train[:, -n_features*(1+3):-n_features*(1+3)+1] \\ntest_X, test_y = test[:, :n_obs], test[:, -n_features*(1+3):-n_features*(1+3)+1]\\nprint(test.shape)\\n\\n\\n# import matplotlib.pyplot as pp\\n# pp.plot(train_y)\\n# pp.show()\\n\\ntrain_X = train_X.reshape((train_X.shape[0], (n_months+1), n_features))\\ntest_X = test_X.reshape((test_X.shape[0], (n_months+1), n_features))\\nprint(train_X.shape, train_y.shape, test_X.shape, test_y.shape)\\n\\n# prediction interval for mlps on the housing regression dataset\\nfrom numpy import asarray\\nfrom pandas import read_csv\\nfrom sklearn.model_selection import train_test_split\\nfrom sklearn.metrics import mean_absolute_error\\nfrom sklearn.preprocessing import MinMaxScaler\\nfrom tensorflow.keras.models import Sequential\\nfrom tensorflow.keras.layers import Dense\\nfrom tensorflow.keras.optimizers import Adam\\nimport tensorflow as tf\\nimport math\\nimport numpy as np\\n\\n \\n# define and fit the model\\ndef fit_model(X_train, y_train):\\n    features = X_train.shape[1]\\n    model = Sequential()\\n    model.add(LSTM(50, input_shape=(train_X.shape[1], train_X.shape[2])))\\n    model.add(Dense(1))\\n    model.compile(loss='mse', optimizer='adam')\\n    model.fit(X_train, y_train, verbose=0, epochs=50, batch_size=16)\\n    return model\\n\\n\\t\\n \\n# fit an ensemble of models\\ndef fit_ensemble(n_members, X_train, X_test, y_train, y_test):\\n    ensemble = list()\\n    for i in range(n_members):\\n        model = fit_model(X_train, y_train) # define and fit the model on the training set\\n        yhat = model.predict(X_test, verbose=0) # evaluate model on the test set\\n        print(y_test.shape,yhat.shape)\\n        mae = mean_absolute_error(y_test, yhat)\\n        print('>%d, MAE: %.3f' % (i+1, mae))\\n        ensemble.append(model) # store the model\\n    return ensemble\\n\\nn_members = 20\\nensemble = list()\\nfor i in range(n_members):\\n  model = fit_model(train_X, train_y) # define and fit the model on the training set\\n  yhat = model.predict(test_X, verbose=0) # evaluate model on the test set\\n  print(test_y,yhat.shape)\\n  mae = mean_absolute_error(test_y, yhat)\\n  print('>%d, MAE: %.3f' % (i+1, mae))\\n  ensemble.append(model) # store the model\\n    \\n# make predictions with the ensemble and calculate a prediction interval\\ndef predict_with_pi(ensemble, X,n_members):\\n    yhat = [model.predict(X, verbose=0) for model in ensemble]\\n    yhat = asarray(yhat)\\n    yhat = np.reshape(yhat,[n_members,1])\\n    print(yhat.shape)\\n    # yhat = scaled2.inverse_transform(yhat)\\n    yhat = scaler2.inverse_transform(yhat) # invert scaling for actual\\n    yhat = yhat[:,0] \\n    interval = 1.96 * yhat.std()/math.sqrt(len(yhat))\\n    lower, upper = yhat.mean() - interval, yhat.mean() + interval\\n    return lower, yhat.mean(), upper\\n\\nn_members=len(ensemble)\\n# make predictions with prediction interval\\nnewX = asarray([test_X[0, :]])\\nlower, mean, upper = predict_with_pi(ensemble, newX,n_members)\\n# print(test_y)\\n# print('Point prediction: %.1f' % mean)\\nprint('95%% prediction interval: [%.1f, %.1f]' % (lower, upper))\\nprint('True value: %.1f' % test_y[0])\\noutcome = {'Prediction': [mean],\\n           '95%CI.Min': [lower],\\n           '95%CI.Max': [upper]\\n           }\\n\\n\\noutcome3= pd.DataFrame(outcome)\\noutcome3\\n\\nfrom os import path\\n#save ensemble\\nfor i,i_model in enumerate(ensemble):\\n    i_model.save(path.join(sheet, '3',f'ensemble_corr_{i}.h5'))\\n#   i_model.save(f'BYX/1/ensemble_corr_{i}.h5')\\n\\n\\n\\n#save model\\n# model.save(f'/1/model_corr.h5')\\nmodel.save(path.join(sheet, '3','model_corr.h5'))\",\n 'outcome3':    Prediction   95%CI.Min   95%CI.Max\n 0  673.428772  670.377063  676.480481,\n '_i6': \"from math import sqrt\\nfrom numpy import concatenate\\nfrom matplotlib import pyplot\\nimport pandas as pd\\nfrom pandas import read_csv\\nfrom pandas import DataFrame\\nfrom pandas import concat\\nfrom sklearn.preprocessing import MinMaxScaler\\nfrom sklearn.preprocessing import LabelEncoder\\nfrom sklearn.metrics import mean_squared_error\\nfrom keras.models import Sequential\\nfrom keras.layers import Dense\\nfrom keras.layers import LSTM\\n\\nimport io\\nimport datetime\\n\\n# sheet='BYX'\\ndf= pd.read_excel(r'../Logical Ports Prediction.xlsx',sheet_name=sheet,header=0)\\n# df= pd.read_excel(r'Logical Ports Prediction.xlsx',sheet_name='C2',header=0)\\ndf.dropna(subset=['Date'],inplace=True)\\n\\nfrom datetime import datetime as dt\\nlast_date=df.loc[:,'Date']\\nlast_date=last_date.iat[-1]\\nlast_date=last_date.strftime('%Y-%m-%d')\\nlast_date\\n\\ndf=df[df['Date']<=last_date].reset_index(drop=True)\\ndf.tail()\\ndf['Year'] = pd.to_datetime(df['Date']).dt.strftime('%Y')\\ndf['Month'] = pd.to_datetime(df['Date']).dt.strftime('%m')\\n\\ndf.drop(['Date','Logical Ports','Asset'],axis=1,inplace=True)\\nfirst_column = df.pop('Year')\\ndf.insert(0, 'Year', first_column)\\nsecond_column = df.pop('Month')\\ndf.insert(1, 'Month', second_column)\\nfirst_column = df.pop('PortQyt')\\ndf.insert(0, 'PortQyt', first_column)\\n\\ndf.shape\\nprint(len(list(df)[:]))\\n# # df=df.drop(['D&J_Close30d_Avg.','D&J_Close30d_Min','Monthly Real GDP Index','TCV','FEDFUNDS','Unemployement Rate','SPX_Price30d_Std.','D&J_Close30d_Std.','VIX_Close30d_Max.','VIX_Close30d_Avg.','VIX_Close30d_Std.','VIX_Close30d_Min.'],axis=1)\\n\\n\\nvalues=df.values\\n# #\\n# import matplotlib.pyplot as pp\\n# pp.plot(values[:,0])\\n# pp.show()\\n\\n# encoder = LabelEncoder()\\n# # # print(values[:,0]) #PortQyt Value\\n# values[:,0]=encoder.fit_transform(values[:,0])\\n# print(values[:,0])\\n\\n# import matplotlib.pyplot as pp\\n# pp.plot(values[:,0])\\n# pp.show()\\n\\n# # print(values[:,4].shape)\\n# # print(values[:,4])\\nvalues = values.astype('float32')\\n\\n# specify the number of lag hours\\nn_months = 5\\nn_features = len(list(df)[:])\\n\\n#Normalize the first feature\\nfrom sklearn.preprocessing import StandardScaler\\nscaler2 = MinMaxScaler(feature_range=(0, 1)).fit(values[:,0:1])\\n# train_y = scaler2.transform(values[:,-n_features])\\n# scaled2 = scaler2.fit_transform(values) #try\\n\\n\\n# # normalize features\\nscaler = MinMaxScaler(feature_range=(0, 1))\\nscaled = scaler.fit_transform(values)\\n\\n\\n# len(list(dataset.columns))-3\\n\\n# convert series to supervised learning\\ndef series_to_supervised(data, n_in=1, n_out=1, dropnan=True):\\n\\tn_vars = 1 if type(data) is list else data.shape[1]\\n\\tdf = DataFrame(data)\\n\\tcols, names = list(), list()\\n\\t# input sequence (t-n, ... t-1)\\n\\tfor i in range(n_in, 0, -1):\\n\\t\\tcols.append(df.shift(i))\\n\\t\\tnames += [('var%d(t-%d)' % (j+1, i)) for j in range(n_vars)]\\n\\t# forecast sequence (t, t+1, ... t+n)\\n\\tfor i in range(0, n_out):\\n\\t\\tcols.append(df.shift(-i))\\n\\t\\tif i == 0:\\n\\t\\t\\tnames += [('var%d(t)' % (j+1)) for j in range(n_vars)]\\n\\t\\telse:\\n\\t\\t\\tnames += [('var%d(t+%d)' % (j+1, i)) for j in range(n_vars)]\\n\\t# put it all together\\n\\tagg = concat(cols, axis=1)\\n\\tagg.columns = names\\n\\t# drop rows with NaN values\\n\\tif dropnan:\\n\\t\\tagg.dropna(inplace=True)\\n\\treturn agg\\n\\n# frame as supervised learning\\nreframed = series_to_supervised(scaled, n_months, 1)\\n# print(reframed.shape)\\n\\n\\n# print(reframed.tail())\\n\\n\\n\\n\\n\\n# split into train and test sets\\nvalues = reframed.values\\nn_train_months = 36\\ntrain = values[:n_train_months, :]\\ntest = values[n_train_months:, :]\\nprint(values.shape)\\n# split into input and outputs\\nn_obs = (n_months+1)* n_features #the following fourth month\\ntrain.shape\\ntrain_X, train_y = train[:, :n_obs], train[:, -n_features*(1+2):-n_features*(1+2)+1] \\ntest_X, test_y = test[:, :n_obs], test[:, -n_features*(1+2):-n_features*(1+2)+1]\\nprint(test.shape)\\n\\n\\n# import matplotlib.pyplot as pp\\n# pp.plot(train_y)\\n# pp.show()\\n\\ntrain_X = train_X.reshape((train_X.shape[0], (n_months+1), n_features))\\ntest_X = test_X.reshape((test_X.shape[0], (n_months+1), n_features))\\nprint(train_X.shape, train_y.shape, test_X.shape, test_y.shape)\\n\\n# prediction interval for mlps on the housing regression dataset\\nfrom numpy import asarray\\nfrom pandas import read_csv\\nfrom sklearn.model_selection import train_test_split\\nfrom sklearn.metrics import mean_absolute_error\\nfrom sklearn.preprocessing import MinMaxScaler\\nfrom tensorflow.keras.models import Sequential\\nfrom tensorflow.keras.layers import Dense\\nfrom tensorflow.keras.optimizers import Adam\\nimport tensorflow as tf\\nimport math\\nimport numpy as np\\n\\n \\n# define and fit the model\\ndef fit_model(X_train, y_train):\\n    features = X_train.shape[1]\\n    model = Sequential()\\n    model.add(LSTM(50, input_shape=(train_X.shape[1], train_X.shape[2])))\\n    model.add(Dense(1))\\n    model.compile(loss='mse', optimizer='adam')\\n    model.fit(X_train, y_train, verbose=0, epochs=50, batch_size=16)\\n    return model\\n\\n\\t\\n \\n# fit an ensemble of models\\ndef fit_ensemble(n_members, X_train, X_test, y_train, y_test):\\n    ensemble = list()\\n    for i in range(n_members):\\n        model = fit_model(X_train, y_train) # define and fit the model on the training set\\n        yhat = model.predict(X_test, verbose=0) # evaluate model on the test set\\n        print(y_test.shape,yhat.shape)\\n        mae = mean_absolute_error(y_test, yhat)\\n        print('>%d, MAE: %.3f' % (i+1, mae))\\n        ensemble.append(model) # store the model\\n    return ensemble\\n\\nn_members = 20\\nensemble = list()\\nfor i in range(n_members):\\n  model = fit_model(train_X, train_y) # define and fit the model on the training set\\n  yhat = model.predict(test_X, verbose=0) # evaluate model on the test set\\n  print(test_y,yhat.shape)\\n  mae = mean_absolute_error(test_y, yhat)\\n  print('>%d, MAE: %.3f' % (i+1, mae))\\n  ensemble.append(model) # store the model\\n    \\n# make predictions with the ensemble and calculate a prediction interval\\ndef predict_with_pi(ensemble, X,n_members):\\n    yhat = [model.predict(X, verbose=0) for model in ensemble]\\n    yhat = asarray(yhat)\\n    yhat = np.reshape(yhat,[n_members,1])\\n    print(yhat.shape)\\n    # yhat = scaled2.inverse_transform(yhat)\\n    yhat = scaler2.inverse_transform(yhat) # invert scaling for actual\\n    yhat = yhat[:,0] \\n    interval = 1.96 * yhat.std()/math.sqrt(len(yhat))\\n    lower, upper = yhat.mean() - interval, yhat.mean() + interval\\n    return lower, yhat.mean(), upper\\n\\nn_members=len(ensemble)\\n# make predictions with prediction interval\\nnewX = asarray([test_X[0, :]])\\nlower, mean, upper = predict_with_pi(ensemble, newX,n_members)\\n# print(test_y)\\n# print('Point prediction: %.1f' % mean)\\nprint('95%% prediction interval: [%.1f, %.1f]' % (lower, upper))\\nprint('True value: %.1f' % test_y[0])\\noutcome = {'Prediction': [mean],\\n           '95%CI.Min': [lower],\\n           '95%CI.Max': [upper]\\n           }\\n\\n\\noutcome4= pd.DataFrame(outcome)\\noutcome4\\n\\nfrom os import path\\n#save ensemble\\nfor i,i_model in enumerate(ensemble):\\n    i_model.save(path.join(sheet, '4',f'ensemble_corr_{i}.h5'))\\n#   i_model.save(f'BYX/1/ensemble_corr_{i}.h5')\\n\\n\\n\\n#save model\\n# model.save(f'/1/model_corr.h5')\\nmodel.save(path.join(sheet, '4','model_corr.h5'))\",\n 'outcome4':    Prediction   95%CI.Min   95%CI.Max\n 0  697.759155  693.907809  701.610501,\n '_i7': \"from math import sqrt\\nfrom numpy import concatenate\\nfrom matplotlib import pyplot\\nimport pandas as pd\\nfrom pandas import read_csv\\nfrom pandas import DataFrame\\nfrom pandas import concat\\nfrom sklearn.preprocessing import MinMaxScaler\\nfrom sklearn.preprocessing import LabelEncoder\\nfrom sklearn.metrics import mean_squared_error\\nfrom keras.models import Sequential\\nfrom keras.layers import Dense\\nfrom keras.layers import LSTM\\n\\nimport io\\nimport datetime\\n\\n# sheet='BYX'\\ndf= pd.read_excel(r'../Logical Ports Prediction.xlsx',sheet_name=sheet,header=0)\\n# df= pd.read_excel(r'Logical Ports Prediction.xlsx',sheet_name='C2',header=0)\\ndf.dropna(subset=['Date'],inplace=True)\\n\\nfrom datetime import datetime as dt\\nlast_date=df.loc[:,'Date']\\nlast_date=last_date.iat[-1]\\nlast_date=last_date.strftime('%Y-%m-%d')\\nlast_date\\n\\ndf=df[df['Date']<=last_date].reset_index(drop=True)\\ndf.tail()\\ndf['Year'] = pd.to_datetime(df['Date']).dt.strftime('%Y')\\ndf['Month'] = pd.to_datetime(df['Date']).dt.strftime('%m')\\n\\ndf.drop(['Date','Logical Ports','Asset'],axis=1,inplace=True)\\nfirst_column = df.pop('Year')\\ndf.insert(0, 'Year', first_column)\\nsecond_column = df.pop('Month')\\ndf.insert(1, 'Month', second_column)\\nfirst_column = df.pop('PortQyt')\\ndf.insert(0, 'PortQyt', first_column)\\n\\ndf.shape\\nprint(len(list(df)[:]))\\n# # df=df.drop(['D&J_Close30d_Avg.','D&J_Close30d_Min','Monthly Real GDP Index','TCV','FEDFUNDS','Unemployement Rate','SPX_Price30d_Std.','D&J_Close30d_Std.','VIX_Close30d_Max.','VIX_Close30d_Avg.','VIX_Close30d_Std.','VIX_Close30d_Min.'],axis=1)\\n\\n\\nvalues=df.values\\n#\\n# import matplotlib.pyplot as pp\\n# pp.plot(values[:,0])\\n# pp.show()\\n\\n# encoder = LabelEncoder()\\n# # # print(values[:,0]) #PortQyt Value\\n# values[:,0]=encoder.fit_transform(values[:,0])\\n# print(values[:,0])\\n\\n# import matplotlib.pyplot as pp\\n# pp.plot(values[:,0])\\n# pp.show()\\n\\n# # print(values[:,4].shape)\\n# # print(values[:,4])\\nvalues = values.astype('float32')\\n\\n# specify the number of lag hours\\nn_months = 5\\nn_features = len(list(df)[:])\\n\\n#Normalize the first feature\\nfrom sklearn.preprocessing import StandardScaler\\nscaler2 = MinMaxScaler(feature_range=(0, 1)).fit(values[:,0:1])\\n# train_y = scaler2.transform(values[:,-n_features])\\n# scaled2 = scaler2.fit_transform(values) #try\\n\\n\\n# # normalize features\\nscaler = MinMaxScaler(feature_range=(0, 1))\\nscaled = scaler.fit_transform(values)\\n\\n\\n# len(list(dataset.columns))-3\\n\\n# convert series to supervised learning\\ndef series_to_supervised(data, n_in=1, n_out=1, dropnan=True):\\n\\tn_vars = 1 if type(data) is list else data.shape[1]\\n\\tdf = DataFrame(data)\\n\\tcols, names = list(), list()\\n\\t# input sequence (t-n, ... t-1)\\n\\tfor i in range(n_in, 0, -1):\\n\\t\\tcols.append(df.shift(i))\\n\\t\\tnames += [('var%d(t-%d)' % (j+1, i)) for j in range(n_vars)]\\n\\t# forecast sequence (t, t+1, ... t+n)\\n\\tfor i in range(0, n_out):\\n\\t\\tcols.append(df.shift(-i))\\n\\t\\tif i == 0:\\n\\t\\t\\tnames += [('var%d(t)' % (j+1)) for j in range(n_vars)]\\n\\t\\telse:\\n\\t\\t\\tnames += [('var%d(t+%d)' % (j+1, i)) for j in range(n_vars)]\\n\\t# put it all together\\n\\tagg = concat(cols, axis=1)\\n\\tagg.columns = names\\n\\t# drop rows with NaN values\\n\\tif dropnan:\\n\\t\\tagg.dropna(inplace=True)\\n\\treturn agg\\n\\n# frame as supervised learning\\nreframed = series_to_supervised(scaled, n_months, 1)\\n# print(reframed.shape)\\n\\n\\n# print(reframed.tail())\\n\\n\\n\\n\\n\\nm=6-5\\n# split into train and test sets\\nvalues = reframed.values\\nn_train_months = 36\\ntrain = values[:n_train_months, :]\\ntest = values[n_train_months:, :]\\nprint(values.shape)\\n# split into input and outputs\\nn_obs = (n_months+1)* n_features #the following fourth month\\ntrain.shape\\ntrain_X, train_y = train[:, :n_obs], train[:, -n_features*(1+m):-n_features*(1+m)+1] \\ntest_X, test_y = test[:, :n_obs], test[:, -n_features*(1+m):-n_features*(1+m)+1]\\nprint(test.shape)\\n\\n\\n# import matplotlib.pyplot as pp\\n# pp.plot(train_y)\\n# pp.show()\\n\\ntrain_X = train_X.reshape((train_X.shape[0], (n_months+1), n_features))\\ntest_X = test_X.reshape((test_X.shape[0], (n_months+1), n_features))\\nprint(train_X.shape, train_y.shape, test_X.shape, test_y.shape)\\n\\n# prediction interval for mlps on the housing regression dataset\\nfrom numpy import asarray\\nfrom pandas import read_csv\\nfrom sklearn.model_selection import train_test_split\\nfrom sklearn.metrics import mean_absolute_error\\nfrom sklearn.preprocessing import MinMaxScaler\\nfrom tensorflow.keras.models import Sequential\\nfrom tensorflow.keras.layers import Dense\\nfrom tensorflow.keras.optimizers import Adam\\nimport tensorflow as tf\\nimport math\\nimport numpy as np\\n\\n \\n# define and fit the model\\ndef fit_model(X_train, y_train):\\n    features = X_train.shape[1]\\n    model = Sequential()\\n    model.add(LSTM(50, input_shape=(train_X.shape[1], train_X.shape[2])))\\n    model.add(Dense(1))\\n    model.compile(loss='mse', optimizer='adam')\\n    model.fit(X_train, y_train, verbose=0, epochs=50, batch_size=16)\\n    return model\\n\\n\\t\\n \\n# fit an ensemble of models\\ndef fit_ensemble(n_members, X_train, X_test, y_train, y_test):\\n    ensemble = list()\\n    for i in range(n_members):\\n        model = fit_model(X_train, y_train) # define and fit the model on the training set\\n        yhat = model.predict(X_test, verbose=0) # evaluate model on the test set\\n        print(y_test.shape,yhat.shape)\\n        mae = mean_absolute_error(y_test, yhat)\\n        print('>%d, MAE: %.3f' % (i+1, mae))\\n        ensemble.append(model) # store the model\\n    return ensemble\\n\\nn_members = 20\\nensemble = list()\\nfor i in range(n_members):\\n  model = fit_model(train_X, train_y) # define and fit the model on the training set\\n  yhat = model.predict(test_X, verbose=0) # evaluate model on the test set\\n  print(test_y,yhat.shape)\\n  mae = mean_absolute_error(test_y, yhat)\\n  print('>%d, MAE: %.3f' % (i+1, mae))\\n  ensemble.append(model) # store the model\\n    \\n# make predictions with the ensemble and calculate a prediction interval\\ndef predict_with_pi(ensemble, X,n_members):\\n    yhat = [model.predict(X, verbose=0) for model in ensemble]\\n    yhat = asarray(yhat)\\n    yhat = np.reshape(yhat,[n_members,1])\\n    print(yhat.shape)\\n    # yhat = scaled2.inverse_transform(yhat)\\n    yhat = scaler2.inverse_transform(yhat) # invert scaling for actual\\n    yhat = yhat[:,0] \\n    interval = 1.96 * yhat.std()/math.sqrt(len(yhat))\\n    lower, upper = yhat.mean() - interval, yhat.mean() + interval\\n    return lower, yhat.mean(), upper\\n\\nn_members=len(ensemble)\\n# make predictions with prediction interval\\nnewX = asarray([test_X[0, :]])\\nlower, mean, upper = predict_with_pi(ensemble, newX,n_members)\\n# print(test_y)\\n# print('Point prediction: %.1f' % mean)\\nprint('95%% prediction interval: [%.1f, %.1f]' % (lower, upper))\\nprint('True value: %.1f' % test_y[0])\\noutcome = {'Prediction': [mean],\\n           '95%CI.Min': [lower],\\n           '95%CI.Max': [upper]\\n           }\\n\\n\\noutcome5= pd.DataFrame(outcome)\\noutcome5\\n\\nfrom os import path\\n#save ensemble\\nfor i,i_model in enumerate(ensemble):\\n    i_model.save(path.join(sheet, '5',f'ensemble_corr_{i}.h5'))\\n#   i_model.save(f'BYX/1/ensemble_corr_{i}.h5')\\n\\n\\n\\n#save model\\n# model.save(f'/1/model_corr.h5')\\nmodel.save(path.join(sheet, '5','model_corr.h5'))\",\n 'm': 0,\n 'outcome5':    Prediction   95%CI.Min   95%CI.Max\n 0  718.015015  714.183098  721.846931,\n '_i8': \"from math import sqrt\\nfrom numpy import concatenate\\nfrom matplotlib import pyplot\\nimport pandas as pd\\nfrom pandas import read_csv\\nfrom pandas import DataFrame\\nfrom pandas import concat\\nfrom sklearn.preprocessing import MinMaxScaler\\nfrom sklearn.preprocessing import LabelEncoder\\nfrom sklearn.metrics import mean_squared_error\\nfrom keras.models import Sequential\\nfrom keras.layers import Dense\\nfrom keras.layers import LSTM\\n\\nimport io\\nimport datetime\\n\\n# sheet='BYX'\\ndf= pd.read_excel(r'../Logical Ports Prediction.xlsx',sheet_name=sheet,header=0)\\n# df= pd.read_excel(r'Logical Ports Prediction.xlsx',sheet_name='C2',header=0)\\ndf.dropna(subset=['Date'],inplace=True)\\n\\nfrom datetime import datetime as dt\\nlast_date=df.loc[:,'Date']\\nlast_date=last_date.iat[-1]\\nlast_date=last_date.strftime('%Y-%m-%d')\\nlast_date\\n\\ndf=df[df['Date']<=last_date].reset_index(drop=True)\\ndf.tail()\\ndf['Year'] = pd.to_datetime(df['Date']).dt.strftime('%Y')\\ndf['Month'] = pd.to_datetime(df['Date']).dt.strftime('%m')\\n\\ndf.drop(['Date','Logical Ports','Asset'],axis=1,inplace=True)\\nfirst_column = df.pop('Year')\\ndf.insert(0, 'Year', first_column)\\nsecond_column = df.pop('Month')\\ndf.insert(1, 'Month', second_column)\\nfirst_column = df.pop('PortQyt')\\ndf.insert(0, 'PortQyt', first_column)\\n\\ndf.shape\\nprint(len(list(df)[:]))\\n# # df=df.drop(['D&J_Close30d_Avg.','D&J_Close30d_Min','Monthly Real GDP Index','TCV','FEDFUNDS','Unemployement Rate','SPX_Price30d_Std.','D&J_Close30d_Std.','VIX_Close30d_Max.','VIX_Close30d_Avg.','VIX_Close30d_Std.','VIX_Close30d_Min.'],axis=1)\\n\\n\\nvalues=df.values\\n#\\n# import matplotlib.pyplot as pp\\n# pp.plot(values[:,0])\\n# pp.show()\\n\\n# encoder = LabelEncoder()\\n# # # print(values[:,0]) #PortQyt Value\\n# values[:,0]=encoder.fit_transform(values[:,0])\\n# print(values[:,0])\\n\\n# import matplotlib.pyplot as pp\\n# pp.plot(values[:,0])\\n# pp.show()\\n\\n# # print(values[:,4].shape)\\n# # print(values[:,4])\\nvalues = values.astype('float32')\\n\\n# specify the number of lag hours\\nn_months = 5\\nn_features = len(list(df)[:])\\n\\n#Normalize the first feature\\nfrom sklearn.preprocessing import StandardScaler\\nscaler2 = MinMaxScaler(feature_range=(0, 1)).fit(values[:,0:1])\\n# train_y = scaler2.transform(values[:,-n_features])\\n# scaled2 = scaler2.fit_transform(values) #try\\n\\n\\n# # normalize features\\nscaler = MinMaxScaler(feature_range=(0, 1))\\nscaled = scaler.fit_transform(values)\\n\\n\\n# len(list(dataset.columns))-3\\n\\n# convert series to supervised learning\\ndef series_to_supervised(data, n_in=1, n_out=1, dropnan=True):\\n\\tn_vars = 1 if type(data) is list else data.shape[1]\\n\\tdf = DataFrame(data)\\n\\tcols, names = list(), list()\\n\\t# input sequence (t-n, ... t-1)\\n\\tfor i in range(n_in, 0, -1):\\n\\t\\tcols.append(df.shift(i))\\n\\t\\tnames += [('var%d(t-%d)' % (j+1, i)) for j in range(n_vars)]\\n\\t# forecast sequence (t, t+1, ... t+n)\\n\\tfor i in range(0, n_out):\\n\\t\\tcols.append(df.shift(-i))\\n\\t\\tif i == 0:\\n\\t\\t\\tnames += [('var%d(t)' % (j+1)) for j in range(n_vars)]\\n\\t\\telse:\\n\\t\\t\\tnames += [('var%d(t+%d)' % (j+1, i)) for j in range(n_vars)]\\n\\t# put it all together\\n\\tagg = concat(cols, axis=1)\\n\\tagg.columns = names\\n\\t# drop rows with NaN values\\n\\tif dropnan:\\n\\t\\tagg.dropna(inplace=True)\\n\\treturn agg\\n\\n# frame as supervised learning\\nreframed = series_to_supervised(scaled, n_months, 1)\\n# print(reframed.shape)\\n\\n\\n# print(reframed.tail())\\n\\n\\n\\n\\n\\nm=6-6\\n# split into train and test sets\\nvalues = reframed.values\\nn_train_months = 36\\ntrain = values[:n_train_months, :]\\ntest = values[n_train_months:, :]\\nprint(values.shape)\\n# split into input and outputs\\nn_obs = (n_months+1)* n_features #the following fourth month\\ntrain.shape\\ntrain_X, train_y = train[:, :n_obs], train[:, -n_features*(1+m):-n_features*(1+m)+1] \\ntest_X, test_y = test[:, :n_obs], test[:, -n_features*(1+m):-n_features*(1+m)+1]\\nprint(test.shape)\\n\\n\\n# import matplotlib.pyplot as pp\\n# pp.plot(train_y)\\n# pp.show()\\n\\ntrain_X = train_X.reshape((train_X.shape[0], (n_months+1), n_features))\\ntest_X = test_X.reshape((test_X.shape[0], (n_months+1), n_features))\\nprint(train_X.shape, train_y.shape, test_X.shape, test_y.shape)\\n\\n# prediction interval for mlps on the housing regression dataset\\nfrom numpy import asarray\\nfrom pandas import read_csv\\nfrom sklearn.model_selection import train_test_split\\nfrom sklearn.metrics import mean_absolute_error\\nfrom sklearn.preprocessing import MinMaxScaler\\nfrom tensorflow.keras.models import Sequential\\nfrom tensorflow.keras.layers import Dense\\nfrom tensorflow.keras.optimizers import Adam\\nimport tensorflow as tf\\nimport math\\nimport numpy as np\\n\\n \\n# define and fit the model\\ndef fit_model(X_train, y_train):\\n    features = X_train.shape[1]\\n    model = Sequential()\\n    model.add(LSTM(50, input_shape=(train_X.shape[1], train_X.shape[2])))\\n    model.add(Dense(1))\\n    model.compile(loss='mse', optimizer='adam')\\n    model.fit(X_train, y_train, verbose=0, epochs=50, batch_size=16)\\n    return model\\n\\n\\t\\n \\n# fit an ensemble of models\\ndef fit_ensemble(n_members, X_train, X_test, y_train, y_test):\\n    ensemble = list()\\n    for i in range(n_members):\\n        model = fit_model(X_train, y_train) # define and fit the model on the training set\\n        yhat = model.predict(X_test, verbose=0) # evaluate model on the test set\\n        print(y_test.shape,yhat.shape)\\n        mae = mean_absolute_error(y_test, yhat)\\n        print('>%d, MAE: %.3f' % (i+1, mae))\\n        ensemble.append(model) # store the model\\n    return ensemble\\n\\nn_members = 20\\nensemble = list()\\nfor i in range(n_members):\\n  model = fit_model(train_X, train_y) # define and fit the model on the training set\\n  yhat = model.predict(test_X, verbose=0) # evaluate model on the test set\\n  print(test_y,yhat.shape)\\n  mae = mean_absolute_error(test_y, yhat)\\n  print('>%d, MAE: %.3f' % (i+1, mae))\\n  ensemble.append(model) # store the model\\n    \\n# make predictions with the ensemble and calculate a prediction interval\\ndef predict_with_pi(ensemble, X,n_members):\\n    yhat = [model.predict(X, verbose=0) for model in ensemble]\\n    yhat = asarray(yhat)\\n    yhat = np.reshape(yhat,[n_members,1])\\n    print(yhat.shape)\\n    # yhat = scaled2.inverse_transform(yhat)\\n    yhat = scaler2.inverse_transform(yhat) # invert scaling for actual\\n    yhat = yhat[:,0] \\n    interval = 1.96 * yhat.std()/math.sqrt(len(yhat))\\n    lower, upper = yhat.mean() - interval, yhat.mean() + interval\\n    return lower, yhat.mean(), upper\\n\\nn_members=len(ensemble)\\n# make predictions with prediction interval\\nnewX = asarray([test_X[0, :]])\\nlower, mean, upper = predict_with_pi(ensemble, newX,n_members)\\n# print(test_y)\\n# print('Point prediction: %.1f' % mean)\\nprint('95%% prediction interval: [%.1f, %.1f]' % (lower, upper))\\nprint('True value: %.1f' % test_y[0])\\noutcome = {'Prediction': [mean],\\n           '95%CI.Min': [lower],\\n           '95%CI.Max': [upper]\\n           }\\n\\n\\noutcome6= pd.DataFrame(outcome)\\noutcome6\\n\\nfrom os import path\\n#save ensemble\\nfor i,i_model in enumerate(ensemble):\\n    i_model.save(path.join(sheet, '6',f'ensemble_corr_{i}.h5'))\\n#   i_model.save(f'BYX/1/ensemble_corr_{i}.h5')\\n\\n\\n\\n#save model\\n# model.save(f'/1/model_corr.h5')\\nmodel.save(path.join(sheet, '6','model_corr.h5'))\",\n 'outcome6':    Prediction   95%CI.Min   95%CI.Max\n 0  727.055725  723.884459  730.226991,\n '_i9': \"from math import sqrt\\nfrom numpy import concatenate\\nfrom matplotlib import pyplot\\nimport pandas as pd\\nfrom pandas import read_csv\\nfrom pandas import DataFrame\\nfrom pandas import concat\\nfrom sklearn.preprocessing import MinMaxScaler\\nfrom sklearn.preprocessing import LabelEncoder\\nfrom sklearn.metrics import mean_squared_error\\nfrom keras.models import Sequential\\nfrom keras.layers import Dense\\nfrom keras.layers import LSTM\\n\\nimport io\\nimport datetime\\n\\n# sheet='OPT_BZX BATS'\\ndf= pd.read_excel(r'../Logical Ports Prediction.xlsx',sheet_name=sheet,header=0)\\n# df= pd.read_excel(r'Logical Ports Prediction.xlsx',sheet_name='C2',header=0)\\ndf.dropna(subset=['Date'],inplace=True)\\n\\nfrom datetime import datetime as dt\\nlast_date=df.loc[:,'Date']\\nlast_date=last_date.iat[-1]\\nlast_date=last_date.strftime('%Y-%m-%d')\\nlast_date\\n\\ndf=df[df['Date']<=last_date].reset_index(drop=True)\\ndf.tail()\\ndf['Year'] = pd.to_datetime(df['Date']).dt.strftime('%Y')\\ndf['Month'] = pd.to_datetime(df['Date']).dt.strftime('%m')\\n\\ndf.drop(['Date','Logical Ports','Asset'],axis=1,inplace=True)\\nfirst_column = df.pop('Year')\\ndf.insert(0, 'Year', first_column)\\nsecond_column = df.pop('Month')\\ndf.insert(1, 'Month', second_column)\\nfirst_column = df.pop('PortQyt')\\ndf.insert(0, 'PortQyt', first_column)\\n\\ndf.shape\\nprint(len(list(df)[:]))\\n# # df=df.drop(['D&J_Close30d_Avg.','D&J_Close30d_Min','Monthly Real GDP Index','TCV','FEDFUNDS','Unemployement Rate','SPX_Price30d_Std.','D&J_Close30d_Std.','VIX_Close30d_Max.','VIX_Close30d_Avg.','VIX_Close30d_Std.','VIX_Close30d_Min.'],axis=1)\\n\\n\\nvalues=df.values\\n#\\n# import matplotlib.pyplot as pp\\n# pp.plot(values[:,0])\\n# pp.show()\\n\\n# # encoder = LabelEncoder()\\n# # # # print(values[:,0]) #PortQyt Value\\n# # values[:,0]=encoder.fit_transform(values[:,0])\\n# # print(values[:,0])\\n\\n# import matplotlib.pyplot as pp\\n# pp.plot(values[:,0])\\n# pp.show()\\n\\n# # print(values[:,4].shape)\\n# # print(values[:,4])\\nvalues = values.astype('float32')\\n\\n# specify the number of lag hours\\n# n_months = 11\\nn_months = 23\\nn_features = len(list(df)[:])\\n\\n#Normalize the first feature\\nfrom sklearn.preprocessing import StandardScaler\\nscaler2 = MinMaxScaler(feature_range=(0, 1)).fit(values[:,0:1])\\n# train_y = scaler2.transform(values[:,-n_features])\\n# scaled2 = scaler2.fit_transform(values) #try\\n\\n\\n# # normalize features\\nscaler = MinMaxScaler(feature_range=(0, 1))\\nscaled = scaler.fit_transform(values)\\n\\n\\n# len(list(dataset.columns))-3\\n\\n# convert series to supervised learning\\ndef series_to_supervised(data, n_in=1, n_out=1, dropnan=True):\\n\\tn_vars = 1 if type(data) is list else data.shape[1]\\n\\tdf = DataFrame(data)\\n\\tcols, names = list(), list()\\n\\t# input sequence (t-n, ... t-1)\\n\\tfor i in range(n_in, 0, -1):\\n\\t\\tcols.append(df.shift(i))\\n\\t\\tnames += [('var%d(t-%d)' % (j+1, i)) for j in range(n_vars)]\\n\\t# forecast sequence (t, t+1, ... t+n)\\n\\tfor i in range(0, n_out):\\n\\t\\tcols.append(df.shift(-i))\\n\\t\\tif i == 0:\\n\\t\\t\\tnames += [('var%d(t)' % (j+1)) for j in range(n_vars)]\\n\\t\\telse:\\n\\t\\t\\tnames += [('var%d(t+%d)' % (j+1, i)) for j in range(n_vars)]\\n\\t# put it all together\\n\\tagg = concat(cols, axis=1)\\n\\tagg.columns = names\\n\\t# drop rows with NaN values\\n\\tif dropnan:\\n\\t\\tagg.dropna(inplace=True)\\n\\treturn agg\\n\\n# frame as supervised learning\\nreframed = series_to_supervised(scaled, n_months, 1)\\n# print(reframed.shape)\\n\\n\\n# print(reframed.tail())\\n\\n\\n\\nm=6-6\\n# split into train and test sets\\nvalues = reframed.values\\nn_train_months =17\\ntrain = values[:n_train_months, :]\\ntest = values[n_train_months:, :]\\nprint(values.shape)\\n# split into input and outputs\\nn_obs = ((n_months+1)//2)* n_features #the following 12\\n# n_obs = (n_months+1)* n_features #the following \\ntrain.shape\\ntrain_X, train_y = train[:, :n_obs], train[:, -n_features*(1+m):-n_features*(1+m)+1] \\ntrain_X, train_y = train[:, :n_obs], train[:, -n_features*(1+m):-n_features*(1+m)+1] \\ntest_X, test_y = test[:, :n_obs], test[:, -n_features*(1+m):-n_features*(1+m)+1]\\nprint(test.shape)\\n\\n\\n# import matplotlib.pyplot as pp\\n# pp.plot(train_y)\\n# pp.show()\\n\\ntrain_X = train_X.reshape((train_X.shape[0], (n_months+1)//2, n_features))\\n# train_X = train_X.reshape((train_X.shape[0], (n_months+1), n_features))\\ntest_X = test_X.reshape((test_X.shape[0], (n_months+1)//2, n_features))\\nprint(train_X.shape, train_y.shape, test_X.shape, test_y.shape)\\n\\n# prediction interval for mlps on the housing regression dataset\\nfrom numpy import asarray\\nfrom pandas import read_csv\\nfrom sklearn.model_selection import train_test_split\\nfrom sklearn.metrics import mean_absolute_error\\nfrom sklearn.preprocessing import MinMaxScaler\\nfrom tensorflow.keras.models import Sequential\\nfrom tensorflow.keras.layers import Dense\\nfrom tensorflow.keras.optimizers import Adam\\nimport tensorflow as tf\\nimport math\\nimport numpy as np\\n\\n \\n# define and fit the model\\ndef fit_model(X_train, y_train):\\n    features = X_train.shape[1]\\n    model = Sequential()\\n    model.add(LSTM(50, input_shape=(train_X.shape[1], train_X.shape[2])))\\n    model.add(Dense(1))\\n    model.compile(loss='mse', optimizer='adam')\\n    model.fit(X_train, y_train, verbose=0, epochs=50, batch_size=16)\\n    return model\\n\\n\\t\\n \\n# fit an ensemble of models\\ndef fit_ensemble(n_members, X_train, X_test, y_train, y_test):\\n    ensemble = list()\\n    for i in range(n_members):\\n        model = fit_model(X_train, y_train) # define and fit the model on the training set\\n        yhat = model.predict(X_test, verbose=0) # evaluate model on the test set\\n        print(y_test.shape,yhat.shape)\\n        mae = mean_absolute_error(y_test, yhat)\\n        print('>%d, MAE: %.3f' % (i+1, mae))\\n        ensemble.append(model) # store the model\\n    return ensemble\\n\\nn_members = 20\\nensemble = list()\\nfor i in range(n_members):\\n  model = fit_model(train_X, train_y) # define and fit the model on the training set\\n  yhat = model.predict(test_X, verbose=0) # evaluate model on the test set\\n  print(test_y,yhat.shape)\\n  mae = mean_absolute_error(test_y, yhat)\\n  print('>%d, MAE: %.3f' % (i+1, mae))\\n  ensemble.append(model) # store the model\\n    \\n# make predictions with the ensemble and calculate a prediction interval\\ndef predict_with_pi(ensemble, X,n_members):\\n    yhat = [model.predict(X, verbose=0) for model in ensemble]\\n    yhat = asarray(yhat)\\n    yhat = np.reshape(yhat,[n_members,1])\\n    print(yhat.shape)\\n    # yhat = scaled2.inverse_transform(yhat)\\n    yhat = scaler2.inverse_transform(yhat) # invert scaling for actual\\n    yhat = yhat[:,0] \\n    interval = 1.96 * yhat.std()/math.sqrt(len(yhat))\\n    lower, upper = yhat.mean() - interval, yhat.mean() + interval\\n    return lower, yhat.mean(), upper\\n\\nn_members=len(ensemble)\\n# make predictions with prediction interval\\nnewX = asarray([test_X[0, :]])\\nlower, mean, upper = predict_with_pi(ensemble, newX,n_members)\\n# print(test_y)\\n# print('Point prediction: %.1f' % mean)\\nprint('95%% prediction interval: [%.1f, %.1f]' % (lower, upper))\\nprint('True value: %.1f' % test_y[0])\\noutcome = {'Prediction': [mean],\\n           '95%CI.Min': [lower],\\n           '95%CI.Max': [upper]\\n           }\\n\\n\\noutcome12= pd.DataFrame(outcome)\\noutcome12\\n\\nfrom os import path\\n#save ensemble\\nfor i,i_model in enumerate(ensemble):\\n    i_model.save(path.join(sheet, '12',f'ensemble_corr_{i}.h5'))\\n#   i_model.save(f'BYX/1/ensemble_corr_{i}.h5')\\n\\n\\n\\n#save model\\n# model.save(f'/1/model_corr.h5')\\nmodel.save(path.join(sheet, '12','model_corr.h5'))\",\n 'outcome12':    Prediction  95%CI.Min   95%CI.Max\n 0  744.631409  739.54732  749.715497,\n '_i10': '#Concatenate all dataframes by identical columns\\n\\ndf=pd.concat([outcome1, outcome2,outcome3,outcome4,outcome5,outcome6,outcome12])\\n# df=pd.concat([outcome6,outcome12])\\n\\ninsert_index = 0\\ninsert_colname = \\'Asset\\'\\ninsert_values = [\\'Options\\',\\'Options\\',\\'Options\\',\\'Options\\',\\'Options\\',\\'Options\\',\\'Options\\'] # this can be a numpy array too\\n# insert_values = [\\'Options\\',\\'Options\\'] # this can be a numpy array too\\ndf.insert(loc=insert_index, column=insert_colname, value=insert_values)\\n\\n\\ninsert_index = 1\\ninsert_colname = \\'Product\\'\\ninsert_values = [sheet,sheet,sheet,sheet,sheet,sheet,sheet] # this can be a numpy array too\\n# insert_values = [sheet,sheet] # this can be a numpy array too\\ndf.insert(loc=insert_index, column=insert_colname, value=insert_values)\\n\\ninsert_index = 2\\ninsert_colname = \\'Month Ahead\\'\\ninsert_values = [\\'1\\',\\'2\\',\\'3\\',\\'4\\',\\'5\\',\\'6\\',\\'12\\'] # this can be a numpy array too\\n# insert_values = [\\'6\\',\\'12\\'] # this can be a numpy array too\\ndf.insert(loc=insert_index, column=insert_colname, value=insert_values)\\n\\nglobals()[sheet] = df\\n\\nimport matplotlib.pyplot as mp\\ndf.plot(title=sheet,x=\\'Month Ahead\\',y=[\"Prediction\",\"95%CI.Min\",\"95%CI.Max\"],kind=\"line\",figsize=(10,10))\\nmp.show()',\n 'insert_index': 2,\n 'insert_colname': 'Month Ahead',\n 'insert_values': ['1', '2', '3', '4', '5', '6', '12'],\n 'EXO_EDGX_Options':      Asset           Product Month Ahead  Prediction   95%CI.Min   95%CI.Max\n 0  Options  EXO_EDGX_Options           1  656.793579  653.470549  660.116609\n 0  Options  EXO_EDGX_Options           2  651.924194  648.253465  655.594924\n 0  Options  EXO_EDGX_Options           3  673.428772  670.377063  676.480481\n 0  Options  EXO_EDGX_Options           4  697.759155  693.907809  701.610501\n 0  Options  EXO_EDGX_Options           5  718.015015  714.183098  721.846931\n 0  Options  EXO_EDGX_Options           6  727.055725  723.884459  730.226991\n 0  Options  EXO_EDGX_Options          12  744.631409  739.547320  749.715497,\n 'mp': <module 'matplotlib.pyplot' from '/Users/issacsmacbookpro/opt/miniconda3/envs/tensorflow/lib/python3.9/site-packages/matplotlib/pyplot.py'>,\n '_i11': 'globals()'}"
     },
     "execution_count": 11,
     "metadata": {},
     "output_type": "execute_result"
    }
   ],
   "source": [
    "globals()"
   ]
  },
  {
   "cell_type": "code",
   "execution_count": 11,
   "outputs": [],
   "source": [],
   "metadata": {
    "collapsed": false,
    "pycharm": {
     "name": "#%%\n"
    }
   }
  }
 ],
 "metadata": {
  "colab": {
   "authorship_tag": "ABX9TyMPKlAUyfdXJ6MI50xs5ME3",
   "name": "C2_1m_Corr_Train.ipynb",
   "provenance": []
  },
  "kernelspec": {
   "display_name": "Python 3.9 (tensorflow)",
   "language": "python",
   "name": "tensorflow"
  },
  "language_info": {
   "codemirror_mode": {
    "name": "ipython",
    "version": 3
   },
   "file_extension": ".py",
   "mimetype": "text/x-python",
   "name": "python",
   "nbconvert_exporter": "python",
   "pygments_lexer": "ipython3",
   "version": "3.9.13"
  },
  "toc": {
   "base_numbering": 1,
   "nav_menu": {},
   "number_sections": true,
   "sideBar": true,
   "skip_h1_title": false,
   "title_cell": "Table of Contents",
   "title_sidebar": "Contents",
   "toc_cell": false,
   "toc_position": {},
   "toc_section_display": true,
   "toc_window_display": false
  }
 },
 "nbformat": 4,
 "nbformat_minor": 1
}